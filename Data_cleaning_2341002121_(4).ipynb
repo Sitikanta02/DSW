{
  "cells": [
    {
      "cell_type": "code",
      "execution_count": null,
      "id": "de649c91",
      "metadata": {
        "id": "de649c91",
        "outputId": "b9a90aa5-1df0-4ee6-fd69-0e8d51bae987"
      },
      "outputs": [
        {
          "data": {
            "text/plain": [
              "0    1.2\n",
              "1   -3.5\n",
              "2    NaN\n",
              "3    0.0\n",
              "4    NaN\n",
              "dtype: float64"
            ]
          },
          "execution_count": 32,
          "metadata": {},
          "output_type": "execute_result"
        }
      ],
      "source": [
        "import pandas as pd\n",
        "import numpy as np\n",
        "data=pd.Series([1.2,-3.5,np.nan,0,None])\n",
        "data"
      ]
    },
    {
      "cell_type": "code",
      "execution_count": null,
      "id": "4a97e192",
      "metadata": {
        "id": "4a97e192",
        "outputId": "b912689a-5861-408c-b54e-7d11687b1470"
      },
      "outputs": [
        {
          "data": {
            "text/plain": [
              "0    False\n",
              "1    False\n",
              "2     True\n",
              "3    False\n",
              "4     True\n",
              "dtype: bool"
            ]
          },
          "execution_count": 33,
          "metadata": {},
          "output_type": "execute_result"
        }
      ],
      "source": [
        "data.isna() # both np.nan,none value are taken as missing value"
      ]
    },
    {
      "cell_type": "code",
      "execution_count": null,
      "id": "62cf2c56",
      "metadata": {
        "id": "62cf2c56",
        "outputId": "19bed601-61b0-4c92-d4eb-ba1507f8fc83"
      },
      "outputs": [
        {
          "data": {
            "text/plain": [
              "0     True\n",
              "1     True\n",
              "2    False\n",
              "3     True\n",
              "4    False\n",
              "dtype: bool"
            ]
          },
          "execution_count": 34,
          "metadata": {},
          "output_type": "execute_result"
        }
      ],
      "source": [
        "data.notna()"
      ]
    },
    {
      "cell_type": "code",
      "execution_count": null,
      "id": "e11a17d8",
      "metadata": {
        "id": "e11a17d8",
        "outputId": "1c846bc1-c239-4277-ed19-1b981c4aebfe"
      },
      "outputs": [
        {
          "data": {
            "text/plain": [
              "0    1.2\n",
              "1   -3.5\n",
              "3    0.0\n",
              "dtype: float64"
            ]
          },
          "execution_count": 35,
          "metadata": {},
          "output_type": "execute_result"
        }
      ],
      "source": [
        "data[data.notna()] #it returns the nonnull values and corresponding index values."
      ]
    },
    {
      "cell_type": "code",
      "execution_count": null,
      "id": "a580db81",
      "metadata": {
        "id": "a580db81",
        "outputId": "ce1b1a8e-25e3-4a56-88b9-c92d96953341"
      },
      "outputs": [
        {
          "data": {
            "text/plain": [
              "0    1.2\n",
              "1   -3.5\n",
              "3    0.0\n",
              "dtype: float64"
            ]
          },
          "execution_count": 36,
          "metadata": {},
          "output_type": "execute_result"
        }
      ],
      "source": [
        "data.dropna()#it returns the Series with only the nonnull data and corresponding index values."
      ]
    },
    {
      "cell_type": "code",
      "execution_count": null,
      "id": "bf85684d",
      "metadata": {
        "id": "bf85684d",
        "outputId": "801771b2-ddba-4564-9613-941ecceefb34"
      },
      "outputs": [
        {
          "data": {
            "text/html": [
              "<div>\n",
              "<style scoped>\n",
              "    .dataframe tbody tr th:only-of-type {\n",
              "        vertical-align: middle;\n",
              "    }\n",
              "\n",
              "    .dataframe tbody tr th {\n",
              "        vertical-align: top;\n",
              "    }\n",
              "\n",
              "    .dataframe thead th {\n",
              "        text-align: right;\n",
              "    }\n",
              "</style>\n",
              "<table border=\"1\" class=\"dataframe\">\n",
              "  <thead>\n",
              "    <tr style=\"text-align: right;\">\n",
              "      <th></th>\n",
              "      <th>0</th>\n",
              "      <th>1</th>\n",
              "      <th>2</th>\n",
              "      <th>3</th>\n",
              "    </tr>\n",
              "  </thead>\n",
              "  <tbody>\n",
              "    <tr>\n",
              "      <th>0</th>\n",
              "      <td>1.2</td>\n",
              "      <td>-3.5</td>\n",
              "      <td>NaN</td>\n",
              "      <td>4.0</td>\n",
              "    </tr>\n",
              "    <tr>\n",
              "      <th>1</th>\n",
              "      <td>NaN</td>\n",
              "      <td>0.0</td>\n",
              "      <td>7.0</td>\n",
              "      <td>NaN</td>\n",
              "    </tr>\n",
              "    <tr>\n",
              "      <th>2</th>\n",
              "      <td>4.7</td>\n",
              "      <td>7.4</td>\n",
              "      <td>-0.7</td>\n",
              "      <td>0.4</td>\n",
              "    </tr>\n",
              "  </tbody>\n",
              "</table>\n",
              "</div>"
            ],
            "text/plain": [
              "     0    1    2    3\n",
              "0  1.2 -3.5  NaN  4.0\n",
              "1  NaN  0.0  7.0  NaN\n",
              "2  4.7  7.4 -0.7  0.4"
            ]
          },
          "execution_count": 37,
          "metadata": {},
          "output_type": "execute_result"
        }
      ],
      "source": [
        "data=pd.DataFrame([[1.2,-3.5,np.nan,4],\n",
        "                   [np.nan,0,7,None],\n",
        "                   [4.7,7.4,-0.7,0.4]])\n",
        "data"
      ]
    },
    {
      "cell_type": "code",
      "execution_count": null,
      "id": "4e504417",
      "metadata": {
        "id": "4e504417",
        "outputId": "58983149-64fb-4427-e7e7-5bc4c4eaa2a4"
      },
      "outputs": [
        {
          "data": {
            "text/html": [
              "<div>\n",
              "<style scoped>\n",
              "    .dataframe tbody tr th:only-of-type {\n",
              "        vertical-align: middle;\n",
              "    }\n",
              "\n",
              "    .dataframe tbody tr th {\n",
              "        vertical-align: top;\n",
              "    }\n",
              "\n",
              "    .dataframe thead th {\n",
              "        text-align: right;\n",
              "    }\n",
              "</style>\n",
              "<table border=\"1\" class=\"dataframe\">\n",
              "  <thead>\n",
              "    <tr style=\"text-align: right;\">\n",
              "      <th></th>\n",
              "      <th>1</th>\n",
              "    </tr>\n",
              "  </thead>\n",
              "  <tbody>\n",
              "    <tr>\n",
              "      <th>0</th>\n",
              "      <td>-3.5</td>\n",
              "    </tr>\n",
              "    <tr>\n",
              "      <th>1</th>\n",
              "      <td>0.0</td>\n",
              "    </tr>\n",
              "    <tr>\n",
              "      <th>2</th>\n",
              "      <td>7.4</td>\n",
              "    </tr>\n",
              "  </tbody>\n",
              "</table>\n",
              "</div>"
            ],
            "text/plain": [
              "     1\n",
              "0 -3.5\n",
              "1  0.0\n",
              "2  7.4"
            ]
          },
          "execution_count": 38,
          "metadata": {},
          "output_type": "execute_result"
        }
      ],
      "source": [
        "data.dropna(axis=1) #it will drop the nonnull value of column"
      ]
    },
    {
      "cell_type": "code",
      "execution_count": null,
      "id": "0cfc1eb4",
      "metadata": {
        "id": "0cfc1eb4",
        "outputId": "81e2fd9a-89f8-449c-8b17-a15209081054"
      },
      "outputs": [
        {
          "data": {
            "text/html": [
              "<div>\n",
              "<style scoped>\n",
              "    .dataframe tbody tr th:only-of-type {\n",
              "        vertical-align: middle;\n",
              "    }\n",
              "\n",
              "    .dataframe tbody tr th {\n",
              "        vertical-align: top;\n",
              "    }\n",
              "\n",
              "    .dataframe thead th {\n",
              "        text-align: right;\n",
              "    }\n",
              "</style>\n",
              "<table border=\"1\" class=\"dataframe\">\n",
              "  <thead>\n",
              "    <tr style=\"text-align: right;\">\n",
              "      <th></th>\n",
              "      <th>0</th>\n",
              "      <th>1</th>\n",
              "      <th>2</th>\n",
              "      <th>3</th>\n",
              "    </tr>\n",
              "  </thead>\n",
              "  <tbody>\n",
              "    <tr>\n",
              "      <th>2</th>\n",
              "      <td>4.7</td>\n",
              "      <td>7.4</td>\n",
              "      <td>-0.7</td>\n",
              "      <td>0.4</td>\n",
              "    </tr>\n",
              "  </tbody>\n",
              "</table>\n",
              "</div>"
            ],
            "text/plain": [
              "     0    1    2    3\n",
              "2  4.7  7.4 -0.7  0.4"
            ]
          },
          "execution_count": 39,
          "metadata": {},
          "output_type": "execute_result"
        }
      ],
      "source": [
        "data.dropna(axis=0)#it will drop the nonnull value of row"
      ]
    },
    {
      "cell_type": "code",
      "execution_count": null,
      "id": "be6fd38d",
      "metadata": {
        "id": "be6fd38d",
        "outputId": "1e9d9e63-c80a-425d-de20-d95649d73f0f"
      },
      "outputs": [
        {
          "data": {
            "text/html": [
              "<div>\n",
              "<style scoped>\n",
              "    .dataframe tbody tr th:only-of-type {\n",
              "        vertical-align: middle;\n",
              "    }\n",
              "\n",
              "    .dataframe tbody tr th {\n",
              "        vertical-align: top;\n",
              "    }\n",
              "\n",
              "    .dataframe thead th {\n",
              "        text-align: right;\n",
              "    }\n",
              "</style>\n",
              "<table border=\"1\" class=\"dataframe\">\n",
              "  <thead>\n",
              "    <tr style=\"text-align: right;\">\n",
              "      <th></th>\n",
              "      <th>0</th>\n",
              "      <th>1</th>\n",
              "      <th>2</th>\n",
              "      <th>3</th>\n",
              "    </tr>\n",
              "  </thead>\n",
              "  <tbody>\n",
              "    <tr>\n",
              "      <th>0</th>\n",
              "      <td>1.2</td>\n",
              "      <td>-3.5</td>\n",
              "      <td>NaN</td>\n",
              "      <td>4.0</td>\n",
              "    </tr>\n",
              "    <tr>\n",
              "      <th>1</th>\n",
              "      <td>NaN</td>\n",
              "      <td>0.0</td>\n",
              "      <td>7.0</td>\n",
              "      <td>NaN</td>\n",
              "    </tr>\n",
              "    <tr>\n",
              "      <th>2</th>\n",
              "      <td>4.7</td>\n",
              "      <td>7.4</td>\n",
              "      <td>-0.7</td>\n",
              "      <td>0.4</td>\n",
              "    </tr>\n",
              "  </tbody>\n",
              "</table>\n",
              "</div>"
            ],
            "text/plain": [
              "     0    1    2    3\n",
              "0  1.2 -3.5  NaN  4.0\n",
              "1  NaN  0.0  7.0  NaN\n",
              "2  4.7  7.4 -0.7  0.4"
            ]
          },
          "execution_count": 40,
          "metadata": {},
          "output_type": "execute_result"
        }
      ],
      "source": [
        "data.dropna(how='all')"
      ]
    },
    {
      "cell_type": "code",
      "execution_count": null,
      "id": "09473bb7",
      "metadata": {
        "id": "09473bb7",
        "outputId": "45ad4c80-994f-4d4d-94c7-96315f7a72c8"
      },
      "outputs": [
        {
          "data": {
            "text/html": [
              "<div>\n",
              "<style scoped>\n",
              "    .dataframe tbody tr th:only-of-type {\n",
              "        vertical-align: middle;\n",
              "    }\n",
              "\n",
              "    .dataframe tbody tr th {\n",
              "        vertical-align: top;\n",
              "    }\n",
              "\n",
              "    .dataframe thead th {\n",
              "        text-align: right;\n",
              "    }\n",
              "</style>\n",
              "<table border=\"1\" class=\"dataframe\">\n",
              "  <thead>\n",
              "    <tr style=\"text-align: right;\">\n",
              "      <th></th>\n",
              "      <th>0</th>\n",
              "      <th>1</th>\n",
              "      <th>2</th>\n",
              "      <th>3</th>\n",
              "    </tr>\n",
              "  </thead>\n",
              "  <tbody>\n",
              "    <tr>\n",
              "      <th>2</th>\n",
              "      <td>4.7</td>\n",
              "      <td>7.4</td>\n",
              "      <td>-0.7</td>\n",
              "      <td>0.4</td>\n",
              "    </tr>\n",
              "  </tbody>\n",
              "</table>\n",
              "</div>"
            ],
            "text/plain": [
              "     0    1    2    3\n",
              "2  4.7  7.4 -0.7  0.4"
            ]
          },
          "execution_count": 41,
          "metadata": {},
          "output_type": "execute_result"
        }
      ],
      "source": [
        "data.dropna(how='any') #it will return the row where all value are nonnull."
      ]
    },
    {
      "cell_type": "code",
      "execution_count": null,
      "id": "1dd0af9a",
      "metadata": {
        "id": "1dd0af9a",
        "outputId": "b58cbbdd-7339-4c3b-8e03-10b0b2fd3eea"
      },
      "outputs": [
        {
          "data": {
            "text/html": [
              "<div>\n",
              "<style scoped>\n",
              "    .dataframe tbody tr th:only-of-type {\n",
              "        vertical-align: middle;\n",
              "    }\n",
              "\n",
              "    .dataframe tbody tr th {\n",
              "        vertical-align: top;\n",
              "    }\n",
              "\n",
              "    .dataframe thead th {\n",
              "        text-align: right;\n",
              "    }\n",
              "</style>\n",
              "<table border=\"1\" class=\"dataframe\">\n",
              "  <thead>\n",
              "    <tr style=\"text-align: right;\">\n",
              "      <th></th>\n",
              "      <th>0</th>\n",
              "      <th>1</th>\n",
              "      <th>2</th>\n",
              "      <th>3</th>\n",
              "    </tr>\n",
              "  </thead>\n",
              "  <tbody>\n",
              "    <tr>\n",
              "      <th>0</th>\n",
              "      <td>1.2</td>\n",
              "      <td>-3.5</td>\n",
              "      <td>NaN</td>\n",
              "      <td>4.0</td>\n",
              "    </tr>\n",
              "    <tr>\n",
              "      <th>2</th>\n",
              "      <td>4.7</td>\n",
              "      <td>7.4</td>\n",
              "      <td>-0.7</td>\n",
              "      <td>0.4</td>\n",
              "    </tr>\n",
              "  </tbody>\n",
              "</table>\n",
              "</div>"
            ],
            "text/plain": [
              "     0    1    2    3\n",
              "0  1.2 -3.5  NaN  4.0\n",
              "2  4.7  7.4 -0.7  0.4"
            ]
          },
          "execution_count": 42,
          "metadata": {},
          "output_type": "execute_result"
        }
      ],
      "source": [
        "data.dropna(thresh=3)#it will drop the row where at least 3 are non-null value."
      ]
    },
    {
      "cell_type": "code",
      "execution_count": null,
      "id": "15a61d68",
      "metadata": {
        "id": "15a61d68",
        "outputId": "e3aa84ff-ff02-4e37-e8d5-9df90af265fb"
      },
      "outputs": [
        {
          "data": {
            "text/html": [
              "<div>\n",
              "<style scoped>\n",
              "    .dataframe tbody tr th:only-of-type {\n",
              "        vertical-align: middle;\n",
              "    }\n",
              "\n",
              "    .dataframe tbody tr th {\n",
              "        vertical-align: top;\n",
              "    }\n",
              "\n",
              "    .dataframe thead th {\n",
              "        text-align: right;\n",
              "    }\n",
              "</style>\n",
              "<table border=\"1\" class=\"dataframe\">\n",
              "  <thead>\n",
              "    <tr style=\"text-align: right;\">\n",
              "      <th></th>\n",
              "      <th>0</th>\n",
              "      <th>1</th>\n",
              "      <th>2</th>\n",
              "      <th>3</th>\n",
              "    </tr>\n",
              "  </thead>\n",
              "  <tbody>\n",
              "    <tr>\n",
              "      <th>2</th>\n",
              "      <td>4.7</td>\n",
              "      <td>7.4</td>\n",
              "      <td>-0.7</td>\n",
              "      <td>0.4</td>\n",
              "    </tr>\n",
              "  </tbody>\n",
              "</table>\n",
              "</div>"
            ],
            "text/plain": [
              "     0    1    2    3\n",
              "2  4.7  7.4 -0.7  0.4"
            ]
          },
          "execution_count": 43,
          "metadata": {},
          "output_type": "execute_result"
        }
      ],
      "source": [
        "data.dropna(thresh=4)# at least 4 value are non-value are present and it checks rowwise."
      ]
    },
    {
      "cell_type": "code",
      "execution_count": null,
      "id": "c7ed96eb",
      "metadata": {
        "id": "c7ed96eb",
        "outputId": "c94fdfda-4681-48da-b052-5c71f7674553"
      },
      "outputs": [
        {
          "data": {
            "text/html": [
              "<div>\n",
              "<style scoped>\n",
              "    .dataframe tbody tr th:only-of-type {\n",
              "        vertical-align: middle;\n",
              "    }\n",
              "\n",
              "    .dataframe tbody tr th {\n",
              "        vertical-align: top;\n",
              "    }\n",
              "\n",
              "    .dataframe thead th {\n",
              "        text-align: right;\n",
              "    }\n",
              "</style>\n",
              "<table border=\"1\" class=\"dataframe\">\n",
              "  <thead>\n",
              "    <tr style=\"text-align: right;\">\n",
              "      <th></th>\n",
              "      <th>0</th>\n",
              "      <th>1</th>\n",
              "      <th>2</th>\n",
              "      <th>3</th>\n",
              "    </tr>\n",
              "  </thead>\n",
              "  <tbody>\n",
              "    <tr>\n",
              "      <th>0</th>\n",
              "      <td>1.2</td>\n",
              "      <td>-3.5</td>\n",
              "      <td>9999.0</td>\n",
              "      <td>4.0</td>\n",
              "    </tr>\n",
              "    <tr>\n",
              "      <th>1</th>\n",
              "      <td>99.0</td>\n",
              "      <td>0.0</td>\n",
              "      <td>7.0</td>\n",
              "      <td>NaN</td>\n",
              "    </tr>\n",
              "    <tr>\n",
              "      <th>2</th>\n",
              "      <td>4.7</td>\n",
              "      <td>7.4</td>\n",
              "      <td>-0.7</td>\n",
              "      <td>0.4</td>\n",
              "    </tr>\n",
              "  </tbody>\n",
              "</table>\n",
              "</div>"
            ],
            "text/plain": [
              "      0    1       2    3\n",
              "0   1.2 -3.5  9999.0  4.0\n",
              "1  99.0  0.0     7.0  NaN\n",
              "2   4.7  7.4    -0.7  0.4"
            ]
          },
          "execution_count": 44,
          "metadata": {},
          "output_type": "execute_result"
        }
      ],
      "source": [
        "dic={0:99,1:999,2:9999} # it fill the null value according to the data given in dictionary\n",
        "data.fillna(value=dic)"
      ]
    },
    {
      "cell_type": "markdown",
      "id": "5925c042",
      "metadata": {
        "id": "5925c042"
      },
      "source": [
        "# fillna"
      ]
    },
    {
      "cell_type": "code",
      "execution_count": null,
      "id": "858439b2",
      "metadata": {
        "id": "858439b2",
        "outputId": "1b21be0f-2e81-43e5-8894-cd51510ce8a4"
      },
      "outputs": [
        {
          "name": "stderr",
          "output_type": "stream",
          "text": [
            "C:\\Users\\E 555\\AppData\\Local\\Temp\\ipykernel_10932\\1844443866.py:1: FutureWarning: DataFrame.fillna with 'method' is deprecated and will raise in a future version. Use obj.ffill() or obj.bfill() instead.\n",
            "  data.fillna(method='ffill')\n"
          ]
        },
        {
          "data": {
            "text/html": [
              "<div>\n",
              "<style scoped>\n",
              "    .dataframe tbody tr th:only-of-type {\n",
              "        vertical-align: middle;\n",
              "    }\n",
              "\n",
              "    .dataframe tbody tr th {\n",
              "        vertical-align: top;\n",
              "    }\n",
              "\n",
              "    .dataframe thead th {\n",
              "        text-align: right;\n",
              "    }\n",
              "</style>\n",
              "<table border=\"1\" class=\"dataframe\">\n",
              "  <thead>\n",
              "    <tr style=\"text-align: right;\">\n",
              "      <th></th>\n",
              "      <th>0</th>\n",
              "      <th>1</th>\n",
              "      <th>2</th>\n",
              "      <th>3</th>\n",
              "    </tr>\n",
              "  </thead>\n",
              "  <tbody>\n",
              "    <tr>\n",
              "      <th>0</th>\n",
              "      <td>1.2</td>\n",
              "      <td>-3.5</td>\n",
              "      <td>NaN</td>\n",
              "      <td>4.0</td>\n",
              "    </tr>\n",
              "    <tr>\n",
              "      <th>1</th>\n",
              "      <td>1.2</td>\n",
              "      <td>0.0</td>\n",
              "      <td>7.0</td>\n",
              "      <td>4.0</td>\n",
              "    </tr>\n",
              "    <tr>\n",
              "      <th>2</th>\n",
              "      <td>4.7</td>\n",
              "      <td>7.4</td>\n",
              "      <td>-0.7</td>\n",
              "      <td>0.4</td>\n",
              "    </tr>\n",
              "  </tbody>\n",
              "</table>\n",
              "</div>"
            ],
            "text/plain": [
              "     0    1    2    3\n",
              "0  1.2 -3.5  NaN  4.0\n",
              "1  1.2  0.0  7.0  4.0\n",
              "2  4.7  7.4 -0.7  0.4"
            ]
          },
          "execution_count": 45,
          "metadata": {},
          "output_type": "execute_result"
        }
      ],
      "source": [
        "data.fillna(method='ffill')"
      ]
    },
    {
      "cell_type": "code",
      "execution_count": null,
      "id": "ce4ad5e1",
      "metadata": {
        "id": "ce4ad5e1",
        "outputId": "5bdc76d1-cc84-4631-c5d1-3c73d9d72907"
      },
      "outputs": [
        {
          "data": {
            "text/html": [
              "<div>\n",
              "<style scoped>\n",
              "    .dataframe tbody tr th:only-of-type {\n",
              "        vertical-align: middle;\n",
              "    }\n",
              "\n",
              "    .dataframe tbody tr th {\n",
              "        vertical-align: top;\n",
              "    }\n",
              "\n",
              "    .dataframe thead th {\n",
              "        text-align: right;\n",
              "    }\n",
              "</style>\n",
              "<table border=\"1\" class=\"dataframe\">\n",
              "  <thead>\n",
              "    <tr style=\"text-align: right;\">\n",
              "      <th></th>\n",
              "      <th>0</th>\n",
              "      <th>1</th>\n",
              "      <th>2</th>\n",
              "      <th>3</th>\n",
              "    </tr>\n",
              "  </thead>\n",
              "  <tbody>\n",
              "    <tr>\n",
              "      <th>0</th>\n",
              "      <td>1.2</td>\n",
              "      <td>-3.5</td>\n",
              "      <td>0.0</td>\n",
              "      <td>4.0</td>\n",
              "    </tr>\n",
              "    <tr>\n",
              "      <th>1</th>\n",
              "      <td>0.0</td>\n",
              "      <td>0.0</td>\n",
              "      <td>7.0</td>\n",
              "      <td>0.0</td>\n",
              "    </tr>\n",
              "    <tr>\n",
              "      <th>2</th>\n",
              "      <td>4.7</td>\n",
              "      <td>7.4</td>\n",
              "      <td>-0.7</td>\n",
              "      <td>0.4</td>\n",
              "    </tr>\n",
              "  </tbody>\n",
              "</table>\n",
              "</div>"
            ],
            "text/plain": [
              "     0    1    2    3\n",
              "0  1.2 -3.5  0.0  4.0\n",
              "1  0.0  0.0  7.0  0.0\n",
              "2  4.7  7.4 -0.7  0.4"
            ]
          },
          "execution_count": 46,
          "metadata": {},
          "output_type": "execute_result"
        }
      ],
      "source": [
        "data.fillna(0,limit=2) # it will fill the nan value with 0 in 0 and 1 index."
      ]
    },
    {
      "cell_type": "code",
      "execution_count": null,
      "id": "14fd5714",
      "metadata": {
        "id": "14fd5714",
        "outputId": "eb70e4ac-6f16-47b3-a9d0-f05855fcc767"
      },
      "outputs": [
        {
          "name": "stderr",
          "output_type": "stream",
          "text": [
            "C:\\Users\\E 555\\AppData\\Local\\Temp\\ipykernel_10932\\2344523904.py:1: FutureWarning: DataFrame.fillna with 'method' is deprecated and will raise in a future version. Use obj.ffill() or obj.bfill() instead.\n",
            "  data.fillna(method='ffill',limit=1)# it specified,this is the maximum number of consecutive NaN value to ffill and bffill\n"
          ]
        },
        {
          "data": {
            "text/html": [
              "<div>\n",
              "<style scoped>\n",
              "    .dataframe tbody tr th:only-of-type {\n",
              "        vertical-align: middle;\n",
              "    }\n",
              "\n",
              "    .dataframe tbody tr th {\n",
              "        vertical-align: top;\n",
              "    }\n",
              "\n",
              "    .dataframe thead th {\n",
              "        text-align: right;\n",
              "    }\n",
              "</style>\n",
              "<table border=\"1\" class=\"dataframe\">\n",
              "  <thead>\n",
              "    <tr style=\"text-align: right;\">\n",
              "      <th></th>\n",
              "      <th>0</th>\n",
              "      <th>1</th>\n",
              "      <th>2</th>\n",
              "      <th>3</th>\n",
              "    </tr>\n",
              "  </thead>\n",
              "  <tbody>\n",
              "    <tr>\n",
              "      <th>0</th>\n",
              "      <td>1.2</td>\n",
              "      <td>-3.5</td>\n",
              "      <td>NaN</td>\n",
              "      <td>4.0</td>\n",
              "    </tr>\n",
              "    <tr>\n",
              "      <th>1</th>\n",
              "      <td>1.2</td>\n",
              "      <td>0.0</td>\n",
              "      <td>7.0</td>\n",
              "      <td>4.0</td>\n",
              "    </tr>\n",
              "    <tr>\n",
              "      <th>2</th>\n",
              "      <td>4.7</td>\n",
              "      <td>7.4</td>\n",
              "      <td>-0.7</td>\n",
              "      <td>0.4</td>\n",
              "    </tr>\n",
              "  </tbody>\n",
              "</table>\n",
              "</div>"
            ],
            "text/plain": [
              "     0    1    2    3\n",
              "0  1.2 -3.5  NaN  4.0\n",
              "1  1.2  0.0  7.0  4.0\n",
              "2  4.7  7.4 -0.7  0.4"
            ]
          },
          "execution_count": 51,
          "metadata": {},
          "output_type": "execute_result"
        }
      ],
      "source": [
        "data.fillna(method='ffill',limit=1)# it specified,this is the maximum number of consecutive NaN value to ffill and bffill"
      ]
    },
    {
      "cell_type": "code",
      "execution_count": null,
      "id": "73ad7a46",
      "metadata": {
        "id": "73ad7a46",
        "outputId": "dfebf1ea-5aac-453d-f9d1-9e19cbbe7f7f"
      },
      "outputs": [
        {
          "name": "stderr",
          "output_type": "stream",
          "text": [
            "C:\\Users\\E 555\\AppData\\Local\\Temp\\ipykernel_10932\\313917531.py:1: FutureWarning: DataFrame.fillna with 'method' is deprecated and will raise in a future version. Use obj.ffill() or obj.bfill() instead.\n",
            "  data.fillna(method='ffill',limit=2)\n"
          ]
        },
        {
          "data": {
            "text/html": [
              "<div>\n",
              "<style scoped>\n",
              "    .dataframe tbody tr th:only-of-type {\n",
              "        vertical-align: middle;\n",
              "    }\n",
              "\n",
              "    .dataframe tbody tr th {\n",
              "        vertical-align: top;\n",
              "    }\n",
              "\n",
              "    .dataframe thead th {\n",
              "        text-align: right;\n",
              "    }\n",
              "</style>\n",
              "<table border=\"1\" class=\"dataframe\">\n",
              "  <thead>\n",
              "    <tr style=\"text-align: right;\">\n",
              "      <th></th>\n",
              "      <th>0</th>\n",
              "      <th>1</th>\n",
              "      <th>2</th>\n",
              "      <th>3</th>\n",
              "    </tr>\n",
              "  </thead>\n",
              "  <tbody>\n",
              "    <tr>\n",
              "      <th>0</th>\n",
              "      <td>1.2</td>\n",
              "      <td>-3.5</td>\n",
              "      <td>NaN</td>\n",
              "      <td>4.0</td>\n",
              "    </tr>\n",
              "    <tr>\n",
              "      <th>1</th>\n",
              "      <td>1.2</td>\n",
              "      <td>0.0</td>\n",
              "      <td>7.0</td>\n",
              "      <td>4.0</td>\n",
              "    </tr>\n",
              "    <tr>\n",
              "      <th>2</th>\n",
              "      <td>4.7</td>\n",
              "      <td>7.4</td>\n",
              "      <td>-0.7</td>\n",
              "      <td>0.4</td>\n",
              "    </tr>\n",
              "  </tbody>\n",
              "</table>\n",
              "</div>"
            ],
            "text/plain": [
              "     0    1    2    3\n",
              "0  1.2 -3.5  NaN  4.0\n",
              "1  1.2  0.0  7.0  4.0\n",
              "2  4.7  7.4 -0.7  0.4"
            ]
          },
          "execution_count": 52,
          "metadata": {},
          "output_type": "execute_result"
        }
      ],
      "source": [
        "data.fillna(method='ffill',limit=2) # it checks column wise."
      ]
    },
    {
      "cell_type": "code",
      "execution_count": null,
      "id": "df976e35",
      "metadata": {
        "id": "df976e35",
        "outputId": "dfc7257a-d057-4aad-c754-4fa7a59328ee"
      },
      "outputs": [
        {
          "name": "stderr",
          "output_type": "stream",
          "text": [
            "C:\\Users\\E 555\\AppData\\Local\\Temp\\ipykernel_10932\\617972290.py:1: FutureWarning: DataFrame.fillna with 'method' is deprecated and will raise in a future version. Use obj.ffill() or obj.bfill() instead.\n",
            "  data.fillna(method='bfill',limit=2) # it will check the o and 1 row\n"
          ]
        },
        {
          "data": {
            "text/html": [
              "<div>\n",
              "<style scoped>\n",
              "    .dataframe tbody tr th:only-of-type {\n",
              "        vertical-align: middle;\n",
              "    }\n",
              "\n",
              "    .dataframe tbody tr th {\n",
              "        vertical-align: top;\n",
              "    }\n",
              "\n",
              "    .dataframe thead th {\n",
              "        text-align: right;\n",
              "    }\n",
              "</style>\n",
              "<table border=\"1\" class=\"dataframe\">\n",
              "  <thead>\n",
              "    <tr style=\"text-align: right;\">\n",
              "      <th></th>\n",
              "      <th>0</th>\n",
              "      <th>1</th>\n",
              "      <th>2</th>\n",
              "      <th>3</th>\n",
              "    </tr>\n",
              "  </thead>\n",
              "  <tbody>\n",
              "    <tr>\n",
              "      <th>0</th>\n",
              "      <td>1.2</td>\n",
              "      <td>-3.5</td>\n",
              "      <td>7.0</td>\n",
              "      <td>4.0</td>\n",
              "    </tr>\n",
              "    <tr>\n",
              "      <th>1</th>\n",
              "      <td>4.7</td>\n",
              "      <td>0.0</td>\n",
              "      <td>7.0</td>\n",
              "      <td>0.4</td>\n",
              "    </tr>\n",
              "    <tr>\n",
              "      <th>2</th>\n",
              "      <td>4.7</td>\n",
              "      <td>7.4</td>\n",
              "      <td>-0.7</td>\n",
              "      <td>0.4</td>\n",
              "    </tr>\n",
              "  </tbody>\n",
              "</table>\n",
              "</div>"
            ],
            "text/plain": [
              "     0    1    2    3\n",
              "0  1.2 -3.5  7.0  4.0\n",
              "1  4.7  0.0  7.0  0.4\n",
              "2  4.7  7.4 -0.7  0.4"
            ]
          },
          "execution_count": 48,
          "metadata": {},
          "output_type": "execute_result"
        }
      ],
      "source": [
        "data.fillna(method='bfill',limit=2) # it will check the o and 1 row"
      ]
    },
    {
      "cell_type": "markdown",
      "id": "08b9d8f2",
      "metadata": {
        "id": "08b9d8f2"
      },
      "source": [
        "# Data transformation"
      ]
    },
    {
      "cell_type": "code",
      "execution_count": null,
      "id": "5403f4ff",
      "metadata": {
        "id": "5403f4ff",
        "outputId": "6117211e-7e15-474e-c99f-ef09e4b13ecc"
      },
      "outputs": [
        {
          "data": {
            "text/html": [
              "<div>\n",
              "<style scoped>\n",
              "    .dataframe tbody tr th:only-of-type {\n",
              "        vertical-align: middle;\n",
              "    }\n",
              "\n",
              "    .dataframe tbody tr th {\n",
              "        vertical-align: top;\n",
              "    }\n",
              "\n",
              "    .dataframe thead th {\n",
              "        text-align: right;\n",
              "    }\n",
              "</style>\n",
              "<table border=\"1\" class=\"dataframe\">\n",
              "  <thead>\n",
              "    <tr style=\"text-align: right;\">\n",
              "      <th></th>\n",
              "      <th>c1</th>\n",
              "      <th>c2</th>\n",
              "    </tr>\n",
              "  </thead>\n",
              "  <tbody>\n",
              "    <tr>\n",
              "      <th>0</th>\n",
              "      <td>a</td>\n",
              "      <td>1</td>\n",
              "    </tr>\n",
              "    <tr>\n",
              "      <th>1</th>\n",
              "      <td>b</td>\n",
              "      <td>1</td>\n",
              "    </tr>\n",
              "    <tr>\n",
              "      <th>2</th>\n",
              "      <td>a</td>\n",
              "      <td>1</td>\n",
              "    </tr>\n",
              "    <tr>\n",
              "      <th>3</th>\n",
              "      <td>b</td>\n",
              "      <td>2</td>\n",
              "    </tr>\n",
              "    <tr>\n",
              "      <th>4</th>\n",
              "      <td>a</td>\n",
              "      <td>2</td>\n",
              "    </tr>\n",
              "    <tr>\n",
              "      <th>5</th>\n",
              "      <td>b</td>\n",
              "      <td>2</td>\n",
              "    </tr>\n",
              "  </tbody>\n",
              "</table>\n",
              "</div>"
            ],
            "text/plain": [
              "  c1  c2\n",
              "0  a   1\n",
              "1  b   1\n",
              "2  a   1\n",
              "3  b   2\n",
              "4  a   2\n",
              "5  b   2"
            ]
          },
          "execution_count": 64,
          "metadata": {},
          "output_type": "execute_result"
        }
      ],
      "source": [
        "data1=pd.DataFrame({\"c1\":['a','b','a','b','a','b'],'c2':[1,1,1,2,2,2]})\n",
        "data1"
      ]
    },
    {
      "cell_type": "code",
      "execution_count": null,
      "id": "449651c0",
      "metadata": {
        "id": "449651c0",
        "outputId": "25a7e8d5-2ac7-4856-aa3e-100ec8447b48"
      },
      "outputs": [
        {
          "data": {
            "text/plain": [
              "0    False\n",
              "1    False\n",
              "2     True\n",
              "3    False\n",
              "4    False\n",
              "5     True\n",
              "dtype: bool"
            ]
          },
          "execution_count": 65,
          "metadata": {},
          "output_type": "execute_result"
        }
      ],
      "source": [
        "data1.duplicated() # it will return boolean series true or false if row wise data repeted or not"
      ]
    },
    {
      "cell_type": "code",
      "execution_count": null,
      "id": "a37a5e25",
      "metadata": {
        "id": "a37a5e25",
        "outputId": "4c8e6812-8dd1-4077-ddd0-83181970e8f8"
      },
      "outputs": [
        {
          "data": {
            "text/html": [
              "<div>\n",
              "<style scoped>\n",
              "    .dataframe tbody tr th:only-of-type {\n",
              "        vertical-align: middle;\n",
              "    }\n",
              "\n",
              "    .dataframe tbody tr th {\n",
              "        vertical-align: top;\n",
              "    }\n",
              "\n",
              "    .dataframe thead th {\n",
              "        text-align: right;\n",
              "    }\n",
              "</style>\n",
              "<table border=\"1\" class=\"dataframe\">\n",
              "  <thead>\n",
              "    <tr style=\"text-align: right;\">\n",
              "      <th></th>\n",
              "      <th>c1</th>\n",
              "      <th>c2</th>\n",
              "    </tr>\n",
              "  </thead>\n",
              "  <tbody>\n",
              "    <tr>\n",
              "      <th>0</th>\n",
              "      <td>a</td>\n",
              "      <td>1</td>\n",
              "    </tr>\n",
              "    <tr>\n",
              "      <th>1</th>\n",
              "      <td>b</td>\n",
              "      <td>1</td>\n",
              "    </tr>\n",
              "    <tr>\n",
              "      <th>3</th>\n",
              "      <td>b</td>\n",
              "      <td>2</td>\n",
              "    </tr>\n",
              "    <tr>\n",
              "      <th>4</th>\n",
              "      <td>a</td>\n",
              "      <td>2</td>\n",
              "    </tr>\n",
              "  </tbody>\n",
              "</table>\n",
              "</div>"
            ],
            "text/plain": [
              "  c1  c2\n",
              "0  a   1\n",
              "1  b   1\n",
              "3  b   2\n",
              "4  a   2"
            ]
          },
          "execution_count": 66,
          "metadata": {},
          "output_type": "execute_result"
        }
      ],
      "source": [
        "data1.drop_duplicates()#it will return the dataframe with rows where the duplicated array is false.it removes the repeted value."
      ]
    },
    {
      "cell_type": "code",
      "execution_count": null,
      "id": "71756873",
      "metadata": {
        "id": "71756873",
        "outputId": "b1417e33-ac93-4456-cd7e-24db41f79bce"
      },
      "outputs": [
        {
          "name": "stderr",
          "output_type": "stream",
          "text": [
            "C:\\Users\\E 555\\AppData\\Local\\Temp\\ipykernel_10932\\3361061223.py:1: FutureWarning: DataFrame.fillna with 'method' is deprecated and will raise in a future version. Use obj.ffill() or obj.bfill() instead.\n",
            "  data1.fillna(method='ffill',limit=1)# it specified,this is the maximum number of consecutive NaN value to ffill and bffill\n"
          ]
        },
        {
          "data": {
            "text/html": [
              "<div>\n",
              "<style scoped>\n",
              "    .dataframe tbody tr th:only-of-type {\n",
              "        vertical-align: middle;\n",
              "    }\n",
              "\n",
              "    .dataframe tbody tr th {\n",
              "        vertical-align: top;\n",
              "    }\n",
              "\n",
              "    .dataframe thead th {\n",
              "        text-align: right;\n",
              "    }\n",
              "</style>\n",
              "<table border=\"1\" class=\"dataframe\">\n",
              "  <thead>\n",
              "    <tr style=\"text-align: right;\">\n",
              "      <th></th>\n",
              "      <th>c1</th>\n",
              "      <th>c2</th>\n",
              "    </tr>\n",
              "  </thead>\n",
              "  <tbody>\n",
              "    <tr>\n",
              "      <th>0</th>\n",
              "      <td>a</td>\n",
              "      <td>1</td>\n",
              "    </tr>\n",
              "    <tr>\n",
              "      <th>1</th>\n",
              "      <td>b</td>\n",
              "      <td>1</td>\n",
              "    </tr>\n",
              "    <tr>\n",
              "      <th>2</th>\n",
              "      <td>a</td>\n",
              "      <td>1</td>\n",
              "    </tr>\n",
              "    <tr>\n",
              "      <th>3</th>\n",
              "      <td>b</td>\n",
              "      <td>2</td>\n",
              "    </tr>\n",
              "    <tr>\n",
              "      <th>4</th>\n",
              "      <td>a</td>\n",
              "      <td>2</td>\n",
              "    </tr>\n",
              "    <tr>\n",
              "      <th>5</th>\n",
              "      <td>b</td>\n",
              "      <td>2</td>\n",
              "    </tr>\n",
              "  </tbody>\n",
              "</table>\n",
              "</div>"
            ],
            "text/plain": [
              "  c1  c2\n",
              "0  a   1\n",
              "1  b   1\n",
              "2  a   1\n",
              "3  b   2\n",
              "4  a   2\n",
              "5  b   2"
            ]
          },
          "execution_count": 67,
          "metadata": {},
          "output_type": "execute_result"
        }
      ],
      "source": [
        "data1.fillna(method='ffill',limit=1)# it specified,this is the maximum number of consecutive NaN value to ffill and bffill"
      ]
    },
    {
      "cell_type": "code",
      "execution_count": null,
      "id": "12c0bc99",
      "metadata": {
        "id": "12c0bc99",
        "outputId": "c9dda5ce-0b4e-45bc-fe47-5888e8f46a26"
      },
      "outputs": [
        {
          "data": {
            "text/html": [
              "<div>\n",
              "<style scoped>\n",
              "    .dataframe tbody tr th:only-of-type {\n",
              "        vertical-align: middle;\n",
              "    }\n",
              "\n",
              "    .dataframe tbody tr th {\n",
              "        vertical-align: top;\n",
              "    }\n",
              "\n",
              "    .dataframe thead th {\n",
              "        text-align: right;\n",
              "    }\n",
              "</style>\n",
              "<table border=\"1\" class=\"dataframe\">\n",
              "  <thead>\n",
              "    <tr style=\"text-align: right;\">\n",
              "      <th></th>\n",
              "      <th>c1</th>\n",
              "      <th>c2</th>\n",
              "      <th>c3</th>\n",
              "    </tr>\n",
              "  </thead>\n",
              "  <tbody>\n",
              "    <tr>\n",
              "      <th>0</th>\n",
              "      <td>a</td>\n",
              "      <td>1</td>\n",
              "      <td>!</td>\n",
              "    </tr>\n",
              "    <tr>\n",
              "      <th>1</th>\n",
              "      <td>b</td>\n",
              "      <td>1</td>\n",
              "      <td>@</td>\n",
              "    </tr>\n",
              "    <tr>\n",
              "      <th>2</th>\n",
              "      <td>a</td>\n",
              "      <td>1</td>\n",
              "      <td>#</td>\n",
              "    </tr>\n",
              "    <tr>\n",
              "      <th>3</th>\n",
              "      <td>b</td>\n",
              "      <td>2</td>\n",
              "      <td>$</td>\n",
              "    </tr>\n",
              "  </tbody>\n",
              "</table>\n",
              "</div>"
            ],
            "text/plain": [
              "  c1  c2 c3\n",
              "0  a   1  !\n",
              "1  b   1  @\n",
              "2  a   1  #\n",
              "3  b   2  $"
            ]
          },
          "execution_count": 68,
          "metadata": {},
          "output_type": "execute_result"
        }
      ],
      "source": [
        "data1['c3']=['!','@','#','$','#','@']\n",
        "data1.drop_duplicates('c3')"
      ]
    },
    {
      "cell_type": "code",
      "execution_count": null,
      "id": "e5bf946b",
      "metadata": {
        "id": "e5bf946b",
        "outputId": "960479bd-c527-4f91-894c-93abf191259c"
      },
      "outputs": [
        {
          "data": {
            "text/html": [
              "<div>\n",
              "<style scoped>\n",
              "    .dataframe tbody tr th:only-of-type {\n",
              "        vertical-align: middle;\n",
              "    }\n",
              "\n",
              "    .dataframe tbody tr th {\n",
              "        vertical-align: top;\n",
              "    }\n",
              "\n",
              "    .dataframe thead th {\n",
              "        text-align: right;\n",
              "    }\n",
              "</style>\n",
              "<table border=\"1\" class=\"dataframe\">\n",
              "  <thead>\n",
              "    <tr style=\"text-align: right;\">\n",
              "      <th></th>\n",
              "      <th>c1</th>\n",
              "      <th>c2</th>\n",
              "      <th>c3</th>\n",
              "    </tr>\n",
              "  </thead>\n",
              "  <tbody>\n",
              "    <tr>\n",
              "      <th>0</th>\n",
              "      <td>a</td>\n",
              "      <td>1</td>\n",
              "      <td>!</td>\n",
              "    </tr>\n",
              "    <tr>\n",
              "      <th>1</th>\n",
              "      <td>b</td>\n",
              "      <td>1</td>\n",
              "      <td>@</td>\n",
              "    </tr>\n",
              "    <tr>\n",
              "      <th>2</th>\n",
              "      <td>a</td>\n",
              "      <td>1</td>\n",
              "      <td>#</td>\n",
              "    </tr>\n",
              "    <tr>\n",
              "      <th>3</th>\n",
              "      <td>b</td>\n",
              "      <td>2</td>\n",
              "      <td>$</td>\n",
              "    </tr>\n",
              "  </tbody>\n",
              "</table>\n",
              "</div>"
            ],
            "text/plain": [
              "  c1  c2 c3\n",
              "0  a   1  !\n",
              "1  b   1  @\n",
              "2  a   1  #\n",
              "3  b   2  $"
            ]
          },
          "execution_count": 69,
          "metadata": {},
          "output_type": "execute_result"
        }
      ],
      "source": [
        "data1.drop_duplicates(subset=['c3'],keep='first')# it keep the first occurences of duplicates,other will drop"
      ]
    },
    {
      "cell_type": "code",
      "execution_count": null,
      "id": "aeaaa3ff",
      "metadata": {
        "id": "aeaaa3ff",
        "outputId": "1e599d05-1cf6-484d-b5e3-df8f26661f86"
      },
      "outputs": [
        {
          "data": {
            "text/html": [
              "<div>\n",
              "<style scoped>\n",
              "    .dataframe tbody tr th:only-of-type {\n",
              "        vertical-align: middle;\n",
              "    }\n",
              "\n",
              "    .dataframe tbody tr th {\n",
              "        vertical-align: top;\n",
              "    }\n",
              "\n",
              "    .dataframe thead th {\n",
              "        text-align: right;\n",
              "    }\n",
              "</style>\n",
              "<table border=\"1\" class=\"dataframe\">\n",
              "  <thead>\n",
              "    <tr style=\"text-align: right;\">\n",
              "      <th></th>\n",
              "      <th>c1</th>\n",
              "      <th>c2</th>\n",
              "      <th>c3</th>\n",
              "    </tr>\n",
              "  </thead>\n",
              "  <tbody>\n",
              "    <tr>\n",
              "      <th>0</th>\n",
              "      <td>a</td>\n",
              "      <td>1</td>\n",
              "      <td>!</td>\n",
              "    </tr>\n",
              "    <tr>\n",
              "      <th>3</th>\n",
              "      <td>b</td>\n",
              "      <td>2</td>\n",
              "      <td>$</td>\n",
              "    </tr>\n",
              "    <tr>\n",
              "      <th>4</th>\n",
              "      <td>a</td>\n",
              "      <td>2</td>\n",
              "      <td>#</td>\n",
              "    </tr>\n",
              "    <tr>\n",
              "      <th>5</th>\n",
              "      <td>b</td>\n",
              "      <td>2</td>\n",
              "      <td>@</td>\n",
              "    </tr>\n",
              "  </tbody>\n",
              "</table>\n",
              "</div>"
            ],
            "text/plain": [
              "  c1  c2 c3\n",
              "0  a   1  !\n",
              "3  b   2  $\n",
              "4  a   2  #\n",
              "5  b   2  @"
            ]
          },
          "execution_count": 70,
          "metadata": {},
          "output_type": "execute_result"
        }
      ],
      "source": [
        "data1.drop_duplicates(subset=['c3'],keep='last')# it keep the last occurences of duplicates,other will drop"
      ]
    },
    {
      "cell_type": "code",
      "execution_count": null,
      "id": "f16ee1db",
      "metadata": {
        "id": "f16ee1db",
        "outputId": "dfc3332d-596d-4c17-aaa5-feb156240c34"
      },
      "outputs": [
        {
          "data": {
            "text/html": [
              "<div>\n",
              "<style scoped>\n",
              "    .dataframe tbody tr th:only-of-type {\n",
              "        vertical-align: middle;\n",
              "    }\n",
              "\n",
              "    .dataframe tbody tr th {\n",
              "        vertical-align: top;\n",
              "    }\n",
              "\n",
              "    .dataframe thead th {\n",
              "        text-align: right;\n",
              "    }\n",
              "</style>\n",
              "<table border=\"1\" class=\"dataframe\">\n",
              "  <thead>\n",
              "    <tr style=\"text-align: right;\">\n",
              "      <th></th>\n",
              "      <th>a</th>\n",
              "      <th>b</th>\n",
              "      <th>c</th>\n",
              "    </tr>\n",
              "  </thead>\n",
              "  <tbody>\n",
              "    <tr>\n",
              "      <th>w</th>\n",
              "      <td>0.920705</td>\n",
              "      <td>1.453950</td>\n",
              "      <td>-1.101107</td>\n",
              "    </tr>\n",
              "    <tr>\n",
              "      <th>x</th>\n",
              "      <td>0.601765</td>\n",
              "      <td>0.571386</td>\n",
              "      <td>-0.895126</td>\n",
              "    </tr>\n",
              "    <tr>\n",
              "      <th>y</th>\n",
              "      <td>-0.811973</td>\n",
              "      <td>0.561183</td>\n",
              "      <td>1.344552</td>\n",
              "    </tr>\n",
              "    <tr>\n",
              "      <th>z</th>\n",
              "      <td>-1.147386</td>\n",
              "      <td>-0.171267</td>\n",
              "      <td>0.032527</td>\n",
              "    </tr>\n",
              "  </tbody>\n",
              "</table>\n",
              "</div>"
            ],
            "text/plain": [
              "          a         b         c\n",
              "w  0.920705  1.453950 -1.101107\n",
              "x  0.601765  0.571386 -0.895126\n",
              "y -0.811973  0.561183  1.344552\n",
              "z -1.147386 -0.171267  0.032527"
            ]
          },
          "execution_count": 71,
          "metadata": {},
          "output_type": "execute_result"
        }
      ],
      "source": [
        "import pandas as pd\n",
        "import numpy as np\n",
        "frame=pd.DataFrame(np.random.randn(4,3),columns=list('abc'),index=['w','x','y','z'])\n",
        "frame"
      ]
    },
    {
      "cell_type": "code",
      "execution_count": null,
      "id": "f1db0f30",
      "metadata": {
        "id": "f1db0f30",
        "outputId": "bff83177-015f-4397-dc20-55c6340fd663"
      },
      "outputs": [
        {
          "data": {
            "text/plain": [
              "a    0.920705\n",
              "b    1.453950\n",
              "c    1.344552\n",
              "dtype: float64"
            ]
          },
          "execution_count": 72,
          "metadata": {},
          "output_type": "execute_result"
        }
      ],
      "source": [
        "col=lambda x:x.max()\n",
        "frame.apply(col)# it is universal function because we can use it in series,dataframe,list,tuple,"
      ]
    },
    {
      "cell_type": "code",
      "execution_count": null,
      "id": "e9b10288",
      "metadata": {
        "id": "e9b10288",
        "outputId": "3e158ee2-4b87-43c5-ac06-e0ea5c346215"
      },
      "outputs": [
        {
          "data": {
            "text/plain": [
              "a    0.920705\n",
              "b    1.453950\n",
              "c    1.344552\n",
              "dtype: float64"
            ]
          },
          "execution_count": 75,
          "metadata": {},
          "output_type": "execute_result"
        }
      ],
      "source": [
        "index=lambda x:x.max()\n",
        "frame.apply(index)"
      ]
    },
    {
      "cell_type": "code",
      "execution_count": null,
      "id": "a9ebab69",
      "metadata": {
        "id": "a9ebab69",
        "outputId": "728aed20-c186-48ec-a595-baa9ba9ad727"
      },
      "outputs": [
        {
          "name": "stderr",
          "output_type": "stream",
          "text": [
            "C:\\Users\\E 555\\AppData\\Local\\Temp\\ipykernel_10932\\1566100443.py:2: FutureWarning: DataFrame.applymap has been deprecated. Use DataFrame.map instead.\n",
            "  frame.applymap(ele)\n"
          ]
        },
        {
          "data": {
            "text/html": [
              "<div>\n",
              "<style scoped>\n",
              "    .dataframe tbody tr th:only-of-type {\n",
              "        vertical-align: middle;\n",
              "    }\n",
              "\n",
              "    .dataframe tbody tr th {\n",
              "        vertical-align: top;\n",
              "    }\n",
              "\n",
              "    .dataframe thead th {\n",
              "        text-align: right;\n",
              "    }\n",
              "</style>\n",
              "<table border=\"1\" class=\"dataframe\">\n",
              "  <thead>\n",
              "    <tr style=\"text-align: right;\">\n",
              "      <th></th>\n",
              "      <th>a</th>\n",
              "      <th>b</th>\n",
              "      <th>c</th>\n",
              "    </tr>\n",
              "  </thead>\n",
              "  <tbody>\n",
              "    <tr>\n",
              "      <th>w</th>\n",
              "      <td>0.847698</td>\n",
              "      <td>2.113970</td>\n",
              "      <td>1.212437</td>\n",
              "    </tr>\n",
              "    <tr>\n",
              "      <th>x</th>\n",
              "      <td>0.362121</td>\n",
              "      <td>0.326482</td>\n",
              "      <td>0.801250</td>\n",
              "    </tr>\n",
              "    <tr>\n",
              "      <th>y</th>\n",
              "      <td>0.659300</td>\n",
              "      <td>0.314926</td>\n",
              "      <td>1.807821</td>\n",
              "    </tr>\n",
              "    <tr>\n",
              "      <th>z</th>\n",
              "      <td>1.316495</td>\n",
              "      <td>0.029333</td>\n",
              "      <td>0.001058</td>\n",
              "    </tr>\n",
              "  </tbody>\n",
              "</table>\n",
              "</div>"
            ],
            "text/plain": [
              "          a         b         c\n",
              "w  0.847698  2.113970  1.212437\n",
              "x  0.362121  0.326482  0.801250\n",
              "y  0.659300  0.314926  1.807821\n",
              "z  1.316495  0.029333  0.001058"
            ]
          },
          "execution_count": 76,
          "metadata": {},
          "output_type": "execute_result"
        }
      ],
      "source": [
        "ele=lambda x:x**2\n",
        "frame.applymap(ele)# it will works element wise on a dataframe"
      ]
    },
    {
      "cell_type": "code",
      "execution_count": null,
      "id": "677e32d6",
      "metadata": {
        "id": "677e32d6",
        "outputId": "1c0af0c6-87dc-4d9c-c88f-84f505b1f5a2"
      },
      "outputs": [
        {
          "data": {
            "text/plain": [
              "w    0.847698\n",
              "x    0.362121\n",
              "y    0.659300\n",
              "z    1.316495\n",
              "Name: a, dtype: float64"
            ]
          },
          "execution_count": 77,
          "metadata": {},
          "output_type": "execute_result"
        }
      ],
      "source": [
        "frame['a'].map(ele)# it will return the columne 1st element wise"
      ]
    },
    {
      "cell_type": "code",
      "execution_count": null,
      "id": "95d4f3ce",
      "metadata": {
        "id": "95d4f3ce",
        "outputId": "54aa73e1-46c4-49c2-bccc-d60482da951e"
      },
      "outputs": [
        {
          "data": {
            "text/html": [
              "<div>\n",
              "<style scoped>\n",
              "    .dataframe tbody tr th:only-of-type {\n",
              "        vertical-align: middle;\n",
              "    }\n",
              "\n",
              "    .dataframe tbody tr th {\n",
              "        vertical-align: top;\n",
              "    }\n",
              "\n",
              "    .dataframe thead th {\n",
              "        text-align: right;\n",
              "    }\n",
              "</style>\n",
              "<table border=\"1\" class=\"dataframe\">\n",
              "  <thead>\n",
              "    <tr style=\"text-align: right;\">\n",
              "      <th></th>\n",
              "      <th>Name</th>\n",
              "      <th>Height</th>\n",
              "      <th>Weight</th>\n",
              "    </tr>\n",
              "  </thead>\n",
              "  <tbody>\n",
              "    <tr>\n",
              "      <th>0</th>\n",
              "      <td>salman</td>\n",
              "      <td>1.68</td>\n",
              "      <td>78</td>\n",
              "    </tr>\n",
              "    <tr>\n",
              "      <th>1</th>\n",
              "      <td>aiswaraya</td>\n",
              "      <td>1.63</td>\n",
              "      <td>55</td>\n",
              "    </tr>\n",
              "    <tr>\n",
              "      <th>2</th>\n",
              "      <td>shahid</td>\n",
              "      <td>1.71</td>\n",
              "      <td>72</td>\n",
              "    </tr>\n",
              "    <tr>\n",
              "      <th>3</th>\n",
              "      <td>kareena</td>\n",
              "      <td>1.65</td>\n",
              "      <td>53</td>\n",
              "    </tr>\n",
              "  </tbody>\n",
              "</table>\n",
              "</div>"
            ],
            "text/plain": [
              "        Name  Height  Weight\n",
              "0     salman    1.68      78\n",
              "1  aiswaraya    1.63      55\n",
              "2     shahid    1.71      72\n",
              "3    kareena    1.65      53"
            ]
          },
          "execution_count": 78,
          "metadata": {},
          "output_type": "execute_result"
        }
      ],
      "source": [
        "frame1=pd.DataFrame({'Name':['salman','aiswaraya','shahid','kareena'],'Height':[1.68,1.63,1.71,1.65],'Weight':[78,55,72,53]})\n",
        "frame1"
      ]
    },
    {
      "cell_type": "code",
      "execution_count": null,
      "id": "209de5fb",
      "metadata": {
        "id": "209de5fb",
        "outputId": "3b61018c-f576-437e-ebeb-46c409bdf67c"
      },
      "outputs": [
        {
          "data": {
            "text/plain": [
              "Name    shahid\n",
              "Name: 2, dtype: object"
            ]
          },
          "execution_count": 83,
          "metadata": {},
          "output_type": "execute_result"
        }
      ],
      "source": [
        "maximum_height=frame1.loc[frame1['Height'].idxmax(),['Name']]\n",
        "maximum_height"
      ]
    },
    {
      "cell_type": "code",
      "execution_count": null,
      "id": "fd73d1d7",
      "metadata": {
        "id": "fd73d1d7",
        "outputId": "0ac6f99e-bc62-4778-f999-05227fdc4f20"
      },
      "outputs": [
        {
          "data": {
            "text/html": [
              "<div>\n",
              "<style scoped>\n",
              "    .dataframe tbody tr th:only-of-type {\n",
              "        vertical-align: middle;\n",
              "    }\n",
              "\n",
              "    .dataframe tbody tr th {\n",
              "        vertical-align: top;\n",
              "    }\n",
              "\n",
              "    .dataframe thead th {\n",
              "        text-align: right;\n",
              "    }\n",
              "</style>\n",
              "<table border=\"1\" class=\"dataframe\">\n",
              "  <thead>\n",
              "    <tr style=\"text-align: right;\">\n",
              "      <th></th>\n",
              "      <th>Name</th>\n",
              "      <th>Height</th>\n",
              "      <th>Weight</th>\n",
              "      <th>BMI</th>\n",
              "    </tr>\n",
              "  </thead>\n",
              "  <tbody>\n",
              "    <tr>\n",
              "      <th>0</th>\n",
              "      <td>salman</td>\n",
              "      <td>1.68</td>\n",
              "      <td>78</td>\n",
              "      <td>27.636054</td>\n",
              "    </tr>\n",
              "    <tr>\n",
              "      <th>1</th>\n",
              "      <td>aiswaraya</td>\n",
              "      <td>1.63</td>\n",
              "      <td>55</td>\n",
              "      <td>20.700817</td>\n",
              "    </tr>\n",
              "    <tr>\n",
              "      <th>2</th>\n",
              "      <td>shahid</td>\n",
              "      <td>1.71</td>\n",
              "      <td>72</td>\n",
              "      <td>24.622961</td>\n",
              "    </tr>\n",
              "    <tr>\n",
              "      <th>3</th>\n",
              "      <td>kareena</td>\n",
              "      <td>1.65</td>\n",
              "      <td>53</td>\n",
              "      <td>19.467401</td>\n",
              "    </tr>\n",
              "  </tbody>\n",
              "</table>\n",
              "</div>"
            ],
            "text/plain": [
              "        Name  Height  Weight        BMI\n",
              "0     salman    1.68      78  27.636054\n",
              "1  aiswaraya    1.63      55  20.700817\n",
              "2     shahid    1.71      72  24.622961\n",
              "3    kareena    1.65      53  19.467401"
            ]
          },
          "execution_count": 85,
          "metadata": {},
          "output_type": "execute_result"
        }
      ],
      "source": [
        "ele= lambda x:x**2\n",
        "x=frame1['Height'].map(ele)\n",
        "y=frame1['Weight']\n",
        "frame1['BMI']=y/x\n",
        "frame1"
      ]
    },
    {
      "cell_type": "code",
      "execution_count": null,
      "id": "95e6b75b",
      "metadata": {
        "id": "95e6b75b",
        "outputId": "e01ca60e-71db-4ceb-ec4d-a46b1fd386db"
      },
      "outputs": [
        {
          "data": {
            "text/html": [
              "<div>\n",
              "<style scoped>\n",
              "    .dataframe tbody tr th:only-of-type {\n",
              "        vertical-align: middle;\n",
              "    }\n",
              "\n",
              "    .dataframe tbody tr th {\n",
              "        vertical-align: top;\n",
              "    }\n",
              "\n",
              "    .dataframe thead th {\n",
              "        text-align: right;\n",
              "    }\n",
              "</style>\n",
              "<table border=\"1\" class=\"dataframe\">\n",
              "  <thead>\n",
              "    <tr style=\"text-align: right;\">\n",
              "      <th></th>\n",
              "      <th>Name</th>\n",
              "      <th>Height</th>\n",
              "      <th>Weight</th>\n",
              "      <th>BMI</th>\n",
              "      <th>Category</th>\n",
              "    </tr>\n",
              "  </thead>\n",
              "  <tbody>\n",
              "    <tr>\n",
              "      <th>0</th>\n",
              "      <td>salman</td>\n",
              "      <td>1.68</td>\n",
              "      <td>78</td>\n",
              "      <td>27.636054</td>\n",
              "      <td>Obessed</td>\n",
              "    </tr>\n",
              "    <tr>\n",
              "      <th>1</th>\n",
              "      <td>aiswaraya</td>\n",
              "      <td>1.63</td>\n",
              "      <td>55</td>\n",
              "      <td>20.700817</td>\n",
              "      <td>Obessed</td>\n",
              "    </tr>\n",
              "    <tr>\n",
              "      <th>2</th>\n",
              "      <td>shahid</td>\n",
              "      <td>1.71</td>\n",
              "      <td>72</td>\n",
              "      <td>24.622961</td>\n",
              "      <td>Obessed</td>\n",
              "    </tr>\n",
              "    <tr>\n",
              "      <th>3</th>\n",
              "      <td>kareena</td>\n",
              "      <td>1.65</td>\n",
              "      <td>53</td>\n",
              "      <td>19.467401</td>\n",
              "      <td>Normal</td>\n",
              "    </tr>\n",
              "  </tbody>\n",
              "</table>\n",
              "</div>"
            ],
            "text/plain": [
              "        Name  Height  Weight        BMI Category\n",
              "0     salman    1.68      78  27.636054  Obessed\n",
              "1  aiswaraya    1.63      55  20.700817  Obessed\n",
              "2     shahid    1.71      72  24.622961  Obessed\n",
              "3    kareena    1.65      53  19.467401   Normal"
            ]
          },
          "execution_count": 86,
          "metadata": {},
          "output_type": "execute_result"
        }
      ],
      "source": [
        "ow=lambda x:'Obessed' if x>20 else'Normal'\n",
        "frame1['Category']=frame1['BMI'].map(ow)\n",
        "frame1"
      ]
    },
    {
      "cell_type": "code",
      "execution_count": null,
      "id": "657ee157",
      "metadata": {
        "id": "657ee157",
        "outputId": "6c3aafe2-ab54-431c-ee7f-5ec043f5a161"
      },
      "outputs": [
        {
          "data": {
            "text/html": [
              "<div>\n",
              "<style scoped>\n",
              "    .dataframe tbody tr th:only-of-type {\n",
              "        vertical-align: middle;\n",
              "    }\n",
              "\n",
              "    .dataframe tbody tr th {\n",
              "        vertical-align: top;\n",
              "    }\n",
              "\n",
              "    .dataframe thead th {\n",
              "        text-align: right;\n",
              "    }\n",
              "</style>\n",
              "<table border=\"1\" class=\"dataframe\">\n",
              "  <thead>\n",
              "    <tr style=\"text-align: right;\">\n",
              "      <th></th>\n",
              "      <th>Name</th>\n",
              "      <th>Height</th>\n",
              "      <th>Weight</th>\n",
              "      <th>BMI</th>\n",
              "      <th>Category</th>\n",
              "      <th>Gender</th>\n",
              "    </tr>\n",
              "  </thead>\n",
              "  <tbody>\n",
              "    <tr>\n",
              "      <th>0</th>\n",
              "      <td>salman</td>\n",
              "      <td>1.68</td>\n",
              "      <td>78</td>\n",
              "      <td>27.636054</td>\n",
              "      <td>Obessed</td>\n",
              "      <td>Male</td>\n",
              "    </tr>\n",
              "    <tr>\n",
              "      <th>1</th>\n",
              "      <td>aiswaraya</td>\n",
              "      <td>1.63</td>\n",
              "      <td>55</td>\n",
              "      <td>20.700817</td>\n",
              "      <td>Obessed</td>\n",
              "      <td>Female</td>\n",
              "    </tr>\n",
              "    <tr>\n",
              "      <th>2</th>\n",
              "      <td>shahid</td>\n",
              "      <td>1.71</td>\n",
              "      <td>72</td>\n",
              "      <td>24.622961</td>\n",
              "      <td>Obessed</td>\n",
              "      <td>Male</td>\n",
              "    </tr>\n",
              "    <tr>\n",
              "      <th>3</th>\n",
              "      <td>kareena</td>\n",
              "      <td>1.65</td>\n",
              "      <td>53</td>\n",
              "      <td>19.467401</td>\n",
              "      <td>Normal</td>\n",
              "      <td>Female</td>\n",
              "    </tr>\n",
              "  </tbody>\n",
              "</table>\n",
              "</div>"
            ],
            "text/plain": [
              "        Name  Height  Weight        BMI Category  Gender\n",
              "0     salman    1.68      78  27.636054  Obessed    Male\n",
              "1  aiswaraya    1.63      55  20.700817  Obessed  Female\n",
              "2     shahid    1.71      72  24.622961  Obessed    Male\n",
              "3    kareena    1.65      53  19.467401   Normal  Female"
            ]
          },
          "execution_count": 94,
          "metadata": {},
          "output_type": "execute_result"
        }
      ],
      "source": [
        "Name_Gen={'salman':'Male','aiswaraya':'Female','shahid':'Male','kareena':'Female'}\n",
        "frame1[\"Gender\"]=frame1['Name'].map(Name_Gen)\n",
        "frame1"
      ]
    },
    {
      "cell_type": "code",
      "execution_count": null,
      "id": "e32daa45",
      "metadata": {
        "id": "e32daa45",
        "outputId": "a1961fc4-58d1-4582-b645-74ae8e3a9082"
      },
      "outputs": [
        {
          "data": {
            "text/html": [
              "<div>\n",
              "<style scoped>\n",
              "    .dataframe tbody tr th:only-of-type {\n",
              "        vertical-align: middle;\n",
              "    }\n",
              "\n",
              "    .dataframe tbody tr th {\n",
              "        vertical-align: top;\n",
              "    }\n",
              "\n",
              "    .dataframe thead th {\n",
              "        text-align: right;\n",
              "    }\n",
              "</style>\n",
              "<table border=\"1\" class=\"dataframe\">\n",
              "  <thead>\n",
              "    <tr style=\"text-align: right;\">\n",
              "      <th></th>\n",
              "      <th>c1</th>\n",
              "      <th>c2</th>\n",
              "      <th>c3</th>\n",
              "    </tr>\n",
              "  </thead>\n",
              "  <tbody>\n",
              "    <tr>\n",
              "      <th>0</th>\n",
              "      <td>*</td>\n",
              "      <td>1</td>\n",
              "      <td>!</td>\n",
              "    </tr>\n",
              "    <tr>\n",
              "      <th>1</th>\n",
              "      <td>b</td>\n",
              "      <td>1</td>\n",
              "      <td>@</td>\n",
              "    </tr>\n",
              "    <tr>\n",
              "      <th>2</th>\n",
              "      <td>*</td>\n",
              "      <td>1</td>\n",
              "      <td>#</td>\n",
              "    </tr>\n",
              "    <tr>\n",
              "      <th>3</th>\n",
              "      <td>b</td>\n",
              "      <td>2</td>\n",
              "      <td>$</td>\n",
              "    </tr>\n",
              "    <tr>\n",
              "      <th>4</th>\n",
              "      <td>*</td>\n",
              "      <td>2</td>\n",
              "      <td>#</td>\n",
              "    </tr>\n",
              "    <tr>\n",
              "      <th>5</th>\n",
              "      <td>b</td>\n",
              "      <td>2</td>\n",
              "      <td>@</td>\n",
              "    </tr>\n",
              "  </tbody>\n",
              "</table>\n",
              "</div>"
            ],
            "text/plain": [
              "  c1  c2 c3\n",
              "0  *   1  !\n",
              "1  b   1  @\n",
              "2  *   1  #\n",
              "3  b   2  $\n",
              "4  *   2  #\n",
              "5  b   2  @"
            ]
          },
          "execution_count": 95,
          "metadata": {},
          "output_type": "execute_result"
        }
      ],
      "source": [
        "data1.replace(to_replace=\"a\",value='*') #single value replacement"
      ]
    },
    {
      "cell_type": "code",
      "execution_count": null,
      "id": "f1813653",
      "metadata": {
        "id": "f1813653",
        "outputId": "83ee2de4-f928-4700-e090-3483d34e3e89"
      },
      "outputs": [
        {
          "data": {
            "text/html": [
              "<div>\n",
              "<style scoped>\n",
              "    .dataframe tbody tr th:only-of-type {\n",
              "        vertical-align: middle;\n",
              "    }\n",
              "\n",
              "    .dataframe tbody tr th {\n",
              "        vertical-align: top;\n",
              "    }\n",
              "\n",
              "    .dataframe thead th {\n",
              "        text-align: right;\n",
              "    }\n",
              "</style>\n",
              "<table border=\"1\" class=\"dataframe\">\n",
              "  <thead>\n",
              "    <tr style=\"text-align: right;\">\n",
              "      <th></th>\n",
              "      <th>c1</th>\n",
              "      <th>c2</th>\n",
              "      <th>c3</th>\n",
              "    </tr>\n",
              "  </thead>\n",
              "  <tbody>\n",
              "    <tr>\n",
              "      <th>0</th>\n",
              "      <td>*</td>\n",
              "      <td>1</td>\n",
              "      <td>!</td>\n",
              "    </tr>\n",
              "    <tr>\n",
              "      <th>1</th>\n",
              "      <td>*</td>\n",
              "      <td>1</td>\n",
              "      <td>@</td>\n",
              "    </tr>\n",
              "    <tr>\n",
              "      <th>2</th>\n",
              "      <td>*</td>\n",
              "      <td>1</td>\n",
              "      <td>#</td>\n",
              "    </tr>\n",
              "    <tr>\n",
              "      <th>3</th>\n",
              "      <td>*</td>\n",
              "      <td>2</td>\n",
              "      <td>$</td>\n",
              "    </tr>\n",
              "    <tr>\n",
              "      <th>4</th>\n",
              "      <td>*</td>\n",
              "      <td>2</td>\n",
              "      <td>#</td>\n",
              "    </tr>\n",
              "    <tr>\n",
              "      <th>5</th>\n",
              "      <td>*</td>\n",
              "      <td>2</td>\n",
              "      <td>@</td>\n",
              "    </tr>\n",
              "  </tbody>\n",
              "</table>\n",
              "</div>"
            ],
            "text/plain": [
              "  c1  c2 c3\n",
              "0  *   1  !\n",
              "1  *   1  @\n",
              "2  *   1  #\n",
              "3  *   2  $\n",
              "4  *   2  #\n",
              "5  *   2  @"
            ]
          },
          "execution_count": 96,
          "metadata": {},
          "output_type": "execute_result"
        }
      ],
      "source": [
        "data1.replace(to_replace=[\"a\",\"b\"],value='*') # multiple value replacement"
      ]
    },
    {
      "cell_type": "code",
      "execution_count": null,
      "id": "04ae1751",
      "metadata": {
        "id": "04ae1751",
        "outputId": "1417b6d6-cdd5-4ca4-ab8f-783838f7a3bd"
      },
      "outputs": [
        {
          "data": {
            "text/html": [
              "<div>\n",
              "<style scoped>\n",
              "    .dataframe tbody tr th:only-of-type {\n",
              "        vertical-align: middle;\n",
              "    }\n",
              "\n",
              "    .dataframe tbody tr th {\n",
              "        vertical-align: top;\n",
              "    }\n",
              "\n",
              "    .dataframe thead th {\n",
              "        text-align: right;\n",
              "    }\n",
              "</style>\n",
              "<table border=\"1\" class=\"dataframe\">\n",
              "  <thead>\n",
              "    <tr style=\"text-align: right;\">\n",
              "      <th></th>\n",
              "      <th>c1</th>\n",
              "      <th>c2</th>\n",
              "      <th>c3</th>\n",
              "    </tr>\n",
              "  </thead>\n",
              "  <tbody>\n",
              "    <tr>\n",
              "      <th>0</th>\n",
              "      <td>*</td>\n",
              "      <td>1</td>\n",
              "      <td>!</td>\n",
              "    </tr>\n",
              "    <tr>\n",
              "      <th>1</th>\n",
              "      <td>&amp;</td>\n",
              "      <td>1</td>\n",
              "      <td>@</td>\n",
              "    </tr>\n",
              "    <tr>\n",
              "      <th>2</th>\n",
              "      <td>*</td>\n",
              "      <td>1</td>\n",
              "      <td>#</td>\n",
              "    </tr>\n",
              "    <tr>\n",
              "      <th>3</th>\n",
              "      <td>&amp;</td>\n",
              "      <td>2</td>\n",
              "      <td>$</td>\n",
              "    </tr>\n",
              "    <tr>\n",
              "      <th>4</th>\n",
              "      <td>*</td>\n",
              "      <td>2</td>\n",
              "      <td>#</td>\n",
              "    </tr>\n",
              "    <tr>\n",
              "      <th>5</th>\n",
              "      <td>&amp;</td>\n",
              "      <td>2</td>\n",
              "      <td>@</td>\n",
              "    </tr>\n",
              "  </tbody>\n",
              "</table>\n",
              "</div>"
            ],
            "text/plain": [
              "  c1  c2 c3\n",
              "0  *   1  !\n",
              "1  &   1  @\n",
              "2  *   1  #\n",
              "3  &   2  $\n",
              "4  *   2  #\n",
              "5  &   2  @"
            ]
          },
          "execution_count": 97,
          "metadata": {},
          "output_type": "execute_result"
        }
      ],
      "source": [
        "data1.replace({'a':'*','b':'&'}) # replace from dictionary."
      ]
    },
    {
      "cell_type": "code",
      "execution_count": null,
      "id": "fba421d0",
      "metadata": {
        "id": "fba421d0",
        "outputId": "555effb9-26b2-449b-c9dd-19451c606c7c"
      },
      "outputs": [
        {
          "data": {
            "text/html": [
              "<div>\n",
              "<style scoped>\n",
              "    .dataframe tbody tr th:only-of-type {\n",
              "        vertical-align: middle;\n",
              "    }\n",
              "\n",
              "    .dataframe tbody tr th {\n",
              "        vertical-align: top;\n",
              "    }\n",
              "\n",
              "    .dataframe thead th {\n",
              "        text-align: right;\n",
              "    }\n",
              "</style>\n",
              "<table border=\"1\" class=\"dataframe\">\n",
              "  <thead>\n",
              "    <tr style=\"text-align: right;\">\n",
              "      <th></th>\n",
              "      <th>c1</th>\n",
              "      <th>c2</th>\n",
              "      <th>c3</th>\n",
              "    </tr>\n",
              "  </thead>\n",
              "  <tbody>\n",
              "    <tr>\n",
              "      <th>0</th>\n",
              "      <td>*</td>\n",
              "      <td>1</td>\n",
              "      <td>!</td>\n",
              "    </tr>\n",
              "    <tr>\n",
              "      <th>1</th>\n",
              "      <td>&amp;</td>\n",
              "      <td>1</td>\n",
              "      <td>@</td>\n",
              "    </tr>\n",
              "    <tr>\n",
              "      <th>2</th>\n",
              "      <td>*</td>\n",
              "      <td>1</td>\n",
              "      <td>#</td>\n",
              "    </tr>\n",
              "    <tr>\n",
              "      <th>3</th>\n",
              "      <td>&amp;</td>\n",
              "      <td>2</td>\n",
              "      <td>$</td>\n",
              "    </tr>\n",
              "    <tr>\n",
              "      <th>4</th>\n",
              "      <td>*</td>\n",
              "      <td>2</td>\n",
              "      <td>#</td>\n",
              "    </tr>\n",
              "    <tr>\n",
              "      <th>5</th>\n",
              "      <td>&amp;</td>\n",
              "      <td>2</td>\n",
              "      <td>@</td>\n",
              "    </tr>\n",
              "  </tbody>\n",
              "</table>\n",
              "</div>"
            ],
            "text/plain": [
              "  c1  c2 c3\n",
              "0  *   1  !\n",
              "1  &   1  @\n",
              "2  *   1  #\n",
              "3  &   2  $\n",
              "4  *   2  #\n",
              "5  &   2  @"
            ]
          },
          "execution_count": 98,
          "metadata": {},
          "output_type": "execute_result"
        }
      ],
      "source": [
        "data1.replace(to_replace=[\"a\",\"b\"],value=['*','&']) # replace in form of list"
      ]
    },
    {
      "cell_type": "code",
      "execution_count": null,
      "id": "f2f03102",
      "metadata": {
        "id": "f2f03102",
        "outputId": "9f55d30d-ad02-4c64-ef90-d97cedf1ac19"
      },
      "outputs": [
        {
          "data": {
            "text/html": [
              "<div>\n",
              "<style scoped>\n",
              "    .dataframe tbody tr th:only-of-type {\n",
              "        vertical-align: middle;\n",
              "    }\n",
              "\n",
              "    .dataframe tbody tr th {\n",
              "        vertical-align: top;\n",
              "    }\n",
              "\n",
              "    .dataframe thead th {\n",
              "        text-align: right;\n",
              "    }\n",
              "</style>\n",
              "<table border=\"1\" class=\"dataframe\">\n",
              "  <thead>\n",
              "    <tr style=\"text-align: right;\">\n",
              "      <th></th>\n",
              "      <th>c1</th>\n",
              "      <th>c2</th>\n",
              "      <th>c3</th>\n",
              "    </tr>\n",
              "  </thead>\n",
              "  <tbody>\n",
              "    <tr>\n",
              "      <th>0</th>\n",
              "      <td>*</td>\n",
              "      <td>1</td>\n",
              "      <td>!</td>\n",
              "    </tr>\n",
              "    <tr>\n",
              "      <th>1</th>\n",
              "      <td>&amp;</td>\n",
              "      <td>1</td>\n",
              "      <td>@</td>\n",
              "    </tr>\n",
              "    <tr>\n",
              "      <th>2</th>\n",
              "      <td>*</td>\n",
              "      <td>1</td>\n",
              "      <td>#</td>\n",
              "    </tr>\n",
              "    <tr>\n",
              "      <th>3</th>\n",
              "      <td>&amp;</td>\n",
              "      <td>2</td>\n",
              "      <td>$</td>\n",
              "    </tr>\n",
              "    <tr>\n",
              "      <th>4</th>\n",
              "      <td>*</td>\n",
              "      <td>2</td>\n",
              "      <td>#</td>\n",
              "    </tr>\n",
              "    <tr>\n",
              "      <th>5</th>\n",
              "      <td>&amp;</td>\n",
              "      <td>2</td>\n",
              "      <td>@</td>\n",
              "    </tr>\n",
              "  </tbody>\n",
              "</table>\n",
              "</div>"
            ],
            "text/plain": [
              "  c1  c2 c3\n",
              "0  *   1  !\n",
              "1  &   1  @\n",
              "2  *   1  #\n",
              "3  &   2  $\n",
              "4  *   2  #\n",
              "5  &   2  @"
            ]
          },
          "execution_count": 99,
          "metadata": {},
          "output_type": "execute_result"
        }
      ],
      "source": [
        "data1.replace(to_replace={'c1':{'a':'*','b':'&'}})# replace in form of dictionary of dictionary\n"
      ]
    },
    {
      "cell_type": "code",
      "execution_count": null,
      "id": "b117833c",
      "metadata": {
        "id": "b117833c",
        "outputId": "cada3055-ad83-4336-8fa3-6b1c8b0b0ece"
      },
      "outputs": [
        {
          "data": {
            "text/html": [
              "<div>\n",
              "<style scoped>\n",
              "    .dataframe tbody tr th:only-of-type {\n",
              "        vertical-align: middle;\n",
              "    }\n",
              "\n",
              "    .dataframe tbody tr th {\n",
              "        vertical-align: top;\n",
              "    }\n",
              "\n",
              "    .dataframe thead th {\n",
              "        text-align: right;\n",
              "    }\n",
              "</style>\n",
              "<table border=\"1\" class=\"dataframe\">\n",
              "  <thead>\n",
              "    <tr style=\"text-align: right;\">\n",
              "      <th></th>\n",
              "      <th>c1</th>\n",
              "      <th>c2</th>\n",
              "    </tr>\n",
              "  </thead>\n",
              "  <tbody>\n",
              "    <tr>\n",
              "      <th>d</th>\n",
              "      <td>a</td>\n",
              "      <td>a</td>\n",
              "    </tr>\n",
              "    <tr>\n",
              "      <th>s</th>\n",
              "      <td>b</td>\n",
              "      <td>1</td>\n",
              "    </tr>\n",
              "    <tr>\n",
              "      <th>f</th>\n",
              "      <td>a</td>\n",
              "      <td>1</td>\n",
              "    </tr>\n",
              "    <tr>\n",
              "      <th>g</th>\n",
              "      <td>b</td>\n",
              "      <td>1</td>\n",
              "    </tr>\n",
              "    <tr>\n",
              "      <th>h</th>\n",
              "      <td>a</td>\n",
              "      <td>2</td>\n",
              "    </tr>\n",
              "    <tr>\n",
              "      <th>j</th>\n",
              "      <td>b</td>\n",
              "      <td>2</td>\n",
              "    </tr>\n",
              "    <tr>\n",
              "      <th>k</th>\n",
              "      <td>a</td>\n",
              "      <td>2</td>\n",
              "    </tr>\n",
              "  </tbody>\n",
              "</table>\n",
              "</div>"
            ],
            "text/plain": [
              "  c1 c2\n",
              "d  a  a\n",
              "s  b  1\n",
              "f  a  1\n",
              "g  b  1\n",
              "h  a  2\n",
              "j  b  2\n",
              "k  a  2"
            ]
          },
          "execution_count": 102,
          "metadata": {},
          "output_type": "execute_result"
        }
      ],
      "source": [
        "data1=pd.DataFrame({\"c1\":['a','b','a','b','a','b','a'],'c2':['a',1,1,1,2,2,2]},index=['d','s','f','g','h','j','k'])\n",
        "data1"
      ]
    },
    {
      "cell_type": "code",
      "execution_count": null,
      "id": "43365c4e",
      "metadata": {
        "id": "43365c4e",
        "outputId": "87cef29c-82d7-4ff1-a3f8-159c4ce48b63"
      },
      "outputs": [
        {
          "data": {
            "text/plain": [
              "Index(['D', 'S', 'F', 'G', 'H', 'J', 'K'], dtype='object')"
            ]
          },
          "execution_count": 103,
          "metadata": {},
          "output_type": "execute_result"
        }
      ],
      "source": [
        "def transform(x):\n",
        "    return x.upper()\n",
        "data1.index.map(transform)"
      ]
    },
    {
      "cell_type": "code",
      "execution_count": null,
      "id": "15e49441",
      "metadata": {
        "id": "15e49441",
        "outputId": "d93ca89f-cde5-422d-a6c2-1cf7b311bac7"
      },
      "outputs": [
        {
          "data": {
            "text/html": [
              "<div>\n",
              "<style scoped>\n",
              "    .dataframe tbody tr th:only-of-type {\n",
              "        vertical-align: middle;\n",
              "    }\n",
              "\n",
              "    .dataframe tbody tr th {\n",
              "        vertical-align: top;\n",
              "    }\n",
              "\n",
              "    .dataframe thead th {\n",
              "        text-align: right;\n",
              "    }\n",
              "</style>\n",
              "<table border=\"1\" class=\"dataframe\">\n",
              "  <thead>\n",
              "    <tr style=\"text-align: right;\">\n",
              "      <th></th>\n",
              "      <th>c1</th>\n",
              "      <th>c2</th>\n",
              "    </tr>\n",
              "  </thead>\n",
              "  <tbody>\n",
              "    <tr>\n",
              "      <th>D</th>\n",
              "      <td>a</td>\n",
              "      <td>a</td>\n",
              "    </tr>\n",
              "    <tr>\n",
              "      <th>S</th>\n",
              "      <td>b</td>\n",
              "      <td>1</td>\n",
              "    </tr>\n",
              "    <tr>\n",
              "      <th>F</th>\n",
              "      <td>a</td>\n",
              "      <td>1</td>\n",
              "    </tr>\n",
              "    <tr>\n",
              "      <th>G</th>\n",
              "      <td>b</td>\n",
              "      <td>1</td>\n",
              "    </tr>\n",
              "    <tr>\n",
              "      <th>H</th>\n",
              "      <td>a</td>\n",
              "      <td>2</td>\n",
              "    </tr>\n",
              "    <tr>\n",
              "      <th>J</th>\n",
              "      <td>b</td>\n",
              "      <td>2</td>\n",
              "    </tr>\n",
              "    <tr>\n",
              "      <th>K</th>\n",
              "      <td>a</td>\n",
              "      <td>2</td>\n",
              "    </tr>\n",
              "  </tbody>\n",
              "</table>\n",
              "</div>"
            ],
            "text/plain": [
              "  c1 c2\n",
              "D  a  a\n",
              "S  b  1\n",
              "F  a  1\n",
              "G  b  1\n",
              "H  a  2\n",
              "J  b  2\n",
              "K  a  2"
            ]
          },
          "execution_count": 105,
          "metadata": {},
          "output_type": "execute_result"
        }
      ],
      "source": [
        "data1.index=data1.index.map(transform)\n",
        "data1"
      ]
    },
    {
      "cell_type": "code",
      "execution_count": null,
      "id": "aea81cbd",
      "metadata": {
        "id": "aea81cbd",
        "outputId": "7afcbf72-fdbb-483f-ac56-ca5b57d7ed7b"
      },
      "outputs": [
        {
          "data": {
            "text/html": [
              "<div>\n",
              "<style scoped>\n",
              "    .dataframe tbody tr th:only-of-type {\n",
              "        vertical-align: middle;\n",
              "    }\n",
              "\n",
              "    .dataframe tbody tr th {\n",
              "        vertical-align: top;\n",
              "    }\n",
              "\n",
              "    .dataframe thead th {\n",
              "        text-align: right;\n",
              "    }\n",
              "</style>\n",
              "<table border=\"1\" class=\"dataframe\">\n",
              "  <thead>\n",
              "    <tr style=\"text-align: right;\">\n",
              "      <th></th>\n",
              "      <th>C1</th>\n",
              "      <th>C2</th>\n",
              "    </tr>\n",
              "  </thead>\n",
              "  <tbody>\n",
              "    <tr>\n",
              "      <th>D</th>\n",
              "      <td>a</td>\n",
              "      <td>a</td>\n",
              "    </tr>\n",
              "    <tr>\n",
              "      <th>S</th>\n",
              "      <td>b</td>\n",
              "      <td>1</td>\n",
              "    </tr>\n",
              "    <tr>\n",
              "      <th>F</th>\n",
              "      <td>a</td>\n",
              "      <td>1</td>\n",
              "    </tr>\n",
              "    <tr>\n",
              "      <th>G</th>\n",
              "      <td>b</td>\n",
              "      <td>1</td>\n",
              "    </tr>\n",
              "    <tr>\n",
              "      <th>H</th>\n",
              "      <td>a</td>\n",
              "      <td>2</td>\n",
              "    </tr>\n",
              "    <tr>\n",
              "      <th>J</th>\n",
              "      <td>b</td>\n",
              "      <td>2</td>\n",
              "    </tr>\n",
              "    <tr>\n",
              "      <th>K</th>\n",
              "      <td>a</td>\n",
              "      <td>2</td>\n",
              "    </tr>\n",
              "  </tbody>\n",
              "</table>\n",
              "</div>"
            ],
            "text/plain": [
              "  C1 C2\n",
              "D  a  a\n",
              "S  b  1\n",
              "F  a  1\n",
              "G  b  1\n",
              "H  a  2\n",
              "J  b  2\n",
              "K  a  2"
            ]
          },
          "execution_count": 106,
          "metadata": {},
          "output_type": "execute_result"
        }
      ],
      "source": [
        "data1.rename(index=str.title,columns=str.upper)"
      ]
    },
    {
      "cell_type": "code",
      "execution_count": null,
      "id": "dd531613",
      "metadata": {
        "id": "dd531613",
        "outputId": "47df0429-88a1-4895-b6a3-e217485e84c1"
      },
      "outputs": [
        {
          "data": {
            "text/html": [
              "<div>\n",
              "<style scoped>\n",
              "    .dataframe tbody tr th:only-of-type {\n",
              "        vertical-align: middle;\n",
              "    }\n",
              "\n",
              "    .dataframe tbody tr th {\n",
              "        vertical-align: top;\n",
              "    }\n",
              "\n",
              "    .dataframe thead th {\n",
              "        text-align: right;\n",
              "    }\n",
              "</style>\n",
              "<table border=\"1\" class=\"dataframe\">\n",
              "  <thead>\n",
              "    <tr style=\"text-align: right;\">\n",
              "      <th></th>\n",
              "      <th>c1</th>\n",
              "      <th>c2</th>\n",
              "    </tr>\n",
              "  </thead>\n",
              "  <tbody>\n",
              "    <tr>\n",
              "      <th>D</th>\n",
              "      <td>a</td>\n",
              "      <td>a</td>\n",
              "    </tr>\n",
              "    <tr>\n",
              "      <th>S</th>\n",
              "      <td>b</td>\n",
              "      <td>1</td>\n",
              "    </tr>\n",
              "    <tr>\n",
              "      <th>F</th>\n",
              "      <td>a</td>\n",
              "      <td>1</td>\n",
              "    </tr>\n",
              "    <tr>\n",
              "      <th>G</th>\n",
              "      <td>b</td>\n",
              "      <td>1</td>\n",
              "    </tr>\n",
              "    <tr>\n",
              "      <th>H</th>\n",
              "      <td>a</td>\n",
              "      <td>2</td>\n",
              "    </tr>\n",
              "    <tr>\n",
              "      <th>J</th>\n",
              "      <td>b</td>\n",
              "      <td>2</td>\n",
              "    </tr>\n",
              "    <tr>\n",
              "      <th>K</th>\n",
              "      <td>a</td>\n",
              "      <td>2</td>\n",
              "    </tr>\n",
              "  </tbody>\n",
              "</table>\n",
              "</div>"
            ],
            "text/plain": [
              "  c1 c2\n",
              "D  a  a\n",
              "S  b  1\n",
              "F  a  1\n",
              "G  b  1\n",
              "H  a  2\n",
              "J  b  2\n",
              "K  a  2"
            ]
          },
          "execution_count": 108,
          "metadata": {},
          "output_type": "execute_result"
        }
      ],
      "source": [
        "data1.rename(str.lower,axis='columns')"
      ]
    },
    {
      "cell_type": "code",
      "execution_count": null,
      "id": "7a3a2129",
      "metadata": {
        "id": "7a3a2129",
        "outputId": "55d357e0-a7ff-44f3-a038-6dd1a15e8e5a"
      },
      "outputs": [
        {
          "data": {
            "text/html": [
              "<div>\n",
              "<style scoped>\n",
              "    .dataframe tbody tr th:only-of-type {\n",
              "        vertical-align: middle;\n",
              "    }\n",
              "\n",
              "    .dataframe tbody tr th {\n",
              "        vertical-align: top;\n",
              "    }\n",
              "\n",
              "    .dataframe thead th {\n",
              "        text-align: right;\n",
              "    }\n",
              "</style>\n",
              "<table border=\"1\" class=\"dataframe\">\n",
              "  <thead>\n",
              "    <tr style=\"text-align: right;\">\n",
              "      <th></th>\n",
              "      <th>c1</th>\n",
              "      <th>c2</th>\n",
              "    </tr>\n",
              "  </thead>\n",
              "  <tbody>\n",
              "    <tr>\n",
              "      <th>d</th>\n",
              "      <td>a</td>\n",
              "      <td>a</td>\n",
              "    </tr>\n",
              "    <tr>\n",
              "      <th>s</th>\n",
              "      <td>b</td>\n",
              "      <td>1</td>\n",
              "    </tr>\n",
              "    <tr>\n",
              "      <th>f</th>\n",
              "      <td>a</td>\n",
              "      <td>1</td>\n",
              "    </tr>\n",
              "    <tr>\n",
              "      <th>g</th>\n",
              "      <td>b</td>\n",
              "      <td>1</td>\n",
              "    </tr>\n",
              "    <tr>\n",
              "      <th>h</th>\n",
              "      <td>a</td>\n",
              "      <td>2</td>\n",
              "    </tr>\n",
              "    <tr>\n",
              "      <th>j</th>\n",
              "      <td>b</td>\n",
              "      <td>2</td>\n",
              "    </tr>\n",
              "    <tr>\n",
              "      <th>k</th>\n",
              "      <td>a</td>\n",
              "      <td>2</td>\n",
              "    </tr>\n",
              "  </tbody>\n",
              "</table>\n",
              "</div>"
            ],
            "text/plain": [
              "  c1 c2\n",
              "d  a  a\n",
              "s  b  1\n",
              "f  a  1\n",
              "g  b  1\n",
              "h  a  2\n",
              "j  b  2\n",
              "k  a  2"
            ]
          },
          "execution_count": 109,
          "metadata": {},
          "output_type": "execute_result"
        }
      ],
      "source": [
        "data1.rename(str.lower,axis='index')"
      ]
    },
    {
      "cell_type": "markdown",
      "id": "2d2d8678",
      "metadata": {
        "id": "2d2d8678"
      },
      "source": [
        "# Discretization"
      ]
    },
    {
      "cell_type": "code",
      "execution_count": null,
      "id": "580d6001",
      "metadata": {
        "id": "580d6001",
        "outputId": "697089b3-5a6e-4a52-f722-d25b02bb677a"
      },
      "outputs": [
        {
          "data": {
            "text/plain": [
              "[(0.994, 4.0], (0.994, 4.0], (0.994, 4.0], (4.0, 7.0], (0.994, 4.0]]\n",
              "Categories (2, interval[float64, right]): [(0.994, 4.0] < (4.0, 7.0]]"
            ]
          },
          "execution_count": 6,
          "metadata": {},
          "output_type": "execute_result"
        }
      ],
      "source": [
        "import numpy as np\n",
        "x=np.array([1,2,3,7,4])\n",
        "pd.cut(x,bins=2) # it will do by default bin sizing according to the element"
      ]
    },
    {
      "cell_type": "code",
      "execution_count": null,
      "id": "6c6781e2",
      "metadata": {
        "id": "6c6781e2",
        "outputId": "ccf3b6cc-d1f1-47c8-d212-59a3f8adcc65"
      },
      "outputs": [
        {
          "data": {
            "text/plain": [
              "[(0.0, 2.0], (0.0, 2.0], (2.0, 6.0], NaN, (2.0, 6.0]]\n",
              "Categories (2, interval[int64, right]): [(0, 2] < (2, 6]]"
            ]
          },
          "execution_count": 111,
          "metadata": {},
          "output_type": "execute_result"
        }
      ],
      "source": [
        "x=np.array([1,2,3,7,4])\n",
        "y=[0,2,6]\n",
        "pd.cut(x,bins=y)"
      ]
    },
    {
      "cell_type": "code",
      "execution_count": null,
      "id": "ae540c9d",
      "metadata": {
        "id": "ae540c9d",
        "outputId": "9ffd1c83-f5c1-4a73-b8d7-b90881a30ebc"
      },
      "outputs": [
        {
          "data": {
            "text/plain": [
              "[(0, 2], (0, 2], (2, 3], (3, 7], (3, 7]]\n",
              "Categories (3, interval[int64, right]): [(0, 2] < (2, 3] < (3, 7]]"
            ]
          },
          "execution_count": 7,
          "metadata": {},
          "output_type": "execute_result"
        }
      ],
      "source": [
        "import pandas as pd\n",
        "bins=pd.IntervalIndex.from_tuples([(0,2),(2,3),(3,7)])\n",
        "x=np.array([1,2,3,7,4])\n",
        "pd.cut(x,bins)"
      ]
    },
    {
      "cell_type": "code",
      "execution_count": null,
      "id": "e0caedf0",
      "metadata": {
        "id": "e0caedf0",
        "outputId": "b088887d-7fb3-4b68-c08e-af2f5e57c39f"
      },
      "outputs": [
        {
          "data": {
            "text/plain": [
              "array([0, 0, 0, 2, 0], dtype=int8)"
            ]
          },
          "execution_count": 13,
          "metadata": {},
          "output_type": "execute_result"
        }
      ],
      "source": [
        "x=np.array([1,2,3,7,4])\n",
        "y=[0,4,5,7]\n",
        "A=pd.cut(x,bins=y)\n",
        "A.codes\n"
      ]
    },
    {
      "cell_type": "code",
      "execution_count": null,
      "id": "6a233c96",
      "metadata": {
        "id": "6a233c96",
        "outputId": "eb7fbe04-ef65-4e8e-a0b2-cf12d9627c61"
      },
      "outputs": [
        {
          "data": {
            "text/plain": [
              "IntervalIndex([(0, 4], (4, 5], (5, 7]], dtype='interval[int64, right]')"
            ]
          },
          "execution_count": 16,
          "metadata": {},
          "output_type": "execute_result"
        }
      ],
      "source": [
        "A.categories # it will return the interval."
      ]
    },
    {
      "cell_type": "code",
      "execution_count": null,
      "id": "9b59c297",
      "metadata": {
        "id": "9b59c297",
        "outputId": "3ff9e37f-50ac-4bba-b821-8333e7e6b9b7"
      },
      "outputs": [
        {
          "data": {
            "text/plain": [
              "Interval(0, 4, closed='right')"
            ]
          },
          "execution_count": 17,
          "metadata": {},
          "output_type": "execute_result"
        }
      ],
      "source": [
        "A.categories[0]"
      ]
    },
    {
      "cell_type": "code",
      "execution_count": null,
      "id": "d13c3fbc",
      "metadata": {
        "id": "d13c3fbc",
        "outputId": "07b76959-998a-47e1-eff1-4a8ca248395a"
      },
      "outputs": [
        {
          "data": {
            "text/plain": [
              "[[0.0, 2.0), [2.0, 6.0), [2.0, 6.0), NaN, [2.0, 6.0)]\n",
              "Categories (2, interval[int64, left]): [[0, 2) < [2, 6)]"
            ]
          },
          "execution_count": 18,
          "metadata": {},
          "output_type": "execute_result"
        }
      ],
      "source": [
        "x=np.array([1,2,3,7,4])\n",
        "y=[0,2,6]\n",
        "pd.cut(x,bins=y,right=False) # it will reverse the exclusive to inclusive.by default it takes right as true"
      ]
    },
    {
      "cell_type": "code",
      "execution_count": null,
      "id": "48f7ee55",
      "metadata": {
        "id": "48f7ee55",
        "outputId": "80de58d2-9d90-4e37-c3c3-9d8e3fbc7139"
      },
      "outputs": [
        {
          "data": {
            "text/plain": [
              "[(0.15, 0.33], (0.68, 0.85], (0.68, 0.85], (0.68, 0.85], (0.33, 0.5], ..., (0.68, 0.85], (0.33, 0.5], (0.33, 0.5], (0.15, 0.33], (0.33, 0.5]]\n",
              "Length: 20\n",
              "Categories (4, interval[float64, right]): [(0.15, 0.33] < (0.33, 0.5] < (0.5, 0.68] < (0.68, 0.85]]"
            ]
          },
          "execution_count": 19,
          "metadata": {},
          "output_type": "execute_result"
        }
      ],
      "source": [
        "data=np.random.uniform(size=20)\n",
        "pd.cut(data,4,precision=2)# it used to represent round up the big decimal places to samll decimal places"
      ]
    },
    {
      "cell_type": "code",
      "execution_count": null,
      "id": "7dcf73c7",
      "metadata": {
        "id": "7dcf73c7",
        "outputId": "1ddb5085-2428-4bf2-948f-80bb78cc9ffb"
      },
      "outputs": [
        {
          "data": {
            "text/plain": [
              "['bad', 'Best', 'Best', 'Best', 'medium', ..., 'Best', 'medium', 'medium', 'bad', 'medium']\n",
              "Length: 20\n",
              "Categories (4, object): ['bad' < 'medium' < 'good' < 'Best']"
            ]
          },
          "execution_count": 20,
          "metadata": {},
          "output_type": "execute_result"
        }
      ],
      "source": [
        "ls=[\"bad\",\"medium\",\"good\",\"Best\"]\n",
        "pd.cut(data,4,precision=2,labels=ls)"
      ]
    },
    {
      "cell_type": "code",
      "execution_count": null,
      "id": "4e74b32f",
      "metadata": {
        "id": "4e74b32f",
        "outputId": "cf1e35d5-c524-4337-a7d1-0e98d876072a"
      },
      "outputs": [
        {
          "data": {
            "text/plain": [
              "[(0.26, 0.5], (0.73, 0.97], (0.5, 0.73], (0.5, 0.73], (0.02, 0.26], ..., (0.02, 0.26], (0.26, 0.5], (0.5, 0.73], (0.26, 0.5], (0.26, 0.5]]\n",
              "Length: 20\n",
              "Categories (4, interval[float64, right]): [(0.02, 0.26] < (0.26, 0.5] < (0.5, 0.73] < (0.73, 0.97]]"
            ]
          },
          "execution_count": 33,
          "metadata": {},
          "output_type": "execute_result"
        }
      ],
      "source": [
        "data=np.random.seed(42)\n",
        "data=np.random.uniform(size=20)\n",
        "pd.cut(data,4,precision=2)"
      ]
    },
    {
      "cell_type": "code",
      "execution_count": null,
      "id": "c381d23b",
      "metadata": {
        "id": "c381d23b",
        "outputId": "f479a37c-434e-42e8-89f1-3aaabc6c2f30"
      },
      "outputs": [
        {
          "data": {
            "text/plain": [
              "[(0.258, 0.495], (0.733, 0.97], (0.495, 0.733], (0.495, 0.733], (0.0196, 0.258], ..., (0.0196, 0.258], (0.258, 0.495], (0.495, 0.733], (0.258, 0.495], (0.258, 0.495]]\n",
              "Length: 20\n",
              "Categories (4, interval[float64, right]): [(0.0196, 0.258] < (0.258, 0.495] < (0.495, 0.733] < (0.733, 0.97]]"
            ]
          },
          "execution_count": 34,
          "metadata": {},
          "output_type": "execute_result"
        }
      ],
      "source": [
        "data=np.random.seed(42)\n",
        "data=np.random.uniform(size=20)\n",
        "pd.cut(data,4,precision=3)"
      ]
    },
    {
      "cell_type": "code",
      "execution_count": null,
      "id": "ab416db4",
      "metadata": {
        "id": "ab416db4",
        "outputId": "d6c3830d-49ac-4a8c-aa9c-94287823230a"
      },
      "outputs": [
        {
          "data": {
            "text/plain": [
              "[(0.3, 0.5], (0.7, 1.0], (0.5, 0.7], (0.5, 0.7], (0.02, 0.3], ..., (0.02, 0.3], (0.3, 0.5], (0.5, 0.7], (0.3, 0.5], (0.3, 0.5]]\n",
              "Length: 20\n",
              "Categories (4, interval[float64, right]): [(0.02, 0.3] < (0.3, 0.5] < (0.5, 0.7] < (0.7, 1.0]]"
            ]
          },
          "execution_count": 35,
          "metadata": {},
          "output_type": "execute_result"
        }
      ],
      "source": [
        "data=np.random.seed(42)\n",
        "data=np.random.uniform(size=20)\n",
        "pd.cut(data,4,precision=1)"
      ]
    },
    {
      "cell_type": "code",
      "execution_count": null,
      "id": "13d34777",
      "metadata": {
        "id": "13d34777",
        "outputId": "e4c989c3-2bbc-41fa-be98-c4486964ae3f"
      },
      "outputs": [
        {
          "data": {
            "text/plain": [
              "[(-3.25, -0.65], (0.04, 0.66], (-3.25, -0.65], (-3.25, -0.65], (0.66, 3.85], ..., (0.04, 0.66], (0.66, 3.85], (-3.25, -0.65], (0.66, 3.85], (0.04, 0.66]]\n",
              "Length: 1000\n",
              "Categories (4, interval[float64, right]): [(-3.25, -0.65] < (-0.65, 0.04] < (0.04, 0.66] < (0.66, 3.85]]"
            ]
          },
          "execution_count": 36,
          "metadata": {},
          "output_type": "execute_result"
        }
      ],
      "source": [
        "data=np.random.standard_normal(1000)\n",
        "quartiles=pd.qcut(data,4,precision=2) # it distribute the intervalas such a manner that each interval has eual numbers.\n",
        "quartiles"
      ]
    },
    {
      "cell_type": "code",
      "execution_count": null,
      "id": "1b5ae81b",
      "metadata": {
        "id": "1b5ae81b",
        "outputId": "31f80de1-4da7-4b11-bcb0-17d2339e4d28"
      },
      "outputs": [
        {
          "name": "stderr",
          "output_type": "stream",
          "text": [
            "C:\\Users\\E 555\\AppData\\Local\\Temp\\ipykernel_8856\\3472704981.py:1: FutureWarning: pandas.value_counts is deprecated and will be removed in a future version. Use pd.Series(obj).value_counts() instead.\n",
            "  pd.value_counts(quartiles)\n"
          ]
        },
        {
          "data": {
            "text/plain": [
              "(-3.25, -0.65]    250\n",
              "(-0.65, 0.04]     250\n",
              "(0.04, 0.66]      250\n",
              "(0.66, 3.85]      250\n",
              "Name: count, dtype: int64"
            ]
          },
          "execution_count": 37,
          "metadata": {},
          "output_type": "execute_result"
        }
      ],
      "source": [
        "pd.value_counts(quartiles)"
      ]
    },
    {
      "cell_type": "code",
      "execution_count": null,
      "id": "560e5fbd",
      "metadata": {
        "id": "560e5fbd",
        "outputId": "69f81c66-944d-41ea-b94f-37f139cb1345"
      },
      "outputs": [
        {
          "data": {
            "text/plain": [
              "[(-1.28, 0.45], (-3.03, -1.28], (0.45, 2.19], (-1.28, 0.45], (-1.28, 0.45], ..., (0.45, 2.19], (-3.03, -1.28], (-3.03, -1.28], (-1.28, 0.45], (0.45, 2.19]]\n",
              "Length: 1000\n",
              "Categories (4, interval[float64, right]): [(-3.03, -1.28] < (-1.28, 0.45] < (0.45, 2.19] < (2.19, 3.93]]"
            ]
          },
          "execution_count": 41,
          "metadata": {},
          "output_type": "execute_result"
        }
      ],
      "source": [
        "data1=np.random.standard_normal(1000)\n",
        "quart=pd.cut(data1,4,precision=2)\n",
        "quart"
      ]
    },
    {
      "cell_type": "code",
      "execution_count": null,
      "id": "d2c6af0a",
      "metadata": {
        "id": "d2c6af0a",
        "outputId": "7955db3b-358c-4e5b-c36a-df91837a588b"
      },
      "outputs": [
        {
          "name": "stderr",
          "output_type": "stream",
          "text": [
            "C:\\Users\\E 555\\AppData\\Local\\Temp\\ipykernel_8856\\4033729106.py:1: FutureWarning: pandas.value_counts is deprecated and will be removed in a future version. Use pd.Series(obj).value_counts() instead.\n",
            "  pd.value_counts(quart)\n"
          ]
        },
        {
          "data": {
            "text/plain": [
              "(-1.28, 0.45]     566\n",
              "(0.45, 2.19]      327\n",
              "(-3.03, -1.28]     95\n",
              "(2.19, 3.93]       12\n",
              "Name: count, dtype: int64"
            ]
          },
          "execution_count": 42,
          "metadata": {},
          "output_type": "execute_result"
        }
      ],
      "source": [
        "pd.value_counts(quart)"
      ]
    },
    {
      "cell_type": "code",
      "execution_count": null,
      "id": "14f8606c",
      "metadata": {
        "id": "14f8606c",
        "outputId": "a7b08907-1cee-4a05-d076-83a3a4c771e8"
      },
      "outputs": [
        {
          "data": {
            "text/html": [
              "<div>\n",
              "<style scoped>\n",
              "    .dataframe tbody tr th:only-of-type {\n",
              "        vertical-align: middle;\n",
              "    }\n",
              "\n",
              "    .dataframe tbody tr th {\n",
              "        vertical-align: top;\n",
              "    }\n",
              "\n",
              "    .dataframe thead th {\n",
              "        text-align: right;\n",
              "    }\n",
              "</style>\n",
              "<table border=\"1\" class=\"dataframe\">\n",
              "  <thead>\n",
              "    <tr style=\"text-align: right;\">\n",
              "      <th></th>\n",
              "      <th>0</th>\n",
              "      <th>1</th>\n",
              "      <th>2</th>\n",
              "      <th>3</th>\n",
              "    </tr>\n",
              "  </thead>\n",
              "  <tbody>\n",
              "    <tr>\n",
              "      <th>0</th>\n",
              "      <td>-0.174444</td>\n",
              "      <td>-0.747429</td>\n",
              "      <td>-1.331913</td>\n",
              "      <td>1.307964</td>\n",
              "    </tr>\n",
              "    <tr>\n",
              "      <th>1</th>\n",
              "      <td>0.554639</td>\n",
              "      <td>-1.623918</td>\n",
              "      <td>0.763142</td>\n",
              "      <td>0.922481</td>\n",
              "    </tr>\n",
              "    <tr>\n",
              "      <th>2</th>\n",
              "      <td>0.124376</td>\n",
              "      <td>1.598111</td>\n",
              "      <td>0.216720</td>\n",
              "      <td>-1.416824</td>\n",
              "    </tr>\n",
              "    <tr>\n",
              "      <th>3</th>\n",
              "      <td>0.365169</td>\n",
              "      <td>0.244897</td>\n",
              "      <td>-0.603297</td>\n",
              "      <td>0.573559</td>\n",
              "    </tr>\n",
              "    <tr>\n",
              "      <th>4</th>\n",
              "      <td>-1.667665</td>\n",
              "      <td>0.990567</td>\n",
              "      <td>-0.878122</td>\n",
              "      <td>-0.984946</td>\n",
              "    </tr>\n",
              "    <tr>\n",
              "      <th>...</th>\n",
              "      <td>...</td>\n",
              "      <td>...</td>\n",
              "      <td>...</td>\n",
              "      <td>...</td>\n",
              "    </tr>\n",
              "    <tr>\n",
              "      <th>995</th>\n",
              "      <td>1.237151</td>\n",
              "      <td>1.312208</td>\n",
              "      <td>-0.884109</td>\n",
              "      <td>-0.153785</td>\n",
              "    </tr>\n",
              "    <tr>\n",
              "      <th>996</th>\n",
              "      <td>-0.143423</td>\n",
              "      <td>-0.032656</td>\n",
              "      <td>0.064295</td>\n",
              "      <td>0.946861</td>\n",
              "    </tr>\n",
              "    <tr>\n",
              "      <th>997</th>\n",
              "      <td>-0.747217</td>\n",
              "      <td>-0.846347</td>\n",
              "      <td>1.236620</td>\n",
              "      <td>-0.462645</td>\n",
              "    </tr>\n",
              "    <tr>\n",
              "      <th>998</th>\n",
              "      <td>-1.263035</td>\n",
              "      <td>-0.485130</td>\n",
              "      <td>-0.330053</td>\n",
              "      <td>1.554963</td>\n",
              "    </tr>\n",
              "    <tr>\n",
              "      <th>999</th>\n",
              "      <td>0.924826</td>\n",
              "      <td>1.147521</td>\n",
              "      <td>0.819974</td>\n",
              "      <td>0.946244</td>\n",
              "    </tr>\n",
              "  </tbody>\n",
              "</table>\n",
              "<p>1000 rows × 4 columns</p>\n",
              "</div>"
            ],
            "text/plain": [
              "            0         1         2         3\n",
              "0   -0.174444 -0.747429 -1.331913  1.307964\n",
              "1    0.554639 -1.623918  0.763142  0.922481\n",
              "2    0.124376  1.598111  0.216720 -1.416824\n",
              "3    0.365169  0.244897 -0.603297  0.573559\n",
              "4   -1.667665  0.990567 -0.878122 -0.984946\n",
              "..        ...       ...       ...       ...\n",
              "995  1.237151  1.312208 -0.884109 -0.153785\n",
              "996 -0.143423 -0.032656  0.064295  0.946861\n",
              "997 -0.747217 -0.846347  1.236620 -0.462645\n",
              "998 -1.263035 -0.485130 -0.330053  1.554963\n",
              "999  0.924826  1.147521  0.819974  0.946244\n",
              "\n",
              "[1000 rows x 4 columns]"
            ]
          },
          "execution_count": 49,
          "metadata": {},
          "output_type": "execute_result"
        }
      ],
      "source": [
        "x=pd.DataFrame(np.random.standard_normal((1000,4)))\n",
        "x"
      ]
    },
    {
      "cell_type": "code",
      "execution_count": null,
      "id": "61fd113a",
      "metadata": {
        "id": "61fd113a",
        "outputId": "e86a436b-6b6d-41cd-a24b-4e3d8049d444"
      },
      "outputs": [
        {
          "data": {
            "text/html": [
              "<div>\n",
              "<style scoped>\n",
              "    .dataframe tbody tr th:only-of-type {\n",
              "        vertical-align: middle;\n",
              "    }\n",
              "\n",
              "    .dataframe tbody tr th {\n",
              "        vertical-align: top;\n",
              "    }\n",
              "\n",
              "    .dataframe thead th {\n",
              "        text-align: right;\n",
              "    }\n",
              "</style>\n",
              "<table border=\"1\" class=\"dataframe\">\n",
              "  <thead>\n",
              "    <tr style=\"text-align: right;\">\n",
              "      <th></th>\n",
              "      <th>0</th>\n",
              "      <th>1</th>\n",
              "      <th>2</th>\n",
              "      <th>3</th>\n",
              "    </tr>\n",
              "  </thead>\n",
              "  <tbody>\n",
              "    <tr>\n",
              "      <th>count</th>\n",
              "      <td>1000.000000</td>\n",
              "      <td>1000.000000</td>\n",
              "      <td>1000.000000</td>\n",
              "      <td>1000.000000</td>\n",
              "    </tr>\n",
              "    <tr>\n",
              "      <th>mean</th>\n",
              "      <td>0.064508</td>\n",
              "      <td>0.043310</td>\n",
              "      <td>0.012710</td>\n",
              "      <td>-0.025365</td>\n",
              "    </tr>\n",
              "    <tr>\n",
              "      <th>std</th>\n",
              "      <td>1.038320</td>\n",
              "      <td>1.008491</td>\n",
              "      <td>1.009117</td>\n",
              "      <td>0.966308</td>\n",
              "    </tr>\n",
              "    <tr>\n",
              "      <th>min</th>\n",
              "      <td>-3.375579</td>\n",
              "      <td>-3.329504</td>\n",
              "      <td>-3.321115</td>\n",
              "      <td>-3.033989</td>\n",
              "    </tr>\n",
              "    <tr>\n",
              "      <th>25%</th>\n",
              "      <td>-0.645304</td>\n",
              "      <td>-0.652419</td>\n",
              "      <td>-0.664803</td>\n",
              "      <td>-0.627620</td>\n",
              "    </tr>\n",
              "    <tr>\n",
              "      <th>50%</th>\n",
              "      <td>0.069814</td>\n",
              "      <td>0.002883</td>\n",
              "      <td>0.013479</td>\n",
              "      <td>0.009662</td>\n",
              "    </tr>\n",
              "    <tr>\n",
              "      <th>75%</th>\n",
              "      <td>0.746545</td>\n",
              "      <td>0.742442</td>\n",
              "      <td>0.667983</td>\n",
              "      <td>0.614626</td>\n",
              "    </tr>\n",
              "    <tr>\n",
              "      <th>max</th>\n",
              "      <td>3.287761</td>\n",
              "      <td>3.428910</td>\n",
              "      <td>3.377768</td>\n",
              "      <td>2.824167</td>\n",
              "    </tr>\n",
              "  </tbody>\n",
              "</table>\n",
              "</div>"
            ],
            "text/plain": [
              "                 0            1            2            3\n",
              "count  1000.000000  1000.000000  1000.000000  1000.000000\n",
              "mean      0.064508     0.043310     0.012710    -0.025365\n",
              "std       1.038320     1.008491     1.009117     0.966308\n",
              "min      -3.375579    -3.329504    -3.321115    -3.033989\n",
              "25%      -0.645304    -0.652419    -0.664803    -0.627620\n",
              "50%       0.069814     0.002883     0.013479     0.009662\n",
              "75%       0.746545     0.742442     0.667983     0.614626\n",
              "max       3.287761     3.428910     3.377768     2.824167"
            ]
          },
          "execution_count": 53,
          "metadata": {},
          "output_type": "execute_result"
        }
      ],
      "source": [
        "A=x.describe()\n",
        "A"
      ]
    },
    {
      "cell_type": "code",
      "execution_count": null,
      "id": "3776d403",
      "metadata": {
        "id": "3776d403",
        "outputId": "1d0fe659-b55a-4c63-df24-08703706c3b7"
      },
      "outputs": [
        {
          "data": {
            "text/plain": [
              "(array([0, 0, 0, 0, 1, 1, 1, 1, 2, 2, 2, 2, 4, 4, 4, 4, 5, 5, 5, 5, 6, 6,\n",
              "        6, 6, 7, 7, 7, 7], dtype=int64),\n",
              " array([0, 1, 2, 3, 0, 1, 2, 3, 0, 1, 2, 3, 0, 1, 2, 3, 0, 1, 2, 3, 0, 1,\n",
              "        2, 3, 0, 1, 2, 3], dtype=int64))"
            ]
          },
          "execution_count": 54,
          "metadata": {},
          "output_type": "execute_result"
        }
      ],
      "source": [
        "\n"
      ]
    },
    {
      "cell_type": "code",
      "execution_count": null,
      "id": "702f5e41",
      "metadata": {
        "id": "702f5e41",
        "outputId": "bc49454e-049b-4bb6-fc1a-e167b03165da"
      },
      "outputs": [
        {
          "data": {
            "text/html": [
              "<div>\n",
              "<style scoped>\n",
              "    .dataframe tbody tr th:only-of-type {\n",
              "        vertical-align: middle;\n",
              "    }\n",
              "\n",
              "    .dataframe tbody tr th {\n",
              "        vertical-align: top;\n",
              "    }\n",
              "\n",
              "    .dataframe thead th {\n",
              "        text-align: right;\n",
              "    }\n",
              "</style>\n",
              "<table border=\"1\" class=\"dataframe\">\n",
              "  <thead>\n",
              "    <tr style=\"text-align: right;\">\n",
              "      <th></th>\n",
              "      <th>0</th>\n",
              "      <th>1</th>\n",
              "      <th>2</th>\n",
              "      <th>3</th>\n",
              "    </tr>\n",
              "  </thead>\n",
              "  <tbody>\n",
              "    <tr>\n",
              "      <th>41</th>\n",
              "      <td>-3.375579</td>\n",
              "      <td>-0.449650</td>\n",
              "      <td>0.763903</td>\n",
              "      <td>-0.390394</td>\n",
              "    </tr>\n",
              "    <tr>\n",
              "      <th>80</th>\n",
              "      <td>0.229573</td>\n",
              "      <td>-0.724364</td>\n",
              "      <td>3.377768</td>\n",
              "      <td>0.515720</td>\n",
              "    </tr>\n",
              "    <tr>\n",
              "      <th>102</th>\n",
              "      <td>-1.153483</td>\n",
              "      <td>-0.370037</td>\n",
              "      <td>-3.321115</td>\n",
              "      <td>-0.590222</td>\n",
              "    </tr>\n",
              "    <tr>\n",
              "      <th>112</th>\n",
              "      <td>3.287761</td>\n",
              "      <td>-0.141150</td>\n",
              "      <td>-0.325739</td>\n",
              "      <td>0.113334</td>\n",
              "    </tr>\n",
              "    <tr>\n",
              "      <th>182</th>\n",
              "      <td>0.873066</td>\n",
              "      <td>0.608984</td>\n",
              "      <td>0.418912</td>\n",
              "      <td>-3.033989</td>\n",
              "    </tr>\n",
              "    <tr>\n",
              "      <th>423</th>\n",
              "      <td>3.284118</td>\n",
              "      <td>0.783304</td>\n",
              "      <td>-0.267004</td>\n",
              "      <td>0.869031</td>\n",
              "    </tr>\n",
              "    <tr>\n",
              "      <th>538</th>\n",
              "      <td>-0.584229</td>\n",
              "      <td>3.040687</td>\n",
              "      <td>-0.968013</td>\n",
              "      <td>1.147803</td>\n",
              "    </tr>\n",
              "    <tr>\n",
              "      <th>547</th>\n",
              "      <td>0.747059</td>\n",
              "      <td>-1.321209</td>\n",
              "      <td>3.096589</td>\n",
              "      <td>0.028566</td>\n",
              "    </tr>\n",
              "    <tr>\n",
              "      <th>552</th>\n",
              "      <td>1.044386</td>\n",
              "      <td>3.428910</td>\n",
              "      <td>0.115152</td>\n",
              "      <td>-1.311737</td>\n",
              "    </tr>\n",
              "    <tr>\n",
              "      <th>607</th>\n",
              "      <td>3.186575</td>\n",
              "      <td>1.344434</td>\n",
              "      <td>0.701131</td>\n",
              "      <td>-0.912804</td>\n",
              "    </tr>\n",
              "    <tr>\n",
              "      <th>631</th>\n",
              "      <td>-3.082562</td>\n",
              "      <td>0.401430</td>\n",
              "      <td>-0.643872</td>\n",
              "      <td>1.111145</td>\n",
              "    </tr>\n",
              "    <tr>\n",
              "      <th>732</th>\n",
              "      <td>-0.866571</td>\n",
              "      <td>0.349012</td>\n",
              "      <td>3.285724</td>\n",
              "      <td>0.695166</td>\n",
              "    </tr>\n",
              "    <tr>\n",
              "      <th>891</th>\n",
              "      <td>-0.064398</td>\n",
              "      <td>-3.329504</td>\n",
              "      <td>0.247333</td>\n",
              "      <td>-0.300814</td>\n",
              "    </tr>\n",
              "    <tr>\n",
              "      <th>909</th>\n",
              "      <td>-2.398163</td>\n",
              "      <td>-1.408431</td>\n",
              "      <td>-3.250333</td>\n",
              "      <td>2.112089</td>\n",
              "    </tr>\n",
              "    <tr>\n",
              "      <th>974</th>\n",
              "      <td>3.140423</td>\n",
              "      <td>-0.149585</td>\n",
              "      <td>1.038728</td>\n",
              "      <td>-1.238161</td>\n",
              "    </tr>\n",
              "  </tbody>\n",
              "</table>\n",
              "</div>"
            ],
            "text/plain": [
              "            0         1         2         3\n",
              "41  -3.375579 -0.449650  0.763903 -0.390394\n",
              "80   0.229573 -0.724364  3.377768  0.515720\n",
              "102 -1.153483 -0.370037 -3.321115 -0.590222\n",
              "112  3.287761 -0.141150 -0.325739  0.113334\n",
              "182  0.873066  0.608984  0.418912 -3.033989\n",
              "423  3.284118  0.783304 -0.267004  0.869031\n",
              "538 -0.584229  3.040687 -0.968013  1.147803\n",
              "547  0.747059 -1.321209  3.096589  0.028566\n",
              "552  1.044386  3.428910  0.115152 -1.311737\n",
              "607  3.186575  1.344434  0.701131 -0.912804\n",
              "631 -3.082562  0.401430 -0.643872  1.111145\n",
              "732 -0.866571  0.349012  3.285724  0.695166\n",
              "891 -0.064398 -3.329504  0.247333 -0.300814\n",
              "909 -2.398163 -1.408431 -3.250333  2.112089\n",
              "974  3.140423 -0.149585  1.038728 -1.238161"
            ]
          },
          "execution_count": 57,
          "metadata": {},
          "output_type": "execute_result"
        }
      ],
      "source": [
        "x[(x.abs()>3).any(axis=\"columns\")]"
      ]
    },
    {
      "cell_type": "code",
      "execution_count": null,
      "id": "bbf61110",
      "metadata": {
        "id": "bbf61110",
        "outputId": "809e3e55-b065-49d9-870b-a1bf7638836f"
      },
      "outputs": [
        {
          "data": {
            "text/html": [
              "<div>\n",
              "<style scoped>\n",
              "    .dataframe tbody tr th:only-of-type {\n",
              "        vertical-align: middle;\n",
              "    }\n",
              "\n",
              "    .dataframe tbody tr th {\n",
              "        vertical-align: top;\n",
              "    }\n",
              "\n",
              "    .dataframe thead th {\n",
              "        text-align: right;\n",
              "    }\n",
              "</style>\n",
              "<table border=\"1\" class=\"dataframe\">\n",
              "  <thead>\n",
              "    <tr style=\"text-align: right;\">\n",
              "      <th></th>\n",
              "      <th>0</th>\n",
              "      <th>1</th>\n",
              "      <th>2</th>\n",
              "      <th>3</th>\n",
              "    </tr>\n",
              "  </thead>\n",
              "  <tbody>\n",
              "    <tr>\n",
              "      <th>0</th>\n",
              "      <td>-1.0</td>\n",
              "      <td>-1.0</td>\n",
              "      <td>-1.0</td>\n",
              "      <td>1.0</td>\n",
              "    </tr>\n",
              "    <tr>\n",
              "      <th>1</th>\n",
              "      <td>1.0</td>\n",
              "      <td>-1.0</td>\n",
              "      <td>1.0</td>\n",
              "      <td>1.0</td>\n",
              "    </tr>\n",
              "    <tr>\n",
              "      <th>2</th>\n",
              "      <td>1.0</td>\n",
              "      <td>1.0</td>\n",
              "      <td>1.0</td>\n",
              "      <td>-1.0</td>\n",
              "    </tr>\n",
              "    <tr>\n",
              "      <th>3</th>\n",
              "      <td>1.0</td>\n",
              "      <td>1.0</td>\n",
              "      <td>-1.0</td>\n",
              "      <td>1.0</td>\n",
              "    </tr>\n",
              "    <tr>\n",
              "      <th>4</th>\n",
              "      <td>-1.0</td>\n",
              "      <td>1.0</td>\n",
              "      <td>-1.0</td>\n",
              "      <td>-1.0</td>\n",
              "    </tr>\n",
              "    <tr>\n",
              "      <th>...</th>\n",
              "      <td>...</td>\n",
              "      <td>...</td>\n",
              "      <td>...</td>\n",
              "      <td>...</td>\n",
              "    </tr>\n",
              "    <tr>\n",
              "      <th>995</th>\n",
              "      <td>1.0</td>\n",
              "      <td>1.0</td>\n",
              "      <td>-1.0</td>\n",
              "      <td>-1.0</td>\n",
              "    </tr>\n",
              "    <tr>\n",
              "      <th>996</th>\n",
              "      <td>-1.0</td>\n",
              "      <td>-1.0</td>\n",
              "      <td>1.0</td>\n",
              "      <td>1.0</td>\n",
              "    </tr>\n",
              "    <tr>\n",
              "      <th>997</th>\n",
              "      <td>-1.0</td>\n",
              "      <td>-1.0</td>\n",
              "      <td>1.0</td>\n",
              "      <td>-1.0</td>\n",
              "    </tr>\n",
              "    <tr>\n",
              "      <th>998</th>\n",
              "      <td>-1.0</td>\n",
              "      <td>-1.0</td>\n",
              "      <td>-1.0</td>\n",
              "      <td>1.0</td>\n",
              "    </tr>\n",
              "    <tr>\n",
              "      <th>999</th>\n",
              "      <td>1.0</td>\n",
              "      <td>1.0</td>\n",
              "      <td>1.0</td>\n",
              "      <td>1.0</td>\n",
              "    </tr>\n",
              "  </tbody>\n",
              "</table>\n",
              "<p>1000 rows × 4 columns</p>\n",
              "</div>"
            ],
            "text/plain": [
              "       0    1    2    3\n",
              "0   -1.0 -1.0 -1.0  1.0\n",
              "1    1.0 -1.0  1.0  1.0\n",
              "2    1.0  1.0  1.0 -1.0\n",
              "3    1.0  1.0 -1.0  1.0\n",
              "4   -1.0  1.0 -1.0 -1.0\n",
              "..   ...  ...  ...  ...\n",
              "995  1.0  1.0 -1.0 -1.0\n",
              "996 -1.0 -1.0  1.0  1.0\n",
              "997 -1.0 -1.0  1.0 -1.0\n",
              "998 -1.0 -1.0 -1.0  1.0\n",
              "999  1.0  1.0  1.0  1.0\n",
              "\n",
              "[1000 rows x 4 columns]"
            ]
          },
          "execution_count": 58,
          "metadata": {},
          "output_type": "execute_result"
        }
      ],
      "source": [
        "np.sign(x)"
      ]
    },
    {
      "cell_type": "code",
      "execution_count": null,
      "id": "4bac8f34",
      "metadata": {
        "id": "4bac8f34",
        "outputId": "258ac550-e3b7-4b33-d80f-1bae4bccfd3c"
      },
      "outputs": [
        {
          "data": {
            "text/html": [
              "<div>\n",
              "<style scoped>\n",
              "    .dataframe tbody tr th:only-of-type {\n",
              "        vertical-align: middle;\n",
              "    }\n",
              "\n",
              "    .dataframe tbody tr th {\n",
              "        vertical-align: top;\n",
              "    }\n",
              "\n",
              "    .dataframe thead th {\n",
              "        text-align: right;\n",
              "    }\n",
              "</style>\n",
              "<table border=\"1\" class=\"dataframe\">\n",
              "  <thead>\n",
              "    <tr style=\"text-align: right;\">\n",
              "      <th></th>\n",
              "      <th>A</th>\n",
              "      <th>B</th>\n",
              "    </tr>\n",
              "  </thead>\n",
              "  <tbody>\n",
              "    <tr>\n",
              "      <th>0</th>\n",
              "      <td>10</td>\n",
              "      <td>20</td>\n",
              "    </tr>\n",
              "    <tr>\n",
              "      <th>1</th>\n",
              "      <td>30</td>\n",
              "      <td>40</td>\n",
              "    </tr>\n",
              "    <tr>\n",
              "      <th>2</th>\n",
              "      <td>50</td>\n",
              "      <td>60</td>\n",
              "    </tr>\n",
              "    <tr>\n",
              "      <th>3</th>\n",
              "      <td>70</td>\n",
              "      <td>80</td>\n",
              "    </tr>\n",
              "  </tbody>\n",
              "</table>\n",
              "</div>"
            ],
            "text/plain": [
              "    A   B\n",
              "0  10  20\n",
              "1  30  40\n",
              "2  50  60\n",
              "3  70  80"
            ]
          },
          "execution_count": 70,
          "metadata": {},
          "output_type": "execute_result"
        }
      ],
      "source": [
        "data={\"A\":[10,30,50,70],\"B\":[20,40,60,80]}\n",
        "df=pd.DataFrame(data)\n",
        "df"
      ]
    },
    {
      "cell_type": "code",
      "execution_count": null,
      "id": "e203fa9f",
      "metadata": {
        "id": "e203fa9f",
        "outputId": "9eec4154-7533-421a-abb4-d0bfe6294139"
      },
      "outputs": [
        {
          "data": {
            "text/html": [
              "<div>\n",
              "<style scoped>\n",
              "    .dataframe tbody tr th:only-of-type {\n",
              "        vertical-align: middle;\n",
              "    }\n",
              "\n",
              "    .dataframe tbody tr th {\n",
              "        vertical-align: top;\n",
              "    }\n",
              "\n",
              "    .dataframe thead th {\n",
              "        text-align: right;\n",
              "    }\n",
              "</style>\n",
              "<table border=\"1\" class=\"dataframe\">\n",
              "  <thead>\n",
              "    <tr style=\"text-align: right;\">\n",
              "      <th></th>\n",
              "      <th>A</th>\n",
              "      <th>B</th>\n",
              "    </tr>\n",
              "  </thead>\n",
              "  <tbody>\n",
              "    <tr>\n",
              "      <th>0</th>\n",
              "      <td>10</td>\n",
              "      <td>20</td>\n",
              "    </tr>\n",
              "    <tr>\n",
              "      <th>2</th>\n",
              "      <td>50</td>\n",
              "      <td>60</td>\n",
              "    </tr>\n",
              "  </tbody>\n",
              "</table>\n",
              "</div>"
            ],
            "text/plain": [
              "    A   B\n",
              "0  10  20\n",
              "2  50  60"
            ]
          },
          "execution_count": 73,
          "metadata": {},
          "output_type": "execute_result"
        }
      ],
      "source": [
        "df.take([0,2])"
      ]
    },
    {
      "cell_type": "code",
      "execution_count": null,
      "id": "e32882ea",
      "metadata": {
        "id": "e32882ea",
        "outputId": "9920b048-6362-4591-f174-8c6d476ba40d"
      },
      "outputs": [
        {
          "data": {
            "text/html": [
              "<div>\n",
              "<style scoped>\n",
              "    .dataframe tbody tr th:only-of-type {\n",
              "        vertical-align: middle;\n",
              "    }\n",
              "\n",
              "    .dataframe tbody tr th {\n",
              "        vertical-align: top;\n",
              "    }\n",
              "\n",
              "    .dataframe thead th {\n",
              "        text-align: right;\n",
              "    }\n",
              "</style>\n",
              "<table border=\"1\" class=\"dataframe\">\n",
              "  <thead>\n",
              "    <tr style=\"text-align: right;\">\n",
              "      <th></th>\n",
              "      <th>0</th>\n",
              "      <th>1</th>\n",
              "      <th>2</th>\n",
              "      <th>3</th>\n",
              "      <th>4</th>\n",
              "      <th>5</th>\n",
              "      <th>6</th>\n",
              "    </tr>\n",
              "  </thead>\n",
              "  <tbody>\n",
              "    <tr>\n",
              "      <th>0</th>\n",
              "      <td>0</td>\n",
              "      <td>1</td>\n",
              "      <td>2</td>\n",
              "      <td>3</td>\n",
              "      <td>4</td>\n",
              "      <td>5</td>\n",
              "      <td>6</td>\n",
              "    </tr>\n",
              "    <tr>\n",
              "      <th>1</th>\n",
              "      <td>7</td>\n",
              "      <td>8</td>\n",
              "      <td>9</td>\n",
              "      <td>10</td>\n",
              "      <td>11</td>\n",
              "      <td>12</td>\n",
              "      <td>13</td>\n",
              "    </tr>\n",
              "    <tr>\n",
              "      <th>2</th>\n",
              "      <td>14</td>\n",
              "      <td>15</td>\n",
              "      <td>16</td>\n",
              "      <td>17</td>\n",
              "      <td>18</td>\n",
              "      <td>19</td>\n",
              "      <td>20</td>\n",
              "    </tr>\n",
              "    <tr>\n",
              "      <th>3</th>\n",
              "      <td>21</td>\n",
              "      <td>22</td>\n",
              "      <td>23</td>\n",
              "      <td>24</td>\n",
              "      <td>25</td>\n",
              "      <td>26</td>\n",
              "      <td>27</td>\n",
              "    </tr>\n",
              "    <tr>\n",
              "      <th>4</th>\n",
              "      <td>28</td>\n",
              "      <td>29</td>\n",
              "      <td>30</td>\n",
              "      <td>31</td>\n",
              "      <td>32</td>\n",
              "      <td>33</td>\n",
              "      <td>34</td>\n",
              "    </tr>\n",
              "  </tbody>\n",
              "</table>\n",
              "</div>"
            ],
            "text/plain": [
              "    0   1   2   3   4   5   6\n",
              "0   0   1   2   3   4   5   6\n",
              "1   7   8   9  10  11  12  13\n",
              "2  14  15  16  17  18  19  20\n",
              "3  21  22  23  24  25  26  27\n",
              "4  28  29  30  31  32  33  34"
            ]
          },
          "execution_count": 76,
          "metadata": {},
          "output_type": "execute_result"
        }
      ],
      "source": [
        "df1=pd.DataFrame(np.arange(5*7).reshape((5,7)))\n",
        "df1"
      ]
    },
    {
      "cell_type": "code",
      "execution_count": null,
      "id": "83bf1d6c",
      "metadata": {
        "id": "83bf1d6c",
        "outputId": "1dd4fba8-e670-45f9-f99d-08481c7a8a3d"
      },
      "outputs": [
        {
          "data": {
            "text/plain": [
              "array([0, 2, 3, 1, 4])"
            ]
          },
          "execution_count": 77,
          "metadata": {},
          "output_type": "execute_result"
        }
      ],
      "source": [
        "sampler=np.random.permutation(5)\n",
        "sampler"
      ]
    },
    {
      "cell_type": "code",
      "execution_count": null,
      "id": "7ff13afc",
      "metadata": {
        "id": "7ff13afc",
        "outputId": "fb077e82-85af-407f-c90b-c0aa11310465"
      },
      "outputs": [
        {
          "data": {
            "text/html": [
              "<div>\n",
              "<style scoped>\n",
              "    .dataframe tbody tr th:only-of-type {\n",
              "        vertical-align: middle;\n",
              "    }\n",
              "\n",
              "    .dataframe tbody tr th {\n",
              "        vertical-align: top;\n",
              "    }\n",
              "\n",
              "    .dataframe thead th {\n",
              "        text-align: right;\n",
              "    }\n",
              "</style>\n",
              "<table border=\"1\" class=\"dataframe\">\n",
              "  <thead>\n",
              "    <tr style=\"text-align: right;\">\n",
              "      <th></th>\n",
              "      <th>6</th>\n",
              "      <th>2</th>\n",
              "      <th>1</th>\n",
              "      <th>4</th>\n",
              "      <th>3</th>\n",
              "      <th>5</th>\n",
              "      <th>0</th>\n",
              "    </tr>\n",
              "  </thead>\n",
              "  <tbody>\n",
              "    <tr>\n",
              "      <th>0</th>\n",
              "      <td>6</td>\n",
              "      <td>2</td>\n",
              "      <td>1</td>\n",
              "      <td>4</td>\n",
              "      <td>3</td>\n",
              "      <td>5</td>\n",
              "      <td>0</td>\n",
              "    </tr>\n",
              "    <tr>\n",
              "      <th>1</th>\n",
              "      <td>13</td>\n",
              "      <td>9</td>\n",
              "      <td>8</td>\n",
              "      <td>11</td>\n",
              "      <td>10</td>\n",
              "      <td>12</td>\n",
              "      <td>7</td>\n",
              "    </tr>\n",
              "    <tr>\n",
              "      <th>2</th>\n",
              "      <td>20</td>\n",
              "      <td>16</td>\n",
              "      <td>15</td>\n",
              "      <td>18</td>\n",
              "      <td>17</td>\n",
              "      <td>19</td>\n",
              "      <td>14</td>\n",
              "    </tr>\n",
              "    <tr>\n",
              "      <th>3</th>\n",
              "      <td>27</td>\n",
              "      <td>23</td>\n",
              "      <td>22</td>\n",
              "      <td>25</td>\n",
              "      <td>24</td>\n",
              "      <td>26</td>\n",
              "      <td>21</td>\n",
              "    </tr>\n",
              "    <tr>\n",
              "      <th>4</th>\n",
              "      <td>34</td>\n",
              "      <td>30</td>\n",
              "      <td>29</td>\n",
              "      <td>32</td>\n",
              "      <td>31</td>\n",
              "      <td>33</td>\n",
              "      <td>28</td>\n",
              "    </tr>\n",
              "  </tbody>\n",
              "</table>\n",
              "</div>"
            ],
            "text/plain": [
              "    6   2   1   4   3   5   0\n",
              "0   6   2   1   4   3   5   0\n",
              "1  13   9   8  11  10  12   7\n",
              "2  20  16  15  18  17  19  14\n",
              "3  27  23  22  25  24  26  21\n",
              "4  34  30  29  32  31  33  28"
            ]
          },
          "execution_count": 80,
          "metadata": {},
          "output_type": "execute_result"
        }
      ],
      "source": [
        "column_sampler=np.random.permutation(7)\n",
        "column_sampler\n",
        "df1.take(column_sampler,axis=\"columns\")# it will select a permutation of the columns"
      ]
    },
    {
      "cell_type": "code",
      "execution_count": null,
      "id": "12a1b139",
      "metadata": {
        "id": "12a1b139",
        "outputId": "fcfe12be-cca7-424d-ea2d-c2d7cb1c5a18"
      },
      "outputs": [
        {
          "data": {
            "text/html": [
              "<div>\n",
              "<style scoped>\n",
              "    .dataframe tbody tr th:only-of-type {\n",
              "        vertical-align: middle;\n",
              "    }\n",
              "\n",
              "    .dataframe tbody tr th {\n",
              "        vertical-align: top;\n",
              "    }\n",
              "\n",
              "    .dataframe thead th {\n",
              "        text-align: right;\n",
              "    }\n",
              "</style>\n",
              "<table border=\"1\" class=\"dataframe\">\n",
              "  <thead>\n",
              "    <tr style=\"text-align: right;\">\n",
              "      <th></th>\n",
              "      <th>0</th>\n",
              "      <th>1</th>\n",
              "      <th>2</th>\n",
              "      <th>3</th>\n",
              "      <th>4</th>\n",
              "      <th>5</th>\n",
              "      <th>6</th>\n",
              "    </tr>\n",
              "  </thead>\n",
              "  <tbody>\n",
              "    <tr>\n",
              "      <th>4</th>\n",
              "      <td>28</td>\n",
              "      <td>29</td>\n",
              "      <td>30</td>\n",
              "      <td>31</td>\n",
              "      <td>32</td>\n",
              "      <td>33</td>\n",
              "      <td>34</td>\n",
              "    </tr>\n",
              "    <tr>\n",
              "      <th>1</th>\n",
              "      <td>7</td>\n",
              "      <td>8</td>\n",
              "      <td>9</td>\n",
              "      <td>10</td>\n",
              "      <td>11</td>\n",
              "      <td>12</td>\n",
              "      <td>13</td>\n",
              "    </tr>\n",
              "    <tr>\n",
              "      <th>0</th>\n",
              "      <td>0</td>\n",
              "      <td>1</td>\n",
              "      <td>2</td>\n",
              "      <td>3</td>\n",
              "      <td>4</td>\n",
              "      <td>5</td>\n",
              "      <td>6</td>\n",
              "    </tr>\n",
              "  </tbody>\n",
              "</table>\n",
              "</div>"
            ],
            "text/plain": [
              "    0   1   2   3   4   5   6\n",
              "4  28  29  30  31  32  33  34\n",
              "1   7   8   9  10  11  12  13\n",
              "0   0   1   2   3   4   5   6"
            ]
          },
          "execution_count": 81,
          "metadata": {},
          "output_type": "execute_result"
        }
      ],
      "source": [
        "df1.sample(n=3)# to select a random subset without replacement(the same row cannot appear twice)"
      ]
    },
    {
      "cell_type": "code",
      "execution_count": null,
      "id": "2e7c859e",
      "metadata": {
        "id": "2e7c859e",
        "outputId": "9f45c6c6-5c32-45c8-df20-f6d6411a0b51"
      },
      "outputs": [
        {
          "data": {
            "text/html": [
              "<div>\n",
              "<style scoped>\n",
              "    .dataframe tbody tr th:only-of-type {\n",
              "        vertical-align: middle;\n",
              "    }\n",
              "\n",
              "    .dataframe tbody tr th {\n",
              "        vertical-align: top;\n",
              "    }\n",
              "\n",
              "    .dataframe thead th {\n",
              "        text-align: right;\n",
              "    }\n",
              "</style>\n",
              "<table border=\"1\" class=\"dataframe\">\n",
              "  <thead>\n",
              "    <tr style=\"text-align: right;\">\n",
              "      <th></th>\n",
              "      <th>0</th>\n",
              "      <th>1</th>\n",
              "      <th>2</th>\n",
              "      <th>3</th>\n",
              "      <th>4</th>\n",
              "      <th>5</th>\n",
              "      <th>6</th>\n",
              "    </tr>\n",
              "  </thead>\n",
              "  <tbody>\n",
              "    <tr>\n",
              "      <th>0</th>\n",
              "      <td>0</td>\n",
              "      <td>1</td>\n",
              "      <td>2</td>\n",
              "      <td>3</td>\n",
              "      <td>4</td>\n",
              "      <td>5</td>\n",
              "      <td>6</td>\n",
              "    </tr>\n",
              "    <tr>\n",
              "      <th>3</th>\n",
              "      <td>21</td>\n",
              "      <td>22</td>\n",
              "      <td>23</td>\n",
              "      <td>24</td>\n",
              "      <td>25</td>\n",
              "      <td>26</td>\n",
              "      <td>27</td>\n",
              "    </tr>\n",
              "    <tr>\n",
              "      <th>1</th>\n",
              "      <td>7</td>\n",
              "      <td>8</td>\n",
              "      <td>9</td>\n",
              "      <td>10</td>\n",
              "      <td>11</td>\n",
              "      <td>12</td>\n",
              "      <td>13</td>\n",
              "    </tr>\n",
              "  </tbody>\n",
              "</table>\n",
              "</div>"
            ],
            "text/plain": [
              "    0   1   2   3   4   5   6\n",
              "0   0   1   2   3   4   5   6\n",
              "3  21  22  23  24  25  26  27\n",
              "1   7   8   9  10  11  12  13"
            ]
          },
          "execution_count": 83,
          "metadata": {},
          "output_type": "execute_result"
        }
      ],
      "source": [
        "df1.sample(n=3,replace=True)# for replacement we can pass the replace to sample"
      ]
    },
    {
      "cell_type": "markdown",
      "id": "1aa45b57",
      "metadata": {
        "id": "1aa45b57"
      },
      "source": [
        "# Dummy variable"
      ]
    },
    {
      "cell_type": "code",
      "execution_count": null,
      "id": "036d261d",
      "metadata": {
        "id": "036d261d",
        "outputId": "1cd68c05-c8fb-4af4-a045-d6876080888f"
      },
      "outputs": [
        {
          "name": "stderr",
          "output_type": "stream",
          "text": [
            "C:\\Users\\E 555\\anaconda3\\lib\\site-packages\\pandas\\core\\computation\\expressions.py:21: UserWarning: Pandas requires version '2.8.4' or newer of 'numexpr' (version '2.8.1' currently installed).\n",
            "  from pandas.core.computation.check import NUMEXPR_INSTALLED\n",
            "C:\\Users\\E 555\\anaconda3\\lib\\site-packages\\pandas\\core\\arrays\\masked.py:60: UserWarning: Pandas requires version '1.3.6' or newer of 'bottleneck' (version '1.3.4' currently installed).\n",
            "  from pandas.core import (\n"
          ]
        },
        {
          "data": {
            "text/html": [
              "<div>\n",
              "<style scoped>\n",
              "    .dataframe tbody tr th:only-of-type {\n",
              "        vertical-align: middle;\n",
              "    }\n",
              "\n",
              "    .dataframe tbody tr th {\n",
              "        vertical-align: top;\n",
              "    }\n",
              "\n",
              "    .dataframe thead th {\n",
              "        text-align: right;\n",
              "    }\n",
              "</style>\n",
              "<table border=\"1\" class=\"dataframe\">\n",
              "  <thead>\n",
              "    <tr style=\"text-align: right;\">\n",
              "      <th></th>\n",
              "      <th>C1</th>\n",
              "      <th>C2</th>\n",
              "    </tr>\n",
              "  </thead>\n",
              "  <tbody>\n",
              "    <tr>\n",
              "      <th>0</th>\n",
              "      <td>A</td>\n",
              "      <td>0</td>\n",
              "    </tr>\n",
              "    <tr>\n",
              "      <th>1</th>\n",
              "      <td>B</td>\n",
              "      <td>1</td>\n",
              "    </tr>\n",
              "    <tr>\n",
              "      <th>2</th>\n",
              "      <td>C</td>\n",
              "      <td>2</td>\n",
              "    </tr>\n",
              "    <tr>\n",
              "      <th>3</th>\n",
              "      <td>A</td>\n",
              "      <td>3</td>\n",
              "    </tr>\n",
              "    <tr>\n",
              "      <th>4</th>\n",
              "      <td>C</td>\n",
              "      <td>4</td>\n",
              "    </tr>\n",
              "  </tbody>\n",
              "</table>\n",
              "</div>"
            ],
            "text/plain": [
              "  C1  C2\n",
              "0  A   0\n",
              "1  B   1\n",
              "2  C   2\n",
              "3  A   3\n",
              "4  C   4"
            ]
          },
          "execution_count": 2,
          "metadata": {},
          "output_type": "execute_result"
        }
      ],
      "source": [
        "import pandas as pd\n",
        "df=pd.DataFrame({'C1':['A','B','C','A','C'],'C2':range(5)})\n",
        "df"
      ]
    },
    {
      "cell_type": "code",
      "execution_count": null,
      "id": "db79db58",
      "metadata": {
        "id": "db79db58",
        "outputId": "68d6fdba-2dbd-4263-a0bf-e12d8c8abd59"
      },
      "outputs": [
        {
          "data": {
            "text/html": [
              "<div>\n",
              "<style scoped>\n",
              "    .dataframe tbody tr th:only-of-type {\n",
              "        vertical-align: middle;\n",
              "    }\n",
              "\n",
              "    .dataframe tbody tr th {\n",
              "        vertical-align: top;\n",
              "    }\n",
              "\n",
              "    .dataframe thead th {\n",
              "        text-align: right;\n",
              "    }\n",
              "</style>\n",
              "<table border=\"1\" class=\"dataframe\">\n",
              "  <thead>\n",
              "    <tr style=\"text-align: right;\">\n",
              "      <th></th>\n",
              "      <th>A</th>\n",
              "      <th>B</th>\n",
              "      <th>C</th>\n",
              "    </tr>\n",
              "  </thead>\n",
              "  <tbody>\n",
              "    <tr>\n",
              "      <th>0</th>\n",
              "      <td>1</td>\n",
              "      <td>0</td>\n",
              "      <td>0</td>\n",
              "    </tr>\n",
              "    <tr>\n",
              "      <th>1</th>\n",
              "      <td>0</td>\n",
              "      <td>1</td>\n",
              "      <td>0</td>\n",
              "    </tr>\n",
              "    <tr>\n",
              "      <th>2</th>\n",
              "      <td>0</td>\n",
              "      <td>0</td>\n",
              "      <td>1</td>\n",
              "    </tr>\n",
              "    <tr>\n",
              "      <th>3</th>\n",
              "      <td>1</td>\n",
              "      <td>0</td>\n",
              "      <td>0</td>\n",
              "    </tr>\n",
              "    <tr>\n",
              "      <th>4</th>\n",
              "      <td>0</td>\n",
              "      <td>0</td>\n",
              "      <td>1</td>\n",
              "    </tr>\n",
              "  </tbody>\n",
              "</table>\n",
              "</div>"
            ],
            "text/plain": [
              "   A  B  C\n",
              "0  1  0  0\n",
              "1  0  1  0\n",
              "2  0  0  1\n",
              "3  1  0  0\n",
              "4  0  0  1"
            ]
          },
          "execution_count": 5,
          "metadata": {},
          "output_type": "execute_result"
        }
      ],
      "source": [
        "pd.get_dummies(df['C1'],dtype=int)# it will convert the categorical data to dummy value(numerical)"
      ]
    },
    {
      "cell_type": "code",
      "execution_count": null,
      "id": "591c785e",
      "metadata": {
        "id": "591c785e",
        "outputId": "99f92cdb-9ac8-484d-e2ee-aea9ff3156e5"
      },
      "outputs": [
        {
          "data": {
            "text/html": [
              "<div>\n",
              "<style scoped>\n",
              "    .dataframe tbody tr th:only-of-type {\n",
              "        vertical-align: middle;\n",
              "    }\n",
              "\n",
              "    .dataframe tbody tr th {\n",
              "        vertical-align: top;\n",
              "    }\n",
              "\n",
              "    .dataframe thead th {\n",
              "        text-align: right;\n",
              "    }\n",
              "</style>\n",
              "<table border=\"1\" class=\"dataframe\">\n",
              "  <thead>\n",
              "    <tr style=\"text-align: right;\">\n",
              "      <th></th>\n",
              "      <th>A</th>\n",
              "      <th>B</th>\n",
              "      <th>C</th>\n",
              "    </tr>\n",
              "  </thead>\n",
              "  <tbody>\n",
              "    <tr>\n",
              "      <th>0</th>\n",
              "      <td>1.0</td>\n",
              "      <td>0.0</td>\n",
              "      <td>0.0</td>\n",
              "    </tr>\n",
              "    <tr>\n",
              "      <th>1</th>\n",
              "      <td>0.0</td>\n",
              "      <td>1.0</td>\n",
              "      <td>0.0</td>\n",
              "    </tr>\n",
              "    <tr>\n",
              "      <th>2</th>\n",
              "      <td>0.0</td>\n",
              "      <td>0.0</td>\n",
              "      <td>1.0</td>\n",
              "    </tr>\n",
              "    <tr>\n",
              "      <th>3</th>\n",
              "      <td>1.0</td>\n",
              "      <td>0.0</td>\n",
              "      <td>0.0</td>\n",
              "    </tr>\n",
              "    <tr>\n",
              "      <th>4</th>\n",
              "      <td>0.0</td>\n",
              "      <td>0.0</td>\n",
              "      <td>1.0</td>\n",
              "    </tr>\n",
              "  </tbody>\n",
              "</table>\n",
              "</div>"
            ],
            "text/plain": [
              "     A    B    C\n",
              "0  1.0  0.0  0.0\n",
              "1  0.0  1.0  0.0\n",
              "2  0.0  0.0  1.0\n",
              "3  1.0  0.0  0.0\n",
              "4  0.0  0.0  1.0"
            ]
          },
          "execution_count": 6,
          "metadata": {},
          "output_type": "execute_result"
        }
      ],
      "source": [
        "pd.get_dummies(df['C1'],dtype=float)"
      ]
    },
    {
      "cell_type": "code",
      "execution_count": null,
      "id": "4e24a3d3",
      "metadata": {
        "id": "4e24a3d3",
        "outputId": "e534444a-8ad2-46bf-d33c-b5c350f43562"
      },
      "outputs": [
        {
          "data": {
            "text/html": [
              "<div>\n",
              "<style scoped>\n",
              "    .dataframe tbody tr th:only-of-type {\n",
              "        vertical-align: middle;\n",
              "    }\n",
              "\n",
              "    .dataframe tbody tr th {\n",
              "        vertical-align: top;\n",
              "    }\n",
              "\n",
              "    .dataframe thead th {\n",
              "        text-align: right;\n",
              "    }\n",
              "</style>\n",
              "<table border=\"1\" class=\"dataframe\">\n",
              "  <thead>\n",
              "    <tr style=\"text-align: right;\">\n",
              "      <th></th>\n",
              "      <th>C1_A</th>\n",
              "      <th>C1_B</th>\n",
              "      <th>C1_C</th>\n",
              "    </tr>\n",
              "  </thead>\n",
              "  <tbody>\n",
              "    <tr>\n",
              "      <th>0</th>\n",
              "      <td>1.0</td>\n",
              "      <td>0.0</td>\n",
              "      <td>0.0</td>\n",
              "    </tr>\n",
              "    <tr>\n",
              "      <th>1</th>\n",
              "      <td>0.0</td>\n",
              "      <td>1.0</td>\n",
              "      <td>0.0</td>\n",
              "    </tr>\n",
              "    <tr>\n",
              "      <th>2</th>\n",
              "      <td>0.0</td>\n",
              "      <td>0.0</td>\n",
              "      <td>1.0</td>\n",
              "    </tr>\n",
              "    <tr>\n",
              "      <th>3</th>\n",
              "      <td>1.0</td>\n",
              "      <td>0.0</td>\n",
              "      <td>0.0</td>\n",
              "    </tr>\n",
              "    <tr>\n",
              "      <th>4</th>\n",
              "      <td>0.0</td>\n",
              "      <td>0.0</td>\n",
              "      <td>1.0</td>\n",
              "    </tr>\n",
              "  </tbody>\n",
              "</table>\n",
              "</div>"
            ],
            "text/plain": [
              "   C1_A  C1_B  C1_C\n",
              "0   1.0   0.0   0.0\n",
              "1   0.0   1.0   0.0\n",
              "2   0.0   0.0   1.0\n",
              "3   1.0   0.0   0.0\n",
              "4   0.0   0.0   1.0"
            ]
          },
          "execution_count": 7,
          "metadata": {},
          "output_type": "execute_result"
        }
      ],
      "source": [
        "pd.get_dummies(df[\"C1\"],dtype=float,prefix='C1')"
      ]
    },
    {
      "cell_type": "code",
      "execution_count": null,
      "id": "927cc6b4",
      "metadata": {
        "id": "927cc6b4",
        "outputId": "05fad5b9-8011-4eca-d69e-d69563af1643"
      },
      "outputs": [
        {
          "data": {
            "text/html": [
              "<div>\n",
              "<style scoped>\n",
              "    .dataframe tbody tr th:only-of-type {\n",
              "        vertical-align: middle;\n",
              "    }\n",
              "\n",
              "    .dataframe tbody tr th {\n",
              "        vertical-align: top;\n",
              "    }\n",
              "\n",
              "    .dataframe thead th {\n",
              "        text-align: right;\n",
              "    }\n",
              "</style>\n",
              "<table border=\"1\" class=\"dataframe\">\n",
              "  <thead>\n",
              "    <tr style=\"text-align: right;\">\n",
              "      <th></th>\n",
              "      <th>C2</th>\n",
              "      <th>C1_A</th>\n",
              "      <th>C1_B</th>\n",
              "      <th>C1_C</th>\n",
              "    </tr>\n",
              "  </thead>\n",
              "  <tbody>\n",
              "    <tr>\n",
              "      <th>0</th>\n",
              "      <td>0</td>\n",
              "      <td>1.0</td>\n",
              "      <td>0.0</td>\n",
              "      <td>0.0</td>\n",
              "    </tr>\n",
              "    <tr>\n",
              "      <th>1</th>\n",
              "      <td>1</td>\n",
              "      <td>0.0</td>\n",
              "      <td>1.0</td>\n",
              "      <td>0.0</td>\n",
              "    </tr>\n",
              "    <tr>\n",
              "      <th>2</th>\n",
              "      <td>2</td>\n",
              "      <td>0.0</td>\n",
              "      <td>0.0</td>\n",
              "      <td>1.0</td>\n",
              "    </tr>\n",
              "    <tr>\n",
              "      <th>3</th>\n",
              "      <td>3</td>\n",
              "      <td>1.0</td>\n",
              "      <td>0.0</td>\n",
              "      <td>0.0</td>\n",
              "    </tr>\n",
              "    <tr>\n",
              "      <th>4</th>\n",
              "      <td>4</td>\n",
              "      <td>0.0</td>\n",
              "      <td>0.0</td>\n",
              "      <td>1.0</td>\n",
              "    </tr>\n",
              "  </tbody>\n",
              "</table>\n",
              "</div>"
            ],
            "text/plain": [
              "   C2  C1_A  C1_B  C1_C\n",
              "0   0   1.0   0.0   0.0\n",
              "1   1   0.0   1.0   0.0\n",
              "2   2   0.0   0.0   1.0\n",
              "3   3   1.0   0.0   0.0\n",
              "4   4   0.0   0.0   1.0"
            ]
          },
          "execution_count": 9,
          "metadata": {},
          "output_type": "execute_result"
        }
      ],
      "source": [
        "dummy=pd.get_dummies(df[\"C1\"],dtype=float,prefix='C1')\n",
        "df_with_dummy=df[[\"C2\"]].join(dummy)\n",
        "df_with_dummy"
      ]
    },
    {
      "cell_type": "code",
      "execution_count": null,
      "id": "5ea35a9e",
      "metadata": {
        "id": "5ea35a9e",
        "outputId": "3b972ae4-32b5-4c09-cdad-af0db3741465"
      },
      "outputs": [
        {
          "data": {
            "text/plain": [
              "[(0.5, 0.75], (0.5, 0.75], (0.0, 0.25], (0.0, 0.25], (0.75, 1.0], (0.0, 0.25], (0.5, 0.75], (0.5, 0.75], (0.5, 0.75], (0.25, 0.5]]\n",
              "Categories (4, interval[float64, right]): [(0.0, 0.25] < (0.25, 0.5] < (0.5, 0.75] < (0.75, 1.0]]"
            ]
          },
          "execution_count": 16,
          "metadata": {},
          "output_type": "execute_result"
        }
      ],
      "source": [
        "import numpy as np\n",
        "df=np.random.uniform(0,1,10)\n",
        "y=[0,0.25,0.5,0.75,1]\n",
        "x=pd.cut(df,bins=y)\n",
        "x"
      ]
    },
    {
      "cell_type": "code",
      "execution_count": null,
      "id": "35e40fb0",
      "metadata": {
        "id": "35e40fb0",
        "outputId": "0e8a0d29-9b5f-40fe-8a6b-830cf93d19cf"
      },
      "outputs": [
        {
          "data": {
            "text/html": [
              "<div>\n",
              "<style scoped>\n",
              "    .dataframe tbody tr th:only-of-type {\n",
              "        vertical-align: middle;\n",
              "    }\n",
              "\n",
              "    .dataframe tbody tr th {\n",
              "        vertical-align: top;\n",
              "    }\n",
              "\n",
              "    .dataframe thead th {\n",
              "        text-align: right;\n",
              "    }\n",
              "</style>\n",
              "<table border=\"1\" class=\"dataframe\">\n",
              "  <thead>\n",
              "    <tr style=\"text-align: right;\">\n",
              "      <th></th>\n",
              "      <th>(0.0, 0.25]</th>\n",
              "      <th>(0.25, 0.5]</th>\n",
              "      <th>(0.5, 0.75]</th>\n",
              "      <th>(0.75, 1.0]</th>\n",
              "    </tr>\n",
              "  </thead>\n",
              "  <tbody>\n",
              "    <tr>\n",
              "      <th>0</th>\n",
              "      <td>0</td>\n",
              "      <td>0</td>\n",
              "      <td>1</td>\n",
              "      <td>0</td>\n",
              "    </tr>\n",
              "    <tr>\n",
              "      <th>1</th>\n",
              "      <td>0</td>\n",
              "      <td>0</td>\n",
              "      <td>1</td>\n",
              "      <td>0</td>\n",
              "    </tr>\n",
              "    <tr>\n",
              "      <th>2</th>\n",
              "      <td>1</td>\n",
              "      <td>0</td>\n",
              "      <td>0</td>\n",
              "      <td>0</td>\n",
              "    </tr>\n",
              "    <tr>\n",
              "      <th>3</th>\n",
              "      <td>1</td>\n",
              "      <td>0</td>\n",
              "      <td>0</td>\n",
              "      <td>0</td>\n",
              "    </tr>\n",
              "    <tr>\n",
              "      <th>4</th>\n",
              "      <td>0</td>\n",
              "      <td>0</td>\n",
              "      <td>0</td>\n",
              "      <td>1</td>\n",
              "    </tr>\n",
              "    <tr>\n",
              "      <th>5</th>\n",
              "      <td>1</td>\n",
              "      <td>0</td>\n",
              "      <td>0</td>\n",
              "      <td>0</td>\n",
              "    </tr>\n",
              "    <tr>\n",
              "      <th>6</th>\n",
              "      <td>0</td>\n",
              "      <td>0</td>\n",
              "      <td>1</td>\n",
              "      <td>0</td>\n",
              "    </tr>\n",
              "    <tr>\n",
              "      <th>7</th>\n",
              "      <td>0</td>\n",
              "      <td>0</td>\n",
              "      <td>1</td>\n",
              "      <td>0</td>\n",
              "    </tr>\n",
              "    <tr>\n",
              "      <th>8</th>\n",
              "      <td>0</td>\n",
              "      <td>0</td>\n",
              "      <td>1</td>\n",
              "      <td>0</td>\n",
              "    </tr>\n",
              "    <tr>\n",
              "      <th>9</th>\n",
              "      <td>0</td>\n",
              "      <td>1</td>\n",
              "      <td>0</td>\n",
              "      <td>0</td>\n",
              "    </tr>\n",
              "  </tbody>\n",
              "</table>\n",
              "</div>"
            ],
            "text/plain": [
              "   (0.0, 0.25]  (0.25, 0.5]  (0.5, 0.75]  (0.75, 1.0]\n",
              "0            0            0            1            0\n",
              "1            0            0            1            0\n",
              "2            1            0            0            0\n",
              "3            1            0            0            0\n",
              "4            0            0            0            1\n",
              "5            1            0            0            0\n",
              "6            0            0            1            0\n",
              "7            0            0            1            0\n",
              "8            0            0            1            0\n",
              "9            0            1            0            0"
            ]
          },
          "execution_count": 18,
          "metadata": {},
          "output_type": "execute_result"
        }
      ],
      "source": [
        "pd.get_dummies(x,dtype=int)"
      ]
    },
    {
      "cell_type": "markdown",
      "id": "8000d8f1",
      "metadata": {
        "id": "8000d8f1"
      },
      "source": [
        "# Extension types"
      ]
    },
    {
      "cell_type": "code",
      "execution_count": null,
      "id": "88b1f618",
      "metadata": {
        "id": "88b1f618",
        "outputId": "230f19eb-c2cc-4cba-9b19-6e0691f57cb8"
      },
      "outputs": [
        {
          "data": {
            "text/plain": [
              "0    1.0\n",
              "1    2.0\n",
              "2    3.0\n",
              "3    NaN\n",
              "dtype: float64"
            ]
          },
          "execution_count": 19,
          "metadata": {},
          "output_type": "execute_result"
        }
      ],
      "source": [
        "s=pd.Series([1,2,3,None])\n",
        "s"
      ]
    },
    {
      "cell_type": "code",
      "execution_count": null,
      "id": "3199fc16",
      "metadata": {
        "id": "3199fc16",
        "outputId": "1f2088c9-4c16-445c-9dcc-b2ecda8a0cea"
      },
      "outputs": [
        {
          "data": {
            "text/plain": [
              "dtype('float64')"
            ]
          },
          "execution_count": 20,
          "metadata": {},
          "output_type": "execute_result"
        }
      ],
      "source": [
        "s.dtype"
      ]
    },
    {
      "cell_type": "code",
      "execution_count": null,
      "id": "7c9e59f6",
      "metadata": {
        "id": "7c9e59f6",
        "outputId": "bc6a89f3-ebe0-4e9c-9d79-a348eb40ff36"
      },
      "outputs": [
        {
          "data": {
            "text/plain": [
              "0       1\n",
              "1       2\n",
              "2       3\n",
              "3    <NA>\n",
              "dtype: Int64"
            ]
          },
          "execution_count": 21,
          "metadata": {},
          "output_type": "execute_result"
        }
      ],
      "source": [
        "s=pd.Series([1,2,3,None],dtype=pd.Int64Dtype())\n",
        "s"
      ]
    },
    {
      "cell_type": "code",
      "execution_count": null,
      "id": "2df2c7f2",
      "metadata": {
        "id": "2df2c7f2",
        "outputId": "c5d538ba-fe11-4e2b-b0d8-f2931cba1a58"
      },
      "outputs": [
        {
          "data": {
            "text/plain": [
              "Int64Dtype()"
            ]
          },
          "execution_count": 22,
          "metadata": {},
          "output_type": "execute_result"
        }
      ],
      "source": [
        "s.dtype"
      ]
    },
    {
      "cell_type": "code",
      "execution_count": null,
      "id": "d6608a28",
      "metadata": {
        "id": "d6608a28",
        "outputId": "c99b2057-3d61-4913-a426-c4e546677adf"
      },
      "outputs": [
        {
          "data": {
            "text/html": [
              "<div>\n",
              "<style scoped>\n",
              "    .dataframe tbody tr th:only-of-type {\n",
              "        vertical-align: middle;\n",
              "    }\n",
              "\n",
              "    .dataframe tbody tr th {\n",
              "        vertical-align: top;\n",
              "    }\n",
              "\n",
              "    .dataframe thead th {\n",
              "        text-align: right;\n",
              "    }\n",
              "</style>\n",
              "<table border=\"1\" class=\"dataframe\">\n",
              "  <thead>\n",
              "    <tr style=\"text-align: right;\">\n",
              "      <th></th>\n",
              "      <th>fruit</th>\n",
              "    </tr>\n",
              "  </thead>\n",
              "  <tbody>\n",
              "    <tr>\n",
              "      <th>0</th>\n",
              "      <td>apple</td>\n",
              "    </tr>\n",
              "    <tr>\n",
              "      <th>1</th>\n",
              "      <td>bannana</td>\n",
              "    </tr>\n",
              "    <tr>\n",
              "      <th>2</th>\n",
              "      <td>orange</td>\n",
              "    </tr>\n",
              "    <tr>\n",
              "      <th>3</th>\n",
              "      <td>apple</td>\n",
              "    </tr>\n",
              "    <tr>\n",
              "      <th>4</th>\n",
              "      <td>guava</td>\n",
              "    </tr>\n",
              "  </tbody>\n",
              "</table>\n",
              "</div>"
            ],
            "text/plain": [
              "     fruit\n",
              "0    apple\n",
              "1  bannana\n",
              "2   orange\n",
              "3    apple\n",
              "4    guava"
            ]
          },
          "execution_count": 23,
          "metadata": {},
          "output_type": "execute_result"
        }
      ],
      "source": [
        "x={\"fruit\":[\"apple\",\"bannana\",\"orange\",\"apple\",\"guava\"]}\n",
        "df=pd.DataFrame(x)\n",
        "df"
      ]
    },
    {
      "cell_type": "code",
      "execution_count": null,
      "id": "ffe9a781",
      "metadata": {
        "id": "ffe9a781",
        "outputId": "aa3275f5-90d1-408c-c234-8e582ac0c5ad"
      },
      "outputs": [
        {
          "data": {
            "text/plain": [
              "0      apple\n",
              "1    bannana\n",
              "2     orange\n",
              "3      apple\n",
              "4      guava\n",
              "Name: fruit, dtype: category\n",
              "Categories (4, object): ['apple', 'bannana', 'guava', 'orange']"
            ]
          },
          "execution_count": 24,
          "metadata": {},
          "output_type": "execute_result"
        }
      ],
      "source": [
        "df[\"fruit\"]=df['fruit'].astype('category')\n",
        "df[\"fruit\"]"
      ]
    },
    {
      "cell_type": "code",
      "execution_count": null,
      "id": "b0f9d87e",
      "metadata": {
        "id": "b0f9d87e",
        "outputId": "4d3216ed-525a-4fda-d402-d191c99fcb05"
      },
      "outputs": [
        {
          "data": {
            "text/plain": [
              "['apple', 'bannana', 'orange', 'apple', 'guava']\n",
              "Categories (4, object): ['apple', 'bannana', 'guava', 'orange']"
            ]
          },
          "execution_count": 25,
          "metadata": {},
          "output_type": "execute_result"
        }
      ],
      "source": [
        "l=[\"apple\",\"bannana\",\"orange\",\"apple\",\"guava\"]\n",
        "pd.Categorical(l) # convert the list to category.also we can check how many categories are there in data"
      ]
    },
    {
      "cell_type": "markdown",
      "id": "d621caad",
      "metadata": {
        "id": "d621caad"
      },
      "source": [
        "# Line plot"
      ]
    },
    {
      "cell_type": "code",
      "execution_count": null,
      "id": "0cbf93fb",
      "metadata": {
        "id": "0cbf93fb",
        "outputId": "efdd9392-e9d2-4b76-f0aa-57eae2608713"
      },
      "outputs": [
        {
          "name": "stdout",
          "output_type": "stream",
          "text": [
            "Requirement already satisfied: numpy in c:\\users\\e 555\\anaconda3\\lib\\site-packages (2.0.2)\n",
            "Note: you may need to restart the kernel to use updated packages.\n"
          ]
        }
      ],
      "source": [
        "pip install numpy --upgrade"
      ]
    },
    {
      "cell_type": "code",
      "execution_count": null,
      "id": "af6e5631",
      "metadata": {
        "id": "af6e5631"
      },
      "outputs": [],
      "source": []
    },
    {
      "cell_type": "code",
      "execution_count": null,
      "id": "59607f19",
      "metadata": {
        "id": "59607f19",
        "outputId": "bed12887-53b0-4f8f-943f-a9da075741d9"
      },
      "outputs": [
        {
          "data": {
            "image/png": "[encoded data removed]",
            "text/plain": [
              "<Figure size 432x288 with 1 Axes>"
            ]
          },
          "metadata": {
            "needs_background": "light"
          },
          "output_type": "display_data"
        }
      ],
      "source": [
        "import matplotlib.pyplot as plt\n",
        "x=[1,2,3,4,5]\n",
        "y=[10,5,8,4,2]\n",
        "plt.plot(x,y)\n",
        "plt.show()"
      ]
    },
    {
      "cell_type": "markdown",
      "id": "cb3b74c9",
      "metadata": {
        "id": "cb3b74c9"
      },
      "source": [
        "# Functional approach"
      ]
    },
    {
      "cell_type": "code",
      "execution_count": null,
      "id": "5879b53a",
      "metadata": {
        "id": "5879b53a"
      },
      "outputs": [],
      "source": [
        "import numpy as np\n",
        "x=np.linspace(0,20,10)\n",
        "y=x**2"
      ]
    },
    {
      "cell_type": "code",
      "execution_count": null,
      "id": "aee970e9",
      "metadata": {
        "id": "aee970e9",
        "outputId": "10614832-d255-488c-a88b-481bfed2cace"
      },
      "outputs": [
        {
          "data": {
            "text/plain": [
              "[<matplotlib.lines.Line2D at 0x194b0f70310>]"
            ]
          },
          "execution_count": 3,
          "metadata": {},
          "output_type": "execute_result"
        },
        {
          "data": {
            "image/png": "[encoded data removed]",
            "text/plain": [
              "<Figure size 432x288 with 1 Axes>"
            ]
          },
          "metadata": {
            "needs_background": "light"
          },
          "output_type": "display_data"
        }
      ],
      "source": [
        "import matplotlib.pyplot as plt\n",
        "plt.plot(x,y)"
      ]
    },
    {
      "cell_type": "markdown",
      "id": "37c6c001",
      "metadata": {
        "id": "37c6c001"
      },
      "source": [
        "# add Title,axes label"
      ]
    },
    {
      "cell_type": "code",
      "execution_count": null,
      "id": "2a0f0749",
      "metadata": {
        "id": "2a0f0749",
        "outputId": "b6c3060c-fedb-44a1-f3a3-ee48438e4654"
      },
      "outputs": [
        {
          "data": {
            "text/plain": [
              "Text(0, 0.5, 'y-axis')"
            ]
          },
          "execution_count": 4,
          "metadata": {},
          "output_type": "execute_result"
        },
        {
          "data": {
            "image/png": "[encoded data removed]",
            "text/plain": [
              "<Figure size 432x288 with 1 Axes>"
            ]
          },
          "metadata": {
            "needs_background": "light"
          },
          "output_type": "display_data"
        }
      ],
      "source": [
        "plt.plot(x,y)\n",
        "plt.title('Title of the plot')\n",
        "plt.xlabel('x-axis')\n",
        "plt.ylabel('y-axis')"
      ]
    },
    {
      "cell_type": "code",
      "execution_count": null,
      "id": "ed6bd019",
      "metadata": {
        "id": "ed6bd019",
        "outputId": "b07ae7be-6bb1-4c22-9bd3-7d28af58fb95"
      },
      "outputs": [
        {
          "data": {
            "text/plain": [
              "[<matplotlib.lines.Line2D at 0x194b3149a60>]"
            ]
          },
          "execution_count": 5,
          "metadata": {},
          "output_type": "execute_result"
        },
        {
          "data": {
            "image/png": "[encoded data removed]",
            "text/plain": [
              "<Figure size 432x288 with 2 Axes>"
            ]
          },
          "metadata": {
            "needs_background": "light"
          },
          "output_type": "display_data"
        }
      ],
      "source": [
        "plt.subplot(1,2,1)#with the  help of this we can plot multiple subplot of the same plot.(row,column,1st plot)\n",
        "plt.plot(x,y)\n",
        "plt.subplot(1,2,2)\n",
        "plt.plot(x,y)"
      ]
    },
    {
      "cell_type": "code",
      "execution_count": null,
      "id": "040262bd",
      "metadata": {
        "id": "040262bd",
        "outputId": "dac0e085-44cd-4e58-c176-cc67bec53d8e"
      },
      "outputs": [
        {
          "data": {
            "text/plain": [
              "[<matplotlib.lines.Line2D at 0x194b3236610>]"
            ]
          },
          "execution_count": 6,
          "metadata": {},
          "output_type": "execute_result"
        },
        {
          "data": {
            "image/png": "[encoded data removed]",
            "text/plain": [
              "<Figure size 432x288 with 2 Axes>"
            ]
          },
          "metadata": {
            "needs_background": "light"
          },
          "output_type": "display_data"
        }
      ],
      "source": [
        "plt.subplot(1,2,1)\n",
        "plt.plot(x,y,color='red')\n",
        "plt.subplot(1,2,2)\n",
        "plt.plot(x,y,color='green')"
      ]
    },
    {
      "cell_type": "code",
      "execution_count": null,
      "id": "0804805a",
      "metadata": {
        "id": "0804805a",
        "outputId": "9a1e0366-6070-4c48-e3e2-749a17aefe36"
      },
      "outputs": [
        {
          "data": {
            "text/plain": [
              "Text(0, 0.5, 'y-axis')"
            ]
          },
          "execution_count": 9,
          "metadata": {},
          "output_type": "execute_result"
        },
        {
          "data": {
            "image/png": "[encoded data removed]",
            "text/plain": [
              "<Figure size 432x288 with 1 Axes>"
            ]
          },
          "metadata": {
            "needs_background": "light"
          },
          "output_type": "display_data"
        }
      ],
      "source": [
        "plt.subplot(1,2,1)\n",
        "plt.plot(x,y,color='red')\n",
        "plt.plot(x,y)\n",
        "plt.title('1st subplot')\n",
        "plt.xlabel('x-axis')\n",
        "plt.ylabel('y-axis')"
      ]
    },
    {
      "cell_type": "markdown",
      "id": "63b95259",
      "metadata": {
        "id": "63b95259"
      },
      "source": [
        "# object oriented interface"
      ]
    },
    {
      "cell_type": "code",
      "execution_count": null,
      "id": "4b96c45e",
      "metadata": {
        "id": "4b96c45e",
        "outputId": "b85baf5b-8f9d-4889-be27-00f1039accbd"
      },
      "outputs": [
        {
          "data": {
            "image/png": "[encoded data removed]",
            "text/plain": [
              "<Figure size 432x288 with 1 Axes>"
            ]
          },
          "metadata": {
            "needs_background": "light"
          },
          "output_type": "display_data"
        }
      ],
      "source": [
        "fig=plt.figure()\n",
        "ax=fig.add_axes([0,0,0.5,1])"
      ]
    },
    {
      "cell_type": "code",
      "execution_count": null,
      "id": "cab39e16",
      "metadata": {
        "id": "cab39e16",
        "outputId": "51bea6cf-57f0-46e5-f90d-a573bb505af8"
      },
      "outputs": [
        {
          "data": {
            "image/png": "[encoded data removed]",
            "text/plain": [
              "<Figure size 432x288 with 1 Axes>"
            ]
          },
          "metadata": {
            "needs_background": "light"
          },
          "output_type": "display_data"
        }
      ],
      "source": [
        "fig=plt.figure()\n",
        "ax=fig.add_axes([0,0,1,2])"
      ]
    },
    {
      "cell_type": "code",
      "execution_count": null,
      "id": "63175d4d",
      "metadata": {
        "id": "63175d4d",
        "outputId": "f4dd2ac2-9b92-4561-e459-4ee8df7f0678"
      },
      "outputs": [
        {
          "data": {
            "text/plain": [
              "Text(0.5, 1.0, 'First figure using object oriented approach')"
            ]
          },
          "execution_count": 12,
          "metadata": {},
          "output_type": "execute_result"
        },
        {
          "data": {
            "image/png": "[encoded data removed]",
            "text/plain": [
              "<Figure size 432x288 with 1 Axes>"
            ]
          },
          "metadata": {
            "needs_background": "light"
          },
          "output_type": "display_data"
        }
      ],
      "source": [
        "fig=plt.figure()\n",
        "ax=fig.add_axes([0,0,1,1])#(left,bootom,width,height)\n",
        "ax.plot(x,y,color='red')\n",
        "ax.set_xlabel('x-axis')\n",
        "ax.set_ylabel('y-axis')\n",
        "ax.set_title('First figure using object oriented approach')"
      ]
    },
    {
      "cell_type": "markdown",
      "id": "24846cce",
      "metadata": {
        "id": "24846cce"
      },
      "source": [
        "# Figure in figure"
      ]
    },
    {
      "cell_type": "code",
      "execution_count": null,
      "id": "d58800be",
      "metadata": {
        "id": "d58800be",
        "outputId": "756df854-0c4e-473e-b763-ae6f018bec03"
      },
      "outputs": [
        {
          "data": {
            "image/png": "[encoded data removed]",
            "text/plain": [
              "<Figure size 432x288 with 2 Axes>"
            ]
          },
          "metadata": {
            "needs_background": "light"
          },
          "output_type": "display_data"
        }
      ],
      "source": [
        "fig=plt.figure()\n",
        "ax=fig.add_axes([0,0,1,1])#if we give left 1 then it shifting towards left as well as in bottom\n",
        "ax1=fig.add_axes([0.1,0.3,0.4,0.4])"
      ]
    },
    {
      "cell_type": "code",
      "execution_count": null,
      "id": "052406a8",
      "metadata": {
        "id": "052406a8",
        "outputId": "4a1bfa40-1f3c-4696-e57c-02d492b3fc3b"
      },
      "outputs": [
        {
          "data": {
            "image/png": "[encoded data removed]",
            "text/plain": [
              "<Figure size 432x288 with 6 Axes>"
            ]
          },
          "metadata": {
            "needs_background": "light"
          },
          "output_type": "display_data"
        }
      ],
      "source": [
        "fig,ax=plt.subplots(nrows=2,ncols=3) #it will return the plots in matrix form of 2x3."
      ]
    },
    {
      "cell_type": "code",
      "execution_count": null,
      "id": "2c46684e",
      "metadata": {
        "id": "2c46684e",
        "outputId": "b82c4334-187b-4ebc-93cb-c159d48bcdbe"
      },
      "outputs": [
        {
          "data": {
            "image/png": "[encoded data removed]",
            "text/plain": [
              "<Figure size 432x288 with 6 Axes>"
            ]
          },
          "metadata": {
            "needs_background": "light"
          },
          "output_type": "display_data"
        }
      ],
      "source": [
        "fig,ax=plt.subplots(nrows=2,ncols=3)\n",
        "plt.tight_layout()#it will plot all figures in screen in equally spaced"
      ]
    },
    {
      "cell_type": "code",
      "execution_count": null,
      "id": "7e8c3197",
      "metadata": {
        "id": "7e8c3197",
        "outputId": "447a1902-9cb7-41ee-b9cf-f9e4065f56a0"
      },
      "outputs": [
        {
          "data": {
            "image/png": "[encoded data removed]",
            "text/plain": [
              "<Figure size 432x288 with 6 Axes>"
            ]
          },
          "metadata": {
            "needs_background": "light"
          },
          "output_type": "display_data"
        }
      ],
      "source": [
        "fig,ax=plt.subplots(nrows=2,ncols=3)\n",
        "ax[0,1].plot(x,y,color='red')\n",
        "ax[1,2].plot(x,y,color='green')\n",
        "plt.tight_layout()"
      ]
    },
    {
      "cell_type": "markdown",
      "id": "d36183c3",
      "metadata": {
        "id": "d36183c3"
      },
      "source": [
        "# Figure size,aspect ration,dpi set in figure"
      ]
    },
    {
      "cell_type": "code",
      "execution_count": null,
      "id": "8e4a5f8b",
      "metadata": {
        "id": "8e4a5f8b",
        "outputId": "60dbfd8b-76cc-43bb-8c56-87a31294fea2"
      },
      "outputs": [
        {
          "data": {
            "text/plain": [
              "[<matplotlib.lines.Line2D at 0x194b46ab580>]"
            ]
          },
          "execution_count": 24,
          "metadata": {},
          "output_type": "execute_result"
        },
        {
          "data": {
            "image/png": "[encoded data removed]",
            "text/plain": [
              "<Figure size 720x240 with 1 Axes>"
            ]
          },
          "metadata": {
            "needs_background": "light"
          },
          "output_type": "display_data"
        }
      ],
      "source": [
        "fig=plt.figure(figsize=(6,2),dpi=120)# dpi-to have the clarity of image or improve resolution\n",
        "ax=fig.add_axes([0,0,1,1])\n",
        "ax.plot(x,y,color='red')"
      ]
    },
    {
      "cell_type": "markdown",
      "id": "08597f5b",
      "metadata": {
        "id": "08597f5b"
      },
      "source": [
        "# legend"
      ]
    },
    {
      "cell_type": "code",
      "execution_count": null,
      "id": "bdc627c7",
      "metadata": {
        "id": "bdc627c7",
        "outputId": "43b3a5ce-f054-47ec-d5d8-1d31f59a4bef"
      },
      "outputs": [
        {
          "data": {
            "image/png": "[encoded data removed]",
            "text/plain": [
              "<Figure size 480x320 with 1 Axes>"
            ]
          },
          "metadata": {
            "needs_background": "light"
          },
          "output_type": "display_data"
        }
      ],
      "source": [
        "fig=plt.figure(figsize=(6,4),dpi=80)\n",
        "ax=fig.add_axes([0,0,1,1])\n",
        "ax.plot(x,x**2,color='red',label='x square')\n",
        "ax.plot(x,x**3,color='green',label='x cube')\n",
        "plt.show()"
      ]
    },
    {
      "cell_type": "code",
      "execution_count": null,
      "id": "516458b6",
      "metadata": {
        "id": "516458b6",
        "outputId": "5b069ecc-bb5e-4610-bb23-d3e5870cfa0a"
      },
      "outputs": [
        {
          "data": {
            "image/png": "[encoded data removed]",
            "text/plain": [
              "<Figure size 480x320 with 1 Axes>"
            ]
          },
          "metadata": {
            "needs_background": "light"
          },
          "output_type": "display_data"
        }
      ],
      "source": [
        "fig=plt.figure(figsize=(6,4),dpi=80)\n",
        "ax=fig.add_axes([0,0,1,1])\n",
        "ax.plot(x,x**2,color='red',label='x square')\n",
        "ax.plot(x,x**3,color='green',label='x cube')\n",
        "ax.legend() # it will distiguish multiple data according to the parameter like label\n",
        "plt.show()"
      ]
    },
    {
      "cell_type": "code",
      "execution_count": null,
      "id": "d9b04672",
      "metadata": {
        "id": "d9b04672",
        "outputId": "d6253f46-1e9a-454d-b798-e07fe1616a8b"
      },
      "outputs": [
        {
          "data": {
            "image/png": "[encoded data removed]",
            "text/plain": [
              "<Figure size 480x320 with 1 Axes>"
            ]
          },
          "metadata": {
            "needs_background": "light"
          },
          "output_type": "display_data"
        }
      ],
      "source": [
        "fig=plt.figure(figsize=(6,4),dpi=80)\n",
        "ax=fig.add_axes([0,0,1,1])\n",
        "ax.plot(x,x**2,color='red',label='x square',drawstyle=\"steps-post\")# it will show data in form of steps\n",
        "ax.plot(x,x**3,color='green',label='x cube',drawstyle=\"steps-post\")\n",
        "ax.legend(loc='lower right') # the label is shift to the lower right of the plot.\n",
        "plt.show()"
      ]
    },
    {
      "cell_type": "code",
      "execution_count": null,
      "id": "b2d12c38",
      "metadata": {
        "id": "b2d12c38",
        "outputId": "b26dc9b8-161f-42d3-8f2b-7270a2c73a4c"
      },
      "outputs": [
        {
          "data": {
            "image/png": "[encoded data removed]",
            "text/plain": [
              "<Figure size 480x320 with 1 Axes>"
            ]
          },
          "metadata": {
            "needs_background": "light"
          },
          "output_type": "display_data"
        }
      ],
      "source": [
        "fig=plt.figure(figsize=(6,4),dpi=80)\n",
        "ax=fig.add_axes([0,0,1,1])\n",
        "ax.plot(x,x**2,color='red',label='x square',drawstyle=\"steps-post\",linestyle=\"dashed\")# it will show the data in form of dotted line\n",
        "ax.plot(x,x**3,color='green',label='x cube',drawstyle=\"steps-post\",linestyle=\"dashed\")\n",
        "ax.legend(loc='lower right') # the label is shift to the lower right of the plot.\n",
        "plt.show()"
      ]
    },
    {
      "cell_type": "markdown",
      "id": "0959459a",
      "metadata": {
        "id": "0959459a"
      },
      "source": [
        "# Bar plot"
      ]
    },
    {
      "cell_type": "code",
      "execution_count": null,
      "id": "40ebc788",
      "metadata": {
        "id": "40ebc788",
        "outputId": "3d1184cc-5807-4adc-d1f0-2cbe36652a5f"
      },
      "outputs": [
        {
          "data": {
            "text/plain": [
              "<BarContainer object of 10 artists>"
            ]
          },
          "execution_count": 42,
          "metadata": {},
          "output_type": "execute_result"
        },
        {
          "data": {
            "image/png": "[encoded data removed]",
            "text/plain": [
              "<Figure size 480x320 with 1 Axes>"
            ]
          },
          "metadata": {
            "needs_background": "light"
          },
          "output_type": "display_data"
        }
      ],
      "source": [
        "fig=plt.figure(figsize=(6,4),dpi=80)\n",
        "ax=fig.add_axes([0,0,1,1])\n",
        "ax.barh(x,y,color='red')"
      ]
    },
    {
      "cell_type": "code",
      "execution_count": null,
      "id": "86b269ea",
      "metadata": {
        "id": "86b269ea",
        "outputId": "9fcb35d6-646a-48c8-acf5-00a87a269b9e"
      },
      "outputs": [
        {
          "data": {
            "text/plain": [
              "<Axes: >"
            ]
          },
          "execution_count": 46,
          "metadata": {},
          "output_type": "execute_result"
        },
        {
          "data": {
            "image/png": "[encoded data removed]",
            "text/plain": [
              "<Figure size 432x288 with 1 Axes>"
            ]
          },
          "metadata": {
            "needs_background": "light"
          },
          "output_type": "display_data"
        }
      ],
      "source": [
        "import pandas as pd\n",
        "my_df=pd.DataFrame(np.random.rand(10,4),columns=['a','b','c','d'])\n",
        "my_df.plot.barh()"
      ]
    },
    {
      "cell_type": "code",
      "execution_count": null,
      "id": "9100b510",
      "metadata": {
        "id": "9100b510",
        "outputId": "1d78f58e-d2d3-4d75-8d76-a82722bbc8fa"
      },
      "outputs": [
        {
          "data": {
            "text/plain": [
              "<Axes: >"
            ]
          },
          "execution_count": 47,
          "metadata": {},
          "output_type": "execute_result"
        },
        {
          "data": {
            "image/png": "[encoded data removed]",
            "text/plain": [
              "<Figure size 432x288 with 1 Axes>"
            ]
          },
          "metadata": {
            "needs_background": "light"
          },
          "output_type": "display_data"
        }
      ],
      "source": [
        "import pandas as pd\n",
        "my_df=pd.DataFrame(np.random.rand(10,4),columns=['a','b','c','d'])\n",
        "my_df.plot.bar(stacked=True)# it will give datapoints in form of stack."
      ]
    },
    {
      "cell_type": "markdown",
      "id": "4d7da8c8",
      "metadata": {
        "id": "4d7da8c8"
      },
      "source": [
        "# Scatter plot"
      ]
    },
    {
      "cell_type": "code",
      "execution_count": null,
      "id": "f3fe4394",
      "metadata": {
        "id": "f3fe4394",
        "outputId": "4a53f086-57e8-48e9-fd2c-641a10c70a05"
      },
      "outputs": [
        {
          "data": {
            "text/plain": [
              "<matplotlib.collections.PathCollection at 0x194b95d7bb0>"
            ]
          },
          "execution_count": 48,
          "metadata": {},
          "output_type": "execute_result"
        },
        {
          "data": {
            "image/png": "[encoded data removed]",
            "text/plain": [
              "<Figure size 480x320 with 1 Axes>"
            ]
          },
          "metadata": {
            "needs_background": "light"
          },
          "output_type": "display_data"
        }
      ],
      "source": [
        "fig=plt.figure(figsize=(6,4),dpi=80)\n",
        "ax=fig.add_axes([0,0,1,1])\n",
        "ax.scatter(x,y)"
      ]
    },
    {
      "cell_type": "code",
      "execution_count": 1,
      "id": "b43d67f3",
      "metadata": {
        "colab": {
          "base_uri": "https://localhost:8080/"
        },
        "id": "b43d67f3",
        "outputId": "0208df8f-6053-4410-eeb0-f86235b93b9b"
      },
      "outputs": [
        {
          "output_type": "stream",
          "name": "stdout",
          "text": [
            "Mounted at /content/drive/\n"
          ]
        }
      ],
      "source": [
        "from google.colab import drive\n",
        "drive.mount('/content/drive/')"
      ]
    },
    {
      "cell_type": "code",
      "source": [
        "import pandas as pd\n",
        "import seaborn as sns\n",
        "df = pd.read_csv('/content/drive/My Drive/Colab Notebooks/titanic (1).csv')\n",
        "print(df.head())\n",
        "sns.lineplot(df,x=\"PassengerId\",y=\"Age\")"
      ],
      "metadata": {
        "colab": {
          "base_uri": "https://localhost:8080/",
          "height": 813
        },
        "id": "ecEVNFyTEk0_",
        "outputId": "087a382f-2020-4b47-d0c9-238be7c821ed"
      },
      "id": "ecEVNFyTEk0_",
      "execution_count": 4,
      "outputs": [
        {
          "output_type": "stream",
          "name": "stdout",
          "text": [
            "   PassengerId  Survived  Pclass  \\\n",
            "0            1         0       3   \n",
            "1            2         1       1   \n",
            "2            3         1       3   \n",
            "3            4         1       1   \n",
            "4            5         0       3   \n",
            "\n",
            "                                                Name     Sex   Age  SibSp  \\\n",
            "0                            Braund, Mr. Owen Harris    male  22.0      1   \n",
            "1  Cumings, Mrs. John Bradley (Florence Briggs Th...  female  38.0      1   \n",
            "2                             Heikkinen, Miss. Laina  female  26.0      0   \n",
            "3       Futrelle, Mrs. Jacques Heath (Lily May Peel)  female  35.0      1   \n",
            "4                           Allen, Mr. William Henry    male  35.0      0   \n",
            "\n",
            "   Parch            Ticket     Fare Cabin Embarked  \n",
            "0      0         A/5 21171   7.2500   NaN        S  \n",
            "1      0          PC 17599  71.2833   C85        C  \n",
            "2      0  STON/O2. 3101282   7.9250   NaN        S  \n",
            "3      0            113803  53.1000  C123        S  \n",
            "4      0            373450   8.0500   NaN        S  \n"
          ]
        },
        {
          "output_type": "execute_result",
          "data": {
            "text/plain": [
              "<Axes: xlabel='PassengerId', ylabel='Age'>"
            ]
          },
          "metadata": {},
          "execution_count": 4
        },
        {
          "output_type": "display_data",
          "data": {
            "text/plain": [
              "<Figure size 640x480 with 1 Axes>"
            ],
            "image/png": "[encoded data removed]"
          },
          "metadata": {}
        }
      ]
    },
    {
      "cell_type": "code",
      "source": [
        "import seaborn as sns\n",
        "sns.lineplot(data=df,x='PassengerId',y='Age',hue='Sex')\n",
        "plt.show()"
      ],
      "metadata": {
        "colab": {
          "base_uri": "https://localhost:8080/",
          "height": 608
        },
        "id": "AoU7uAN7E5Cv",
        "outputId": "a5f55361-f95a-4c56-cc5f-7b61fdba1d63"
      },
      "id": "AoU7uAN7E5Cv",
      "execution_count": 5,
      "outputs": [
        {
          "output_type": "error",
          "ename": "NameError",
          "evalue": "name 'plt' is not defined",
          "traceback": [
            "\u001b[0;31m---------------------------------------------------------------------------\u001b[0m",
            "\u001b[0;31mNameError\u001b[0m                                 Traceback (most recent call last)",
            "\u001b[0;32m<ipython-input-5-c823cb2c530f>\u001b[0m in \u001b[0;36m<cell line: 3>\u001b[0;34m()\u001b[0m\n\u001b[1;32m      1\u001b[0m \u001b[0;32mimport\u001b[0m \u001b[0mseaborn\u001b[0m \u001b[0;32mas\u001b[0m \u001b[0msns\u001b[0m\u001b[0;34m\u001b[0m\u001b[0;34m\u001b[0m\u001b[0m\n\u001b[1;32m      2\u001b[0m \u001b[0msns\u001b[0m\u001b[0;34m.\u001b[0m\u001b[0mlineplot\u001b[0m\u001b[0;34m(\u001b[0m\u001b[0mdata\u001b[0m\u001b[0;34m=\u001b[0m\u001b[0mdf\u001b[0m\u001b[0;34m,\u001b[0m\u001b[0mx\u001b[0m\u001b[0;34m=\u001b[0m\u001b[0;34m'PassengerId'\u001b[0m\u001b[0;34m,\u001b[0m\u001b[0my\u001b[0m\u001b[0;34m=\u001b[0m\u001b[0;34m'Age'\u001b[0m\u001b[0;34m,\u001b[0m\u001b[0mhue\u001b[0m\u001b[0;34m=\u001b[0m\u001b[0;34m'Sex'\u001b[0m\u001b[0;34m)\u001b[0m\u001b[0;34m\u001b[0m\u001b[0;34m\u001b[0m\u001b[0m\n\u001b[0;32m----> 3\u001b[0;31m \u001b[0mplt\u001b[0m\u001b[0;34m.\u001b[0m\u001b[0mshow\u001b[0m\u001b[0;34m(\u001b[0m\u001b[0;34m)\u001b[0m\u001b[0;34m\u001b[0m\u001b[0;34m\u001b[0m\u001b[0m\n\u001b[0m",
            "\u001b[0;31mNameError\u001b[0m: name 'plt' is not defined"
          ]
        },
        {
          "output_type": "display_data",
          "data": {
            "text/plain": [
              "<Figure size 640x480 with 1 Axes>"
            ],
            "image/png": "[encoded data removed]"
          },
          "metadata": {}
        }
      ]
    },
    {
      "cell_type": "code",
      "source": [
        "snc.scatterplot(data=df,x='PassengerId',y='Age')\n"
      ],
      "metadata": {
        "id": "WiL16fGoG_Ib"
      },
      "id": "WiL16fGoG_Ib",
      "execution_count": null,
      "outputs": []
    },
    {
      "cell_type": "code",
      "source": [
        "import seaborn as sns\n",
        "import matplotlib.pyplot as plt\n",
        "sns.violinplot(data=titanic_data,y='Age')\n",
        "plt.show"
      ],
      "metadata": {
        "colab": {
          "base_uri": "https://localhost:8080/",
          "height": 193
        },
        "id": "9NLB0dt7Gg90",
        "outputId": "00fe4742-4624-4442-e661-bab53b17adaa"
      },
      "id": "9NLB0dt7Gg90",
      "execution_count": 6,
      "outputs": [
        {
          "output_type": "error",
          "ename": "NameError",
          "evalue": "name 'titanic_data' is not defined",
          "traceback": [
            "\u001b[0;31m---------------------------------------------------------------------------\u001b[0m",
            "\u001b[0;31mNameError\u001b[0m                                 Traceback (most recent call last)",
            "\u001b[0;32m<ipython-input-6-edbcdc312e81>\u001b[0m in \u001b[0;36m<cell line: 3>\u001b[0;34m()\u001b[0m\n\u001b[1;32m      1\u001b[0m \u001b[0;32mimport\u001b[0m \u001b[0mseaborn\u001b[0m \u001b[0;32mas\u001b[0m \u001b[0msns\u001b[0m\u001b[0;34m\u001b[0m\u001b[0;34m\u001b[0m\u001b[0m\n\u001b[1;32m      2\u001b[0m \u001b[0;32mimport\u001b[0m \u001b[0mmatplotlib\u001b[0m\u001b[0;34m.\u001b[0m\u001b[0mpyplot\u001b[0m \u001b[0;32mas\u001b[0m \u001b[0mplt\u001b[0m\u001b[0;34m\u001b[0m\u001b[0;34m\u001b[0m\u001b[0m\n\u001b[0;32m----> 3\u001b[0;31m \u001b[0msns\u001b[0m\u001b[0;34m.\u001b[0m\u001b[0mviolinplot\u001b[0m\u001b[0;34m(\u001b[0m\u001b[0mdata\u001b[0m\u001b[0;34m=\u001b[0m\u001b[0mtitanic_data\u001b[0m\u001b[0;34m,\u001b[0m\u001b[0my\u001b[0m\u001b[0;34m=\u001b[0m\u001b[0;34m'Age'\u001b[0m\u001b[0;34m)\u001b[0m\u001b[0;34m\u001b[0m\u001b[0;34m\u001b[0m\u001b[0m\n\u001b[0m\u001b[1;32m      4\u001b[0m \u001b[0mplt\u001b[0m\u001b[0;34m.\u001b[0m\u001b[0mshow\u001b[0m\u001b[0;34m\u001b[0m\u001b[0;34m\u001b[0m\u001b[0m\n",
            "\u001b[0;31mNameError\u001b[0m: name 'titanic_data' is not defined"
          ]
        }
      ]
    },
    {
      "cell_type": "code",
      "source": [],
      "metadata": {
        "id": "R0tjP0LwG6dc"
      },
      "id": "R0tjP0LwG6dc",
      "execution_count": null,
      "outputs": []
    }
  ],
  "metadata": {
    "kernelspec": {
      "display_name": "Python 3 (ipykernel)",
      "language": "python",
      "name": "python3"
    },
    "language_info": {
      "codemirror_mode": {
        "name": "ipython",
        "version": 3
      },
      "file_extension": ".py",
      "mimetype": "text/x-python",
      "name": "python",
      "nbconvert_exporter": "python",
      "pygments_lexer": "ipython3",
      "version": "3.9.12"
    },
    "colab": {
      "provenance": []
    }
  },
  "nbformat": 4,
  "nbformat_minor": 5
}