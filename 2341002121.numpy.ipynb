{
 "cells": [
  {
   "cell_type": "code",
   "execution_count": 3,
   "id": "bbd4cd5f",
   "metadata": {},
   "outputs": [
    {
     "data": {
      "text/plain": [
       "[1.1, 2.2, 1.3, 1.4, 2.5]"
      ]
     },
     "execution_count": 3,
     "metadata": {},
     "output_type": "execute_result"
    }
   ],
   "source": [
    "\n",
    "import numpy as np\n",
    "xarr=np.array([1.1,1.2,1.3,1.4,1.5])\n",
    "yarr=np.array([2.1,2.2,2.3,2.4,2.5])\n",
    "cond=np.array([True,False,True,True,False])\n",
    "result=[]\n",
    "for x,y,c in zip(xarr,yarr,cond):\n",
    "    if c:\n",
    "        result.append(x)\n",
    "    else:\n",
    "        result.append(y)\n",
    "result        \n"
   ]
  },
  {
   "cell_type": "code",
   "execution_count": 4,
   "id": "ba289f81",
   "metadata": {},
   "outputs": [
    {
     "data": {
      "text/plain": [
       "[1.1, 2.2, 1.3, 1.4, 2.5]"
      ]
     },
     "execution_count": 4,
     "metadata": {},
     "output_type": "execute_result"
    }
   ],
   "source": [
    "import numpy as np\n",
    "xarr=np.array([1.1,1.2,1.3,1.4,1.5])\n",
    "yarr=np.array([2.1,2.2,2.3,2.4,2.5])\n",
    "cond=np.array([True,False,True,True,False])\n",
    "result=[]\n",
    "for x,y,c in zip(xarr,yarr,cond):\n",
    "    if c:\n",
    "        result.append(x)\n",
    "    else:\n",
    "        result.append(y)\n",
    "\n",
    "result"
   ]
  },
  {
   "cell_type": "code",
   "execution_count": 5,
   "id": "a0a91841",
   "metadata": {},
   "outputs": [
    {
     "data": {
      "text/plain": [
       "array([1.1, 2.2, 1.3, 1.4, 2.5])"
      ]
     },
     "execution_count": 5,
     "metadata": {},
     "output_type": "execute_result"
    }
   ],
   "source": [
    "np.where(cond,xarr,yarr)"
   ]
  },
  {
   "cell_type": "code",
   "execution_count": 6,
   "id": "933f3622",
   "metadata": {},
   "outputs": [
    {
     "data": {
      "text/plain": [
       "array(['fail', 'pass', 'pass', 'pass', 'pass', 'pass', 'pass', 'pass',\n",
       "       'pass', 'pass'], dtype='<U4')"
      ]
     },
     "execution_count": 6,
     "metadata": {},
     "output_type": "execute_result"
    }
   ],
   "source": [
    "arr=np.array([2,5,7,9,10,5,6,7,9,8])\n",
    "\n",
    "np.where(arr>=5,'pass','fail')\n"
   ]
  },
  {
   "cell_type": "code",
   "execution_count": 9,
   "id": "46f85706",
   "metadata": {},
   "outputs": [
    {
     "data": {
      "text/plain": [
       "array([[-1, -1,  1, -1],\n",
       "       [ 1,  1,  1, -1],\n",
       "       [-1,  1, -1,  1],\n",
       "       [-1, -1, -1, -1]])"
      ]
     },
     "execution_count": 9,
     "metadata": {},
     "output_type": "execute_result"
    }
   ],
   "source": [
    "samples=np.random.standard_normal((4,4))\n",
    "np.where(samples>0.5,1,-1)\n"
   ]
  },
  {
   "cell_type": "code",
   "execution_count": 10,
   "id": "926e4af5",
   "metadata": {},
   "outputs": [
    {
     "data": {
      "text/plain": [
       "0.05060070018480328"
      ]
     },
     "execution_count": 10,
     "metadata": {},
     "output_type": "execute_result"
    }
   ],
   "source": [
    "samples.mean()"
   ]
  },
  {
   "cell_type": "code",
   "execution_count": 11,
   "id": "89c8f03b",
   "metadata": {},
   "outputs": [
    {
     "data": {
      "text/plain": [
       "0.05060070018480328"
      ]
     },
     "execution_count": 11,
     "metadata": {},
     "output_type": "execute_result"
    }
   ],
   "source": [
    "np.mean(samples)"
   ]
  },
  {
   "cell_type": "code",
   "execution_count": 12,
   "id": "d9becb81",
   "metadata": {},
   "outputs": [
    {
     "data": {
      "text/plain": [
       "0.8096112029568525"
      ]
     },
     "execution_count": 12,
     "metadata": {},
     "output_type": "execute_result"
    }
   ],
   "source": [
    "np.sum(samples)"
   ]
  },
  {
   "cell_type": "code",
   "execution_count": 22,
   "id": "1b16ad05",
   "metadata": {},
   "outputs": [
    {
     "name": "stdout",
     "output_type": "stream",
     "text": [
      "[4 6]\n",
      "[3 7]\n"
     ]
    }
   ],
   "source": [
    "a=np.array([[1,2],[3,4]])\n",
    "print(a.sum(axis=0))# y-axis\n",
    "print(a.sum(axis=1))# x-axis"
   ]
  },
  {
   "cell_type": "code",
   "execution_count": 24,
   "id": "7547eda4",
   "metadata": {},
   "outputs": [
    {
     "name": "stdout",
     "output_type": "stream",
     "text": [
      "[[[1 2]\n",
      "  [3 4]]\n",
      "\n",
      " [[5 6]\n",
      "  [7 8]]]\n",
      "[[ 4  6]\n",
      " [12 14]]\n",
      "[[ 3  7]\n",
      " [11 15]]\n"
     ]
    }
   ],
   "source": [
    "a=np.array([[[1,2],[3,4]],[[5,6],[7,8]]])\n",
    "print(a)\n",
    "print(a.sum(axis=1))# y axis\n",
    "print(a.sum(axis=2))# x axis(higher value) in 3d."
   ]
  },
  {
   "cell_type": "code",
   "execution_count": 25,
   "id": "8ced1797",
   "metadata": {},
   "outputs": [
    {
     "name": "stdout",
     "output_type": "stream",
     "text": [
      "[[0 1 2]\n",
      " [3 4 5]\n",
      " [6 7 8]]\n",
      "[[ 0  1  2]\n",
      " [ 3  5  7]\n",
      " [ 9 12 15]]\n",
      "[[ 0  1  3]\n",
      " [ 3  7 12]\n",
      " [ 6 13 21]]\n"
     ]
    }
   ],
   "source": [
    "a=np.array([[0,1,2],[3,4,5],[6,7,8]])\n",
    "print(a)\n",
    "print(a.cumsum(axis=0))\n",
    "print(a.cumsum(axis=1))"
   ]
  },
  {
   "cell_type": "code",
   "execution_count": 26,
   "id": "05794b05",
   "metadata": {},
   "outputs": [
    {
     "data": {
      "text/plain": [
       "True"
      ]
     },
     "execution_count": 26,
     "metadata": {},
     "output_type": "execute_result"
    }
   ],
   "source": [
    "any([1,2,0])"
   ]
  },
  {
   "cell_type": "code",
   "execution_count": 27,
   "id": "9f940c1c",
   "metadata": {},
   "outputs": [
    {
     "data": {
      "text/plain": [
       "False"
      ]
     },
     "execution_count": 27,
     "metadata": {},
     "output_type": "execute_result"
    }
   ],
   "source": [
    "all([1,2,0])"
   ]
  },
  {
   "cell_type": "code",
   "execution_count": 28,
   "id": "08f63c16",
   "metadata": {},
   "outputs": [
    {
     "data": {
      "text/plain": [
       "True"
      ]
     },
     "execution_count": 28,
     "metadata": {},
     "output_type": "execute_result"
    }
   ],
   "source": [
    "any(np.array([True,False,True,False]))"
   ]
  },
  {
   "cell_type": "code",
   "execution_count": 29,
   "id": "48113239",
   "metadata": {},
   "outputs": [
    {
     "data": {
      "text/plain": [
       "False"
      ]
     },
     "execution_count": 29,
     "metadata": {},
     "output_type": "execute_result"
    }
   ],
   "source": [
    "all(np.array([True,False,True,False]))"
   ]
  },
  {
   "cell_type": "code",
   "execution_count": 32,
   "id": "b0fbbff9",
   "metadata": {},
   "outputs": [
    {
     "name": "stdout",
     "output_type": "stream",
     "text": [
      "[ 0.31466198 -0.22512562  0.02321929  1.53956488  0.76340516  0.19572614\n",
      " -0.46564525 -3.77795326  0.60715318 -0.12333847]\n",
      "None\n"
     ]
    }
   ],
   "source": [
    "a=np.random.standard_normal(10)\n",
    "print(a)\n"
   ]
  },
  {
   "cell_type": "code",
   "execution_count": 34,
   "id": "1c47c6c1",
   "metadata": {},
   "outputs": [
    {
     "data": {
      "text/plain": [
       "array([-3.77795326, -0.46564525, -0.22512562, -0.12333847,  0.02321929,\n",
       "        0.19572614,  0.31466198,  0.60715318,  0.76340516,  1.53956488])"
      ]
     },
     "execution_count": 34,
     "metadata": {},
     "output_type": "execute_result"
    }
   ],
   "source": [
    "a.sort()\n",
    "a"
   ]
  },
  {
   "cell_type": "code",
   "execution_count": 35,
   "id": "acb2ac84",
   "metadata": {},
   "outputs": [
    {
     "data": {
      "text/plain": [
       "array([[-0.40921256, -0.97924137,  0.16291286],\n",
       "       [-0.65358192,  0.73966167, -0.70983376],\n",
       "       [ 1.6798109 , -0.80968907, -1.1777139 ]])"
      ]
     },
     "execution_count": 35,
     "metadata": {},
     "output_type": "execute_result"
    }
   ],
   "source": [
    "a=np.random.standard_normal(9).reshape(3,3)\n",
    "a"
   ]
  },
  {
   "cell_type": "code",
   "execution_count": 36,
   "id": "834ce7ce",
   "metadata": {},
   "outputs": [
    {
     "ename": "AttributeError",
     "evalue": "'numpy.ndarray' object has no attribute 'reverse'",
     "output_type": "error",
     "traceback": [
      "\u001b[1;31m---------------------------------------------------------------------------\u001b[0m",
      "\u001b[1;31mAttributeError\u001b[0m                            Traceback (most recent call last)",
      "Input \u001b[1;32mIn [36]\u001b[0m, in \u001b[0;36m<cell line: 1>\u001b[1;34m()\u001b[0m\n\u001b[1;32m----> 1\u001b[0m \u001b[43ma\u001b[49m\u001b[38;5;241;43m.\u001b[39;49m\u001b[43mreverse\u001b[49m()\n\u001b[0;32m      2\u001b[0m a\n",
      "\u001b[1;31mAttributeError\u001b[0m: 'numpy.ndarray' object has no attribute 'reverse'"
     ]
    }
   ],
   "source": [
    "a.reverse()\n",
    "a"
   ]
  },
  {
   "cell_type": "code",
   "execution_count": 37,
   "id": "3e7f97b0",
   "metadata": {},
   "outputs": [
    {
     "data": {
      "text/plain": [
       "array([1, 2, 3, 4])"
      ]
     },
     "execution_count": 37,
     "metadata": {},
     "output_type": "execute_result"
    }
   ],
   "source": [
    "ints=np.array([3,3,3,2,2,1,1,4,4])\n",
    "np.unique(ints)"
   ]
  },
  {
   "cell_type": "code",
   "execution_count": 38,
   "id": "f70ac5e0",
   "metadata": {},
   "outputs": [
    {
     "data": {
      "text/plain": [
       "array([ True, False, False,  True,  True, False,  True])"
      ]
     },
     "execution_count": 38,
     "metadata": {},
     "output_type": "execute_result"
    }
   ],
   "source": [
    "values=np.array([6,0,0,3,2,5,6])\n",
    "np.in1d(values,[2,3,6] )"
   ]
  },
  {
   "cell_type": "code",
   "execution_count": 40,
   "id": "52792cc7",
   "metadata": {},
   "outputs": [
    {
     "data": {
      "text/plain": [
       "array([1, 2, 4, 5])"
      ]
     },
     "execution_count": 40,
     "metadata": {},
     "output_type": "execute_result"
    }
   ],
   "source": [
    "x=np.array([1,2,3])\n",
    "y=np.array([3,4,5])\n",
    "np.setxor1d(x,y)"
   ]
  },
  {
   "cell_type": "code",
   "execution_count": 41,
   "id": "a09efe00",
   "metadata": {},
   "outputs": [
    {
     "name": "stdout",
     "output_type": "stream",
     "text": [
      "[0, 1, 2, 3, 2, 3, 4, 5, 4, 3, 2, 1, 0, -1, -2, -1, -2, -1, -2, -3, -2, -1, -2, -3, -2, -1, 0, -1, -2, -3, -4, -3, -2, -3, -4, -3, -2, -3, -2, -3, -4, -3, -4, -3, -2, -3, -2, -3, -2, -3, -2, -3, -4, -3, -4, -3, -4, -5, -4, -3, -4, -5, -4, -5, -6, -7, -6, -5, -4, -3, -4, -5, -4, -3, -4, -5, -4, -3, -4, -5, -4, -5, -6, -5, -4, -3, -4, -3, -2, -3, -4, -3, -4, -3, -2, -1, 0, 1, 0, 1, 0, -1, -2, -3, -4, -5, -6, -5, -6, -5, -4, -5, -6, -5, -6, -5, -6, -7, -6, -7, -8, -7, -6, -5, -4, -5, -4, -3, -2, -3, -4, -5, -6, -5, -4, -3, -2, -1, -2, -3, -4, -5, -4, -3, -4, -5, -6, -7, -6, -5, -4, -3, -4, -5, -4, -5, -4, -5, -6, -7, -8, -7, -8, -9, -8, -9, -8, -9, -8, -7, -8, -9, -8, -7, -6, -5, -4, -5, -6, -5, -6, -7, -8, -9, -8, -7, -6, -5, -4, -3, -4, -5, -4, -5, -6, -7, -6, -7, -6, -5, -6, -5, -6, -7, -6, -5, -6, -5, -4, -5, -6, -5, -4, -3, -4, -3, -4, -3, -4, -5, -4, -3, -2, -1, -2, -1, 0, 1, 0, -1, -2, -1, 0, -1, -2, -3, -4, -5, -4, -3, -2, -3, -2, -3, -2, -3, -4, -5, -6, -7, -8, -9, -8, -9, -8, -9, -8, -7, -8, -7, -8, -7, -8, -7, -6, -7, -6, -7, -6, -5, -6, -5, -4, -5, -4, -5, -6, -5, -4, -3, -4, -3, -2, -3, -4, -3, -2, -1, 0, 1, 0, 1, 2, 1, 0, 1, 2, 3, 4, 5, 4, 5, 4, 3, 4, 5, 4, 3, 4, 3, 2, 1, 2, 3, 2, 3, 2, 3, 4, 3, 4, 3, 4, 3, 4, 5, 4, 5, 6, 5, 4, 3, 2, 1, 0, -1, -2, -1, -2, -3, -4, -5, -6, -7, -8, -9, -10, -11, -10, -9, -10, -9, -10, -11, -10, -11, -12, -11, -10, -9, -8, -9, -10, -11, -10, -9, -8, -7, -8, -9, -10, -9, -8, -9, -10, -11, -12, -13, -12, -13, -12, -13, -14, -15, -16, -17, -18, -17, -16, -17, -18, -17, -16, -17, -18, -17, -16, -17, -18, -19, -20, -19, -18, -19, -20, -21, -22, -23, -22, -21, -20, -21, -22, -21, -22, -21, -20, -21, -22, -21, -22, -23, -24, -23, -24, -25, -26, -25, -24, -25, -26, -25, -24, -23, -24, -23, -22, -23, -22, -23, -22, -23, -24, -25, -24, -23, -24, -25, -24, -23, -24, -25, -24, -23, -24, -23, -22, -23, -22, -21, -20, -21, -20, -21, -22, -21, -20, -19, -18, -17, -16, -17, -18, -19, -18, -17, -16, -17, -18, -19, -20, -21, -22, -21, -22, -21, -22, -23, -22, -23, -24, -23, -24, -23, -24, -25, -24, -25, -26, -27, -26, -27, -28, -29, -30, -29, -30, -29, -30, -29, -30, -29, -30, -31, -32, -31, -30, -31, -30, -29, -28, -29, -28, -27, -26, -27, -26, -27, -26, -25, -26, -25, -24, -25, -26, -25, -26, -27, -28, -27, -26, -27, -28, -27, -26, -27, -28, -29, -30, -31, -30, -29, -30, -31, -32, -33, -32, -31, -30, -31, -32, -33, -32, -33, -34, -33, -34, -33, -34, -33, -32, -31, -32, -33, -32, -33, -34, -33, -32, -33, -32, -33, -34, -35, -34, -35, -36, -37, -38, -37, -36, -37, -38, -39, -38, -37, -36, -35, -34, -35, -36, -37, -36, -37, -38, -37, -38, -39, -38, -37, -36, -37, -36, -37, -38, -37, -38, -37, -38, -39, -40, -41, -42, -41, -42, -41, -40, -39, -40, -41, -40, -41, -42, -41, -42, -43, -42, -43, -44, -43, -42, -41, -42, -41, -42, -41, -42, -41, -40, -41, -40, -41, -40, -39, -38, -37, -36, -37, -38, -39, -40, -39, -40, -41, -40, -41, -42, -43, -44, -43, -44, -43, -42, -43, -44, -45, -44, -45, -46, -47, -48, -47, -48, -47, -46, -47, -48, -49, -48, -47, -48, -49, -48, -49, -50, -49, -48, -47, -48, -47, -48, -47, -46, -45, -44, -45, -46, -47, -48, -47, -48, -47, -46, -45, -44, -45, -44, -45, -46, -47, -46, -47, -48, -47, -46, -47, -46, -45, -44, -45, -46, -47, -46, -47, -48, -47, -48, -49, -50, -49, -50, -49, -48, -49, -48, -47, -46, -47, -48, -49, -48, -49, -48, -47, -46, -47, -48, -47, -48, -49, -50, -49, -50, -51, -50, -49, -48, -49, -48, -47, -46, -45, -44, -45, -44, -45, -46, -47, -48, -49, -50, -51, -52, -53, -54, -53, -52, -51, -50, -51, -50, -49, -50, -51, -50, -49, -48, -47, -48, -47, -48, -49, -50, -51, -52, -53, -52, -51, -50, -49, -50, -51, -52, -53, -54, -55, -54, -55, -56, -55, -56, -55, -54, -55, -54, -53, -54, -53, -52, -53, -54, -53, -52, -51, -52, -53, -52, -51, -50, -49, -48, -47, -48, -47, -48, -47, -48, -47, -46, -45, -46, -45, -46, -47, -48, -47, -48, -49, -50, -51, -52, -53, -52, -53, -54, -53, -54, -53, -54, -55, -56, -57, -56, -57, -58, -57, -56, -57, -58, -57, -58, -57, -56, -57, -56, -55, -56, -57, -56, -57, -58, -59, -58, -57, -56, -55, -56, -55, -56, -57, -58, -57, -58, -59, -58, -57, -56, -57, -56, -55, -56, -55, -54, -55, -54, -53, -54, -53, -54, -55, -56, -55, -56, -57, -56, -57, -58, -59, -58, -57, -56, -57, -56, -57, -56, -57, -58, -57, -56, -55, -54, -53, -54, -53, -52, -51, -52, -51, -50, -51, -50, -49, -48, -47, -46, -45, -44, -45, -44, -45, -46, -45, -46, -45, -46, -45, -44, -43, -42, -43, -42, -43, -42, -43, -42, -43, -44, -43, -42, -43, -42, -41, -42, -41, -42, -43, -42, -41, -42, -43, -42, -43, -44, -43, -42, -41, -40, -41, -42, -43, -44]\n"
     ]
    },
    {
     "data": {
      "text/plain": [
       "[<matplotlib.lines.Line2D at 0x251982dee50>]"
      ]
     },
     "execution_count": 41,
     "metadata": {},
     "output_type": "execute_result"
    },
    {
     "data": {
      "image/png": "[encoded data removed]",
      "text/plain": [
       "<Figure size 432x288 with 1 Axes>"
      ]
     },
     "metadata": {
      "needs_background": "light"
     },
     "output_type": "display_data"
    }
   ],
   "source": [
    "import matplotlib.pyplot as plt\n",
    "import random\n",
    "position =0\n",
    "walk=[position]\n",
    "for i in range(1000): #np.random.choice([-1,1],size=1000)\n",
    "    step=1 if random.randint(0,1) else -1 # walk=np.cumsum(arr)\n",
    "    position+=step                        # plot.plt(walk)\n",
    "    walk.append(position)\n",
    "print(walk)\n",
    "plt.plot(walk)"
   ]
  },
  {
   "cell_type": "code",
   "execution_count": 43,
   "id": "c8a91113",
   "metadata": {},
   "outputs": [
    {
     "ename": "NameError",
     "evalue": "name 'plot' is not defined",
     "output_type": "error",
     "traceback": [
      "\u001b[1;31m---------------------------------------------------------------------------\u001b[0m",
      "\u001b[1;31mNameError\u001b[0m                                 Traceback (most recent call last)",
      "Input \u001b[1;32mIn [43]\u001b[0m, in \u001b[0;36m<cell line: 7>\u001b[1;34m()\u001b[0m\n\u001b[0;32m      5\u001b[0m arr\u001b[38;5;241m=\u001b[39mnp\u001b[38;5;241m.\u001b[39mrandom\u001b[38;5;241m.\u001b[39mchoice([\u001b[38;5;241m-\u001b[39m\u001b[38;5;241m1\u001b[39m,\u001b[38;5;241m1\u001b[39m],size\u001b[38;5;241m=\u001b[39m\u001b[38;5;241m1000\u001b[39m)\n\u001b[0;32m      6\u001b[0m walk\u001b[38;5;241m=\u001b[39mnp\u001b[38;5;241m.\u001b[39mcumsum(arr)\n\u001b[1;32m----> 7\u001b[0m \u001b[43mplot\u001b[49m\u001b[38;5;241m.\u001b[39mplt(walk)\n",
      "\u001b[1;31mNameError\u001b[0m: name 'plot' is not defined"
     ]
    }
   ],
   "source": [
    "import matplotlib.pyplot as plt\n",
    "import random\n",
    "position =0\n",
    "walk=[position]\n",
    "arr=np.random.choice([-1,1],size=1000)\n",
    "walk=np.cumsum(arr)\n",
    "plot.plt(walk)\n"
   ]
  },
  {
   "cell_type": "code",
   "execution_count": null,
   "id": "5b92b40a",
   "metadata": {},
   "outputs": [],
   "source": []
  }
 ],
 "metadata": {
  "kernelspec": {
   "display_name": "Python 3 (ipykernel)",
   "language": "python",
   "name": "python3"
  },
  "language_info": {
   "codemirror_mode": {
    "name": "ipython",
    "version": 3
   },
   "file_extension": ".py",
   "mimetype": "text/x-python",
   "name": "python",
   "nbconvert_exporter": "python",
   "pygments_lexer": "ipython3",
   "version": "3.9.12"
  }
 },
 "nbformat": 4,
 "nbformat_minor": 5
}
