{
 "cells": [
  {
   "cell_type": "code",
   "execution_count": 1,
   "id": "5a42545b-d49e-4717-961b-d52233a927a8",
   "metadata": {},
   "outputs": [
    {
     "name": "stdout",
     "output_type": "stream",
     "text": [
      "hello python\n"
     ]
    }
   ],
   "source": [
    "print(\"hello python\")"
   ]
  },
  {
   "cell_type": "markdown",
   "id": "3bbd0588-1ada-4715-a33e-ea159d5ca603",
   "metadata": {},
   "source": [
    "# Type casting"
   ]
  },
  {
   "cell_type": "code",
   "execution_count": 3,
   "id": "40afd6f1-d4f5-4b7f-bfcf-1c7fa0c964fd",
   "metadata": {},
   "outputs": [
    {
     "name": "stdout",
     "output_type": "stream",
     "text": [
      "11\n",
      "<class 'int'>\n"
     ]
    }
   ],
   "source": [
    "a,b=5,6\n",
    "c=a+b\n",
    "print(c)\n",
    "print(type(c))"
   ]
  },
  {
   "cell_type": "code",
   "execution_count": 4,
   "id": "3916b089-528d-4776-af51-e46846508871",
   "metadata": {},
   "outputs": [
    {
     "name": "stdout",
     "output_type": "stream",
     "text": [
      "10\n"
     ]
    }
   ],
   "source": [
    "a=5\n",
    "b=5.5\n",
    "c=a+b\n",
    "print(int(c))"
   ]
  },
  {
   "cell_type": "code",
   "execution_count": 5,
   "id": "0d246763-d535-4df4-8cb3-a11186f88e00",
   "metadata": {},
   "outputs": [
    {
     "name": "stdout",
     "output_type": "stream",
     "text": [
      "9\n"
     ]
    }
   ],
   "source": [
    "a=9.8\n",
    "b=int(a)\n",
    "print(b)"
   ]
  },
  {
   "cell_type": "markdown",
   "id": "f09b53d2-947c-4332-8229-b9d33dc94dc7",
   "metadata": {},
   "source": [
    "# Arithmetic Operators"
   ]
  },
  {
   "cell_type": "code",
   "execution_count": 7,
   "id": "55a12b49-4eaf-458d-84ce-83135e09ee10",
   "metadata": {},
   "outputs": [
    {
     "name": "stdout",
     "output_type": "stream",
     "text": [
      "26\n",
      "14\n",
      "120\n",
      "3.3333333333333335\n",
      "3\n",
      "2\n",
      "64000000\n"
     ]
    }
   ],
   "source": [
    "a,b=20,6\n",
    "print(a+b) #Addition\n",
    "print(a-b) #Substraction\n",
    "print(a*b) #Multiplication\n",
    "print(a/b) #Division\n",
    "print(a//b) #Floor division\n",
    "print(a%b) #Modulus\n",
    "print(a**b) #Exponention\n",
    "\n",
    "\n"
   ]
  },
  {
   "cell_type": "markdown",
   "id": "94502087-4812-4b20-8ebf-0c87660b61be",
   "metadata": {},
   "source": [
    "# Comparison operator"
   ]
  },
  {
   "cell_type": "code",
   "execution_count": 8,
   "id": "c75ea859-de00-4821-abb8-1e785a5eead1",
   "metadata": {},
   "outputs": [
    {
     "name": "stdout",
     "output_type": "stream",
     "text": [
      "False\n"
     ]
    }
   ],
   "source": [
    "a,b=29,56\n",
    "print(a==b)"
   ]
  },
  {
   "cell_type": "code",
   "execution_count": 9,
   "id": "97dfcbe6-7321-4e23-8df9-4bb985fe1db0",
   "metadata": {},
   "outputs": [
    {
     "name": "stdout",
     "output_type": "stream",
     "text": [
      "True\n",
      "True\n",
      "False\n",
      "True\n",
      "False\n"
     ]
    }
   ],
   "source": [
    "print(a!=b)\n",
    "print(a<=b)\n",
    "print(a>=b)\n",
    "print(a<b)\n",
    "print(a>b)\n",
    "\n"
   ]
  },
  {
   "cell_type": "markdown",
   "id": "a4d35ee6-46c4-485e-8798-c0caaed5b594",
   "metadata": {},
   "source": [
    "# logical operator"
   ]
  },
  {
   "cell_type": "code",
   "execution_count": 12,
   "id": "1cd5231f-df6a-4a92-84f2-42ce84b40a08",
   "metadata": {},
   "outputs": [
    {
     "name": "stdout",
     "output_type": "stream",
     "text": [
      "False\n",
      "True\n",
      "False\n",
      "True\n"
     ]
    }
   ],
   "source": [
    "a=7\n",
    "b=4\n",
    "print((a<b) and (a>b))\n",
    "print((a<b) or (a>b))\n",
    "print(not (a>b))\n",
    "print(not (a<b))"
   ]
  },
  {
   "cell_type": "markdown",
   "id": "02f82166-94fa-4950-a0c2-ff366fb016c5",
   "metadata": {},
   "source": [
    "# Assignment operator"
   ]
  },
  {
   "cell_type": "code",
   "execution_count": null,
   "id": "8a5ba10f-7aae-4299-b745-c41a5be4f80e",
   "metadata": {},
   "outputs": [],
   "source": []
  },
  {
   "cell_type": "markdown",
   "id": "33a73367-dc6c-4e50-a4da-3c1cb71958ed",
   "metadata": {},
   "source": [
    "# Membership operator"
   ]
  },
  {
   "cell_type": "code",
   "execution_count": 13,
   "id": "375623ba-46c8-4b91-9aac-ae3d2b74a5fb",
   "metadata": {},
   "outputs": [
    {
     "data": {
      "text/plain": [
       "True"
      ]
     },
     "execution_count": 13,
     "metadata": {},
     "output_type": "execute_result"
    }
   ],
   "source": [
    "'i' in 'fish'"
   ]
  },
  {
   "cell_type": "code",
   "execution_count": 14,
   "id": "159ef4a9-4b8c-4945-bc53-819f76ff5544",
   "metadata": {},
   "outputs": [
    {
     "data": {
      "text/plain": [
       "True"
      ]
     },
     "execution_count": 14,
     "metadata": {},
     "output_type": "execute_result"
    }
   ],
   "source": [
    "'k' not in'Engineering'"
   ]
  },
  {
   "cell_type": "markdown",
   "id": "d9dc8889-5ef9-459e-80ee-0499a02c5af5",
   "metadata": {},
   "source": [
    "# Bitwise operator"
   ]
  },
  {
   "cell_type": "code",
   "execution_count": 15,
   "id": "738c26ee-3738-4965-b2c5-4338c61af21f",
   "metadata": {},
   "outputs": [
    {
     "name": "stdout",
     "output_type": "stream",
     "text": [
      "1\n",
      "11\n",
      "-11\n",
      "10\n",
      "2\n",
      "36\n"
     ]
    }
   ],
   "source": [
    "print(9 & 3) #Bitwise and\n",
    "print(9|3) #Bitwise or\n",
    "print(~10) #Biteise not\n",
    "print(9^3) #Bitwise xor\n",
    "print(9>>2)#Bitwise right shift\n",
    "print(9<<2) #Bitwise lrft shift"
   ]
  },
  {
   "cell_type": "code",
   "execution_count": null,
   "id": "a3a5343c-5053-4b39-8c5c-d29da526b76f",
   "metadata": {},
   "outputs": [],
   "source": []
  },
  {
   "cell_type": "markdown",
   "id": "1ec2b2f3-16c9-40d0-866a-477871aa53fc",
   "metadata": {},
   "source": [
    "# Python String"
   ]
  },
  {
   "cell_type": "code",
   "execution_count": 1,
   "id": "87c22d1b-a02d-4479-97fe-5ce803eea592",
   "metadata": {},
   "outputs": [
    {
     "data": {
      "text/plain": [
       "'l'"
      ]
     },
     "execution_count": 1,
     "metadata": {},
     "output_type": "execute_result"
    }
   ],
   "source": [
    "s=\"hello\"\n",
    "s[2]"
   ]
  },
  {
   "cell_type": "code",
   "execution_count": 2,
   "id": "ee3367ed-065b-4fb1-a736-45ef7e86a495",
   "metadata": {},
   "outputs": [
    {
     "ename": "TypeError",
     "evalue": "'str' object does not support item assignment",
     "output_type": "error",
     "traceback": [
      "\u001b[1;31m---------------------------------------------------------------------------\u001b[0m",
      "\u001b[1;31mTypeError\u001b[0m                                 Traceback (most recent call last)",
      "Cell \u001b[1;32mIn[2], line 2\u001b[0m\n\u001b[0;32m      1\u001b[0m s\u001b[38;5;241m=\u001b[39m\u001b[38;5;124m\"\u001b[39m\u001b[38;5;124mhello python\u001b[39m\u001b[38;5;124m\"\u001b[39m\n\u001b[1;32m----> 2\u001b[0m \u001b[43ms\u001b[49m\u001b[43m[\u001b[49m\u001b[38;5;241;43m3\u001b[39;49m\u001b[43m]\u001b[49m\u001b[38;5;241m=\u001b[39m\u001b[38;5;124m'\u001b[39m\u001b[38;5;124me\u001b[39m\u001b[38;5;124m'\u001b[39m\n",
      "\u001b[1;31mTypeError\u001b[0m: 'str' object does not support item assignment"
     ]
    }
   ],
   "source": [
    "s=\"hello python\"\n",
    "s[3]='e' #strings are immutable"
   ]
  },
  {
   "cell_type": "markdown",
   "id": "370972da-065f-4243-bcc1-db12a884bbbd",
   "metadata": {},
   "source": [
    "# String Slicing"
   ]
  },
  {
   "cell_type": "code",
   "execution_count": 3,
   "id": "26ee2a51-9420-4cfd-8550-17ec317ed372",
   "metadata": {},
   "outputs": [
    {
     "data": {
      "text/plain": [
       "'el T'"
      ]
     },
     "execution_count": 3,
     "metadata": {},
     "output_type": "execute_result"
    }
   ],
   "source": [
    "s=\"Hello ITER\"\n",
    "s[1:8:2]"
   ]
  },
  {
   "cell_type": "code",
   "execution_count": 4,
   "id": "7c988c28-dfc8-4722-8c9e-1c3019cdf467",
   "metadata": {},
   "outputs": [
    {
     "data": {
      "text/plain": [
       "'el'"
      ]
     },
     "execution_count": 4,
     "metadata": {},
     "output_type": "execute_result"
    }
   ],
   "source": [
    "s=\"hello\"\n",
    "s[1:3]"
   ]
  },
  {
   "cell_type": "code",
   "execution_count": 5,
   "id": "9c67c3dc-ffee-415d-9072-4c3bc68e3026",
   "metadata": {},
   "outputs": [
    {
     "name": "stdout",
     "output_type": "stream",
     "text": [
      "str[2:5]= llo\n",
      "str[:5]= Hello\n",
      "str[2:]= llo Python\n",
      "str[:]= Hello Python\n"
     ]
    }
   ],
   "source": [
    "str=\"Hello Python\"\n",
    "print('str[2:5]=',str[2:5])\n",
    "print('str[:5]=',str[:5])\n",
    "print('str[2:]=',str[2:])\n",
    "print('str[:]=',str[:])\n"
   ]
  },
  {
   "cell_type": "code",
   "execution_count": 6,
   "id": "030f7074-ae0e-49eb-936c-f445e3a59f1f",
   "metadata": {},
   "outputs": [
    {
     "name": "stdout",
     "output_type": "stream",
     "text": [
      "str[-5:-2]= yth\n",
      "str[:-2]= Hello Pyth\n",
      "str[-5:]= ython\n",
      "str[:]= Hello Python\n"
     ]
    }
   ],
   "source": [
    "print('str[-5:-2]=',str[-5:-2])\n",
    "print('str[:-2]=',str[:-2])\n",
    "print('str[-5:]=',str[-5:])\n",
    "print('str[:]=',str[:])"
   ]
  },
  {
   "cell_type": "markdown",
   "id": "411d5c24-2f02-416d-bacb-3a3ed1f4a6e9",
   "metadata": {},
   "source": [
    "# Concatenation of Strings"
   ]
  },
  {
   "cell_type": "code",
   "execution_count": 7,
   "id": "4af17476-995b-4d09-abea-e72ac6bc5a98",
   "metadata": {},
   "outputs": [
    {
     "name": "stdout",
     "output_type": "stream",
     "text": [
      "hellopython\n",
      "hello python\n"
     ]
    },
    {
     "data": {
      "text/plain": [
       "'hello python'"
      ]
     },
     "execution_count": 7,
     "metadata": {},
     "output_type": "execute_result"
    }
   ],
   "source": [
    "s1=\"hello\"\n",
    "s2=\"python\"\n",
    "print(s1+s2)\n",
    "print(s1+\" \"+s2)\n",
    "s1+\" \"+s2"
   ]
  },
  {
   "cell_type": "markdown",
   "id": "d1963034-0843-400e-80f3-edb9a134c97c",
   "metadata": {},
   "source": [
    "# MEmbership test"
   ]
  },
  {
   "cell_type": "code",
   "execution_count": 8,
   "id": "732c74aa-f8ba-4de2-836e-ffe7516c99c7",
   "metadata": {},
   "outputs": [
    {
     "data": {
      "text/plain": [
       "True"
      ]
     },
     "execution_count": 8,
     "metadata": {},
     "output_type": "execute_result"
    }
   ],
   "source": [
    "\"he\" in \"hello\""
   ]
  },
  {
   "cell_type": "code",
   "execution_count": 9,
   "id": "0de8c580-9752-41a7-a484-cf1bfcfa7b0e",
   "metadata": {},
   "outputs": [
    {
     "data": {
      "text/plain": [
       "False"
      ]
     },
     "execution_count": 9,
     "metadata": {},
     "output_type": "execute_result"
    }
   ],
   "source": [
    "\"he\" not in \"hello\""
   ]
  },
  {
   "cell_type": "markdown",
   "id": "ac915c23-2bed-4c2a-9603-098e3dbc337f",
   "metadata": {},
   "source": [
    "# String Repetition"
   ]
  },
  {
   "cell_type": "code",
   "execution_count": 11,
   "id": "6ead6c94-fff7-47e3-b867-fd7ea859eb28",
   "metadata": {},
   "outputs": [
    {
     "name": "stdout",
     "output_type": "stream",
     "text": [
      "how are youhow are youhow are youhow are youhow are youhow are youhow are youhow are youhow are youhow are you\n",
      "how are youhow are youhow are youhow are youhow are youhow are youhow are youhow are youhow are youhow are you\n",
      "how are youhow are youhow are youhow are youhow are youhow are youhow are youhow are youhow are youhow are you\n",
      "how are youhow are youhow are youhow are youhow are youhow are youhow are youhow are youhow are youhow are you\n",
      "how are youhow are youhow are youhow are youhow are youhow are youhow are youhow are youhow are youhow are you\n",
      "how are youhow are youhow are youhow are youhow are youhow are youhow are youhow are youhow are youhow are you\n",
      "how are youhow are youhow are youhow are youhow are youhow are youhow are youhow are youhow are youhow are you\n",
      "how are youhow are youhow are youhow are youhow are youhow are youhow are youhow are youhow are youhow are you\n",
      "how are youhow are youhow are youhow are youhow are youhow are youhow are youhow are youhow are youhow are you\n",
      "how are youhow are youhow are youhow are youhow are youhow are youhow are youhow are youhow are youhow are you\n",
      "\n"
     ]
    }
   ],
   "source": [
    "print(((\"how are you\" *10)+\"\\n\")*10)"
   ]
  },
  {
   "cell_type": "markdown",
   "id": "7e68581d-de54-441f-8d30-5322f8ee5745",
   "metadata": {},
   "source": [
    "# Built in Function"
   ]
  },
  {
   "cell_type": "markdown",
   "id": "274fc9d3-f643-4142-863d-bf00b08a9ee6",
   "metadata": {},
   "source": [
    "## Length function"
   ]
  },
  {
   "cell_type": "code",
   "execution_count": 12,
   "id": "5c666083-55e4-4dca-8e4a-a2582784b616",
   "metadata": {},
   "outputs": [
    {
     "data": {
      "text/plain": [
       "5"
      ]
     },
     "execution_count": 12,
     "metadata": {},
     "output_type": "execute_result"
    }
   ],
   "source": [
    "len(\"hello\")\n"
   ]
  },
  {
   "cell_type": "code",
   "execution_count": 13,
   "id": "3bff333f-df1d-4d6d-9357-a72f39d495e1",
   "metadata": {},
   "outputs": [
    {
     "data": {
      "text/plain": [
       "12"
      ]
     },
     "execution_count": 13,
     "metadata": {},
     "output_type": "execute_result"
    }
   ],
   "source": [
    "s=\"hello python\"\n",
    "len(s)"
   ]
  },
  {
   "cell_type": "markdown",
   "id": "b788176e-9581-4299-bc18-55381035cdac",
   "metadata": {},
   "source": [
    "# upper case coversion"
   ]
  },
  {
   "cell_type": "code",
   "execution_count": 14,
   "id": "e6adfe0a-f4ee-4642-ad46-bd76dd0b408f",
   "metadata": {},
   "outputs": [
    {
     "data": {
      "text/plain": [
       "'HELLO PYTHON'"
      ]
     },
     "execution_count": 14,
     "metadata": {},
     "output_type": "execute_result"
    }
   ],
   "source": [
    "s1=\"hello python\"\n",
    "s1.upper()"
   ]
  },
  {
   "cell_type": "markdown",
   "id": "2d819775-7afc-4520-bb50-4efb2109faec",
   "metadata": {},
   "source": [
    "# lower case conversion"
   ]
  },
  {
   "cell_type": "code",
   "execution_count": 15,
   "id": "ecb032b3-c923-42cf-b1b2-4a0f18753322",
   "metadata": {},
   "outputs": [
    {
     "data": {
      "text/plain": [
       "'welcome to iter'"
      ]
     },
     "execution_count": 15,
     "metadata": {},
     "output_type": "execute_result"
    }
   ],
   "source": [
    "s1=\"WELCOME TO ITER\"\n",
    "s1.lower()"
   ]
  },
  {
   "cell_type": "markdown",
   "id": "4ec9c70d-a564-4add-82dd-b6ac2e2dedc7",
   "metadata": {},
   "source": [
    "# Title function"
   ]
  },
  {
   "cell_type": "code",
   "execution_count": 17,
   "id": "3d8cf28c-e918-4a67-a806-97a741e06bc8",
   "metadata": {},
   "outputs": [
    {
     "data": {
      "text/plain": [
       "'Welcome To Iter'"
      ]
     },
     "execution_count": 17,
     "metadata": {},
     "output_type": "execute_result"
    }
   ],
   "source": [
    "s1.title() #it capitalize the first letter of each word"
   ]
  },
  {
   "cell_type": "markdown",
   "id": "d57439d4-92fc-40b6-a28b-03a5583dd9be",
   "metadata": {},
   "source": [
    "# capitalize function"
   ]
  },
  {
   "cell_type": "code",
   "execution_count": 18,
   "id": "c83b8984-94d7-4d14-b699-518940ce56ee",
   "metadata": {},
   "outputs": [
    {
     "data": {
      "text/plain": [
       "'Welcome to iter'"
      ]
     },
     "execution_count": 18,
     "metadata": {},
     "output_type": "execute_result"
    }
   ],
   "source": [
    "s1.capitalize() # it capitalize the first letter of string"
   ]
  },
  {
   "cell_type": "markdown",
   "id": "b41be0da-d588-420f-b4aa-3a4b304cc1ea",
   "metadata": {},
   "source": [
    "# Swapcase function"
   ]
  },
  {
   "cell_type": "code",
   "execution_count": 19,
   "id": "d1549827-f078-47a4-ae96-57989b23b3cc",
   "metadata": {},
   "outputs": [
    {
     "data": {
      "text/plain": [
       "'AFSHfsgywhB'"
      ]
     },
     "execution_count": 19,
     "metadata": {},
     "output_type": "execute_result"
    }
   ],
   "source": [
    "s1=\"afshFSGYWHb\"\n",
    "s1.swapcase() #it swaps upper to lower and vice versa"
   ]
  },
  {
   "cell_type": "markdown",
   "id": "aa8d9823-4e81-4daa-ac5f-88ac2a4c701f",
   "metadata": {},
   "source": [
    "# partition function"
   ]
  },
  {
   "cell_type": "code",
   "execution_count": 21,
   "id": "2f78cfaa-5b5f-4247-b4f5-0cebdf86f05d",
   "metadata": {},
   "outputs": [
    {
     "data": {
      "text/plain": [
       "('hello', '!', ' we are studying python')"
      ]
     },
     "execution_count": 21,
     "metadata": {},
     "output_type": "execute_result"
    }
   ],
   "source": [
    "s2=\"hello! we are studying python\"\n",
    "s2.partition(\"!\") # partition break the string using delimiter and returns it as a tuple"
   ]
  },
  {
   "cell_type": "markdown",
   "id": "d855016a-fcbb-4aab-80a1-84615c4dc107",
   "metadata": {},
   "source": [
    "# replace function"
   ]
  },
  {
   "cell_type": "code",
   "execution_count": 22,
   "id": "4e8371b1-971b-40f0-8cae-7c78ef765aae",
   "metadata": {},
   "outputs": [
    {
     "name": "stdout",
     "output_type": "stream",
     "text": [
      "Make myself a better you version of myself\n",
      "Make myself a better you version of yourself\n"
     ]
    }
   ],
   "source": [
    "s=\"Make yourself a better you version of yourself\"\n",
    "print(s.replace('yourself', 'myself'))\n",
    "print(s.replace('yourself','myself',1)) # it replace a substring in string"
   ]
  },
  {
   "cell_type": "markdown",
   "id": "a25406c6-6e62-4f67-a03c-ba19f11b6a3a",
   "metadata": {},
   "source": [
    "# find function"
   ]
  },
  {
   "cell_type": "code",
   "execution_count": 23,
   "id": "9503b168-fd3c-43aa-9427-af11bafe65fb",
   "metadata": {},
   "outputs": [
    {
     "name": "stdout",
     "output_type": "stream",
     "text": [
      "5\n",
      "38\n",
      "23\n"
     ]
    }
   ],
   "source": [
    "print(s.find('y'))\n",
    "print(s.rfind('y'))#searches for the element from the right side for its first occurence\n",
    "print(s.find('y',8,34))#first index is included in this. returns -1 if the element is not found\n"
   ]
  },
  {
   "cell_type": "markdown",
   "id": "235747d6-c521-4c45-9b21-346242e0514a",
   "metadata": {},
   "source": [
    "# strip function"
   ]
  },
  {
   "cell_type": "code",
   "execution_count": 24,
   "id": "15634b2b-13d8-4cc5-b58c-a7fef714935e",
   "metadata": {},
   "outputs": [
    {
     "name": "stdout",
     "output_type": "stream",
     "text": [
      "61\n",
      "Make yourself a better you version of yourself\n",
      "51\n",
      "56\n"
     ]
    }
   ],
   "source": [
    "s1=\"     Make yourself a better you version of yourself          \"\n",
    "print(len(s1))\n",
    "print(s1.strip())\n",
    "print(len(s1.rstrip()))#remove from right side \n",
    "print(len(s1.lstrip()))#remove from left side"
   ]
  },
  {
   "cell_type": "markdown",
   "id": "ff5d64b5-b877-423d-a401-3f06d5ced6fe",
   "metadata": {},
   "source": [
    "# split function"
   ]
  },
  {
   "cell_type": "code",
   "execution_count": 25,
   "id": "d290405c-9df0-435b-b345-77dbc4610684",
   "metadata": {},
   "outputs": [
    {
     "data": {
      "text/plain": [
       "['Make', 'yourself', 'a', 'better', 'you version of yourself']"
      ]
     },
     "execution_count": 25,
     "metadata": {},
     "output_type": "execute_result"
    }
   ],
   "source": [
    "s2=\"Make,yourself,a,better,you version of yourself\"\n",
    "s2.split(',')\n"
   ]
  },
  {
   "cell_type": "code",
   "execution_count": 26,
   "id": "656f13a7-ce22-4710-bb4d-928d0861d078",
   "metadata": {},
   "outputs": [
    {
     "name": "stdout",
     "output_type": "stream",
     "text": [
      "['Make,yourself,a,better,you', 'version', 'of', 'yourself']\n"
     ]
    }
   ],
   "source": [
    "print(s2.split())# default delimiter is whitespace"
   ]
  },
  {
   "cell_type": "markdown",
   "id": "8d83f1d2-bcf1-4eba-9a45-d8c5eb503b7a",
   "metadata": {},
   "source": [
    "# startswith() and endswith()"
   ]
  },
  {
   "cell_type": "code",
   "execution_count": 27,
   "id": "7929ce48-9f09-4c52-a199-071e3c62738b",
   "metadata": {},
   "outputs": [
    {
     "name": "stdout",
     "output_type": "stream",
     "text": [
      "True\n",
      "True\n"
     ]
    }
   ],
   "source": [
    "print(s2.startswith('Make'))\n",
    "print(s2.endswith('yourself'))"
   ]
  },
  {
   "cell_type": "markdown",
   "id": "38e9f038-141d-41e1-8b43-1d0c081d366d",
   "metadata": {},
   "source": [
    "# isnumeric()"
   ]
  },
  {
   "cell_type": "code",
   "execution_count": 28,
   "id": "9ae2c877-cbe5-46cb-a625-ed4e2514cd40",
   "metadata": {},
   "outputs": [
    {
     "name": "stdout",
     "output_type": "stream",
     "text": [
      "True\n"
     ]
    }
   ],
   "source": [
    "x=\"12345\"\n",
    "print(x.isnumeric())"
   ]
  },
  {
   "cell_type": "markdown",
   "id": "78414038-7203-4946-afa7-fcd497396808",
   "metadata": {},
   "source": [
    "# isalnum()"
   ]
  },
  {
   "cell_type": "code",
   "execution_count": 29,
   "id": "42062fb9-234c-434d-ab73-69b3a583730c",
   "metadata": {},
   "outputs": [
    {
     "data": {
      "text/plain": [
       "True"
      ]
     },
     "execution_count": 29,
     "metadata": {},
     "output_type": "execute_result"
    }
   ],
   "source": [
    "x=\"7564giehfn\"\n",
    "x.isalnum()"
   ]
  },
  {
   "cell_type": "markdown",
   "id": "2c1f90ac-79ce-414c-bbe2-6030861577e7",
   "metadata": {},
   "source": [
    "# index function"
   ]
  },
  {
   "cell_type": "code",
   "execution_count": 30,
   "id": "88750f22-10cd-4b4b-b868-d442b42a2abf",
   "metadata": {},
   "outputs": [
    {
     "data": {
      "text/plain": [
       "18"
      ]
     },
     "execution_count": 30,
     "metadata": {},
     "output_type": "execute_result"
    }
   ],
   "source": [
    "s=\"Make, yourself, a better,version of,yourself\"\n",
    "s.index('better')"
   ]
  },
  {
   "cell_type": "markdown",
   "id": "5ab6698a-59c0-40dc-a188-3d72213204b1",
   "metadata": {},
   "source": [
    "# isupper(),islower(),istitle()"
   ]
  },
  {
   "cell_type": "code",
   "execution_count": 32,
   "id": "00a95b6a-cb74-42cf-ac9e-ba644450e17f",
   "metadata": {},
   "outputs": [
    {
     "name": "stdout",
     "output_type": "stream",
     "text": [
      "True\n",
      "True\n",
      "True\n"
     ]
    }
   ],
   "source": [
    "s=\"HELLO\"\n",
    "print(s.isupper())\n",
    "s1=\"hello\"\n",
    "print(s1.islower())\n",
    "s3=\"Hello\"\n",
    "print(s3.istitle())\n"
   ]
  },
  {
   "cell_type": "markdown",
   "id": "433d1f0b-7ba8-493e-b162-89668214a822",
   "metadata": {},
   "source": [
    "# count()"
   ]
  },
  {
   "cell_type": "code",
   "execution_count": 33,
   "id": "a3973fc2-ec07-446e-8485-0e8fc7eb23d8",
   "metadata": {},
   "outputs": [
    {
     "data": {
      "text/plain": [
       "6"
      ]
     },
     "execution_count": 33,
     "metadata": {},
     "output_type": "execute_result"
    }
   ],
   "source": [
    "s2=\"Make,yourself,a,better,you version of yourself\"\n",
    "s2.count('e')"
   ]
  },
  {
   "cell_type": "code",
   "execution_count": 1,
   "id": "388eae6a-3f5f-4bf2-b25f-3381cd26e4c1",
   "metadata": {},
   "outputs": [
    {
     "data": {
      "text/plain": [
       "['ArithmeticError',\n",
       " 'AssertionError',\n",
       " 'AttributeError',\n",
       " 'BaseException',\n",
       " 'BaseExceptionGroup',\n",
       " 'BlockingIOError',\n",
       " 'BrokenPipeError',\n",
       " 'BufferError',\n",
       " 'BytesWarning',\n",
       " 'ChildProcessError',\n",
       " 'ConnectionAbortedError',\n",
       " 'ConnectionError',\n",
       " 'ConnectionRefusedError',\n",
       " 'ConnectionResetError',\n",
       " 'DeprecationWarning',\n",
       " 'EOFError',\n",
       " 'Ellipsis',\n",
       " 'EncodingWarning',\n",
       " 'EnvironmentError',\n",
       " 'Exception',\n",
       " 'ExceptionGroup',\n",
       " 'False',\n",
       " 'FileExistsError',\n",
       " 'FileNotFoundError',\n",
       " 'FloatingPointError',\n",
       " 'FutureWarning',\n",
       " 'GeneratorExit',\n",
       " 'IOError',\n",
       " 'ImportError',\n",
       " 'ImportWarning',\n",
       " 'IndentationError',\n",
       " 'IndexError',\n",
       " 'InterruptedError',\n",
       " 'IsADirectoryError',\n",
       " 'KeyError',\n",
       " 'KeyboardInterrupt',\n",
       " 'LookupError',\n",
       " 'MemoryError',\n",
       " 'ModuleNotFoundError',\n",
       " 'NameError',\n",
       " 'None',\n",
       " 'NotADirectoryError',\n",
       " 'NotImplemented',\n",
       " 'NotImplementedError',\n",
       " 'OSError',\n",
       " 'OverflowError',\n",
       " 'PendingDeprecationWarning',\n",
       " 'PermissionError',\n",
       " 'ProcessLookupError',\n",
       " 'RecursionError',\n",
       " 'ReferenceError',\n",
       " 'ResourceWarning',\n",
       " 'RuntimeError',\n",
       " 'RuntimeWarning',\n",
       " 'StopAsyncIteration',\n",
       " 'StopIteration',\n",
       " 'SyntaxError',\n",
       " 'SyntaxWarning',\n",
       " 'SystemError',\n",
       " 'SystemExit',\n",
       " 'TabError',\n",
       " 'TimeoutError',\n",
       " 'True',\n",
       " 'TypeError',\n",
       " 'UnboundLocalError',\n",
       " 'UnicodeDecodeError',\n",
       " 'UnicodeEncodeError',\n",
       " 'UnicodeError',\n",
       " 'UnicodeTranslateError',\n",
       " 'UnicodeWarning',\n",
       " 'UserWarning',\n",
       " 'ValueError',\n",
       " 'Warning',\n",
       " 'WindowsError',\n",
       " 'ZeroDivisionError',\n",
       " '__IPYTHON__',\n",
       " '__build_class__',\n",
       " '__debug__',\n",
       " '__doc__',\n",
       " '__import__',\n",
       " '__loader__',\n",
       " '__name__',\n",
       " '__package__',\n",
       " '__spec__',\n",
       " 'abs',\n",
       " 'aiter',\n",
       " 'all',\n",
       " 'anext',\n",
       " 'any',\n",
       " 'ascii',\n",
       " 'bin',\n",
       " 'bool',\n",
       " 'breakpoint',\n",
       " 'bytearray',\n",
       " 'bytes',\n",
       " 'callable',\n",
       " 'chr',\n",
       " 'classmethod',\n",
       " 'compile',\n",
       " 'complex',\n",
       " 'copyright',\n",
       " 'credits',\n",
       " 'delattr',\n",
       " 'dict',\n",
       " 'dir',\n",
       " 'display',\n",
       " 'divmod',\n",
       " 'enumerate',\n",
       " 'eval',\n",
       " 'exec',\n",
       " 'execfile',\n",
       " 'filter',\n",
       " 'float',\n",
       " 'format',\n",
       " 'frozenset',\n",
       " 'get_ipython',\n",
       " 'getattr',\n",
       " 'globals',\n",
       " 'hasattr',\n",
       " 'hash',\n",
       " 'help',\n",
       " 'hex',\n",
       " 'id',\n",
       " 'input',\n",
       " 'int',\n",
       " 'isinstance',\n",
       " 'issubclass',\n",
       " 'iter',\n",
       " 'len',\n",
       " 'license',\n",
       " 'list',\n",
       " 'locals',\n",
       " 'map',\n",
       " 'max',\n",
       " 'memoryview',\n",
       " 'min',\n",
       " 'next',\n",
       " 'object',\n",
       " 'oct',\n",
       " 'open',\n",
       " 'ord',\n",
       " 'pow',\n",
       " 'print',\n",
       " 'property',\n",
       " 'range',\n",
       " 'repr',\n",
       " 'reversed',\n",
       " 'round',\n",
       " 'runfile',\n",
       " 'set',\n",
       " 'setattr',\n",
       " 'slice',\n",
       " 'sorted',\n",
       " 'staticmethod',\n",
       " 'str',\n",
       " 'sum',\n",
       " 'super',\n",
       " 'tuple',\n",
       " 'type',\n",
       " 'vars',\n",
       " 'zip']"
      ]
     },
     "execution_count": 1,
     "metadata": {},
     "output_type": "execute_result"
    }
   ],
   "source": [
    "dir(__builtins__)"
   ]
  },
  {
   "cell_type": "code",
   "execution_count": null,
   "id": "596fae38-9ba8-4d10-8baf-7493261be550",
   "metadata": {},
   "outputs": [],
   "source": []
  },
  {
   "cell_type": "code",
   "execution_count": 2,
   "id": "da444223-90e4-450a-8b59-40698322c4c8",
   "metadata": {},
   "outputs": [
    {
     "data": {
      "text/plain": [
       "'0b101'"
      ]
     },
     "execution_count": 2,
     "metadata": {},
     "output_type": "execute_result"
    }
   ],
   "source": [
    "bin(5)"
   ]
  },
  {
   "cell_type": "code",
   "execution_count": 4,
   "id": "07ac42d6-11ca-4fd2-92ac-72456a82738c",
   "metadata": {},
   "outputs": [
    {
     "name": "stdout",
     "output_type": "stream",
     "text": [
      "<zip object at 0x0000015EDAF58280>\n"
     ]
    }
   ],
   "source": [
    "# Two lists\n",
    "names = ['Alice', 'Bob', 'Charlie']\n",
    "ages = [25, 30, 35]\n",
    "\n",
    "# Using zip to combine the lists\n",
    "combined = zip(names, ages)\n",
    "\n",
    "# Converting the zip object to a list for display\n",
    "\n",
    "print(combined)\n"
   ]
  },
  {
   "cell_type": "code",
   "execution_count": 5,
   "id": "ba1a504c-6f6b-4195-9699-680005b4548c",
   "metadata": {},
   "outputs": [
    {
     "name": "stdout",
     "output_type": "stream",
     "text": [
      "-2759734118749809359\n",
      "529344067295497451\n"
     ]
    }
   ],
   "source": [
    "my_string = \"Hello\"\n",
    "my_tuple = (1, 2, 3)\n",
    "\n",
    "print(hash(my_string))  # Output: (some integer)\n",
    "print(hash(my_tuple))    # Output: (some integer)\n"
   ]
  },
  {
   "cell_type": "code",
   "execution_count": 7,
   "id": "fd6483ca-6d6c-44aa-af7e-ae05528aa16d",
   "metadata": {},
   "outputs": [
    {
     "name": "stdout",
     "output_type": "stream",
     "text": [
      "0xff\n"
     ]
    }
   ],
   "source": [
    "print(hex(255))"
   ]
  },
  {
   "cell_type": "code",
   "execution_count": 10,
   "id": "abb69a0e-657a-414a-b232-b378972db605",
   "metadata": {},
   "outputs": [
    {
     "name": "stdout",
     "output_type": "stream",
     "text": [
      "[('python', 'easy'), ('java', 'medium'), ('c++', 'hard')]\n"
     ]
    }
   ],
   "source": [
    "a=['python','java','c++']\n",
    "b=('easy','medium','hard')\n",
    "c=zip(a,b)\n",
    "print(list(c))"
   ]
  },
  {
   "cell_type": "code",
   "execution_count": 11,
   "id": "6fdf09ab-776e-48f7-9a05-c1c45be316bf",
   "metadata": {},
   "outputs": [
    {
     "name": "stdout",
     "output_type": "stream",
     "text": [
      "(3+4j) (5+6j)\n",
      "(8+10j)\n"
     ]
    }
   ],
   "source": [
    "c1=complex(3,4)\n",
    "c2=complex(5,6)\n",
    "print(c1,c2)\n",
    "print(c1+c2)"
   ]
  },
  {
   "cell_type": "code",
   "execution_count": 14,
   "id": "810b5b33-df9c-4d9d-948e-c9e02c12f364",
   "metadata": {},
   "outputs": [
    {
     "name": "stdout",
     "output_type": "stream",
     "text": [
      "38\n"
     ]
    }
   ],
   "source": [
    "n={1,2,3,4,5}\n",
    "print(sum(n,23))"
   ]
  },
  {
   "cell_type": "code",
   "execution_count": 16,
   "id": "49bd5369-c90d-4a8f-9e95-6ec223bad539",
   "metadata": {},
   "outputs": [
    {
     "name": "stdout",
     "output_type": "stream",
     "text": [
      "1\n",
      "2\n",
      "3\n",
      "4\n"
     ]
    }
   ],
   "source": [
    "for i in range(1,5,1):\n",
    "    print(i)\n"
   ]
  },
  {
   "cell_type": "code",
   "execution_count": 23,
   "id": "64ba416e-b036-4c7a-9526-4844c5465ff0",
   "metadata": {},
   "outputs": [
    {
     "name": "stdout",
     "output_type": "stream",
     "text": [
      "[5, 4, 3, 2, 1]\n"
     ]
    }
   ],
   "source": [
    "l=[1,2,3,4,5]\n",
    "lr=reversed(l)\n",
    "print(list(lr))"
   ]
  },
  {
   "cell_type": "code",
   "execution_count": 19,
   "id": "793b2ba1-e706-4d76-9986-461a697e82d6",
   "metadata": {},
   "outputs": [
    {
     "name": "stdout",
     "output_type": "stream",
     "text": [
      "[5, 4, 3, 2, 1]\n"
     ]
    }
   ],
   "source": [
    "# Using reversed() with a list\n",
    "my_list = [1, 2, 3, 4, 5]\n",
    "reversed_list = list(reversed(my_list))\n",
    "print(reversed_list)  # Output: [5, 4, 3, 2, 1]\n"
   ]
  },
  {
   "cell_type": "code",
   "execution_count": 1,
   "id": "ee641ddd-51e6-462c-8c1f-c2fc95ba5c36",
   "metadata": {},
   "outputs": [
    {
     "name": "stdout",
     "output_type": "stream",
     "text": [
      "2.5\n",
      "2\n",
      "1\n"
     ]
    }
   ],
   "source": [
    "print(5/2)\n",
    "print(5//2)\n",
    "print(5%2)"
   ]
  },
  {
   "cell_type": "code",
   "execution_count": 20,
   "id": "8780c2e6-b6c7-40e5-b940-66229b99d583",
   "metadata": {},
   "outputs": [
    {
     "name": "stdout",
     "output_type": "stream",
     "text": [
      "enter a 4 digit no. 2112\n"
     ]
    },
    {
     "name": "stdout",
     "output_type": "stream",
     "text": [
      "6\n",
      "2 1 1 2\n"
     ]
    }
   ],
   "source": [
    "n=int(input(\"enter a 4 digit no.\"))\n",
    "\n",
    "a=int(n/1000)\n",
    "b=int((n/100)%10)\n",
    "c=int((n%100)/10)\n",
    "d=int(n%10)\n",
    "s=a+b+c+d\n",
    "print(s)\n",
    "\n",
    "\n",
    "print(a,b,c,d)\n"
   ]
  },
  {
   "cell_type": "code",
   "execution_count": 30,
   "id": "19ba62ba-c5f2-45ab-abb4-016ff17eb1f5",
   "metadata": {
    "scrolled": true
   },
   "outputs": [
    {
     "name": "stdout",
     "output_type": "stream",
     "text": [
      "Sentences containing course codes:\n",
      "ENG1001,students study English litreture.\n",
      "ENG2001 focuses on Advanced Litreture.\n",
      "\n",
      "Number of sentences with course codes: 2\n",
      "['ENG1001,students study English litreture.', 'ENG2001 focuses on Advanced Litreture.']\n",
      "['LIT1001,students study English litreture.', 'LIT2001 focuses on Advanced Litreture.']\n",
      "in LIT1001,students study English litreture.In the next semester,LIT2001 focuses on Advanced Litreture.LIT3001 is an elective on modern English poetry,while LIT4001explores Renaissance Litreture\n"
     ]
    }
   ],
   "source": [
    "f=open('sample.txt','w')\n",
    "f.write(\"in ENG1001,students study English litreture.In the next semester,ENG2001 focuses on Advanced Litreture.ENG3001 is an elective on modern English poetry,while ENG4001explores Renaissance Litreture\")\n",
    "f.close()\n",
    "f=open('sample.txt','r')\n",
    "s=f.read()\n",
    "import re\n",
    "pattern='[A-Z]+[0-9]+'\n",
    "new_string=re.sub('ENG','LIT',s)\n",
    "pattern = r'([A-Z]{3}\\d{4}.*?[.!?])'\n",
    "sentences_with_codes = re.findall(pattern, s)\n",
    "print(\"Sentences containing course codes:\")\n",
    "for sentence in sentences_with_codes:\n",
    "    print(sentence.strip())\n",
    "print(f\"\\nNumber of sentences with course codes: {len(sentences_with_codes)}\")\n",
    "print(re.findall(pattern,s))\n",
    "print(re.findall(pattern,new_string))\n",
    "print(new_string)\n",
    "\n"
   ]
  },
  {
   "cell_type": "code",
   "execution_count": 40,
   "id": "40ba97a4-d8ff-4f95-8716-1304ca410a6c",
   "metadata": {},
   "outputs": [
    {
     "name": "stdout",
     "output_type": "stream",
     "text": [
      "enter the no. of cupcakes 5\n",
      "enter the no. of breads 6\n"
     ]
    },
    {
     "name": "stdout",
     "output_type": "stream",
     "text": [
      "780\n"
     ]
    }
   ],
   "source": [
    "price_per_cupcakes=60\n",
    "price_per_breads=80\n",
    "cupcakes_number=int(input(\"enter the no. of cupcakes\"))\n",
    "bread_number=int(input(\"enter the no. of breads\"))\n",
    "total_cost=(cupcakes_number*60)+(bread_number*80)\n",
    "\n",
    "\n",
    "\n",
    "print(total_cost)"
   ]
  },
  {
   "cell_type": "code",
   "execution_count": 43,
   "id": "f27398ae-fec8-44f3-88dc-c6aa97b3db62",
   "metadata": {},
   "outputs": [
    {
     "name": "stdout",
     "output_type": "stream",
     "text": [
      "125.21980673998823\n"
     ]
    }
   ],
   "source": [
    "import math\n",
    "initial_speed=0\n",
    "a=9.8\n",
    "initial_altitude=1000\n",
    "final_altitude=200\n",
    "d=initial_altitude-final_altitude\n",
    "final_speed=math.sqrt(initial_speed**2+2*a*d)\n",
    "print(final_speed)"
   ]
  },
  {
   "cell_type": "code",
   "execution_count": 50,
   "id": "c67f1baf-e850-45a2-a317-349099a4d4b1",
   "metadata": {},
   "outputs": [
    {
     "name": "stdout",
     "output_type": "stream",
     "text": [
      "enter a no. 1\n",
      "enter a no. 6\n",
      "enter a no. 3\n"
     ]
    },
    {
     "name": "stdout",
     "output_type": "stream",
     "text": [
      "-0.5505102572168221\n",
      "-5.449489742783178\n"
     ]
    }
   ],
   "source": [
    "a=int(input(\"enter a no.\"))\n",
    "b=int(input(\"enter a no.\"))\n",
    "c=int(input(\"enter a no.\"))\n",
    "D=b**2-4*a*c\n",
    "if(D>=0):\n",
    "     root1 = (-b + math.sqrt(D)) / (2 * a)\n",
    "     root2 = (-b - math.sqrt(D)) / (2 * a)\n",
    "     print(root1)\n",
    "     print(root2)\n",
    "else:\n",
    "    print(\"No real roots\")"
   ]
  },
  {
   "cell_type": "code",
   "execution_count": 51,
   "id": "737705de-2b29-495c-9466-5b26e9e55680",
   "metadata": {},
   "outputs": [
    {
     "name": "stdout",
     "output_type": "stream",
     "text": [
      "enter a no. 5\n",
      "enter a no. 4\n"
     ]
    },
    {
     "name": "stdout",
     "output_type": "stream",
     "text": [
      "22\n"
     ]
    }
   ],
   "source": [
    "x=int(input(\"enter a no.\"))\n",
    "y=int(input(\"enter a no.\"))\n",
    "result=y+x**2-7\n",
    "print(result)"
   ]
  },
  {
   "cell_type": "code",
   "execution_count": 56,
   "id": "e0ee2154-4344-4fe6-bfa6-750820bafbc9",
   "metadata": {},
   "outputs": [
    {
     "name": "stdout",
     "output_type": "stream",
     "text": [
      "enter the radius. 5\n",
      "enter the height. 6\n"
     ]
    },
    {
     "name": "stdout",
     "output_type": "stream",
     "text": [
      "26.17993877991494\n",
      "7.810249675906654\n"
     ]
    }
   ],
   "source": [
    "import math\n",
    "r=float(input(\"enter the radius.\"))\n",
    "h=float(input(\"enter the height.\"))\n",
    "volume=1/3*math.pi*r**2\n",
    "slant_height=math.sqrt(r**2+h**2)\n",
    "print(volume)\n",
    "print(slant_height)\n",
    "\n"
   ]
  },
  {
   "cell_type": "code",
   "execution_count": 1,
   "id": "a30e9f09-8007-43e5-a3ae-3dea515e64f1",
   "metadata": {},
   "outputs": [
    {
     "name": "stdout",
     "output_type": "stream",
     "text": [
      "The elevator to 'success' is out of order, You’ll have to use the 'stairs', one step at a time.\n",
      "Do what you can, \\with what you have, \n",
      "where you are.\n"
     ]
    }
   ],
   "source": [
    "# Message a\n",
    "message_a = (\"The elevator to 'success' is out of order, \"\n",
    "              \"You’ll have to use the 'stairs', one step at a time.\")\n",
    "print(message_a)\n",
    "\n",
    "# Message b\n",
    "message_b = 'Do what you can, \\\\with what you have, \\nwhere you are.'\n",
    "print(message_b)\n"
   ]
  },
  {
   "cell_type": "code",
   "execution_count": 4,
   "id": "9cabe21a-a09e-4062-bafc-8d097e81f26a",
   "metadata": {},
   "outputs": [
    {
     "name": "stdout",
     "output_type": "stream",
     "text": [
      "a.  The elevator to 'success' is out of order. You'll have to use the 'stairs', one step at a time.\n",
      "b.  Do what you can, \\with what you have, \n",
      "where you are.\n"
     ]
    }
   ],
   "source": [
    "# Define the quotes\n",
    "quote_a = \"The elevator to 'success' is out of order. You'll have to use the 'stairs', one step at a time.\"\n",
    "quote_b = \"Do what you can, \\\\with what you have, \\nwhere you are.\"\n",
    "\n",
    "# Print the quotes\n",
    "print(\"a. \" ,quote_a)\n",
    "print(\"b. \" ,quote_b)\n"
   ]
  },
  {
   "cell_type": "code",
   "execution_count": 5,
   "id": "c8bb2bc9-d46b-4c31-bff6-5cffe2352ba1",
   "metadata": {},
   "outputs": [
    {
     "data": {
      "text/plain": [
       "4"
      ]
     },
     "execution_count": 5,
     "metadata": {},
     "output_type": "execute_result"
    }
   ],
   "source": [
    "8 and 4"
   ]
  },
  {
   "cell_type": "code",
   "execution_count": 6,
   "id": "90c62261-7552-42b5-97ab-3a1613a8dbbd",
   "metadata": {},
   "outputs": [
    {
     "data": {
      "text/plain": [
       "-79.0"
      ]
     },
     "execution_count": 6,
     "metadata": {},
     "output_type": "execute_result"
    }
   ],
   "source": [
    "-6*25+9/3*2+65\n"
   ]
  },
  {
   "cell_type": "code",
   "execution_count": 7,
   "id": "ae3d862f-5935-4320-917f-9c0d702792e6",
   "metadata": {},
   "outputs": [
    {
     "data": {
      "text/plain": [
       "4"
      ]
     },
     "execution_count": 7,
     "metadata": {},
     "output_type": "execute_result"
    }
   ],
   "source": [
    "18//4"
   ]
  },
  {
   "cell_type": "code",
   "execution_count": 13,
   "id": "cac3c0da-41c7-44ce-b470-ed0ae2764d19",
   "metadata": {},
   "outputs": [
    {
     "name": "stdout",
     "output_type": "stream",
     "text": [
      "4\n",
      "False\n",
      "1\n",
      "1\n",
      "-79.0\n",
      "4\n",
      "hellohellohello\n",
      "False\n",
      "True\n"
     ]
    }
   ],
   "source": [
    "print(8 and 4)\n",
    "print(not 6)\n",
    "print(0 or 1)\n",
    "print(1 or 0)\n",
    "print(-6*25+9/3*2+65)\n",
    "print(5%10 + 2 * 3**2// 4- 5)\n",
    "print(\"hello\"*(5-2))\n",
    "print(\"hi\" > \"how\" or \"bye\" < \"Bye\")\n",
    "print(10 !=9 and 29 >= 29 and \"hi\" > \"hello\" or \"bye\" < \"Bye\" and 7 <= 2.5)"
   ]
  },
  {
   "cell_type": "code",
   "execution_count": 15,
   "id": "226c1954-c24c-4210-bb46-2c3995e4babf",
   "metadata": {},
   "outputs": [
    {
     "name": "stdout",
     "output_type": "stream",
     "text": [
      "['hello', ' we are doing python']\n"
     ]
    }
   ],
   "source": [
    "s=\"hello, we are doing python\"\n",
    "print(s.split(','))"
   ]
  },
  {
   "cell_type": "code",
   "execution_count": 17,
   "id": "774db61a-ef24-4241-813f-2402b7d42acd",
   "metadata": {},
   "outputs": [
    {
     "name": "stdout",
     "output_type": "stream",
     "text": [
      "This is a line break:\n",
      "This is the next line.\n"
     ]
    }
   ],
   "source": [
    "string = \"This is a line break:\\nThis is the next line.\"\n",
    "print(string)\n"
   ]
  },
  {
   "cell_type": "code",
   "execution_count": 19,
   "id": "8ffaf617-da2a-45a2-b3c3-a415193c0f17",
   "metadata": {},
   "outputs": [
    {
     "name": "stdout",
     "output_type": "stream",
     "text": [
      "Enter the length of the soccer field in yards:  2.5\n",
      "Enter the breadth of the soccer field in yards:  2.2\n"
     ]
    },
    {
     "name": "stdout",
     "output_type": "stream",
     "text": [
      "it cover 0.0011363636363636365 acres\n"
     ]
    }
   ],
   "source": [
    "\n",
    " \n",
    "length_yards = float(input(\"Enter the length of the soccer field in yards: \"))\n",
    "breadth_yards = float(input(\"Enter the breadth of the soccer field in yards: \"))\n",
    "\n",
    "\n",
    "length_feet = length_yards * 3\n",
    "breadth_feet = breadth_yards * 3\n",
    "\n",
    "\n",
    "area = length_feet * breadth_feet\n",
    "\n",
    "\n",
    "area_acres = area * 1/43560\n",
    "\n",
    "\n",
    "print('it cover',area_acres,'acres')\n"
   ]
  },
  {
   "cell_type": "code",
   "execution_count": 1,
   "id": "92b84f80-cba2-4811-9292-446144b224f2",
   "metadata": {},
   "outputs": [
    {
     "name": "stdout",
     "output_type": "stream",
     "text": [
      "Enter the number of days :  23\n",
      "Enter the number of hours:  5\n",
      "Enter the number of minutes:  6\n"
     ]
    },
    {
     "name": "stdout",
     "output_type": "stream",
     "text": [
      "The total duration in days is:  23.2125\n"
     ]
    }
   ],
   "source": [
    "days = float(input(\"Enter the number of days : \"))\n",
    "hours = float(input(\"Enter the number of hours: \"))\n",
    "minutes = float(input(\"Enter the number of minutes: \"))\n",
    "hours_in_days = hours / 24\n",
    "minutes_in_days = minutes / (24 * 60)\n",
    "total_days = days + hours_in_days + minutes_in_days\n",
    "print(\"The total duration in days is: \", total_days)"
   ]
  },
  {
   "cell_type": "code",
   "execution_count": 11,
   "id": "10276c37-1990-4436-afce-24a6cb63ccb9",
   "metadata": {},
   "outputs": [
    {
     "name": "stdout",
     "output_type": "stream",
     "text": [
      "141\n",
      "HEY! HELLO!, THE ONES WHO ARE CRAZY ENOUGH TO THINK, THEY CAN CHANGE THE WORLD! ARE THE ONES WHO DO.CAN YOU TELL ME, THIS WAS TOLD BY MR.WHO?\n",
      "hey! hello!, the ones who are crazy enough to think, they can change the world! are the ones who do.can you tell me, this was told by mr.who?\n",
      "Hey! Hello!, The Ones Who Are Crazy Enough To Think, They Can Change The World! Are The Ones Who Do.Can You Tell Me, This Was Told By Mr.Who?\n",
      "Hey! hello!, the ones who are crazy enough to think, they can change the world! are the ones who do.can you tell me, this was told by mr.who?\n",
      "hEY! hELLO!, tHE ONES WHO ARE CRAZY ENOUGH TO THINK, THEY CAN CHANGE THE WORLD! ARE THE ONES WHO DO.CAN YOU TELL ME, THIS WAS TOLD BY mR.WHO?\n",
      "['Hey! Hello!', ' The ones who are crazy enough to think', ' they can change the world! are the ones who do.can you tell me', ' this was told by Mr.who?']\n",
      "22\n",
      "137\n",
      "93\n",
      "False\n",
      "False\n",
      "2\n",
      "1\n",
      "True\n",
      "ey! Hello!, The ones who are crazy enough to think, they can change the world! are the ones who do.can you tell me, this was told by Mr.who?\n",
      "Hey! Hello!, The ones Goodbye are crazy enough to think, they can change the world! are the ones Goodbye do.can you tell me, this was told by Mr.Goodbye?\n",
      "Hey! Hello!, The ones Goodbye are crazy enough to think, they can change the world! are the ones who do.can you tell me, this was told by Mr.who?\n",
      "False\n",
      "('Hey', '!', ' Hello!, The ones who are crazy enough to think, they can change the world! are the ones who do.can you tell me, this was told by Mr.who?')\n"
     ]
    }
   ],
   "source": [
    "str= \"Hey! Hello!, The ones who are crazy enough to think, they can change the world! are the ones who do.can you tell me, this was told by Mr.who?\"\n",
    " \n",
    "print(len(str))\n",
    "print(str.upper())\n",
    "print(str.lower())\n",
    "print(str.title())\n",
    "print(str.capitalize())\n",
    "print(str.swapcase())\n",
    "print(str.split(','))\n",
    "print(str.find('who'))\n",
    "print(str.rfind('who'))\n",
    "print(str.find('who',50,120))\n",
    "print(str.istitle())\n",
    "print(str.islower())\n",
    "print(str.count('can'))\n",
    "print(str.count('can',50,80))\n",
    "print(str.startswith('Hey'))\n",
    "print(str.lstrip('H'))\n",
    "print(str.replace('who', 'Goodbye'))\n",
    "print(str.replace('who','Goodbye',1))\n",
    "print(str.endswith('!'))\n",
    "print(str.partition('!'))"
   ]
  },
  {
   "cell_type": "code",
   "execution_count": 16,
   "id": "d69fb4f2-e21b-408a-91ef-34a1d89dc131",
   "metadata": {},
   "outputs": [
    {
     "name": "stdout",
     "output_type": "stream",
     "text": [
      "ar \n",
      "A year \n",
      "ar from now you may wish you had started today.\n",
      "A year from now you may wish you had started today.\n",
      "A year from now you may wish you had started tay.\n",
      "A$ $y$e$a$r$ $f$r$o$m$ $n$o$w$ $y$o$u$ $m$a$y$ $w$i$s$h$ $y$o$u$ $h$a$d$ $s$t$a$r$t$e$d$ $t$o$d$a$y$.\n",
      "51\n",
      "A year from now you may wish you had started t\n",
      "ay.\n"
     ]
    }
   ],
   "source": [
    "str=\"A year from now you may wish you had started today.\"\n",
    "print(str[4:7])\n",
    "print(str[:7])\n",
    "print(str[4:])\n",
    "print(str[-len(str): len(str)])\n",
    "print(str[:-5] + str[-3:])\n",
    "print( '$'.join(str))\n",
    "print(len(str))\n",
    "print(str[:-5] )\n",
    "print(str[-3:])\n"
   ]
  },
  {
   "cell_type": "code",
   "execution_count": 2,
   "id": "ec243199-6feb-4216-aedb-c6155e598738",
   "metadata": {},
   "outputs": [],
   "source": [
    "def number_as_text(n):\n",
    "    # Dictionary to map digits to their corresponding text\n",
    "    digit_to_text = {\n",
    "        '0': 'ZERO', '1': 'ONE', '2': 'TWO', '3': 'THREE',\n",
    "        '4': 'FOUR', '5': 'FIVE', '6': 'SIX', '7': 'SEVEN',\n",
    "        '8': 'EIGHT', '9': 'NINE'\n",
    "    }\n",
    "    \n",
    "    # Convert the number to string to iterate over each digit\n",
    "    return ' '.join(digit_to_text[digit] for digit in str(n))"
   ]
  },
  {
   "cell_type": "code",
   "execution_count": 17,
   "id": "227d2076-c6aa-42fa-88c6-27ad3371a7d0",
   "metadata": {},
   "outputs": [
    {
     "name": "stdout",
     "output_type": "stream",
     "text": [
      "Enter a positive number for conversion to text:  6\n"
     ]
    },
    {
     "name": "stdout",
     "output_type": "stream",
     "text": [
      "Number as text: SIX\n"
     ]
    }
   ],
   "source": [
    "def number_as_text(n):\n",
    "    # Dictionary to map digits to their corresponding text\n",
    "    digit_to_text = {\n",
    "        '0': 'ZERO', '1': 'ONE', '2': 'TWO', '3': 'THREE',\n",
    "        '4': 'FOUR', '5': 'FIVE', '6': 'SIX', '7': 'SEVEN',\n",
    "        '8': 'EIGHT', '9': 'NINE'\n",
    "    }\n",
    "    \n",
    "    # Convert the number to string to iterate over each digit\n",
    "    return ' '.join(digit_to_text[digit] for digit in str(n))\n",
    "n = int(input(\"Enter a positive number for conversion to text: \"))\n",
    "print(\"Number as text:\", number_as_text(n))"
   ]
  },
  {
   "cell_type": "code",
   "execution_count": 19,
   "id": "54862084-c4f0-48fc-91e9-c9c952c220b7",
   "metadata": {},
   "outputs": [
    {
     "name": "stdout",
     "output_type": "stream",
     "text": [
      "Enter a number to check if it's perfect:  6\n"
     ]
    },
    {
     "name": "stdout",
     "output_type": "stream",
     "text": [
      "True\n"
     ]
    }
   ],
   "source": [
    "def calc_perfect_numbers():\n",
    "    if n <= 0:\n",
    "        return False\n",
    "    sum_of_divisors = sum(i for i in range(1, n) if n % i == 0)\n",
    "    return sum_of_divisors == n\n",
    "number_to_check = int(input(\"Enter a number to check if it's perfect: \"))\n",
    "print(calc_perfect_numbers())"
   ]
  },
  {
   "cell_type": "code",
   "execution_count": 13,
   "id": "878a9a68-2940-48a3-9431-a691a07fe330",
   "metadata": {},
   "outputs": [
    {
     "name": "stdout",
     "output_type": "stream",
     "text": [
      "Finding three-digit Armstrong numbers:\n"
     ]
    },
    {
     "data": {
      "text/plain": [
       "[153, 370, 371, 407]"
      ]
     },
     "execution_count": 13,
     "metadata": {},
     "output_type": "execute_result"
    }
   ],
   "source": [
    "def calc_armstrong_numbers():\n",
    "    armstrong_numbers = []\n",
    "    for num in range(100, 1000):\n",
    "        digits = [int(d) for d in str(num)]\n",
    "        if num == sum(d ** 3 for d in digits):\n",
    "            armstrong_numbers.append(num)\n",
    "    return armstrong_numbers\n",
    "print(\"Finding three-digit Armstrong numbers:\")\n",
    "calc_armstrong_numbers()"
   ]
  },
  {
   "cell_type": "code",
   "execution_count": 20,
   "id": "e46028d9-864b-4858-ba22-f600e237d1ce",
   "metadata": {},
   "outputs": [
    {
     "name": "stdout",
     "output_type": "stream",
     "text": [
      "Enter month (1-12):  11\n",
      "Enter date (1-31):  29\n"
     ]
    },
    {
     "name": "stdout",
     "output_type": "stream",
     "text": [
      "The season for 11/29 is: Invalid date\n"
     ]
    }
   ],
   "source": [
    "def determine_season(month, date):\n",
    "    if (month == 12 and date >= 21) or (month <= 3 and date <= 20):\n",
    "        return 'Winter'\n",
    "    elif (month == 3 and date >= 21) or (month <= 6 and date <= 20):\n",
    "        return 'Spring'\n",
    "    elif (month == 6 and date >= 21) or (month <= 9 and date <= 20):\n",
    "        return 'Summer'\n",
    "    elif (month == 9 and date >= 21) or (month <= 12 and date <= 20):\n",
    "        return 'Fall'\n",
    "    return 'Invalid date'\n",
    "month = int(input(\"Enter month (1-12): \"))\n",
    "date = int(input(\"Enter date (1-31): \"))\n",
    "print(f\"The season for {month}/{date} is:\", determine_season(month, date))\n",
    "  "
   ]
  },
  {
   "cell_type": "code",
   "execution_count": 21,
   "id": "e8714789-9fa1-439c-9155-a00a80c1ca80",
   "metadata": {},
   "outputs": [
    {
     "name": "stdout",
     "output_type": "stream",
     "text": [
      "Enter a string of digits for checksum calculation:  11111\n"
     ]
    },
    {
     "name": "stdout",
     "output_type": "stream",
     "text": [
      "Checksum for 11111: 5\n"
     ]
    }
   ],
   "source": [
    "def calc_checksum(digits):\n",
    "    checksum = sum((i + 1) * int(d) for i, d in enumerate(digits))\n",
    "    return checksum % 10\n",
    "digits = input(\"Enter a string of digits for checksum calculation: \")\n",
    "print(f\"Checksum for {digits}:\", calc_checksum(digits))    "
   ]
  },
  {
   "cell_type": "code",
   "execution_count": 22,
   "id": "e994b462-563b-4e10-9d5f-cb33de899667",
   "metadata": {},
   "outputs": [
    {
     "name": "stdout",
     "output_type": "stream",
     "text": [
      "-351.6666666666667\n",
      "-351.6666666666667\n"
     ]
    }
   ],
   "source": [
    "def add(x, y):\n",
    "    return x + y\n",
    "\n",
    "def subtract(x, y):\n",
    "    return x - y\n",
    "\n",
    "def multiply(x, y):\n",
    "    return x * y\n",
    "\n",
    "def division(x, y):\n",
    "    return x / y\n",
    "\n",
    "\n",
    "result1 = 25 + 34 - 44 * division(56, 6)\n",
    "result2 = subtract(add(25, 34), multiply(division(56, 6), 44))\n",
    "print(result1)\n",
    "print(result2)"
   ]
  },
  {
   "cell_type": "code",
   "execution_count": 24,
   "id": "79c58acf-e4eb-4e81-9bbd-721d412a0190",
   "metadata": {
    "scrolled": true
   },
   "outputs": [
    {
     "name": "stdout",
     "output_type": "stream",
     "text": [
      "((-1+1.414213562373095j), (-1-1.414213562373095j))\n"
     ]
    }
   ],
   "source": [
    "import cmath\n",
    "\n",
    "def solution(a, b, c):\n",
    "    discriminant = b ** 2 - 4 * a * c\n",
    "    root1 = (-b + cmath.sqrt(discriminant)) / (2 * a)\n",
    "    root2 = (-b - cmath.sqrt(discriminant)) / (2 * a)\n",
    "    return (root1, root2)\n",
    "print(solution(3,6,9))"
   ]
  },
  {
   "cell_type": "code",
   "execution_count": 26,
   "id": "4e49cc2e-2ea7-4d2d-8166-5db1a3969425",
   "metadata": {},
   "outputs": [
    {
     "name": "stdout",
     "output_type": "stream",
     "text": [
      "greetings alice!\n"
     ]
    }
   ],
   "source": [
    "def greetings(name):\n",
    "    return 'greetings ' + name + '!'\n",
    "print(greetings(\"alice\"))"
   ]
  },
  {
   "cell_type": "code",
   "execution_count": 27,
   "id": "a4e7dbcf-b0e1-4d0e-b60d-79f238bae3b3",
   "metadata": {},
   "outputs": [
    {
     "name": "stdout",
     "output_type": "stream",
     "text": [
      "Harmonic mean: 3.272727272727273\n"
     ]
    }
   ],
   "source": [
    "def harmonic_mean(a, b, c):\n",
    "    return 3 / (1/a + 1/b + 1/c)\n",
    "\n",
    "hm = harmonic_mean(2, 4, 6)\n",
    "print(\"Harmonic mean:\", hm)\n"
   ]
  },
  {
   "cell_type": "code",
   "execution_count": 28,
   "id": "0128926f-9583-4151-b7d5-7311a4ae7d9f",
   "metadata": {},
   "outputs": [
    {
     "name": "stdout",
     "output_type": "stream",
     "text": [
      "Sum of squares of first 10 natural numbers: 385\n"
     ]
    }
   ],
   "source": [
    "def sum_of_squares(n):\n",
    "    return n * (n + 1) * (2 * n + 1) // 6\n",
    "\n",
    "n = 10  # Example: sum of squares for first 10 natural numbers\n",
    "sum_squares = sum_of_squares(n)\n",
    "print(\"Sum of squares of first\", n, \"natural numbers:\", sum_squares)\n"
   ]
  },
  {
   "cell_type": "code",
   "execution_count": 54,
   "id": "47c09662-bdac-4171-a8cc-235dc637f93c",
   "metadata": {},
   "outputs": [
    {
     "name": "stdout",
     "output_type": "stream",
     "text": [
      "   1  2  3  4  5  6  7  8  9  10  \n",
      "1  1  2  3  4  5  6  7  8  9  10  \n",
      "2  2  4  6  8  10  12  14  16  18  20  \n",
      "3  3  6  9  12  15  18  21  24  27  30  \n",
      "4  4  8  12  16  20  24  28  32  36  40  \n",
      "5  5  10  15  20  25  30  35  40  45  50  \n",
      "6  6  12  18  24  30  36  42  48  54  60  \n",
      "7  7  14  21  28  35  42  49  56  63  70  \n",
      "8  8  16  24  32  40  48  56  64  72  80  \n",
      "9  9  18  27  36  45  54  63  72  81  90  \n",
      "10  10  20  30  40  50  60  70  80  90  100  \n"
     ]
    }
   ],
   "source": [
    "def multiplication_table():\n",
    "    # Print the header row\n",
    "    print(\"  \", end=\" \")\n",
    "    for i in range(1, 11):\n",
    "        print(i, end=\"  \")\n",
    "    print()  # Move to the next line\n",
    "\n",
    "    # Print the multiplication table\n",
    "    for i in range(1, 11):\n",
    "        print(i, end=\"  \")  # Print the left side label\n",
    "        for j in range(1, 11):\n",
    "            print(i * j, end=\"  \")  # Print the product\n",
    "        print()  # Move to the next line\n",
    "\n",
    "# Call the function to display the multiplication table\n",
    "multiplication_table()\n"
   ]
  },
  {
   "cell_type": "code",
   "execution_count": 27,
   "id": "46ae0951-556e-4d4e-8562-f1a939fd51f3",
   "metadata": {},
   "outputs": [
    {
     "name": "stdout",
     "output_type": "stream",
     "text": [
      "      1 \n",
      "    2 1 2 \n",
      "  3 2 1 2 3 \n",
      "4 3 2 1 2 3 4 \n"
     ]
    }
   ],
   "source": [
    "def print_symmetrical_number_pattern(rows):\n",
    "    for i in range(1, rows + 1):\n",
    "        for j in range(1,(rows-i)*2+1):\n",
    "           print(end=\" \")\n",
    "        # Print leading spaces\n",
    "       \n",
    "        # Print decreasing part\n",
    "        for j in range(i, 0, -1):\n",
    "            print(j, end=' ')\n",
    "        # Print increasing part\n",
    "        for j in range(2, i + 1):\n",
    "            print(j, end=' ')\n",
    "        print()\n",
    "\n",
    "# Example usage\n",
    "print_symmetrical_number_pattern(4)\n"
   ]
  },
  {
   "cell_type": "code",
   "execution_count": 47,
   "id": "0d20cf9f-a229-4197-89d5-d85a24c1e712",
   "metadata": {},
   "outputs": [
    {
     "name": "stdout",
     "output_type": "stream",
     "text": [
      "      * \n",
      "    * * * \n",
      "  * * * * * \n",
      "* * * * * * * \n",
      "  * * * * * \n",
      "    * * * \n",
      "      * \n"
     ]
    }
   ],
   "source": [
    "def print_diamond_star_pattern(rows):\n",
    "    # Print the top half of the diamond\n",
    "    for i in range(rows):\n",
    "        print('  ' * (rows - i-1 ) + '* ' * (2 * i + 1))\n",
    "    # Print the bottom half of the diamond\n",
    "    for i in range(rows - 2, -1, -1):\n",
    "        print('  ' * (rows - i - 1) + '* ' * (2 * i + 1))\n",
    "\n",
    "# Example usage\n",
    "print_diamond_star_pattern(4)\n",
    "\n"
   ]
  },
  {
   "cell_type": "code",
   "execution_count": 21,
   "id": "b211855a-7af0-4fb7-bb5b-a77743641670",
   "metadata": {},
   "outputs": [
    {
     "name": "stdout",
     "output_type": "stream",
     "text": [
      "      1 \n",
      "    2 1 2 \n",
      "  3 2 1 2 3 \n",
      "4 3 2 1 2 3 4 \n"
     ]
    }
   ],
   "source": [
    "def print_symmetrical_number_pattern(rows):\n",
    "    for i in range(1, rows + 1):\n",
    "        # Print leading spaces\n",
    "        print(' ' * (rows - i) * 2, end='')\n",
    "        # Print decreasing part\n",
    "        for j in range(i, 0, -1):\n",
    "            print(j, end=' ')\n",
    "        # Print increasing part\n",
    "        for j in range(2, i + 1):\n",
    "            print(j, end=' ')\n",
    "        print()\n",
    "\n",
    "# Example usage\n",
    "print_symmetrical_number_pattern(4)\n"
   ]
  },
  {
   "cell_type": "code",
   "execution_count": 26,
   "id": "79170c02-5596-4da0-87b4-f2bcef6e85c3",
   "metadata": {},
   "outputs": [
    {
     "name": "stdout",
     "output_type": "stream",
     "text": [
      "enter the rows number 4\n"
     ]
    },
    {
     "name": "stdout",
     "output_type": "stream",
     "text": [
      "      1 \n",
      "    2 1 2 \n",
      "  3 2 1 2 3 \n",
      "4 3 2 1 2 3 4 \n"
     ]
    }
   ],
   "source": [
    "rows=int(input(\"enter the rows number\"))\n",
    "for i in range(1, rows + 1):\n",
    "        for j in range(1,(rows-i)*2+1):\n",
    "           print(end=\" \")\n",
    "        # Print leading spaces\n",
    "       \n",
    "        # Print decreasing part\n",
    "        for j in range(i, 0, -1):\n",
    "            print(j, end=' ')\n",
    "        # Print increasing part\n",
    "        for j in range(2,i + 1):\n",
    "            print(j, end=' ')\n",
    "        print()"
   ]
  },
  {
   "cell_type": "code",
   "execution_count": 46,
   "id": "b95ac06f-3e43-4de8-ac1e-b66d3d4ac526",
   "metadata": {},
   "outputs": [
    {
     "name": "stdout",
     "output_type": "stream",
     "text": [
      "      * \n",
      "    * * * \n",
      "  * * * * * \n",
      "* * * * * * * \n"
     ]
    }
   ],
   "source": [
    "def print_diamond_star_pattern(rows):\n",
    "    # Print the top half of the diamond\n",
    "    for i in range(rows):\n",
    "        print('  ' * (rows - i- 1 ) + '* ' * (2 * i + 1))\n",
    "print_diamond_star_pattern(4)        "
   ]
  },
  {
   "cell_type": "code",
   "execution_count": 48,
   "id": "c79846d8-567d-4f5a-b5d0-8ad76e21e2d9",
   "metadata": {},
   "outputs": [
    {
     "name": "stdout",
     "output_type": "stream",
     "text": [
      "     1     \n",
      "    1     1    \n",
      "   1     2    1   \n",
      "  1     3    3   1  \n",
      " 1     4    6   4  1 \n"
     ]
    }
   ],
   "source": [
    "def print_pascals_triangle_with_spaces(rows):\n",
    "    def factorial(n):\n",
    "        if n == 0 or n == 1:\n",
    "            return 1\n",
    "        else:\n",
    "            return n * factorial(n - 1)\n",
    "\n",
    "    for i in range(rows):\n",
    "        # Print leading spaces\n",
    "        print(' ' * (rows - i), end='')\n",
    "        for j in range(i + 1):\n",
    "            # Calculate binomial coefficient\n",
    "            binom = factorial(i) // (factorial(j) * factorial(i - j))\n",
    "            print(binom, end=' ' * (rows - j))\n",
    "        print()\n",
    "\n",
    "# Example usage\n",
    "print_pascals_triangle_with_spaces(5)\n"
   ]
  },
  {
   "cell_type": "code",
   "execution_count": 50,
   "id": "b3d0041a-8b26-4b82-a006-8fdc8603e268",
   "metadata": {},
   "outputs": [
    {
     "name": "stdout",
     "output_type": "stream",
     "text": [
      "                1          \n",
      "            1          1        \n",
      "        1          2        1      \n",
      "    1          3        3      1    \n",
      "1          4        6      4    1  \n"
     ]
    }
   ],
   "source": [
    "def print_pascals_triangle_with_spaces(rows):\n",
    "    def factorial(n):\n",
    "        if n == 0 or n == 1:\n",
    "            return 1\n",
    "        else:\n",
    "            return n * factorial(n - 1)\n",
    "\n",
    "    for i in range(rows):\n",
    "        # Print leading spaces\n",
    "        print('  ' * (rows - i - 1) * 2, end='')\n",
    "        for j in range(i + 1):\n",
    "            # Calculate binomial coefficient\n",
    "            binom = factorial(i) // (factorial(j) * factorial(i - j))\n",
    "            print(binom, end=' ' * (rows - j))\n",
    "        print()\n",
    "\n",
    "# Example usage\n",
    "print_pascals_triangle_with_spaces(5)\n"
   ]
  },
  {
   "cell_type": "code",
   "execution_count": 1,
   "id": "eb46d8cb-afc4-45d3-95b0-dfdbade5bef5",
   "metadata": {},
   "outputs": [
    {
     "name": "stdout",
     "output_type": "stream",
     "text": [
      "Note: you may need to restart the kernel to use updated packages.\n"
     ]
    },
    {
     "name": "stderr",
     "output_type": "stream",
     "text": [
      "WARNING: Package(s) not found: pandas\n"
     ]
    }
   ],
   "source": [
    "pip show pandas "
   ]
  },
  {
   "cell_type": "code",
   "execution_count": 1,
   "id": "a0aca426",
   "metadata": {},
   "outputs": [
    {
     "name": "stdout",
     "output_type": "stream",
     "text": [
      "4\n"
     ]
    }
   ],
   "source": [
    "nums=[100,4,200,1,3,2]\n",
    "longest=0\n",
    "for n in set(nums):\n",
    "    if n-1 not in nums:\n",
    "        length=1\n",
    "        while n+length in nums:\n",
    "            length+=1\n",
    "        longest=max(longest,length)\n",
    "print(longest)"
   ]
  },
  {
   "cell_type": "code",
   "execution_count": 6,
   "id": "3672acbf-0a70-417c-a698-bf2a4d57e245",
   "metadata": {},
   "outputs": [
    {
     "name": "stdout",
     "output_type": "stream",
     "text": [
      "[1 2 3 4]\n"
     ]
    }
   ],
   "source": [
    "import numpy as np\n",
    "arr=np.array([1.,2.,3.,4.])\n",
    "arr1=arr.astype(int)\n",
    "print(arr1)\n",
    "\n"
   ]
  },
  {
   "cell_type": "code",
   "execution_count": 7,
   "id": "cd98b313-0032-4d62-9f2b-51663fc17490",
   "metadata": {},
   "outputs": [
    {
     "name": "stdout",
     "output_type": "stream",
     "text": [
      "[[1. 0. 0. 0.]\n",
      " [0. 1. 0. 0.]\n",
      " [0. 0. 1. 0.]\n",
      " [0. 0. 0. 1.]]\n",
      "[[0. 1. 0. 0.]\n",
      " [1. 0. 1. 0.]\n",
      " [0. 1. 0. 1.]\n",
      " [0. 0. 1. 0.]]\n"
     ]
    }
   ],
   "source": [
    "m=np.eye(4)\n",
    "m1=np.eye(4,k=1)+np.eye(4,k=-1)\n",
    "print(m)\n",
    "print(m1)"
   ]
  },
  {
   "cell_type": "code",
   "execution_count": 19,
   "id": "4dbf0849-b198-445f-bc48-b7893729c36c",
   "metadata": {},
   "outputs": [
    {
     "data": {
      "text/plain": [
       "array([[ 6,  7,  8,  9, 10],\n",
       "       [11, 12, 13, 14, 15]])"
      ]
     },
     "execution_count": 19,
     "metadata": {},
     "output_type": "execute_result"
    }
   ],
   "source": [
    "a=np.array([[1,2,3,4,5],\n",
    "            [6,7,8,9,10],\n",
    "            [11,12,13,14,15],\n",
    "            [16,17,18,19,20]])\n",
    "a[1:3]"
   ]
  },
  {
   "cell_type": "code",
   "execution_count": 14,
   "id": "8df6d324-7b21-46cd-9e75-b08b9a00468f",
   "metadata": {},
   "outputs": [
    {
     "data": {
      "text/plain": [
       "array([1, 2, 3, 4, 5])"
      ]
     },
     "execution_count": 14,
     "metadata": {},
     "output_type": "execute_result"
    }
   ],
   "source": [
    "c\n",
    "a"
   ]
  },
  {
   "cell_type": "code",
   "execution_count": 20,
   "id": "d76bdde5-20a2-4694-83d6-60714dc63628",
   "metadata": {},
   "outputs": [
    {
     "data": {
      "text/plain": [
       "array([4, 9])"
      ]
     },
     "execution_count": 20,
     "metadata": {},
     "output_type": "execute_result"
    }
   ],
   "source": [
    "a[0:2,3]"
   ]
  },
  {
   "cell_type": "code",
   "execution_count": 21,
   "id": "a5af0a20-d7f6-4c96-9b04-0e064a9b200d",
   "metadata": {},
   "outputs": [
    {
     "data": {
      "text/plain": [
       "array([[6, 7]])"
      ]
     },
     "execution_count": 21,
     "metadata": {},
     "output_type": "execute_result"
    }
   ],
   "source": [
    "a[1:2,0:2]"
   ]
  },
  {
   "cell_type": "code",
   "execution_count": 24,
   "id": "8cf973f9-fc0f-4b20-9e25-c5c58bc9b91d",
   "metadata": {},
   "outputs": [
    {
     "name": "stdout",
     "output_type": "stream",
     "text": [
      "[[-0.06578168  0.41744172  1.06305473  0.01010174]\n",
      " [ 0.61268363 -1.19287651 -0.9690072   0.03426167]\n",
      " [ 0.52274506  1.77890075 -1.71848446 -1.32975326]\n",
      " [-0.84543314  2.22231067 -0.11247467 -0.46520071]]\n",
      "8\n"
     ]
    }
   ],
   "source": [
    "a=np.random.standard_normal((4,4))\n",
    "b=(a>0).sum()\n",
    "print(a)\n",
    "print(b)"
   ]
  },
  {
   "cell_type": "code",
   "execution_count": 32,
   "id": "0b7744a1-c9a1-4e99-a21a-d65abf60ce6e",
   "metadata": {},
   "outputs": [
    {
     "data": {
      "text/plain": [
       "array([1, 2, 3, 4, 5])"
      ]
     },
     "execution_count": 32,
     "metadata": {},
     "output_type": "execute_result"
    }
   ],
   "source": [
    "a=np.array([1,1,2,2,2 ,3,3,3,3, 4,4,4,4, 5,5,5,5])\n",
    "np.unique(a)\n",
    "\n"
   ]
  },
  {
   "cell_type": "code",
   "execution_count": 33,
   "id": "19db715d-366c-4271-b953-26f6f1baa1b5",
   "metadata": {},
   "outputs": [
    {
     "data": {
      "text/plain": [
       "array([ 1.        ,  1.09090909,  1.18181818,  1.27272727,  1.36363636,\n",
       "        1.45454545,  1.54545455,  1.63636364,  1.72727273,  1.81818182,\n",
       "        1.90909091,  2.        ,  2.09090909,  2.18181818,  2.27272727,\n",
       "        2.36363636,  2.45454545,  2.54545455,  2.63636364,  2.72727273,\n",
       "        2.81818182,  2.90909091,  3.        ,  3.09090909,  3.18181818,\n",
       "        3.27272727,  3.36363636,  3.45454545,  3.54545455,  3.63636364,\n",
       "        3.72727273,  3.81818182,  3.90909091,  4.        ,  4.09090909,\n",
       "        4.18181818,  4.27272727,  4.36363636,  4.45454545,  4.54545455,\n",
       "        4.63636364,  4.72727273,  4.81818182,  4.90909091,  5.        ,\n",
       "        5.09090909,  5.18181818,  5.27272727,  5.36363636,  5.45454545,\n",
       "        5.54545455,  5.63636364,  5.72727273,  5.81818182,  5.90909091,\n",
       "        6.        ,  6.09090909,  6.18181818,  6.27272727,  6.36363636,\n",
       "        6.45454545,  6.54545455,  6.63636364,  6.72727273,  6.81818182,\n",
       "        6.90909091,  7.        ,  7.09090909,  7.18181818,  7.27272727,\n",
       "        7.36363636,  7.45454545,  7.54545455,  7.63636364,  7.72727273,\n",
       "        7.81818182,  7.90909091,  8.        ,  8.09090909,  8.18181818,\n",
       "        8.27272727,  8.36363636,  8.45454545,  8.54545455,  8.63636364,\n",
       "        8.72727273,  8.81818182,  8.90909091,  9.        ,  9.09090909,\n",
       "        9.18181818,  9.27272727,  9.36363636,  9.45454545,  9.54545455,\n",
       "        9.63636364,  9.72727273,  9.81818182,  9.90909091, 10.        ])"
      ]
     },
     "execution_count": 33,
     "metadata": {},
     "output_type": "execute_result"
    }
   ],
   "source": [
    "np.linspace(1,10,100)"
   ]
  },
  {
   "cell_type": "code",
   "execution_count": 34,
   "id": "42773959-ef11-49ca-97f2-282abb94c248",
   "metadata": {},
   "outputs": [
    {
     "name": "stdout",
     "output_type": "stream",
     "text": [
      "Hamming distance: 3\n"
     ]
    }
   ],
   "source": [
    "import numpy as np\n",
    "\n",
    "# Define the arrays\n",
    "a = np.array([1, 2, 3])\n",
    "b = np.array([4, 5, 6])\n",
    "\n",
    "# Compute the Hamming distance\n",
    "hamming_distance = np.sum(a != b)\n",
    "print(\"Hamming distance:\", hamming_distance)\n"
   ]
  },
  {
   "cell_type": "code",
   "execution_count": 35,
   "id": "08d6d5a3-f27f-482e-bd28-e7c55b735b53",
   "metadata": {},
   "outputs": [
    {
     "name": "stdout",
     "output_type": "stream",
     "text": [
      "[ 1  4  9 16]\n"
     ]
    }
   ],
   "source": [
    "import numpy as np\n",
    "\n",
    "def square_elements(arr):\n",
    "    # Square each element of the array using np.square\n",
    "    return np.square(arr)\n",
    "\n",
    "# Example usage\n",
    "arr = np.array([1, 2, 3, 4])\n",
    "squared_arr = square_elements(arr)\n",
    "\n",
    "print(squared_arr)\n"
   ]
  },
  {
   "cell_type": "code",
   "execution_count": 36,
   "id": "1ffd5f0e-f7ab-4dd8-ab8f-c631683f3a7d",
   "metadata": {},
   "outputs": [
    {
     "data": {
      "text/plain": [
       "array([[0.7250241 , 0.09301969, 0.3308288 , 0.13755119],\n",
       "       [0.61599651, 0.91204082, 0.01135951, 0.23632838],\n",
       "       [0.11325957, 0.38527285, 0.01958163, 0.42719921],\n",
       "       [0.50655304, 0.15945711, 0.94235093, 0.0455903 ]])"
      ]
     },
     "execution_count": 36,
     "metadata": {},
     "output_type": "execute_result"
    }
   ],
   "source": [
    "np.random.uniform(0,1,(4,4))"
   ]
  },
  {
   "cell_type": "code",
   "execution_count": 37,
   "id": "8c9e8c84-274a-40ff-8bc0-8c3eae567706",
   "metadata": {},
   "outputs": [
    {
     "name": "stdout",
     "output_type": "stream",
     "text": [
      "Original Matrix:\n",
      "[[18.28394398 16.08404331 15.65411902 17.01460445]\n",
      " [19.96074299 18.39221902 18.1499898  19.36083032]\n",
      " [13.7007057  17.42875276 13.92198511 18.6941754 ]\n",
      " [15.9847791  19.98656143 13.76245701 12.21481226]]\n",
      "\n",
      "Normalized Matrix:\n",
      "[[0.78092223 0.49785846 0.4425396  0.61759484]\n",
      " [0.99667791 0.79485411 0.76368619 0.91948645]\n",
      " [0.19119164 0.67088378 0.21966391 0.83370719]\n",
      " [0.48508602 1.         0.19913725 0.        ]]\n"
     ]
    }
   ],
   "source": [
    "import numpy as np\n",
    "\n",
    "# Generate a 4x4 matrix with values from a uniform distribution between 10 and 20\n",
    "matrix = np.random.uniform(10, 20, (4, 4))\n",
    "\n",
    "# Normalize the matrix: (value - min) / (max - min)\n",
    "normalized_matrix = (matrix - np.min(matrix)) / (np.max(matrix) - np.min(matrix))\n",
    "\n",
    "# Print the original and normalized matrices\n",
    "print(\"Original Matrix:\")\n",
    "print(matrix)\n",
    "print(\"\\nNormalized Matrix:\")\n",
    "print(normalized_matrix)\n"
   ]
  },
  {
   "cell_type": "code",
   "execution_count": 40,
   "id": "d0b8b060-71e3-4967-b722-e74359c08d23",
   "metadata": {},
   "outputs": [
    {
     "name": "stdout",
     "output_type": "stream",
     "text": [
      "[[0.69809254 0.77907156 0.71347893]\n",
      " [1.16068255 1.29664665 1.16791257]\n",
      " [0.23361319 0.35801297 0.2938169 ]]\n"
     ]
    }
   ],
   "source": [
    "a=np.random.rand(3,3)\n",
    "b=np.random.rand(3,3)\n",
    "c=np.dot(a,b)\n",
    "print(c)"
   ]
  },
  {
   "cell_type": "code",
   "execution_count": 45,
   "id": "a6eaf8b6-37a8-406c-bcb4-79f19e7a339f",
   "metadata": {},
   "outputs": [
    {
     "name": "stdout",
     "output_type": "stream",
     "text": [
      "Elements at even indices: [np.int64(5), np.int64(15), np.int64(25)]\n"
     ]
    }
   ],
   "source": [
    "import numpy as np\n",
    "\n",
    "# Given array\n",
    "a = np.array([5, 10, 15, 20, 25])\n",
    "\n",
    "# Using a loop to access elements at even indices\n",
    "even_indices_elements = [a[i] for i in range(len(a)) if i % 2 == 0]\n",
    "\n",
    "\n",
    "\n",
    "\n",
    "# Print the result\n",
    "print(\"Elements at even indices:\", even_indices_elements)\n"
   ]
  },
  {
   "cell_type": "code",
   "execution_count": 49,
   "id": "bd5bb5ff-fe8a-4512-b934-8a602e31bc72",
   "metadata": {},
   "outputs": [
    {
     "name": "stdout",
     "output_type": "stream",
     "text": [
      "Elements at even indices: [ 5 15 25]\n"
     ]
    }
   ],
   "source": [
    "import numpy as np\n",
    "\n",
    "# Given array\n",
    "a = np.array([5, 10, 15, 20, 25])\n",
    "\n",
    "# Using np.arange() to get indices at even positions\n",
    "even_indices_elements = a[np.arange(0, len(a), 2)]\n",
    "\n",
    "# Print the result\n",
    "print(\"Elements at even indices:\", even_indices_elements)\n"
   ]
  },
  {
   "cell_type": "code",
   "execution_count": 48,
   "id": "3bc7568f-7eb3-4606-8d2f-f23bf5d0bec3",
   "metadata": {},
   "outputs": [
    {
     "name": "stdout",
     "output_type": "stream",
     "text": [
      "Elements at even indices: [ 5 15 25]\n"
     ]
    }
   ],
   "source": [
    "import numpy as np\n",
    "\n",
    "# Given array\n",
    "a = np.array([5, 10, 15, 20, 25])\n",
    "\n",
    "# Access elements at even indices (0, 2, 4, ...)\n",
    "even_indices_elements = a[::2]\n",
    "\n",
    "# Print the result\n",
    "print(\"Elements at even indices:\", even_indices_elements)\n"
   ]
  },
  {
   "cell_type": "code",
   "execution_count": 57,
   "id": "f9aadcee-9702-4c3f-9914-d2caf4ea1400",
   "metadata": {},
   "outputs": [
    {
     "name": "stdout",
     "output_type": "stream",
     "text": [
      "Modified Array:\n",
      "[[ 2 14  6 18]\n",
      " [14 11 18 12]\n",
      " [ 0  0  0  0]\n",
      " [13  4 16  2]]\n"
     ]
    }
   ],
   "source": [
    "import numpy as np\n",
    "\n",
    "# Create a 4x4 array with random integers between 1 and 20\n",
    "array = np.random.randint(1, 21, size=(4, 4))\n",
    "\n",
    "# Replace all elements in the third row (index 2) with 0\n",
    "array[2,:] = 0\n",
    "\n",
    "# Print the array\n",
    "print(\"Modified Array:\")\n",
    "print(array)\n"
   ]
  },
  {
   "cell_type": "code",
   "execution_count": 55,
   "id": "aae1e263-4626-45b4-8665-ad88aaadb652",
   "metadata": {},
   "outputs": [
    {
     "data": {
      "text/plain": [
       "array([[ 8, 10, 10, 13],\n",
       "       [11,  8, 16, 16],\n",
       "       [14,  4, 17,  1],\n",
       "       [ 8, 13,  7,  6]], dtype=int32)"
      ]
     },
     "execution_count": 55,
     "metadata": {},
     "output_type": "execute_result"
    }
   ],
   "source": [
    "array = np.random.randint(1, 21, size=(4, 4))\n",
    "array                          "
   ]
  },
  {
   "cell_type": "code",
   "execution_count": 61,
   "id": "2ea6e14b-bb0b-4817-9c51-aecaf3c08f1e",
   "metadata": {},
   "outputs": [
    {
     "name": "stdout",
     "output_type": "stream",
     "text": [
      "Original Array:\n",
      "[[ 7 11 18 14]\n",
      " [10 11  2 16]\n",
      " [12 15 15  8]\n",
      " [ 9 17 18  5]]\n",
      "\n",
      "Modified Array:\n",
      "[[ 7 11 14 18]\n",
      " [10 11 16  2]\n",
      " [ 9 17  5 18]\n",
      " [12 15  8 15]]\n"
     ]
    }
   ],
   "source": [
    "import numpy as np\n",
    "\n",
    "# Create a 4x4 array with random integers\n",
    "array = np.random.randint(1, 21, size=(4, 4))\n",
    "\n",
    "# Print the original array\n",
    "print(\"Original Array:\")\n",
    "print(array)\n",
    "\n",
    "# Swap the last two rows\n",
    "array[[2, 3], :] = array[[3, 2], :]\n",
    "\n",
    "# Swap the last two columns\n",
    "array[:, [2, 3]] = array[:, [3, 2]]\n",
    "\n",
    "# Print the modified array\n",
    "print(\"\\nModified Array:\")\n",
    "print(array)\n"
   ]
  },
  {
   "cell_type": "code",
   "execution_count": 62,
   "id": "edc88fcd-eb6e-4d50-b880-2d964a09b5ff",
   "metadata": {},
   "outputs": [
    {
     "name": "stdout",
     "output_type": "stream",
     "text": [
      "Matrix with border elements set to 1:\n",
      "[[1 1 1 1 1 1 1 1 1 1]\n",
      " [1 0 0 0 0 0 0 0 0 1]\n",
      " [1 0 0 0 0 0 0 0 0 1]\n",
      " [1 0 0 0 0 0 0 0 0 1]\n",
      " [1 0 0 0 0 0 0 0 0 1]\n",
      " [1 0 0 0 0 0 0 0 0 1]\n",
      " [1 0 0 0 0 0 0 0 0 1]\n",
      " [1 0 0 0 0 0 0 0 0 1]\n",
      " [1 0 0 0 0 0 0 0 0 1]\n",
      " [1 1 1 1 1 1 1 1 1 1]]\n"
     ]
    }
   ],
   "source": [
    "import numpy as np\n",
    "\n",
    "# Create a 10x10 matrix with all elements set to 0\n",
    "matrix = np.zeros((10, 10), dtype=int)\n",
    "\n",
    "# Set the border elements to 1\n",
    "matrix[0, :] = 1  # Top row\n",
    "matrix[-1, :] = 1  # Bottom row\n",
    "matrix[:, 0] = 1  # Left column\n",
    "matrix[:, -1] = 1  # Right column\n",
    "\n",
    "# Print the resulting matrix\n",
    "print(\"Matrix with border elements set to 1:\")\n",
    "print(matrix)\n"
   ]
  },
  {
   "cell_type": "code",
   "execution_count": 68,
   "id": "fc4cd3c6-cce3-46ef-957b-12ab365185ab",
   "metadata": {},
   "outputs": [
    {
     "name": "stdout",
     "output_type": "stream",
     "text": [
      "Requirement already satisfied: matplotlib in c:\\users\\beher\\appdata\\local\\programs\\python\\python312\\lib\\site-packages (3.9.2)\n",
      "Requirement already satisfied: contourpy>=1.0.1 in c:\\users\\beher\\appdata\\local\\programs\\python\\python312\\lib\\site-packages (from matplotlib) (1.3.1)\n",
      "Requirement already satisfied: cycler>=0.10 in c:\\users\\beher\\appdata\\local\\programs\\python\\python312\\lib\\site-packages (from matplotlib) (0.12.1)\n",
      "Requirement already satisfied: fonttools>=4.22.0 in c:\\users\\beher\\appdata\\local\\programs\\python\\python312\\lib\\site-packages (from matplotlib) (4.55.0)\n",
      "Requirement already satisfied: kiwisolver>=1.3.1 in c:\\users\\beher\\appdata\\local\\programs\\python\\python312\\lib\\site-packages (from matplotlib) (1.4.7)\n",
      "Requirement already satisfied: numpy>=1.23 in c:\\users\\beher\\appdata\\local\\programs\\python\\python312\\lib\\site-packages (from matplotlib) (2.1.2)\n",
      "Requirement already satisfied: packaging>=20.0 in c:\\users\\beher\\appdata\\local\\programs\\python\\python312\\lib\\site-packages (from matplotlib) (24.1)\n",
      "Requirement already satisfied: pillow>=8 in c:\\users\\beher\\appdata\\local\\programs\\python\\python312\\lib\\site-packages (from matplotlib) (11.0.0)\n",
      "Requirement already satisfied: pyparsing>=2.3.1 in c:\\users\\beher\\appdata\\local\\programs\\python\\python312\\lib\\site-packages (from matplotlib) (3.2.0)\n",
      "Requirement already satisfied: python-dateutil>=2.7 in c:\\users\\beher\\appdata\\local\\programs\\python\\python312\\lib\\site-packages (from matplotlib) (2.9.0.post0)\n",
      "Requirement already satisfied: six>=1.5 in c:\\users\\beher\\appdata\\local\\programs\\python\\python312\\lib\\site-packages (from python-dateutil>=2.7->matplotlib) (1.16.0)\n"
     ]
    },
    {
     "name": "stderr",
     "output_type": "stream",
     "text": [
      "\n",
      "[notice] A new release of pip is available: 24.2 -> 24.3.1\n",
      "[notice] To update, run: python.exe -m pip install --upgrade pip\n"
     ]
    }
   ],
   "source": [
    "!pip install matplotlib\n"
   ]
  },
  {
   "cell_type": "code",
   "execution_count": 67,
   "id": "791c4bfa-aac0-4f24-9675-4f4acea410ba",
   "metadata": {},
   "outputs": [
    {
     "data": {
      "image/png": "[encoded data removed]",
      "text/plain": [
       "<Figure size 640x480 with 1 Axes>"
      ]
     },
     "metadata": {},
     "output_type": "display_data"
    },
    {
     "name": "stdout",
     "output_type": "stream",
     "text": [
      "Total points scored before the first miss: 29\n"
     ]
    }
   ],
   "source": [
    "import numpy as np\n",
    "import matplotlib.pyplot as plt\n",
    "\n",
    "# Initialize parameters\n",
    "max_shots = 20  # Maximum number of shots\n",
    "scores = []     # List to hold the scores for each shot\n",
    "cumulative_scores = []  # List to hold the cumulative scores\n",
    "\n",
    "# Simulate the shots\n",
    "total_score = 0  # Total score so far\n",
    "for i in range(max_shots):\n",
    "    shot = np.random.choice([0, 1, 2, 3, 4])  # Randomly select a score for the shot\n",
    "    if shot == 0:\n",
    "        break  # Stop the simulation when the player misses\n",
    "    scores.append(shot)\n",
    "    total_score += shot\n",
    "    cumulative_scores.append(total_score)\n",
    "\n",
    "# Plot the cumulative score\n",
    "plt.plot(cumulative_scores, marker='o')\n",
    "plt.title('Cumulative Score After Each Shot')\n",
    "plt.xlabel('Number of Shots Taken')\n",
    "plt.ylabel('Cumulative Score')\n",
    "plt.grid(True)\n",
    "plt.show()\n",
    "\n",
    "# Output the total points scored before the first miss\n",
    "print(f\"Total points scored before the first miss: {total_score}\")\n"
   ]
  },
  {
   "cell_type": "code",
   "execution_count": 69,
   "id": "4d80583b-a0f9-4242-bb86-505a67f9781f",
   "metadata": {},
   "outputs": [
    {
     "name": "stdout",
     "output_type": "stream",
     "text": [
      "Number of values within one standard deviation from the mean: 6758\n"
     ]
    }
   ],
   "source": [
    "import numpy as np\n",
    "\n",
    "# Generate 10,000 random numbers from a normal distribution with mean 0 and std dev 1\n",
    "random_numbers = np.random.normal(0, 1, 10000)\n",
    "\n",
    "# Count how many values fall within one standard deviation from the mean (i.e., between -1 and 1)\n",
    "count_within_one_std_dev = np.sum((random_numbers >= -1) & (random_numbers <= 1))\n",
    "\n",
    "# Print the result\n",
    "print(f\"Number of values within one standard deviation from the mean: {count_within_one_std_dev}\")\n"
   ]
  },
  {
   "cell_type": "code",
   "execution_count": 70,
   "id": "c19c6636-b0fc-4e2b-9a1a-199cbd64e102",
   "metadata": {},
   "outputs": [
    {
     "name": "stdout",
     "output_type": "stream",
     "text": [
      "Sorted student IDs: [101 105 103 104 102]\n",
      "Sorted heights: [5.5 5.7 5.8 6.  6.2]\n"
     ]
    }
   ],
   "source": [
    "import numpy as np\n",
    "\n",
    "# Sample data: student IDs and heights\n",
    "student_ids = np.array([101, 102, 103, 104, 105])\n",
    "heights = np.array([5.5, 6.2, 5.8, 6.0, 5.7])\n",
    "\n",
    "# Get the indices that would sort the heights array\n",
    "sorted_indices = np.argsort(heights)\n",
    "\n",
    "# Sort the student IDs and heights based on the sorted indices\n",
    "sorted_student_ids = student_ids[sorted_indices]\n",
    "sorted_heights = heights[sorted_indices]\n",
    "\n",
    "# Output the results\n",
    "print(\"Sorted student IDs:\", sorted_student_ids)\n",
    "print(\"Sorted heights:\", sorted_heights)\n"
   ]
  },
  {
   "cell_type": "code",
   "execution_count": 71,
   "id": "34cdc604-0af4-4005-bf5d-b334dfdd9129",
   "metadata": {},
   "outputs": [
    {
     "name": "stdout",
     "output_type": "stream",
     "text": [
      "Array after replacing NaN values with the mean: [1. 2. 3. 4. 5. 3.]\n"
     ]
    }
   ],
   "source": [
    "import numpy as np\n",
    "\n",
    "# Example array with NaN values\n",
    "array = np.array([1, 2, np.nan, 4, 5, np.nan])\n",
    "\n",
    "# Calculate the mean of non-NaN values\n",
    "mean_value = np.nanmean(array)\n",
    "\n",
    "# Replace NaN values with the mean\n",
    "array[np.isnan(array)] = mean_value\n",
    "\n",
    "# Print the modified array\n",
    "print(\"Array after replacing NaN values with the mean:\", array)\n"
   ]
  },
  {
   "cell_type": "code",
   "execution_count": 72,
   "id": "134cc8ec-9dfc-4ac8-9ee3-1b95988bc0d1",
   "metadata": {},
   "outputs": [
    {
     "name": "stdout",
     "output_type": "stream",
     "text": [
      "Array after rotating by 180 degrees:\n",
      "[[9 8 7]\n",
      " [6 5 4]\n",
      " [3 2 1]]\n"
     ]
    }
   ],
   "source": [
    "import numpy as np\n",
    "\n",
    "# Given array\n",
    "a = np.array([[1, 2, 3], [4, 5, 6], [7, 8, 9]])\n",
    "\n",
    "# Reverse the order of rows and columns using slicing\n",
    "rotated_array = a[::-1, ::-1]\n",
    "\n",
    "# Print the rotated array\n",
    "print(\"Array after rotating by 180 degrees:\")\n",
    "print(rotated_array)\n"
   ]
  },
  {
   "cell_type": "code",
   "execution_count": null,
   "id": "fdd0d213-35d4-4467-9fe4-d34697e22c0c",
   "metadata": {},
   "outputs": [],
   "source": []
  }
 ],
 "metadata": {
  "kernelspec": {
   "display_name": "Python 3 (ipykernel)",
   "language": "python",
   "name": "python3"
  },
  "language_info": {
   "codemirror_mode": {
    "name": "ipython",
    "version": 3
   },
   "file_extension": ".py",
   "mimetype": "text/x-python",
   "name": "python",
   "nbconvert_exporter": "python",
   "pygments_lexer": "ipython3",
   "version": "3.12.6"
  }
 },
 "nbformat": 4,
 "nbformat_minor": 5
}
