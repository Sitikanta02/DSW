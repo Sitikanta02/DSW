{
 "cells": [
  {
   "cell_type": "code",
   "execution_count": 1,
   "id": "93f0b536",
   "metadata": {},
   "outputs": [
    {
     "data": {
      "text/plain": [
       "[0,\n",
       " 1,\n",
       " 2,\n",
       " 3,\n",
       " 4,\n",
       " 5,\n",
       " 6,\n",
       " 7,\n",
       " 8,\n",
       " 9,\n",
       " 10,\n",
       " 11,\n",
       " 12,\n",
       " 13,\n",
       " 14,\n",
       " 15,\n",
       " 16,\n",
       " 17,\n",
       " 18,\n",
       " 19,\n",
       " 20,\n",
       " 21,\n",
       " 22,\n",
       " 23,\n",
       " 24,\n",
       " 25,\n",
       " 26,\n",
       " 27,\n",
       " 28,\n",
       " 29,\n",
       " 30,\n",
       " 31,\n",
       " 32,\n",
       " 33,\n",
       " 34,\n",
       " 35,\n",
       " 36,\n",
       " 37,\n",
       " 38,\n",
       " 39,\n",
       " 40,\n",
       " 41,\n",
       " 42,\n",
       " 43,\n",
       " 44,\n",
       " 45,\n",
       " 46,\n",
       " 47,\n",
       " 48,\n",
       " 49,\n",
       " 50,\n",
       " 51,\n",
       " 52,\n",
       " 53,\n",
       " 54,\n",
       " 55,\n",
       " 56,\n",
       " 57,\n",
       " 58,\n",
       " 59,\n",
       " 60,\n",
       " 61,\n",
       " 62,\n",
       " 63,\n",
       " 64,\n",
       " 65,\n",
       " 66,\n",
       " 67,\n",
       " 68,\n",
       " 69,\n",
       " 70,\n",
       " 71,\n",
       " 72,\n",
       " 73,\n",
       " 74,\n",
       " 75,\n",
       " 76,\n",
       " 77,\n",
       " 78,\n",
       " 79,\n",
       " 80,\n",
       " 81,\n",
       " 82,\n",
       " 83,\n",
       " 84,\n",
       " 85,\n",
       " 86,\n",
       " 87,\n",
       " 88,\n",
       " 89,\n",
       " 90,\n",
       " 91,\n",
       " 92,\n",
       " 93,\n",
       " 94,\n",
       " 95,\n",
       " 96,\n",
       " 97,\n",
       " 98,\n",
       " 99,\n",
       " 100,\n",
       " 101,\n",
       " 102,\n",
       " 103,\n",
       " 104,\n",
       " 105,\n",
       " 106,\n",
       " 107,\n",
       " 108,\n",
       " 109,\n",
       " 110,\n",
       " 111,\n",
       " 112,\n",
       " 113,\n",
       " 114,\n",
       " 115,\n",
       " 116,\n",
       " 117,\n",
       " 118,\n",
       " 119,\n",
       " 120,\n",
       " 121,\n",
       " 122,\n",
       " 123,\n",
       " 124,\n",
       " 125,\n",
       " 126,\n",
       " 127,\n",
       " 128,\n",
       " 129,\n",
       " 130,\n",
       " 131,\n",
       " 132,\n",
       " 133,\n",
       " 134,\n",
       " 135,\n",
       " 136,\n",
       " 137,\n",
       " 138,\n",
       " 139,\n",
       " 140,\n",
       " 141,\n",
       " 142,\n",
       " 143,\n",
       " 144,\n",
       " 145,\n",
       " 146,\n",
       " 147,\n",
       " 148,\n",
       " 149,\n",
       " 150,\n",
       " 151,\n",
       " 152,\n",
       " 153,\n",
       " 154,\n",
       " 155,\n",
       " 156,\n",
       " 157,\n",
       " 158,\n",
       " 159,\n",
       " 160,\n",
       " 161,\n",
       " 162,\n",
       " 163,\n",
       " 164,\n",
       " 165,\n",
       " 166,\n",
       " 167,\n",
       " 168,\n",
       " 169,\n",
       " 170,\n",
       " 171,\n",
       " 172,\n",
       " 173,\n",
       " 174,\n",
       " 175,\n",
       " 176,\n",
       " 177,\n",
       " 178,\n",
       " 179,\n",
       " 180,\n",
       " 181,\n",
       " 182,\n",
       " 183,\n",
       " 184,\n",
       " 185,\n",
       " 186,\n",
       " 187,\n",
       " 188,\n",
       " 189,\n",
       " 190,\n",
       " 191,\n",
       " 192,\n",
       " 193,\n",
       " 194,\n",
       " 195,\n",
       " 196,\n",
       " 197,\n",
       " 198,\n",
       " 199,\n",
       " 200,\n",
       " 201,\n",
       " 202,\n",
       " 203,\n",
       " 204,\n",
       " 205,\n",
       " 206,\n",
       " 207,\n",
       " 208,\n",
       " 209,\n",
       " 210,\n",
       " 211,\n",
       " 212,\n",
       " 213,\n",
       " 214,\n",
       " 215,\n",
       " 216,\n",
       " 217,\n",
       " 218,\n",
       " 219,\n",
       " 220,\n",
       " 221,\n",
       " 222,\n",
       " 223,\n",
       " 224,\n",
       " 225,\n",
       " 226,\n",
       " 227,\n",
       " 228,\n",
       " 229,\n",
       " 230,\n",
       " 231,\n",
       " 232,\n",
       " 233,\n",
       " 234,\n",
       " 235,\n",
       " 236,\n",
       " 237,\n",
       " 238,\n",
       " 239,\n",
       " 240,\n",
       " 241,\n",
       " 242,\n",
       " 243,\n",
       " 244,\n",
       " 245,\n",
       " 246,\n",
       " 247,\n",
       " 248,\n",
       " 249,\n",
       " 250,\n",
       " 251,\n",
       " 252,\n",
       " 253,\n",
       " 254,\n",
       " 255,\n",
       " 256,\n",
       " 257,\n",
       " 258,\n",
       " 259,\n",
       " 260,\n",
       " 261,\n",
       " 262,\n",
       " 263,\n",
       " 264,\n",
       " 265,\n",
       " 266,\n",
       " 267,\n",
       " 268,\n",
       " 269,\n",
       " 270,\n",
       " 271,\n",
       " 272,\n",
       " 273,\n",
       " 274,\n",
       " 275,\n",
       " 276,\n",
       " 277,\n",
       " 278,\n",
       " 279,\n",
       " 280,\n",
       " 281,\n",
       " 282,\n",
       " 283,\n",
       " 284,\n",
       " 285,\n",
       " 286,\n",
       " 287,\n",
       " 288,\n",
       " 289,\n",
       " 290,\n",
       " 291,\n",
       " 292,\n",
       " 293,\n",
       " 294,\n",
       " 295,\n",
       " 296,\n",
       " 297,\n",
       " 298,\n",
       " 299,\n",
       " 300,\n",
       " 301,\n",
       " 302,\n",
       " 303,\n",
       " 304,\n",
       " 305,\n",
       " 306,\n",
       " 307,\n",
       " 308,\n",
       " 309,\n",
       " 310,\n",
       " 311,\n",
       " 312,\n",
       " 313,\n",
       " 314,\n",
       " 315,\n",
       " 316,\n",
       " 317,\n",
       " 318,\n",
       " 319,\n",
       " 320,\n",
       " 321,\n",
       " 322,\n",
       " 323,\n",
       " 324,\n",
       " 325,\n",
       " 326,\n",
       " 327,\n",
       " 328,\n",
       " 329,\n",
       " 330,\n",
       " 331,\n",
       " 332,\n",
       " 333,\n",
       " 334,\n",
       " 335,\n",
       " 336,\n",
       " 337,\n",
       " 338,\n",
       " 339,\n",
       " 340,\n",
       " 341,\n",
       " 342,\n",
       " 343,\n",
       " 344,\n",
       " 345,\n",
       " 346,\n",
       " 347,\n",
       " 348,\n",
       " 349,\n",
       " 350,\n",
       " 351,\n",
       " 352,\n",
       " 353,\n",
       " 354,\n",
       " 355,\n",
       " 356,\n",
       " 357,\n",
       " 358,\n",
       " 359,\n",
       " 360,\n",
       " 361,\n",
       " 362,\n",
       " 363,\n",
       " 364,\n",
       " 365,\n",
       " 366,\n",
       " 367,\n",
       " 368,\n",
       " 369,\n",
       " 370,\n",
       " 371,\n",
       " 372,\n",
       " 373,\n",
       " 374,\n",
       " 375,\n",
       " 376,\n",
       " 377,\n",
       " 378,\n",
       " 379,\n",
       " 380,\n",
       " 381,\n",
       " 382,\n",
       " 383,\n",
       " 384,\n",
       " 385,\n",
       " 386,\n",
       " 387,\n",
       " 388,\n",
       " 389,\n",
       " 390,\n",
       " 391,\n",
       " 392,\n",
       " 393,\n",
       " 394,\n",
       " 395,\n",
       " 396,\n",
       " 397,\n",
       " 398,\n",
       " 399,\n",
       " 400,\n",
       " 401,\n",
       " 402,\n",
       " 403,\n",
       " 404,\n",
       " 405,\n",
       " 406,\n",
       " 407,\n",
       " 408,\n",
       " 409,\n",
       " 410,\n",
       " 411,\n",
       " 412,\n",
       " 413,\n",
       " 414,\n",
       " 415,\n",
       " 416,\n",
       " 417,\n",
       " 418,\n",
       " 419,\n",
       " 420,\n",
       " 421,\n",
       " 422,\n",
       " 423,\n",
       " 424,\n",
       " 425,\n",
       " 426,\n",
       " 427,\n",
       " 428,\n",
       " 429,\n",
       " 430,\n",
       " 431,\n",
       " 432,\n",
       " 433,\n",
       " 434,\n",
       " 435,\n",
       " 436,\n",
       " 437,\n",
       " 438,\n",
       " 439,\n",
       " 440,\n",
       " 441,\n",
       " 442,\n",
       " 443,\n",
       " 444,\n",
       " 445,\n",
       " 446,\n",
       " 447,\n",
       " 448,\n",
       " 449,\n",
       " 450,\n",
       " 451,\n",
       " 452,\n",
       " 453,\n",
       " 454,\n",
       " 455,\n",
       " 456,\n",
       " 457,\n",
       " 458,\n",
       " 459,\n",
       " 460,\n",
       " 461,\n",
       " 462,\n",
       " 463,\n",
       " 464,\n",
       " 465,\n",
       " 466,\n",
       " 467,\n",
       " 468,\n",
       " 469,\n",
       " 470,\n",
       " 471,\n",
       " 472,\n",
       " 473,\n",
       " 474,\n",
       " 475,\n",
       " 476,\n",
       " 477,\n",
       " 478,\n",
       " 479,\n",
       " 480,\n",
       " 481,\n",
       " 482,\n",
       " 483,\n",
       " 484,\n",
       " 485,\n",
       " 486,\n",
       " 487,\n",
       " 488,\n",
       " 489,\n",
       " 490,\n",
       " 491,\n",
       " 492,\n",
       " 493,\n",
       " 494,\n",
       " 495,\n",
       " 496,\n",
       " 497,\n",
       " 498,\n",
       " 499,\n",
       " 500,\n",
       " 501,\n",
       " 502,\n",
       " 503,\n",
       " 504,\n",
       " 505,\n",
       " 506,\n",
       " 507,\n",
       " 508,\n",
       " 509,\n",
       " 510,\n",
       " 511,\n",
       " 512,\n",
       " 513,\n",
       " 514,\n",
       " 515,\n",
       " 516,\n",
       " 517,\n",
       " 518,\n",
       " 519,\n",
       " 520,\n",
       " 521,\n",
       " 522,\n",
       " 523,\n",
       " 524,\n",
       " 525,\n",
       " 526,\n",
       " 527,\n",
       " 528,\n",
       " 529,\n",
       " 530,\n",
       " 531,\n",
       " 532,\n",
       " 533,\n",
       " 534,\n",
       " 535,\n",
       " 536,\n",
       " 537,\n",
       " 538,\n",
       " 539,\n",
       " 540,\n",
       " 541,\n",
       " 542,\n",
       " 543,\n",
       " 544,\n",
       " 545,\n",
       " 546,\n",
       " 547,\n",
       " 548,\n",
       " 549,\n",
       " 550,\n",
       " 551,\n",
       " 552,\n",
       " 553,\n",
       " 554,\n",
       " 555,\n",
       " 556,\n",
       " 557,\n",
       " 558,\n",
       " 559,\n",
       " 560,\n",
       " 561,\n",
       " 562,\n",
       " 563,\n",
       " 564,\n",
       " 565,\n",
       " 566,\n",
       " 567,\n",
       " 568,\n",
       " 569,\n",
       " 570,\n",
       " 571,\n",
       " 572,\n",
       " 573,\n",
       " 574,\n",
       " 575,\n",
       " 576,\n",
       " 577,\n",
       " 578,\n",
       " 579,\n",
       " 580,\n",
       " 581,\n",
       " 582,\n",
       " 583,\n",
       " 584,\n",
       " 585,\n",
       " 586,\n",
       " 587,\n",
       " 588,\n",
       " 589,\n",
       " 590,\n",
       " 591,\n",
       " 592,\n",
       " 593,\n",
       " 594,\n",
       " 595,\n",
       " 596,\n",
       " 597,\n",
       " 598,\n",
       " 599,\n",
       " 600,\n",
       " 601,\n",
       " 602,\n",
       " 603,\n",
       " 604,\n",
       " 605,\n",
       " 606,\n",
       " 607,\n",
       " 608,\n",
       " 609,\n",
       " 610,\n",
       " 611,\n",
       " 612,\n",
       " 613,\n",
       " 614,\n",
       " 615,\n",
       " 616,\n",
       " 617,\n",
       " 618,\n",
       " 619,\n",
       " 620,\n",
       " 621,\n",
       " 622,\n",
       " 623,\n",
       " 624,\n",
       " 625,\n",
       " 626,\n",
       " 627,\n",
       " 628,\n",
       " 629,\n",
       " 630,\n",
       " 631,\n",
       " 632,\n",
       " 633,\n",
       " 634,\n",
       " 635,\n",
       " 636,\n",
       " 637,\n",
       " 638,\n",
       " 639,\n",
       " 640,\n",
       " 641,\n",
       " 642,\n",
       " 643,\n",
       " 644,\n",
       " 645,\n",
       " 646,\n",
       " 647,\n",
       " 648,\n",
       " 649,\n",
       " 650,\n",
       " 651,\n",
       " 652,\n",
       " 653,\n",
       " 654,\n",
       " 655,\n",
       " 656,\n",
       " 657,\n",
       " 658,\n",
       " 659,\n",
       " 660,\n",
       " 661,\n",
       " 662,\n",
       " 663,\n",
       " 664,\n",
       " 665,\n",
       " 666,\n",
       " 667,\n",
       " 668,\n",
       " 669,\n",
       " 670,\n",
       " 671,\n",
       " 672,\n",
       " 673,\n",
       " 674,\n",
       " 675,\n",
       " 676,\n",
       " 677,\n",
       " 678,\n",
       " 679,\n",
       " 680,\n",
       " 681,\n",
       " 682,\n",
       " 683,\n",
       " 684,\n",
       " 685,\n",
       " 686,\n",
       " 687,\n",
       " 688,\n",
       " 689,\n",
       " 690,\n",
       " 691,\n",
       " 692,\n",
       " 693,\n",
       " 694,\n",
       " 695,\n",
       " 696,\n",
       " 697,\n",
       " 698,\n",
       " 699,\n",
       " 700,\n",
       " 701,\n",
       " 702,\n",
       " 703,\n",
       " 704,\n",
       " 705,\n",
       " 706,\n",
       " 707,\n",
       " 708,\n",
       " 709,\n",
       " 710,\n",
       " 711,\n",
       " 712,\n",
       " 713,\n",
       " 714,\n",
       " 715,\n",
       " 716,\n",
       " 717,\n",
       " 718,\n",
       " 719,\n",
       " 720,\n",
       " 721,\n",
       " 722,\n",
       " 723,\n",
       " 724,\n",
       " 725,\n",
       " 726,\n",
       " 727,\n",
       " 728,\n",
       " 729,\n",
       " 730,\n",
       " 731,\n",
       " 732,\n",
       " 733,\n",
       " 734,\n",
       " 735,\n",
       " 736,\n",
       " 737,\n",
       " 738,\n",
       " 739,\n",
       " 740,\n",
       " 741,\n",
       " 742,\n",
       " 743,\n",
       " 744,\n",
       " 745,\n",
       " 746,\n",
       " 747,\n",
       " 748,\n",
       " 749,\n",
       " 750,\n",
       " 751,\n",
       " 752,\n",
       " 753,\n",
       " 754,\n",
       " 755,\n",
       " 756,\n",
       " 757,\n",
       " 758,\n",
       " 759,\n",
       " 760,\n",
       " 761,\n",
       " 762,\n",
       " 763,\n",
       " 764,\n",
       " 765,\n",
       " 766,\n",
       " 767,\n",
       " 768,\n",
       " 769,\n",
       " 770,\n",
       " 771,\n",
       " 772,\n",
       " 773,\n",
       " 774,\n",
       " 775,\n",
       " 776,\n",
       " 777,\n",
       " 778,\n",
       " 779,\n",
       " 780,\n",
       " 781,\n",
       " 782,\n",
       " 783,\n",
       " 784,\n",
       " 785,\n",
       " 786,\n",
       " 787,\n",
       " 788,\n",
       " 789,\n",
       " 790,\n",
       " 791,\n",
       " 792,\n",
       " 793,\n",
       " 794,\n",
       " 795,\n",
       " 796,\n",
       " 797,\n",
       " 798,\n",
       " 799,\n",
       " 800,\n",
       " 801,\n",
       " 802,\n",
       " 803,\n",
       " 804,\n",
       " 805,\n",
       " 806,\n",
       " 807,\n",
       " 808,\n",
       " 809,\n",
       " 810,\n",
       " 811,\n",
       " 812,\n",
       " 813,\n",
       " 814,\n",
       " 815,\n",
       " 816,\n",
       " 817,\n",
       " 818,\n",
       " 819,\n",
       " 820,\n",
       " 821,\n",
       " 822,\n",
       " 823,\n",
       " 824,\n",
       " 825,\n",
       " 826,\n",
       " 827,\n",
       " 828,\n",
       " 829,\n",
       " 830,\n",
       " 831,\n",
       " 832,\n",
       " 833,\n",
       " 834,\n",
       " 835,\n",
       " 836,\n",
       " 837,\n",
       " 838,\n",
       " 839,\n",
       " 840,\n",
       " 841,\n",
       " 842,\n",
       " 843,\n",
       " 844,\n",
       " 845,\n",
       " 846,\n",
       " 847,\n",
       " 848,\n",
       " 849,\n",
       " 850,\n",
       " 851,\n",
       " 852,\n",
       " 853,\n",
       " 854,\n",
       " 855,\n",
       " 856,\n",
       " 857,\n",
       " 858,\n",
       " 859,\n",
       " 860,\n",
       " 861,\n",
       " 862,\n",
       " 863,\n",
       " 864,\n",
       " 865,\n",
       " 866,\n",
       " 867,\n",
       " 868,\n",
       " 869,\n",
       " 870,\n",
       " 871,\n",
       " 872,\n",
       " 873,\n",
       " 874,\n",
       " 875,\n",
       " 876,\n",
       " 877,\n",
       " 878,\n",
       " 879,\n",
       " 880,\n",
       " 881,\n",
       " 882,\n",
       " 883,\n",
       " 884,\n",
       " 885,\n",
       " 886,\n",
       " 887,\n",
       " 888,\n",
       " 889,\n",
       " 890,\n",
       " 891,\n",
       " 892,\n",
       " 893,\n",
       " 894,\n",
       " 895,\n",
       " 896,\n",
       " 897,\n",
       " 898,\n",
       " 899,\n",
       " 900,\n",
       " 901,\n",
       " 902,\n",
       " 903,\n",
       " 904,\n",
       " 905,\n",
       " 906,\n",
       " 907,\n",
       " 908,\n",
       " 909,\n",
       " 910,\n",
       " 911,\n",
       " 912,\n",
       " 913,\n",
       " 914,\n",
       " 915,\n",
       " 916,\n",
       " 917,\n",
       " 918,\n",
       " 919,\n",
       " 920,\n",
       " 921,\n",
       " 922,\n",
       " 923,\n",
       " 924,\n",
       " 925,\n",
       " 926,\n",
       " 927,\n",
       " 928,\n",
       " 929,\n",
       " 930,\n",
       " 931,\n",
       " 932,\n",
       " 933,\n",
       " 934,\n",
       " 935,\n",
       " 936,\n",
       " 937,\n",
       " 938,\n",
       " 939,\n",
       " 940,\n",
       " 941,\n",
       " 942,\n",
       " 943,\n",
       " 944,\n",
       " 945,\n",
       " 946,\n",
       " 947,\n",
       " 948,\n",
       " 949,\n",
       " 950,\n",
       " 951,\n",
       " 952,\n",
       " 953,\n",
       " 954,\n",
       " 955,\n",
       " 956,\n",
       " 957,\n",
       " 958,\n",
       " 959,\n",
       " 960,\n",
       " 961,\n",
       " 962,\n",
       " 963,\n",
       " 964,\n",
       " 965,\n",
       " 966,\n",
       " 967,\n",
       " 968,\n",
       " 969,\n",
       " 970,\n",
       " 971,\n",
       " 972,\n",
       " 973,\n",
       " 974,\n",
       " 975,\n",
       " 976,\n",
       " 977,\n",
       " 978,\n",
       " 979,\n",
       " 980,\n",
       " 981,\n",
       " 982,\n",
       " 983,\n",
       " 984,\n",
       " 985,\n",
       " 986,\n",
       " 987,\n",
       " 988,\n",
       " 989,\n",
       " 990,\n",
       " 991,\n",
       " 992,\n",
       " 993,\n",
       " 994,\n",
       " 995,\n",
       " 996,\n",
       " 997,\n",
       " 998,\n",
       " 999,\n",
       " ...]"
      ]
     },
     "execution_count": 1,
     "metadata": {},
     "output_type": "execute_result"
    }
   ],
   "source": [
    "l=list(range(1000000))\n",
    "l"
   ]
  },
  {
   "cell_type": "markdown",
   "id": "a2229b3b",
   "metadata": {},
   "source": [
    "import numpy as np\n",
    "l=np.arange(1000000)\n",
    "m=list(range(1000000)) \n",
    "%timeit l1=l*2\n"
   ]
  },
  {
   "cell_type": "code",
   "execution_count": 3,
   "id": "3f7e1f58",
   "metadata": {},
   "outputs": [
    {
     "name": "stdout",
     "output_type": "stream",
     "text": [
      "91.2 ms ± 2.73 ms per loop (mean ± std. dev. of 7 runs, 10 loops each)\n"
     ]
    }
   ],
   "source": [
    "%timeit m1=[x*2 for x in m]"
   ]
  },
  {
   "cell_type": "code",
   "execution_count": 4,
   "id": "c7f1b370",
   "metadata": {},
   "outputs": [
    {
     "name": "stdout",
     "output_type": "stream",
     "text": [
      "0:00:00.105938\n"
     ]
    }
   ],
   "source": [
    "from datetime import datetime as dt\n",
    "now1=dt.now()\n",
    "m1=[x*2 for x in m]\n",
    "now2=dt.now()\n",
    "print((now2-now1))"
   ]
  },
  {
   "cell_type": "code",
   "execution_count": 5,
   "id": "bef654f0",
   "metadata": {},
   "outputs": [
    {
     "name": "stdout",
     "output_type": "stream",
     "text": [
      "0:00:00.001999\n"
     ]
    }
   ],
   "source": [
    "now1=dt.now()\n",
    "l1=l*2\n",
    "now2=dt.now()\n",
    "print((now2-now1))"
   ]
  },
  {
   "cell_type": "markdown",
   "id": "7b2cd427",
   "metadata": {},
   "source": [
    "# creating arrays in numpy"
   ]
  },
  {
   "cell_type": "code",
   "execution_count": 6,
   "id": "5c9b167e",
   "metadata": {},
   "outputs": [
    {
     "name": "stdout",
     "output_type": "stream",
     "text": [
      "[ 1.5  2.  -3. ]\n"
     ]
    }
   ],
   "source": [
    "a=[1.5,2,-3]\n",
    "data=np.array(a)# to create array\n",
    "print(data)"
   ]
  },
  {
   "cell_type": "code",
   "execution_count": 7,
   "id": "5b670a88",
   "metadata": {},
   "outputs": [
    {
     "name": "stdout",
     "output_type": "stream",
     "text": [
      "(2, 3)\n",
      "[['1' '2' '6.5']\n",
      " ['hello' '4.7' 'iter']]\n"
     ]
    }
   ],
   "source": [
    "data=np.array([[1,2,6.5],['hello',4.7,'iter']])\n",
    "print(data.shape) # shape of an array is the number of elements in each dimension\n",
    "print(data)"
   ]
  },
  {
   "cell_type": "code",
   "execution_count": 8,
   "id": "4a3b9df7",
   "metadata": {},
   "outputs": [
    {
     "data": {
      "text/plain": [
       "2"
      ]
     },
     "execution_count": 8,
     "metadata": {},
     "output_type": "execute_result"
    }
   ],
   "source": [
    "print(data.ndim) # it give dimension of the array."
   ]
  },
  {
   "cell_type": "code",
   "execution_count": 11,
   "id": "621e036e",
   "metadata": {},
   "outputs": [
    {
     "name": "stdout",
     "output_type": "stream",
     "text": [
      "(2, 2, 3)\n",
      "3\n",
      "12\n"
     ]
    }
   ],
   "source": [
    "data=np.array([[[1,2,3],[4,5,6]],[[7,8,9],[10,11,12]]])\n",
    "print(data.shape)\n",
    "print(data.ndim)\n",
    "print(data.size)# return no. of elements."
   ]
  },
  {
   "cell_type": "code",
   "execution_count": 12,
   "id": "158b6d40",
   "metadata": {},
   "outputs": [
    {
     "data": {
      "text/plain": [
       "array([[[ 2,  4,  6],\n",
       "        [ 8, 10, 12]],\n",
       "\n",
       "       [[14, 16, 18],\n",
       "        [20, 22, 24]]])"
      ]
     },
     "execution_count": 12,
     "metadata": {},
     "output_type": "execute_result"
    }
   ],
   "source": [
    "data+data"
   ]
  },
  {
   "cell_type": "code",
   "execution_count": 13,
   "id": "3876156e",
   "metadata": {},
   "outputs": [
    {
     "name": "stdout",
     "output_type": "stream",
     "text": [
      "[0. 0. 0. 0. 0. 0. 0. 0. 0. 0.]\n",
      "[1. 1. 1. 1. 1. 1. 1.]\n"
     ]
    }
   ],
   "source": [
    "x=np.zeros(10) # both zeros and ones creat arrays respecteively with a given length.\n",
    "y=np.ones(7)\n",
    "print(x)\n",
    "print(y)"
   ]
  },
  {
   "cell_type": "code",
   "execution_count": 14,
   "id": "1d8796ff",
   "metadata": {},
   "outputs": [
    {
     "data": {
      "text/plain": [
       "array([[0., 0., 0.],\n",
       "       [0., 0., 0.],\n",
       "       [0., 0., 0.]])"
      ]
     },
     "execution_count": 14,
     "metadata": {},
     "output_type": "execute_result"
    }
   ],
   "source": [
    "np.zeros((3,3)) # for 2d we have to pass a tuple."
   ]
  },
  {
   "cell_type": "code",
   "execution_count": 15,
   "id": "1ad90a36",
   "metadata": {},
   "outputs": [
    {
     "data": {
      "text/plain": [
       "array([[[9.09031795e-312, 2.47032823e-322],\n",
       "        [0.00000000e+000, 0.00000000e+000],\n",
       "        [1.12465777e-312, 2.46567317e+179]],\n",
       "\n",
       "       [[6.20036720e-091, 6.87005120e+169],\n",
       "        [3.57233865e-062, 1.39641343e-075],\n",
       "        [3.99910963e+252, 1.90979636e-312]]])"
      ]
     },
     "execution_count": 15,
     "metadata": {},
     "output_type": "execute_result"
    }
   ],
   "source": [
    "a=np.empty((2,3,2)) #it will random generate numbers and it will temporary.\n",
    "a"
   ]
  },
  {
   "cell_type": "code",
   "execution_count": 16,
   "id": "797a3bbc",
   "metadata": {},
   "outputs": [
    {
     "data": {
      "text/plain": [
       "array([0, 1, 2, 3, 4])"
      ]
     },
     "execution_count": 16,
     "metadata": {},
     "output_type": "execute_result"
    }
   ],
   "source": [
    "import numpy as np\n",
    "np.arange(5)"
   ]
  },
  {
   "cell_type": "code",
   "execution_count": 17,
   "id": "bb4aac3b",
   "metadata": {},
   "outputs": [
    {
     "data": {
      "text/plain": [
       "array([10, 15])"
      ]
     },
     "execution_count": 17,
     "metadata": {},
     "output_type": "execute_result"
    }
   ],
   "source": [
    "np.arange(10,20,5)"
   ]
  },
  {
   "cell_type": "code",
   "execution_count": 19,
   "id": "56021479",
   "metadata": {},
   "outputs": [
    {
     "data": {
      "text/plain": [
       "array([10. , 12.5, 15. , 17.5, 20. ])"
      ]
     },
     "execution_count": 19,
     "metadata": {},
     "output_type": "execute_result"
    }
   ],
   "source": [
    "b=np.linspace(10,20,5) #it returns equal no. of element given in step in form of linearly distributed\n",
    "b"
   ]
  },
  {
   "cell_type": "code",
   "execution_count": 20,
   "id": "23d65b92",
   "metadata": {},
   "outputs": [
    {
     "data": {
      "text/plain": [
       "array([10., 15., 20.])"
      ]
     },
     "execution_count": 20,
     "metadata": {},
     "output_type": "execute_result"
    }
   ],
   "source": [
    "b=np.linspace(10,20,3)\n",
    "b"
   ]
  },
  {
   "cell_type": "code",
   "execution_count": 21,
   "id": "13778249",
   "metadata": {},
   "outputs": [
    {
     "data": {
      "text/plain": [
       "array([[5, 5, 5],\n",
       "       [5, 5, 5]])"
      ]
     },
     "execution_count": 21,
     "metadata": {},
     "output_type": "execute_result"
    }
   ],
   "source": [
    "np.full((2,3),5)# it retun a array of the given shape and data type with all value to the indicated 'fill value'"
   ]
  },
  {
   "cell_type": "code",
   "execution_count": null,
   "id": "04de3bd4",
   "metadata": {},
   "outputs": [],
   "source": []
  },
  {
   "cell_type": "code",
   "execution_count": 25,
   "id": "e4a6d977",
   "metadata": {},
   "outputs": [
    {
     "name": "stdout",
     "output_type": "stream",
     "text": [
      "[[0. 0. 0. 0.]\n",
      " [1. 0. 0. 0.]\n",
      " [0. 1. 0. 0.]\n",
      " [0. 0. 1. 0.]]\n"
     ]
    }
   ],
   "source": [
    "a=np.eye(4,k=-1)# using k you can change the postion of elements in lower and upper digonal.\n",
    "print(a)"
   ]
  },
  {
   "cell_type": "code",
   "execution_count": 26,
   "id": "6c0ea239",
   "metadata": {},
   "outputs": [
    {
     "name": "stdout",
     "output_type": "stream",
     "text": [
      "[[1. 0. 0. 0.]\n",
      " [0. 1. 0. 0.]\n",
      " [0. 0. 1. 0.]\n",
      " [0. 0. 0. 1.]]\n"
     ]
    }
   ],
   "source": [
    "a=np.eye(4,k=0) #it will return default value as 4x4 matrix\n",
    "print(a)"
   ]
  },
  {
   "cell_type": "code",
   "execution_count": 27,
   "id": "bde28e45",
   "metadata": {},
   "outputs": [
    {
     "data": {
      "text/plain": [
       "dtype('int32')"
      ]
     },
     "execution_count": 27,
     "metadata": {},
     "output_type": "execute_result"
    }
   ],
   "source": [
    "data.dtype"
   ]
  },
  {
   "cell_type": "code",
   "execution_count": 28,
   "id": "0dd96a36",
   "metadata": {},
   "outputs": [
    {
     "data": {
      "text/plain": [
       "array([[1., 2., 3., 4.],\n",
       "       [6., 7., 8., 9.]])"
      ]
     },
     "execution_count": 28,
     "metadata": {},
     "output_type": "execute_result"
    }
   ],
   "source": [
    "data=np.array([[1,2,3,4],[6,7,8,9]],dtype=np.float64)\n",
    "data"
   ]
  },
  {
   "cell_type": "code",
   "execution_count": 29,
   "id": "b9559da5",
   "metadata": {},
   "outputs": [
    {
     "data": {
      "text/plain": [
       "array([[1., 2., 3., 4.],\n",
       "       [6., 7., 8., 9.]])"
      ]
     },
     "execution_count": 29,
     "metadata": {},
     "output_type": "execute_result"
    }
   ],
   "source": [
    "data=np.array([[1,2,3,4],[6,7,8,9]])\n",
    "data.astype(np.float64)"
   ]
  },
  {
   "cell_type": "code",
   "execution_count": 30,
   "id": "7c611415",
   "metadata": {},
   "outputs": [
    {
     "data": {
      "text/plain": [
       "array([0., 1., 2., 3., 4., 5., 6., 7., 8., 9.])"
      ]
     },
     "execution_count": 30,
     "metadata": {},
     "output_type": "execute_result"
    }
   ],
   "source": [
    "data=np.array([[1,2,3,4],[6,7,8,9]],dtype=np.float64)\n",
    "d=np.arange(10)\n",
    "d.astype(data.dtype)# it will convert to float value "
   ]
  },
  {
   "cell_type": "code",
   "execution_count": 31,
   "id": "26e89834",
   "metadata": {},
   "outputs": [
    {
     "name": "stdout",
     "output_type": "stream",
     "text": [
      "[[2 3 4]\n",
      " [6 7 8]]\n"
     ]
    }
   ],
   "source": [
    "arr1=np.array([[1,2,3],[4,5,6]])\n",
    "arr2=np.array([[1,1,1],[2,2,2]])\n",
    "print(arr1+arr2)"
   ]
  },
  {
   "cell_type": "code",
   "execution_count": 3,
   "id": "9cd6495c",
   "metadata": {},
   "outputs": [
    {
     "data": {
      "text/plain": [
       "array([[1., 0., 0., 0.],\n",
       "       [0., 1., 0., 0.],\n",
       "       [0., 0., 1., 0.]])"
      ]
     },
     "execution_count": 3,
     "metadata": {},
     "output_type": "execute_result"
    }
   ],
   "source": [
    "import numpy as np #for changing the shape of matrix\n",
    "np.eye(3,4,k=0)"
   ]
  },
  {
   "cell_type": "code",
   "execution_count": 4,
   "id": "3120536e",
   "metadata": {},
   "outputs": [
    {
     "name": "stdout",
     "output_type": "stream",
     "text": [
      "[0 1 2 3 4 5 6 7 8 9]\n",
      "[1 2 3 4]\n"
     ]
    }
   ],
   "source": [
    "a=np.arange(10)\n",
    "print(a)\n",
    "print(a[1:5])"
   ]
  },
  {
   "cell_type": "code",
   "execution_count": 6,
   "id": "c0c5b2c0",
   "metadata": {},
   "outputs": [
    {
     "name": "stdout",
     "output_type": "stream",
     "text": [
      "[100 100 100]\n"
     ]
    }
   ],
   "source": [
    "(a[5:8])=100\n",
    "print((a[5:8]))"
   ]
  },
  {
   "cell_type": "code",
   "execution_count": 10,
   "id": "c252088f",
   "metadata": {},
   "outputs": [
    {
     "name": "stdout",
     "output_type": "stream",
     "text": [
      "[   0 1000    2 1000    4 1000    6 1000    8 1000]\n"
     ]
    }
   ],
   "source": [
    "a=np.arange(10)\n",
    "a[1::2]=1000 #replace alternative values with 1000\n",
    "print(a)\n"
   ]
  },
  {
   "cell_type": "code",
   "execution_count": 11,
   "id": "32cd5da8",
   "metadata": {},
   "outputs": [
    {
     "data": {
      "text/plain": [
       "array([1000,    8, 1000,    6, 1000,    4, 1000,    2, 1000,    0])"
      ]
     },
     "execution_count": 11,
     "metadata": {},
     "output_type": "execute_result"
    }
   ],
   "source": [
    "a[::-1]"
   ]
  },
  {
   "cell_type": "code",
   "execution_count": 12,
   "id": "fe286e38",
   "metadata": {},
   "outputs": [
    {
     "name": "stdout",
     "output_type": "stream",
     "text": [
      "[2 3 4 5]\n",
      "[   2    3    4 1000]\n"
     ]
    }
   ],
   "source": [
    "a=np.arange(10)\n",
    "b=a[2:6]\n",
    "print(b)\n",
    "a[5]=1000\n",
    "print(b)"
   ]
  },
  {
   "cell_type": "code",
   "execution_count": 13,
   "id": "142dff48",
   "metadata": {},
   "outputs": [
    {
     "name": "stdout",
     "output_type": "stream",
     "text": [
      "[2 3 4 5]\n",
      "[2 3 4 5]\n"
     ]
    }
   ],
   "source": [
    "a=np.arange(10)\n",
    "b=a[2:6].copy()\n",
    "print(b)\n",
    "a[5]=1000\n",
    "print(b)"
   ]
  },
  {
   "cell_type": "markdown",
   "id": "47196274",
   "metadata": {},
   "source": [
    "# multidimensional indexing"
   ]
  },
  {
   "cell_type": "code",
   "execution_count": 20,
   "id": "da1451b1",
   "metadata": {},
   "outputs": [
    {
     "name": "stdout",
     "output_type": "stream",
     "text": [
      "[[ 1  2  3  4  5]\n",
      " [ 3  4  5  6  7]\n",
      " [ 5  6  7  8  9]\n",
      " [ 7  8  9 10 11]]\n"
     ]
    },
    {
     "data": {
      "text/plain": [
       "(4, 5)"
      ]
     },
     "execution_count": 20,
     "metadata": {},
     "output_type": "execute_result"
    }
   ],
   "source": [
    "arr=np.array([[1,2,3,4,5],[3,4,5,6,7],[5,6,7,8,9],[7,8,9,10,11]])\n",
    "print(arr)\n",
    "arr.shape\n"
   ]
  },
  {
   "cell_type": "code",
   "execution_count": 21,
   "id": "a21e6289",
   "metadata": {},
   "outputs": [
    {
     "name": "stdout",
     "output_type": "stream",
     "text": [
      "5\n",
      "5\n"
     ]
    }
   ],
   "source": [
    "print(arr[1][2])\n",
    "print(arr[1,2])"
   ]
  },
  {
   "cell_type": "code",
   "execution_count": 22,
   "id": "1bc6e2da",
   "metadata": {},
   "outputs": [
    {
     "name": "stdout",
     "output_type": "stream",
     "text": [
      "[[ 1  2  3  4  5]\n",
      " [ 3  4  5  6  7]\n",
      " [ 5  6  7  8  9]\n",
      " [ 7  8  9 10 11]]\n"
     ]
    }
   ],
   "source": [
    "print(arr[:,:])"
   ]
  },
  {
   "cell_type": "code",
   "execution_count": 24,
   "id": "f0b6b706",
   "metadata": {},
   "outputs": [
    {
     "name": "stdout",
     "output_type": "stream",
     "text": [
      "[[3 4 5 6 7]\n",
      " [5 6 7 8 9]]\n"
     ]
    }
   ],
   "source": [
    "print(arr[1:3,:])"
   ]
  },
  {
   "cell_type": "code",
   "execution_count": 26,
   "id": "65929b82",
   "metadata": {},
   "outputs": [
    {
     "name": "stdout",
     "output_type": "stream",
     "text": [
      "[[ 3  4  5]\n",
      " [ 5  6  7]\n",
      " [ 7  8  9]\n",
      " [ 9 10 11]]\n"
     ]
    }
   ],
   "source": [
    "print(arr[:,2:])"
   ]
  },
  {
   "cell_type": "code",
   "execution_count": 28,
   "id": "606e6544",
   "metadata": {},
   "outputs": [
    {
     "name": "stdout",
     "output_type": "stream",
     "text": [
      "[[ 6  7  8  9]\n",
      " [ 8  9 10 11]]\n"
     ]
    }
   ],
   "source": [
    "print(arr[2:,1:])"
   ]
  },
  {
   "cell_type": "code",
   "execution_count": 29,
   "id": "f11e3233",
   "metadata": {},
   "outputs": [
    {
     "name": "stdout",
     "output_type": "stream",
     "text": [
      "[[4 5]\n",
      " [6 7]]\n"
     ]
    }
   ],
   "source": [
    "print(arr[1:3,1:3])"
   ]
  },
  {
   "cell_type": "code",
   "execution_count": 31,
   "id": "9672e7d5",
   "metadata": {},
   "outputs": [
    {
     "name": "stdout",
     "output_type": "stream",
     "text": [
      "[[1 3 5]\n",
      " [5 7 9]]\n"
     ]
    }
   ],
   "source": [
    "print(arr[::2,::2])"
   ]
  },
  {
   "cell_type": "code",
   "execution_count": 35,
   "id": "97818314",
   "metadata": {},
   "outputs": [
    {
     "name": "stdout",
     "output_type": "stream",
     "text": [
      "[[ 1  2  3  4  5]\n",
      " [ 5  6  7  8  9]\n",
      " [ 7  8  9 10 11]]\n"
     ]
    }
   ],
   "source": [
    "print(arr[[0,2,3]])"
   ]
  },
  {
   "cell_type": "code",
   "execution_count": 36,
   "id": "6e68d5cc",
   "metadata": {},
   "outputs": [
    {
     "name": "stdout",
     "output_type": "stream",
     "text": [
      "[[ 2  3  4]\n",
      " [ 6  7  8]\n",
      " [ 8  9 10]]\n"
     ]
    }
   ],
   "source": [
    "print(arr[[0,2,3],1:4])"
   ]
  },
  {
   "cell_type": "code",
   "execution_count": 37,
   "id": "e834d099",
   "metadata": {},
   "outputs": [
    {
     "name": "stdout",
     "output_type": "stream",
     "text": [
      "[[ 2  3  5]\n",
      " [ 6  7  9]\n",
      " [ 8  9 11]]\n"
     ]
    }
   ],
   "source": [
    "print(arr[[0,2,3]][:,[1,2,4]])"
   ]
  },
  {
   "cell_type": "code",
   "execution_count": 38,
   "id": "08108743",
   "metadata": {},
   "outputs": [
    {
     "name": "stdout",
     "output_type": "stream",
     "text": [
      "[ 2  7 11]\n"
     ]
    }
   ],
   "source": [
    "print(arr[[0,2,3],[1,2,4]])# returns (0,1),(2,2),(3,4)"
   ]
  },
  {
   "cell_type": "markdown",
   "id": "8dd5c244",
   "metadata": {},
   "source": [
    "# boolean indexing"
   ]
  },
  {
   "cell_type": "code",
   "execution_count": 41,
   "id": "ceb9cc76",
   "metadata": {},
   "outputs": [
    {
     "name": "stdout",
     "output_type": "stream",
     "text": [
      "[3 4 5 6 7]\n"
     ]
    },
    {
     "data": {
      "text/plain": [
       "array([4, 6])"
      ]
     },
     "execution_count": 41,
     "metadata": {},
     "output_type": "execute_result"
    }
   ],
   "source": [
    "arr=np.arange(5)+3\n",
    "print(arr)\n",
    "T=[False,True,False,True,False]\n",
    "arr[T]"
   ]
  },
  {
   "cell_type": "code",
   "execution_count": 43,
   "id": "56bfd92d",
   "metadata": {},
   "outputs": [
    {
     "name": "stdout",
     "output_type": "stream",
     "text": [
      "['Avi' 'Ani' 'Dib' 'ayush' 'avi']\n"
     ]
    },
    {
     "data": {
      "text/plain": [
       "array(['Ani', 'ayush'], dtype='<U5')"
      ]
     },
     "execution_count": 43,
     "metadata": {},
     "output_type": "execute_result"
    }
   ],
   "source": [
    "arr=np.array(['Avi','Ani','Dib','ayush','avi'])\n",
    "print(arr)\n",
    "T=[False,True,False,True,False]\n",
    "arr[T]"
   ]
  },
  {
   "cell_type": "code",
   "execution_count": 44,
   "id": "f7629e8c",
   "metadata": {},
   "outputs": [
    {
     "name": "stdout",
     "output_type": "stream",
     "text": [
      "['Avi' 'Ani' 'Dib' 'ayush' 'avi']\n",
      "[ True False False False False]\n"
     ]
    }
   ],
   "source": [
    "arr=np.array(['Avi','Ani','Dib','ayush','avi'])\n",
    "print(arr)\n",
    "T= arr=='Avi'\n",
    "print(T)\n"
   ]
  },
  {
   "cell_type": "code",
   "execution_count": 46,
   "id": "ec9ba028",
   "metadata": {},
   "outputs": [
    {
     "name": "stdout",
     "output_type": "stream",
     "text": [
      "['Avi' 'Ani' 'Dib' 'ayush' 'Avi']\n",
      "[10 14]\n",
      "[ True False False False  True]\n"
     ]
    }
   ],
   "source": [
    "arr=np.array(['Avi','Ani','Dib','ayush','Avi'])\n",
    "arr1=np.array([10,11,12,13,14])\n",
    "print(arr)\n",
    "T= arr=='Avi'\n",
    "print(arr1[T]) #it retuns the roll no.\n",
    "print(T)\n"
   ]
  },
  {
   "cell_type": "code",
   "execution_count": 49,
   "id": "36a75e7e",
   "metadata": {},
   "outputs": [
    {
     "name": "stdout",
     "output_type": "stream",
     "text": [
      "[['Avi' '34' '67' '11']\n",
      " ['Avi' '78' '38' '12']]\n"
     ]
    }
   ],
   "source": [
    "arr=np.array([['Avi',34,67,11],['Ani',56,10,22],['Dib',74,234,135],['ayush',73,87,584],['Avi',78,38,12]])\n",
    "T=arr[ arr[:,0]=='Avi']\n",
    "print(T)\n"
   ]
  },
  {
   "cell_type": "code",
   "execution_count": 50,
   "id": "bab82466",
   "metadata": {},
   "outputs": [
    {
     "name": "stdout",
     "output_type": "stream",
     "text": [
      "[['34' '67' '11']\n",
      " ['78' '38' '12']]\n"
     ]
    }
   ],
   "source": [
    "arr=np.array([['Avi',34,67,11],['Ani',56,10,22],['Dib',74,234,135],['ayush',73,87,584],['Avi',78,38,12]])\n",
    "T=arr[ arr[:,0]=='Avi'][:,1:]\n",
    "print(T)\n"
   ]
  },
  {
   "cell_type": "code",
   "execution_count": 52,
   "id": "343398c3",
   "metadata": {},
   "outputs": [
    {
     "name": "stdout",
     "output_type": "stream",
     "text": [
      "[[34. 67. 11.]\n",
      " [78. 38. 12.]]\n"
     ]
    }
   ],
   "source": [
    "arr=np.array([['Avi',34,67,11],['Ani',56,10,22],['Dib',74,234,135],['ayush',73,87,584],['Avi',78,38,12]])\n",
    "T=arr[ arr[:,0]=='Avi'][:,1:].astype(np.float64)\n",
    "print(T)\n"
   ]
  },
  {
   "cell_type": "code",
   "execution_count": 61,
   "id": "933bf5ae",
   "metadata": {},
   "outputs": [
    {
     "name": "stdout",
     "output_type": "stream",
     "text": [
      "[[56. 10. 22.]]\n",
      "3\n",
      "29.333333333333332\n",
      "2\n"
     ]
    }
   ],
   "source": [
    "cart_values=arr[ arr[:,0]=='Ani'][:,1:].astype(np.float64)\n",
    "print(cart_values)\n",
    "print(len(cart_values[0]))\n",
    "print(np.sum(cart_values)/len(cart_values[0]))\n",
    "print(cart_values.ndim)"
   ]
  },
  {
   "cell_type": "code",
   "execution_count": 63,
   "id": "8f846239",
   "metadata": {},
   "outputs": [
    {
     "name": "stdout",
     "output_type": "stream",
     "text": [
      "['Avi' 'Ani' 'Dib' 'ayush' 'Avi']\n",
      "[11 12 13]\n",
      "[False  True  True  True False]\n"
     ]
    }
   ],
   "source": [
    "arr=np.array(['Avi','Ani','Dib','ayush','Avi'])\n",
    "arr1=np.array([10,11,12,13,14])\n",
    "print(arr)\n",
    "T= ~(arr=='Avi')\n",
    "print(arr1[T])\n",
    "print(T)"
   ]
  },
  {
   "cell_type": "code",
   "execution_count": 65,
   "id": "b7e76b4d",
   "metadata": {},
   "outputs": [
    {
     "name": "stdout",
     "output_type": "stream",
     "text": [
      "['Avi' 'Ani' 'Dib' 'ayush' 'Avi']\n",
      "[12 13]\n",
      "[False False  True  True False]\n"
     ]
    }
   ],
   "source": [
    "arr=np.array(['Avi','Ani','Dib','ayush','Avi'])\n",
    "arr1=np.array([10,11,12,13,14])\n",
    "print(arr)\n",
    "T= ((arr!='Avi')&(arr!='Ani'))\n",
    "print(arr1[T]) \n",
    "print(T)"
   ]
  },
  {
   "cell_type": "code",
   "execution_count": 69,
   "id": "492c26c5",
   "metadata": {},
   "outputs": [
    {
     "name": "stdout",
     "output_type": "stream",
     "text": [
      "[97]\n"
     ]
    }
   ],
   "source": [
    "name=np.array(['Satyanistha','Nitish','Chandran','Swayam','Nitish'])\n",
    "roll=np.array([100,13,39,41,43])\n",
    "Marks=np.array([95,97,96,91,94])\n",
    "T= ((name=='Nitish')&(roll==13))\n",
    "\n",
    "print(Marks[T])"
   ]
  },
  {
   "cell_type": "code",
   "execution_count": 70,
   "id": "ffa23b51",
   "metadata": {},
   "outputs": [
    {
     "name": "stdout",
     "output_type": "stream",
     "text": [
      "[13 43]\n",
      "[97 94]\n"
     ]
    }
   ],
   "source": [
    "name=np.array(['Satyanistha','Nitish','Chandran','Swayam','Nitish'])\n",
    "roll=np.array([100,13,39,41,43])\n",
    "Marks=np.array([95,97,96,91,94])\n",
    "T= (name=='Nitish')\n",
    "print(roll[T])\n",
    "print(Marks[T])"
   ]
  },
  {
   "cell_type": "code",
   "execution_count": 71,
   "id": "cb8ccaeb",
   "metadata": {},
   "outputs": [
    {
     "data": {
      "text/plain": [
       "array([ 1,  2,  3,  4,  5,  3,  4,  5,  6,  7,  5,  6,  7,  8,  9,  7,  8,\n",
       "        9, 10, 11])"
      ]
     },
     "execution_count": 71,
     "metadata": {},
     "output_type": "execute_result"
    }
   ],
   "source": [
    "arr=np.array([[1,2,3,4,5],[3,4,5,6,7],[5,6,7,8,9],[7,8,9,10,11]])\n",
    "arr.ravel()"
   ]
  },
  {
   "cell_type": "code",
   "execution_count": 72,
   "id": "f6bf9ae2",
   "metadata": {},
   "outputs": [
    {
     "name": "stdout",
     "output_type": "stream",
     "text": [
      "[[ 1  2  3  4  5]\n",
      " [ 3  4  5  6  7]\n",
      " [ 5  6  7  8  9]\n",
      " [ 7  8  9 10 11]]\n"
     ]
    }
   ],
   "source": [
    "print(arr)"
   ]
  },
  {
   "cell_type": "code",
   "execution_count": 75,
   "id": "deedd003",
   "metadata": {},
   "outputs": [
    {
     "data": {
      "text/plain": [
       "array([[ 1,  2,  3,  4],\n",
       "       [ 5,  3,  4,  5],\n",
       "       [ 6,  7,  5,  6],\n",
       "       [ 7,  8,  9,  7],\n",
       "       [ 8,  9, 10, 11]])"
      ]
     },
     "execution_count": 75,
     "metadata": {},
     "output_type": "execute_result"
    }
   ],
   "source": [
    "arr1=arr.ravel()\n",
    "arr2=arr1.reshape(5,-1)\n",
    "arr2"
   ]
  },
  {
   "cell_type": "code",
   "execution_count": 78,
   "id": "e3fcfaff",
   "metadata": {},
   "outputs": [
    {
     "name": "stdout",
     "output_type": "stream",
     "text": [
      "[ 1  2  3  4  5  3  4  5  6  7  5  6  7  8  9  7  8  9 10 11]\n",
      "[[ 1]\n",
      " [ 2]\n",
      " [ 3]\n",
      " [ 4]\n",
      " [ 5]\n",
      " [ 3]\n",
      " [ 4]\n",
      " [ 5]\n",
      " [ 6]\n",
      " [ 7]\n",
      " [ 5]\n",
      " [ 6]\n",
      " [ 7]\n",
      " [ 8]\n",
      " [ 9]\n",
      " [ 7]\n",
      " [ 8]\n",
      " [ 9]\n",
      " [10]\n",
      " [11]]\n",
      "(20, 1)\n"
     ]
    }
   ],
   "source": [
    "arr1=arr.ravel()\n",
    "print(arr1)\n",
    "arr2=arr1.reshape(-1,1)\n",
    "print(arr2)\n",
    "print(arr2.shape)"
   ]
  },
  {
   "cell_type": "code",
   "execution_count": 79,
   "id": "c1f4b7e0",
   "metadata": {},
   "outputs": [
    {
     "data": {
      "text/plain": [
       "array([[ 1,  3,  5,  7],\n",
       "       [ 2,  4,  6,  8],\n",
       "       [ 3,  5,  7,  9],\n",
       "       [ 4,  6,  8, 10],\n",
       "       [ 5,  7,  9, 11]])"
      ]
     },
     "execution_count": 79,
     "metadata": {},
     "output_type": "execute_result"
    }
   ],
   "source": [
    "arr.T# return transpose matrix"
   ]
  },
  {
   "cell_type": "code",
   "execution_count": 80,
   "id": "281e1985",
   "metadata": {},
   "outputs": [
    {
     "name": "stdout",
     "output_type": "stream",
     "text": [
      "(3, 2, 5)\n"
     ]
    }
   ],
   "source": [
    "arr=np.array([[[1,2,3,4,5],[3,4,5,6,7]],[[5,6,7,8,9],[7,8,9,10,11]],[[15,16,17,18,19],[17,18,19,110,111]]])\n",
    "print(arr.shape)"
   ]
  },
  {
   "cell_type": "code",
   "execution_count": 81,
   "id": "6dafdf85",
   "metadata": {},
   "outputs": [
    {
     "name": "stdout",
     "output_type": "stream",
     "text": [
      "[[[  1   2   3   4   5]\n",
      "  [  5   6   7   8   9]\n",
      "  [ 15  16  17  18  19]]\n",
      "\n",
      " [[  3   4   5   6   7]\n",
      "  [  7   8   9  10  11]\n",
      "  [ 17  18  19 110 111]]]\n"
     ]
    }
   ],
   "source": [
    "print(arr.swapaxes(0,1))"
   ]
  },
  {
   "cell_type": "markdown",
   "id": "aa7eec29",
   "metadata": {},
   "source": [
    "# random number generation"
   ]
  },
  {
   "cell_type": "code",
   "execution_count": 1,
   "id": "d91922eb",
   "metadata": {},
   "outputs": [
    {
     "data": {
      "text/plain": [
       "array([0.87698459, 0.19707998, 0.45281431, 0.63347171, 0.91292143])"
      ]
     },
     "execution_count": 1,
     "metadata": {},
     "output_type": "execute_result"
    }
   ],
   "source": [
    "import numpy as np\n",
    "r=np.random.rand(5)# return 5 random numbers \n",
    "r"
   ]
  },
  {
   "cell_type": "code",
   "execution_count": 2,
   "id": "72fd4cd6",
   "metadata": {},
   "outputs": [
    {
     "data": {
      "text/plain": [
       "array([9, 8, 2, 5, 2])"
      ]
     },
     "execution_count": 2,
     "metadata": {},
     "output_type": "execute_result"
    }
   ],
   "source": [
    "r=np.random.randint(1,10,size=5) #it give 5 random number betweeen 1 and 10.\n",
    "r"
   ]
  },
  {
   "cell_type": "code",
   "execution_count": 5,
   "id": "49180d94",
   "metadata": {},
   "outputs": [
    {
     "data": {
      "text/plain": [
       "array([ 0.62214103, -1.04053721,  0.3865073 , -0.19502082, -0.87485641])"
      ]
     },
     "execution_count": 5,
     "metadata": {},
     "output_type": "execute_result"
    }
   ],
   "source": [
    "r=np.random.randn(5) #it returns by default 5 number whose mean is 0 and stardand deviation 1.\n",
    "r"
   ]
  },
  {
   "cell_type": "code",
   "execution_count": 6,
   "id": "9fe55964",
   "metadata": {},
   "outputs": [
    {
     "data": {
      "text/plain": [
       "array([20, 50, 10])"
      ]
     },
     "execution_count": 6,
     "metadata": {},
     "output_type": "execute_result"
    }
   ],
   "source": [
    "r=np.random.choice([10,20,30,50],size=3,replace=False) #it returns element from the sequence without repetation\n",
    "r"
   ]
  },
  {
   "cell_type": "code",
   "execution_count": 8,
   "id": "98e8a495",
   "metadata": {},
   "outputs": [
    {
     "data": {
      "text/plain": [
       "array([30, 30, 10])"
      ]
     },
     "execution_count": 8,
     "metadata": {},
     "output_type": "execute_result"
    }
   ],
   "source": [
    "r=np.random.choice([10,20,30,50],size=3,replace=True)#it returns element from the sequence with repetation\n",
    "r"
   ]
  },
  {
   "cell_type": "code",
   "execution_count": 10,
   "id": "72aa62a7",
   "metadata": {},
   "outputs": [
    {
     "data": {
      "text/plain": [
       "array([0.77395605, 0.43887844, 0.85859792, 0.69736803, 0.09417735])"
      ]
     },
     "execution_count": 10,
     "metadata": {},
     "output_type": "execute_result"
    }
   ],
   "source": [
    "from numpy.random import default_rng\n",
    "rng=default_rng(42) #pseudo random number generator\n",
    "rn=rng.random(5)\n",
    "rn"
   ]
  },
  {
   "cell_type": "code",
   "execution_count": 16,
   "id": "9b28f4b2",
   "metadata": {},
   "outputs": [
    {
     "data": {
      "text/plain": [
       "array([5, 3, 1, 5, 8], dtype=int64)"
      ]
     },
     "execution_count": 16,
     "metadata": {},
     "output_type": "execute_result"
    }
   ],
   "source": [
    "rn=rng.integers(1,10,size=5) #(low,high,size)\n",
    "rn"
   ]
  },
  {
   "cell_type": "code",
   "execution_count": 14,
   "id": "bc3f43cc",
   "metadata": {},
   "outputs": [
    {
     "data": {
      "text/plain": [
       "array([0.87939797, 0.77779194, 0.0660307 , 1.12724121, 0.46750934])"
      ]
     },
     "execution_count": 14,
     "metadata": {},
     "output_type": "execute_result"
    }
   ],
   "source": [
    "rn=rng.normal(0,1,size=5)\n",
    "rn"
   ]
  },
  {
   "cell_type": "code",
   "execution_count": 17,
   "id": "7620dfe1",
   "metadata": {},
   "outputs": [
    {
     "data": {
      "text/plain": [
       "array([50, 40, 10])"
      ]
     },
     "execution_count": 17,
     "metadata": {},
     "output_type": "execute_result"
    }
   ],
   "source": [
    "arr=np.array([10,20,40,50])\n",
    "rn=rng.choice(arr,size=3,replace=False)\n",
    "rn"
   ]
  },
  {
   "cell_type": "code",
   "execution_count": 18,
   "id": "f12c6a15",
   "metadata": {},
   "outputs": [
    {
     "data": {
      "text/plain": [
       "array([[-1.68035482, -1.51474416, -0.76582206,  0.58677545],\n",
       "       [ 0.98002213,  0.5573048 , -0.77487912,  0.34261215],\n",
       "       [-1.52951055,  1.57340516, -2.23502886, -0.41726015],\n",
       "       [-1.74602108,  0.17861901,  0.47734212, -2.32195401]])"
      ]
     },
     "execution_count": 18,
     "metadata": {},
     "output_type": "execute_result"
    }
   ],
   "source": [
    "samples=np.random.standard_normal(size=(4,4))\n",
    "samples"
   ]
  },
  {
   "cell_type": "code",
   "execution_count": 19,
   "id": "e8db9261",
   "metadata": {},
   "outputs": [
    {
     "name": "stdout",
     "output_type": "stream",
     "text": [
      "264 µs ± 4.02 µs per loop (mean ± std. dev. of 7 runs, 1,000 loops each)\n"
     ]
    }
   ],
   "source": [
    "n=10000\n",
    "%timeit samples=np.random.standard_normal(n)"
   ]
  },
  {
   "cell_type": "code",
   "execution_count": 22,
   "id": "a331737f",
   "metadata": {},
   "outputs": [
    {
     "name": "stdout",
     "output_type": "stream",
     "text": [
      "8.96 ms ± 115 µs per loop (mean ± std. dev. of 7 runs, 100 loops each)\n"
     ]
    }
   ],
   "source": [
    "import random\n",
    "%timeit samples=[random.normalvariate(0,1) for _ in range(n)]"
   ]
  },
  {
   "cell_type": "code",
   "execution_count": 24,
   "id": "3873045c",
   "metadata": {},
   "outputs": [
    {
     "data": {
      "text/plain": [
       "array([6, 4, 8, 7, 6], dtype=int64)"
      ]
     },
     "execution_count": 24,
     "metadata": {},
     "output_type": "execute_result"
    }
   ],
   "source": [
    "rn=rng.binomial(n=10,p=0.5,size=5)\n",
    "rn"
   ]
  },
  {
   "cell_type": "code",
   "execution_count": 25,
   "id": "103a1148",
   "metadata": {},
   "outputs": [
    {
     "data": {
      "text/plain": [
       "array([0.14815151, 0.0745906 , 0.38364984, 0.68018341, 0.81464723])"
      ]
     },
     "execution_count": 25,
     "metadata": {},
     "output_type": "execute_result"
    }
   ],
   "source": [
    "rn=rng.beta(a=0.5,b=0.5,size=5)\n",
    "rn"
   ]
  },
  {
   "cell_type": "code",
   "execution_count": 27,
   "id": "ed539257",
   "metadata": {},
   "outputs": [
    {
     "data": {
      "text/plain": [
       "array([0.94667552, 1.8218915 , 3.06379062, 2.70575901, 2.06847488])"
      ]
     },
     "execution_count": 27,
     "metadata": {},
     "output_type": "execute_result"
    }
   ],
   "source": [
    "rn=rng.gamma(shape=2.0,scale=1.0,size=5)\n",
    "rn"
   ]
  },
  {
   "cell_type": "code",
   "execution_count": 26,
   "id": "0fdf34f3",
   "metadata": {},
   "outputs": [
    {
     "data": {
      "text/plain": [
       "array([0.59389442, 2.66740485, 2.78172797, 2.16816586, 0.1460567 ])"
      ]
     },
     "execution_count": 26,
     "metadata": {},
     "output_type": "execute_result"
    }
   ],
   "source": [
    "rn=rng.chisquare(df=2,size=5)# degree of freedom\n",
    "rn"
   ]
  },
  {
   "cell_type": "code",
   "execution_count": 29,
   "id": "d15035cc",
   "metadata": {},
   "outputs": [
    {
     "data": {
      "text/plain": [
       "array([ 1,  5,  4,  5,  6, 67,  7])"
      ]
     },
     "execution_count": 29,
     "metadata": {},
     "output_type": "execute_result"
    }
   ],
   "source": [
    "rn=rng.permutation([1,5,4,5,6,67,7])\n",
    "rn"
   ]
  },
  {
   "cell_type": "code",
   "execution_count": 30,
   "id": "ca9a0601",
   "metadata": {},
   "outputs": [
    {
     "name": "stdout",
     "output_type": "stream",
     "text": [
      "Help on built-in function chisquare:\n",
      "\n",
      "chisquare(...) method of numpy.random._generator.Generator instance\n",
      "    chisquare(df, size=None)\n",
      "    \n",
      "    Draw samples from a chi-square distribution.\n",
      "    \n",
      "    When `df` independent random variables, each with standard normal\n",
      "    distributions (mean 0, variance 1), are squared and summed, the\n",
      "    resulting distribution is chi-square (see Notes).  This distribution\n",
      "    is often used in hypothesis testing.\n",
      "    \n",
      "    Parameters\n",
      "    ----------\n",
      "    df : float or array_like of floats\n",
      "         Number of degrees of freedom, must be > 0.\n",
      "    size : int or tuple of ints, optional\n",
      "        Output shape.  If the given shape is, e.g., ``(m, n, k)``, then\n",
      "        ``m * n * k`` samples are drawn.  If size is ``None`` (default),\n",
      "        a single value is returned if ``df`` is a scalar.  Otherwise,\n",
      "        ``np.array(df).size`` samples are drawn.\n",
      "    \n",
      "    Returns\n",
      "    -------\n",
      "    out : ndarray or scalar\n",
      "        Drawn samples from the parameterized chi-square distribution.\n",
      "    \n",
      "    Raises\n",
      "    ------\n",
      "    ValueError\n",
      "        When `df` <= 0 or when an inappropriate `size` (e.g. ``size=-1``)\n",
      "        is given.\n",
      "    \n",
      "    Notes\n",
      "    -----\n",
      "    The variable obtained by summing the squares of `df` independent,\n",
      "    standard normally distributed random variables:\n",
      "    \n",
      "    .. math:: Q = \\sum_{i=0}^{\\mathtt{df}} X^2_i\n",
      "    \n",
      "    is chi-square distributed, denoted\n",
      "    \n",
      "    .. math:: Q \\sim \\chi^2_k.\n",
      "    \n",
      "    The probability density function of the chi-squared distribution is\n",
      "    \n",
      "    .. math:: p(x) = \\frac{(1/2)^{k/2}}{\\Gamma(k/2)}\n",
      "                     x^{k/2 - 1} e^{-x/2},\n",
      "    \n",
      "    where :math:`\\Gamma` is the gamma function,\n",
      "    \n",
      "    .. math:: \\Gamma(x) = \\int_0^{-\\infty} t^{x - 1} e^{-t} dt.\n",
      "    \n",
      "    References\n",
      "    ----------\n",
      "    .. [1] NIST \"Engineering Statistics Handbook\"\n",
      "           https://www.itl.nist.gov/div898/handbook/eda/section3/eda3666.htm\n",
      "    \n",
      "    Examples\n",
      "    --------\n",
      "    >>> np.random.default_rng().chisquare(2,4)\n",
      "    array([ 1.89920014,  9.00867716,  3.13710533,  5.62318272]) # random\n",
      "\n"
     ]
    }
   ],
   "source": [
    "help(rng.chisquare)"
   ]
  },
  {
   "cell_type": "code",
   "execution_count": null,
   "id": "684aed32",
   "metadata": {},
   "outputs": [],
   "source": [
    "pip install matplotlib"
   ]
  },
  {
   "cell_type": "code",
   "execution_count": 32,
   "id": "c88827c1",
   "metadata": {},
   "outputs": [
    {
     "name": "stdout",
     "output_type": "stream",
     "text": [
      "[2 1 3 4]\n"
     ]
    }
   ],
   "source": [
    "arr=np.array([1,2,3,4])\n",
    "rn=rng.shuffle(arr)\n",
    "print(arr)"
   ]
  },
  {
   "cell_type": "code",
   "execution_count": 33,
   "id": "fb747a91",
   "metadata": {},
   "outputs": [
    {
     "data": {
      "text/plain": [
       "(array([ 10.,  30.,  83., 153., 224., 243., 147.,  70.,  34.,   6.]),\n",
       " array([-2.93292553, -2.3500991 , -1.76727267, -1.18444624, -0.6016198 ,\n",
       "        -0.01879337,  0.56403306,  1.14685949,  1.72968592,  2.31251235,\n",
       "         2.89533879]),\n",
       " <BarContainer object of 10 artists>)"
      ]
     },
     "execution_count": 33,
     "metadata": {},
     "output_type": "execute_result"
    },
    {
     "data": {
      "image/png": "[encoded data removed]",
      "text/plain": [
       "<Figure size 432x288 with 1 Axes>"
      ]
     },
     "metadata": {
      "needs_background": "light"
     },
     "output_type": "display_data"
    }
   ],
   "source": [
    "import matplotlib.pyplot as plt\n",
    "s=np.random.normal(0,1,1000)\n",
    "plt.hist(s)"
   ]
  },
  {
   "cell_type": "code",
   "execution_count": 36,
   "id": "b9c2e5b3",
   "metadata": {},
   "outputs": [
    {
     "data": {
      "text/plain": [
       "(array([0.00960064, 0.00960064, 0.00480032, 0.01440096, 0.03840255,\n",
       "        0.03360223, 0.05280351, 0.09120606, 0.13440893, 0.23041531,\n",
       "        0.26401755, 0.21601436, 0.3792252 , 0.33122201, 0.36002393,\n",
       "        0.43682903, 0.32162137, 0.45603031, 0.34082265, 0.24481627,\n",
       "        0.20641372, 0.19201276, 0.16321085, 0.11520766, 0.07200479,\n",
       "        0.04320287, 0.01920128, 0.01440096, 0.        , 0.00480032]),\n",
       " array([-3.24937182, -3.04105234, -2.83273285, -2.62441336, -2.41609387,\n",
       "        -2.20777438, -1.9994549 , -1.79113541, -1.58281592, -1.37449643,\n",
       "        -1.16617694, -0.95785746, -0.74953797, -0.54121848, -0.33289899,\n",
       "        -0.12457951,  0.08373998,  0.29205947,  0.50037896,  0.70869845,\n",
       "         0.91701793,  1.12533742,  1.33365691,  1.5419764 ,  1.75029589,\n",
       "         1.95861537,  2.16693486,  2.37525435,  2.58357384,  2.79189333,\n",
       "         3.00021281]),\n",
       " <BarContainer object of 30 artists>)"
      ]
     },
     "execution_count": 36,
     "metadata": {},
     "output_type": "execute_result"
    },
    {
     "data": {
      "image/png": "[encoded data removed]",
      "text/plain": [
       "<Figure size 432x288 with 1 Axes>"
      ]
     },
     "metadata": {
      "needs_background": "light"
     },
     "output_type": "display_data"
    }
   ],
   "source": [
    "import matplotlib.pyplot as plt\n",
    "s=np.random.normal(0,1,1000)\n",
    "plt.hist(s,bins=30,color='skyblue',density=True,edgecolor='black')"
   ]
  },
  {
   "cell_type": "code",
   "execution_count": 37,
   "id": "12bb3a69",
   "metadata": {},
   "outputs": [
    {
     "data": {
      "text/plain": [
       "(array([1.11233541, 1.02214606, 1.02214606, 0.96201982, 1.11233541,\n",
       "        1.05220918, 0.9319567 , 1.23258789, 1.17246165, 0.96201982,\n",
       "        1.02214606, 0.99208294, 0.7816411 , 1.08227229, 0.96201982,\n",
       "        0.54113615, 0.84176734, 1.23258789, 1.17246165, 0.9319567 ,\n",
       "        1.20252477, 0.9319567 , 1.08227229, 0.7816411 , 1.05220918,\n",
       "        1.05220918, 0.96201982, 0.57119927, 1.02214606, 1.26265101]),\n",
       " array([4.37646193e-04, 3.37009942e-02, 6.69643422e-02, 1.00227690e-01,\n",
       "        1.33491038e-01, 1.66754386e-01, 2.00017734e-01, 2.33281082e-01,\n",
       "        2.66544430e-01, 2.99807778e-01, 3.33071126e-01, 3.66334474e-01,\n",
       "        3.99597822e-01, 4.32861170e-01, 4.66124518e-01, 4.99387866e-01,\n",
       "        5.32651215e-01, 5.65914563e-01, 5.99177911e-01, 6.32441259e-01,\n",
       "        6.65704607e-01, 6.98967955e-01, 7.32231303e-01, 7.65494651e-01,\n",
       "        7.98757999e-01, 8.32021347e-01, 8.65284695e-01, 8.98548043e-01,\n",
       "        9.31811391e-01, 9.65074739e-01, 9.98338087e-01]),\n",
       " <BarContainer object of 30 artists>)"
      ]
     },
     "execution_count": 37,
     "metadata": {},
     "output_type": "execute_result"
    },
    {
     "data": {
      "image/png": "[encoded data removed]",
      "text/plain": [
       "<Figure size 432x288 with 1 Axes>"
      ]
     },
     "metadata": {
      "needs_background": "light"
     },
     "output_type": "display_data"
    }
   ],
   "source": [
    "import matplotlib.pyplot as plt\n",
    "s=np.random.uniform(0,1,1000)\n",
    "plt.hist(s,bins=30,color='skyblue',density=True,edgecolor='black')"
   ]
  },
  {
   "cell_type": "code",
   "execution_count": 42,
   "id": "45f84305",
   "metadata": {},
   "outputs": [
    {
     "name": "stdout",
     "output_type": "stream",
     "text": [
      "(array([58., 47., 48., 56., 50., 61., 50., 49., 44., 50., 31., 56., 53.,\n",
      "       57., 48., 45., 55., 47., 39., 56.]), array([4.37646193e-04, 5.03326682e-02, 1.00227690e-01, 1.50122712e-01,\n",
      "       2.00017734e-01, 2.49912756e-01, 2.99807778e-01, 3.49702800e-01,\n",
      "       3.99597822e-01, 4.49492844e-01, 4.99387866e-01, 5.49282889e-01,\n",
      "       5.99177911e-01, 6.49072933e-01, 6.98967955e-01, 7.48862977e-01,\n",
      "       7.98757999e-01, 8.48653021e-01, 8.98548043e-01, 9.48443065e-01,\n",
      "       9.98338087e-01]), <BarContainer object of 20 artists>)\n"
     ]
    },
    {
     "data": {
      "image/png": "[encoded data removed]",
      "text/plain": [
       "<Figure size 432x288 with 1 Axes>"
      ]
     },
     "metadata": {
      "needs_background": "light"
     },
     "output_type": "display_data"
    }
   ],
   "source": [
    "print(plt.hist(s,bins=20))"
   ]
  },
  {
   "cell_type": "code",
   "execution_count": 43,
   "id": "6ddc47cf",
   "metadata": {},
   "outputs": [
    {
     "name": "stdout",
     "output_type": "stream",
     "text": [
      "[0 1 2 3 4 5 6 7]\n"
     ]
    }
   ],
   "source": [
    "arr=np.arange(8)\n",
    "print(arr)"
   ]
  },
  {
   "cell_type": "code",
   "execution_count": 44,
   "id": "331c3d55",
   "metadata": {},
   "outputs": [
    {
     "data": {
      "text/plain": [
       "array([0.        , 1.        , 1.41421356, 1.73205081, 2.        ,\n",
       "       2.23606798, 2.44948974, 2.64575131])"
      ]
     },
     "execution_count": 44,
     "metadata": {},
     "output_type": "execute_result"
    }
   ],
   "source": [
    "np.sqrt(arr)"
   ]
  },
  {
   "cell_type": "code",
   "execution_count": 45,
   "id": "6fc9f345",
   "metadata": {},
   "outputs": [
    {
     "data": {
      "text/plain": [
       "array([1.00000000e+00, 2.71828183e+00, 7.38905610e+00, 2.00855369e+01,\n",
       "       5.45981500e+01, 1.48413159e+02, 4.03428793e+02, 1.09663316e+03])"
      ]
     },
     "execution_count": 45,
     "metadata": {},
     "output_type": "execute_result"
    }
   ],
   "source": [
    "np.exp(arr)"
   ]
  },
  {
   "cell_type": "markdown",
   "id": "0897a957",
   "metadata": {},
   "source": [
    "# ufunc"
   ]
  },
  {
   "cell_type": "code",
   "execution_count": 46,
   "id": "56b0840a",
   "metadata": {},
   "outputs": [
    {
     "name": "stdout",
     "output_type": "stream",
     "text": [
      "x [-0.34872507 -0.46235179  0.85797588 -0.19130432 -1.27568632 -1.13328721\n",
      " -0.91945229  0.49716074]\n",
      "y [ 0.14242574  0.69048535 -0.42725265  0.15853969  0.62559039 -0.30934654\n",
      "  0.45677524 -0.66192594]\n"
     ]
    },
    {
     "data": {
      "text/plain": [
       "array([ 0.14242574,  0.69048535,  0.85797588,  0.15853969,  0.62559039,\n",
       "       -0.30934654,  0.45677524,  0.49716074])"
      ]
     },
     "execution_count": 46,
     "metadata": {},
     "output_type": "execute_result"
    }
   ],
   "source": [
    "x=rng.standard_normal(8)\n",
    "y=rng.standard_normal(8)\n",
    "print('x',x)\n",
    "print('y',y)\n",
    "np.maximum(x,y) # it will compare indexing wise."
   ]
  },
  {
   "cell_type": "code",
   "execution_count": 50,
   "id": "b963b1f9",
   "metadata": {},
   "outputs": [
    {
     "data": {
      "text/plain": [
       "array([-0.34872507, -0.46235179, -0.42725265, -0.19130432, -1.27568632,\n",
       "       -1.13328721, -0.91945229, -0.66192594])"
      ]
     },
     "execution_count": 50,
     "metadata": {},
     "output_type": "execute_result"
    }
   ],
   "source": [
    "np.add(x,y)\n",
    "\n"
   ]
  },
  {
   "cell_type": "code",
   "execution_count": 51,
   "id": "fae78cbd",
   "metadata": {},
   "outputs": [
    {
     "data": {
      "text/plain": [
       "array([-0.34872507, -0.46235179, -0.42725265, -0.19130432, -1.27568632,\n",
       "       -1.13328721, -0.91945229, -0.66192594])"
      ]
     },
     "execution_count": 51,
     "metadata": {},
     "output_type": "execute_result"
    }
   ],
   "source": [
    "np.minimum(x,y)"
   ]
  },
  {
   "cell_type": "code",
   "execution_count": null,
   "id": "bac04105",
   "metadata": {},
   "outputs": [],
   "source": []
  },
  {
   "cell_type": "markdown",
   "id": "7d0960ce",
   "metadata": {},
   "source": []
  },
  {
   "cell_type": "raw",
   "id": "0eec8d29",
   "metadata": {},
   "source": []
  },
  {
   "cell_type": "code",
   "execution_count": 56,
   "id": "6b4f3b2e",
   "metadata": {},
   "outputs": [
    {
     "data": {
      "text/plain": [
       "array([-1.81526923, -1.90868947, -5.97919823,  2.4348624 , -2.3470117 ,\n",
       "        0.06247059,  2.40373329])"
      ]
     },
     "execution_count": 56,
     "metadata": {},
     "output_type": "execute_result"
    }
   ],
   "source": [
    "arr=rng.standard_normal(7)*5\n",
    "arr"
   ]
  },
  {
   "cell_type": "code",
   "execution_count": 57,
   "id": "920d7f74",
   "metadata": {},
   "outputs": [
    {
     "name": "stdout",
     "output_type": "stream",
     "text": [
      "reminder [-0.81526923 -0.90868947 -0.97919823  0.4348624  -0.3470117   0.06247059\n",
      "  0.40373329]\n",
      "whole_part [-1. -1. -5.  2. -2.  0.  2.]\n"
     ]
    }
   ],
   "source": [
    "reminder,whole_part=np.modf(arr) #in somecases ufunc can return multiple arrays.it divide into teo arrays and return it.\n",
    "print('reminder',reminder)\n",
    "print('whole_part',whole_part)"
   ]
  },
  {
   "cell_type": "code",
   "execution_count": 58,
   "id": "635fe7cf",
   "metadata": {},
   "outputs": [
    {
     "data": {
      "text/plain": [
       "array([-1.81526923, -1.90868947, -5.97919823,  2.4348624 , -2.3470117 ,\n",
       "        0.06247059,  2.40373329])"
      ]
     },
     "execution_count": 58,
     "metadata": {},
     "output_type": "execute_result"
    }
   ],
   "source": [
    "arr"
   ]
  },
  {
   "cell_type": "code",
   "execution_count": 59,
   "id": "cf001c13",
   "metadata": {},
   "outputs": [
    {
     "data": {
      "text/plain": [
       "array([0., 0., 0., 0., 0., 0., 0.])"
      ]
     },
     "execution_count": 59,
     "metadata": {},
     "output_type": "execute_result"
    }
   ],
   "source": [
    "arr2=np.zeros(7)\n",
    "arr2"
   ]
  },
  {
   "cell_type": "code",
   "execution_count": 60,
   "id": "9c47357b",
   "metadata": {},
   "outputs": [
    {
     "data": {
      "text/plain": [
       "array([-0.81526923, -0.90868947, -4.97919823,  3.4348624 , -1.3470117 ,\n",
       "        1.06247059,  3.40373329])"
      ]
     },
     "execution_count": 60,
     "metadata": {},
     "output_type": "execute_result"
    }
   ],
   "source": [
    "np.add(arr,1,out=arr2)\n",
    "arr2"
   ]
  },
  {
   "cell_type": "code",
   "execution_count": 63,
   "id": "e38a7284",
   "metadata": {},
   "outputs": [
    {
     "data": {
      "text/plain": [
       "array([ 3.18473077,  3.09131053, -0.97919823,  7.4348624 ,  2.6529883 ,\n",
       "        5.06247059,  7.40373329])"
      ]
     },
     "execution_count": 63,
     "metadata": {},
     "output_type": "execute_result"
    }
   ],
   "source": [
    "np.add(arr,5,out=arr2)\n",
    "arr2"
   ]
  },
  {
   "cell_type": "markdown",
   "id": "775866ee",
   "metadata": {},
   "source": [
    "# Meshgrid function"
   ]
  },
  {
   "cell_type": "code",
   "execution_count": 65,
   "id": "68c2df51",
   "metadata": {},
   "outputs": [
    {
     "name": "stdout",
     "output_type": "stream",
     "text": [
      "[[0 1 2]\n",
      " [0 1 2]\n",
      " [0 1 2]]\n",
      "[[0 0 0]\n",
      " [1 1 1]\n",
      " [2 2 2]]\n"
     ]
    }
   ],
   "source": [
    "points=np.arange(0,3)\n",
    "xs,ys=np.meshgrid(points,points)\n",
    "print(xs)\n",
    "print(ys)"
   ]
  },
  {
   "cell_type": "code",
   "execution_count": 66,
   "id": "9c21b86a",
   "metadata": {},
   "outputs": [
    {
     "data": {
      "text/plain": [
       "array([[0.        , 1.        , 2.        ],\n",
       "       [1.        , 1.41421356, 2.23606798],\n",
       "       [2.        , 2.23606798, 2.82842712]])"
      ]
     },
     "execution_count": 66,
     "metadata": {},
     "output_type": "execute_result"
    }
   ],
   "source": [
    "z=np.sqrt(xs**2+ys**2)\n",
    "z"
   ]
  },
  {
   "cell_type": "code",
   "execution_count": 70,
   "id": "c2710ca6",
   "metadata": {},
   "outputs": [
    {
     "data": {
      "text/plain": [
       "<matplotlib.colorbar.Colorbar at 0x1cd89f6ba00>"
      ]
     },
     "execution_count": 70,
     "metadata": {},
     "output_type": "execute_result"
    },
    {
     "data": {
      "image/png": "[encoded data removed]",
      "text/plain": [
       "<Figure size 432x288 with 2 Axes>"
      ]
     },
     "metadata": {
      "needs_background": "light"
     },
     "output_type": "display_data"
    }
   ],
   "source": [
    "plt.imshow(z,cmap=plt.cm.jet)\n",
    "plt.colorbar()"
   ]
  },
  {
   "cell_type": "code",
   "execution_count": 72,
   "id": "3e4550bf",
   "metadata": {},
   "outputs": [
    {
     "data": {
      "text/plain": [
       "[1.1, 2.2, 1.3, 1.4, 2.5]"
      ]
     },
     "execution_count": 72,
     "metadata": {},
     "output_type": "execute_result"
    }
   ],
   "source": [
    "xarr=np.array([1.1,1.2,1.3,1.4,1.5])\n",
    "yarr=np.array([2.1,2.2,2.3,2.4,2.5])\n",
    "cond=np.array([True,False,True,True,False])\n",
    "Result=[]\n",
    "for x,y,c in zip(xarr,yarr,cond):\n",
    "    if c:\n",
    "        Result.append(x)\n",
    "    else:\n",
    "        Result.append(y)\n",
    "Result        "
   ]
  },
  {
   "cell_type": "code",
   "execution_count": null,
   "id": "5549c91a",
   "metadata": {},
   "outputs": [],
   "source": []
  }
 ],
 "metadata": {
  "kernelspec": {
   "display_name": "Python 3 (ipykernel)",
   "language": "python",
   "name": "python3"
  },
  "language_info": {
   "codemirror_mode": {
    "name": "ipython",
    "version": 3
   },
   "file_extension": ".py",
   "mimetype": "text/x-python",
   "name": "python",
   "nbconvert_exporter": "python",
   "pygments_lexer": "ipython3",
   "version": "3.9.12"
  }
 },
 "nbformat": 4,
 "nbformat_minor": 5
}
