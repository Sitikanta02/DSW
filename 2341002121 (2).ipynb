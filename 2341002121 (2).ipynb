{
 "cells": [
  {
   "cell_type": "code",
   "execution_count": 1,
   "id": "1666c37b",
   "metadata": {},
   "outputs": [
    {
     "name": "stdout",
     "output_type": "stream",
     "text": [
      "hello world\n"
     ]
    }
   ],
   "source": [
    "print(\"hello world\")"
   ]
  },
  {
   "cell_type": "code",
   "execution_count": 2,
   "id": "d36a42a1",
   "metadata": {},
   "outputs": [
    {
     "data": {
      "text/plain": [
       "8"
      ]
     },
     "execution_count": 2,
     "metadata": {},
     "output_type": "execute_result"
    }
   ],
   "source": [
    "5+3"
   ]
  },
  {
   "cell_type": "markdown",
   "id": "cd52125e",
   "metadata": {},
   "source": [
    "# heading\n",
    "## sub heading 1\n",
    "### sub heading\n",
    "this is DSW\n"
   ]
  },
  {
   "cell_type": "code",
   "execution_count": 3,
   "id": "4646c4c6",
   "metadata": {},
   "outputs": [],
   "source": [
    "#this is single line"
   ]
  },
  {
   "cell_type": "code",
   "execution_count": 4,
   "id": "63d0a271",
   "metadata": {},
   "outputs": [],
   "source": [
    "a,b=4,5"
   ]
  },
  {
   "cell_type": "code",
   "execution_count": 5,
   "id": "b20a6c46",
   "metadata": {},
   "outputs": [
    {
     "name": "stdout",
     "output_type": "stream",
     "text": [
      "5\n"
     ]
    }
   ],
   "source": [
    "print (b)"
   ]
  },
  {
   "cell_type": "code",
   "execution_count": 6,
   "id": "cc906916",
   "metadata": {},
   "outputs": [
    {
     "ename": "IndentationError",
     "evalue": "unexpected indent (4145110108.py, line 2)",
     "output_type": "error",
     "traceback": [
      "\u001b[1;36m  Input \u001b[1;32mIn [6]\u001b[1;36m\u001b[0m\n\u001b[1;33m    b=9\u001b[0m\n\u001b[1;37m    ^\u001b[0m\n\u001b[1;31mIndentationError\u001b[0m\u001b[1;31m:\u001b[0m unexpected indent\n"
     ]
    }
   ],
   "source": [
    "a=8\n",
    "  b=9"
   ]
  },
  {
   "cell_type": "code",
   "execution_count": 7,
   "id": "9a7edb0d",
   "metadata": {},
   "outputs": [
    {
     "data": {
      "text/plain": [
       "9"
      ]
     },
     "execution_count": 7,
     "metadata": {},
     "output_type": "execute_result"
    }
   ],
   "source": [
    "c=a+b\n",
    "c"
   ]
  },
  {
   "cell_type": "code",
   "execution_count": 8,
   "id": "2caac989",
   "metadata": {},
   "outputs": [
    {
     "data": {
      "text/plain": [
       "int"
      ]
     },
     "execution_count": 8,
     "metadata": {},
     "output_type": "execute_result"
    }
   ],
   "source": [
    "type(c)"
   ]
  },
  {
   "cell_type": "code",
   "execution_count": 9,
   "id": "8c419086",
   "metadata": {},
   "outputs": [],
   "source": [
    "a=16.8"
   ]
  },
  {
   "cell_type": "code",
   "execution_count": 13,
   "id": "df90a608",
   "metadata": {},
   "outputs": [
    {
     "data": {
      "text/plain": [
       "16.8"
      ]
     },
     "execution_count": 13,
     "metadata": {},
     "output_type": "execute_result"
    }
   ],
   "source": [
    "d=int(a)\n",
    "a"
   ]
  },
  {
   "cell_type": "code",
   "execution_count": 14,
   "id": "a7f85246",
   "metadata": {},
   "outputs": [
    {
     "data": {
      "text/plain": [
       "'16.8'"
      ]
     },
     "execution_count": 14,
     "metadata": {},
     "output_type": "execute_result"
    }
   ],
   "source": [
    "e=str(a)\n",
    "e"
   ]
  },
  {
   "cell_type": "code",
   "execution_count": 16,
   "id": "7207508a",
   "metadata": {},
   "outputs": [
    {
     "name": "stdout",
     "output_type": "stream",
     "text": [
      "13\n",
      "-3\n",
      "40\n",
      "0.625\n",
      "0\n",
      "5\n",
      "390625\n"
     ]
    }
   ],
   "source": [
    "a,b=5,8\n",
    "# addition\n",
    "c=a+b\n",
    "# subtraction\n",
    "d=a-b\n",
    "# multiplication\n",
    "e=a*b\n",
    "# Division\n",
    "f=a/b\n",
    "# floor division\n",
    "g=a//b\n",
    "# Modulus \n",
    "h=a%b\n",
    "# exponention\n",
    "i=a ** b\n",
    "print(c)\n",
    "print(d)\n",
    "print(e)\n",
    "print(f)\n",
    "print(g)\n",
    "print(h)\n",
    "print(i)"
   ]
  },
  {
   "cell_type": "markdown",
   "id": "7960d3cf",
   "metadata": {},
   "source": [
    "## comparison operators"
   ]
  },
  {
   "cell_type": "code",
   "execution_count": 18,
   "id": "595de5b9",
   "metadata": {
    "scrolled": true
   },
   "outputs": [
    {
     "name": "stdout",
     "output_type": "stream",
     "text": [
      "False\n",
      "True\n",
      "False\n",
      "True\n",
      "False\n",
      "True\n"
     ]
    }
   ],
   "source": [
    "print(a>b)\n",
    "print(a<b)\n",
    "print(a==b)\n",
    "print(a!=b)\n",
    "print(a>=b)\n",
    "print(a<=b)"
   ]
  },
  {
   "cell_type": "code",
   "execution_count": 19,
   "id": "452e4eae",
   "metadata": {},
   "outputs": [
    {
     "data": {
      "text/plain": [
       "True"
      ]
     },
     "execution_count": 19,
     "metadata": {},
     "output_type": "execute_result"
    }
   ],
   "source": [
    "not(9<3)"
   ]
  },
  {
   "cell_type": "code",
   "execution_count": 20,
   "id": "fad7647e",
   "metadata": {},
   "outputs": [
    {
     "data": {
      "text/plain": [
       "False"
      ]
     },
     "execution_count": 20,
     "metadata": {},
     "output_type": "execute_result"
    }
   ],
   "source": [
    "(5<2) and (6>5)"
   ]
  },
  {
   "cell_type": "code",
   "execution_count": 21,
   "id": "ee78a7a3",
   "metadata": {},
   "outputs": [
    {
     "data": {
      "text/plain": [
       "True"
      ]
     },
     "execution_count": 21,
     "metadata": {},
     "output_type": "execute_result"
    }
   ],
   "source": [
    "(6<7) or (8<9)"
   ]
  },
  {
   "cell_type": "code",
   "execution_count": 22,
   "id": "927b36cb",
   "metadata": {},
   "outputs": [
    {
     "data": {
      "text/plain": [
       "15"
      ]
     },
     "execution_count": 22,
     "metadata": {},
     "output_type": "execute_result"
    }
   ],
   "source": [
    "a=9\n",
    "a+=6\n",
    "a"
   ]
  },
  {
   "cell_type": "code",
   "execution_count": 24,
   "id": "f1160838",
   "metadata": {
    "scrolled": true
   },
   "outputs": [
    {
     "ename": "SyntaxError",
     "evalue": "invalid syntax (691966144.py, line 2)",
     "output_type": "error",
     "traceback": [
      "\u001b[1;36m  Input \u001b[1;32mIn [24]\u001b[1;36m\u001b[0m\n\u001b[1;33m    a-+=5\u001b[0m\n\u001b[1;37m      ^\u001b[0m\n\u001b[1;31mSyntaxError\u001b[0m\u001b[1;31m:\u001b[0m invalid syntax\n"
     ]
    }
   ],
   "source": []
  },
  {
   "cell_type": "code",
   "execution_count": 26,
   "id": "8f59c447",
   "metadata": {},
   "outputs": [
    {
     "data": {
      "text/plain": [
       "4"
      ]
     },
     "execution_count": 26,
     "metadata": {},
     "output_type": "execute_result"
    }
   ],
   "source": [
    "a=9\n",
    "a-=5\n",
    "a"
   ]
  },
  {
   "cell_type": "code",
   "execution_count": 27,
   "id": "7f1186e8",
   "metadata": {},
   "outputs": [
    {
     "name": "stdout",
     "output_type": "stream",
     "text": [
      "False\n"
     ]
    }
   ],
   "source": [
    "print('s' in 'apple')"
   ]
  },
  {
   "cell_type": "code",
   "execution_count": 29,
   "id": "fdda60b2",
   "metadata": {},
   "outputs": [
    {
     "name": "stdout",
     "output_type": "stream",
     "text": [
      "False\n",
      "True\n"
     ]
    }
   ],
   "source": [
    "print('s' in 'hello')\n",
    "print('F' in 'Furious')"
   ]
  },
  {
   "cell_type": "code",
   "execution_count": 30,
   "id": "bddfa134",
   "metadata": {},
   "outputs": [
    {
     "data": {
      "text/plain": [
       "4"
      ]
     },
     "execution_count": 30,
     "metadata": {},
     "output_type": "execute_result"
    }
   ],
   "source": [
    "5&4"
   ]
  },
  {
   "cell_type": "code",
   "execution_count": 34,
   "id": "f8777902",
   "metadata": {},
   "outputs": [
    {
     "data": {
      "text/plain": [
       "-5"
      ]
     },
     "execution_count": 34,
     "metadata": {},
     "output_type": "execute_result"
    }
   ],
   "source": [
    "~4"
   ]
  },
  {
   "cell_type": "code",
   "execution_count": 35,
   "id": "0dc7b811",
   "metadata": {},
   "outputs": [
    {
     "data": {
      "text/plain": [
       "2"
      ]
     },
     "execution_count": 35,
     "metadata": {},
     "output_type": "execute_result"
    }
   ],
   "source": [
    "~-3"
   ]
  },
  {
   "cell_type": "code",
   "execution_count": 36,
   "id": "f754396f",
   "metadata": {},
   "outputs": [
    {
     "data": {
      "text/plain": [
       "6"
      ]
     },
     "execution_count": 36,
     "metadata": {},
     "output_type": "execute_result"
    }
   ],
   "source": [
    "5^3            "
   ]
  },
  {
   "cell_type": "code",
   "execution_count": 37,
   "id": "d8afe363",
   "metadata": {},
   "outputs": [
    {
     "data": {
      "text/plain": [
       "0"
      ]
     },
     "execution_count": 37,
     "metadata": {},
     "output_type": "execute_result"
    }
   ],
   "source": [
    "5>>3"
   ]
  },
  {
   "cell_type": "code",
   "execution_count": 38,
   "id": "a2642b79",
   "metadata": {},
   "outputs": [
    {
     "data": {
      "text/plain": [
       "40"
      ]
     },
     "execution_count": 38,
     "metadata": {},
     "output_type": "execute_result"
    }
   ],
   "source": [
    "5<<3"
   ]
  },
  {
   "cell_type": "code",
   "execution_count": 39,
   "id": "2efc5da4",
   "metadata": {},
   "outputs": [
    {
     "data": {
      "text/plain": [
       "24"
      ]
     },
     "execution_count": 39,
     "metadata": {},
     "output_type": "execute_result"
    }
   ],
   "source": [
    "(5*3)+9-8%2"
   ]
  },
  {
   "cell_type": "code",
   "execution_count": 40,
   "id": "05deb9bc",
   "metadata": {},
   "outputs": [
    {
     "name": "stdout",
     "output_type": "stream",
     "text": [
      "i am hello\n",
      " world\n"
     ]
    }
   ],
   "source": [
    "print('i am hello\\n world')"
   ]
  },
  {
   "cell_type": "code",
   "execution_count": 41,
   "id": "fc88a1a7",
   "metadata": {},
   "outputs": [
    {
     "name": "stdout",
     "output_type": "stream",
     "text": [
      "i am hello\\n world\n"
     ]
    }
   ],
   "source": [
    "print(r'i am hello\\n world')"
   ]
  },
  {
   "cell_type": "code",
   "execution_count": 46,
   "id": "6aaefe21",
   "metadata": {},
   "outputs": [
    {
     "name": "stdout",
     "output_type": "stream",
     "text": [
      "i am  hello\\\\ world\n"
     ]
    }
   ],
   "source": [
    "print('i am  hello\\\\\\ world')"
   ]
  },
  {
   "cell_type": "code",
   "execution_count": 3,
   "id": "734a4105",
   "metadata": {},
   "outputs": [
    {
     "name": "stdout",
     "output_type": "stream",
     "text": [
      "10\n"
     ]
    }
   ],
   "source": [
    "a=5\n",
    "b=5.5\n",
    "c=a+b\n",
    "print(int(c))"
   ]
  },
  {
   "cell_type": "code",
   "execution_count": 4,
   "id": "9938ac72",
   "metadata": {},
   "outputs": [
    {
     "name": "stdout",
     "output_type": "stream",
     "text": [
      "hello python\n"
     ]
    }
   ],
   "source": [
    "s='hello python'\n",
    "print(s)"
   ]
  },
  {
   "cell_type": "code",
   "execution_count": 5,
   "id": "309050ae",
   "metadata": {},
   "outputs": [
    {
     "name": "stdout",
     "output_type": "stream",
     "text": [
      "hellopython\n",
      "p\n"
     ]
    }
   ],
   "source": [
    "s='hellopython'\n",
    "print(s)\n",
    "print(s[5])"
   ]
  },
  {
   "cell_type": "code",
   "execution_count": 7,
   "id": "811796b5",
   "metadata": {},
   "outputs": [
    {
     "name": "stdout",
     "output_type": "stream",
     "text": [
      "Hello !! \"welcome\" to 'python'\n"
     ]
    }
   ],
   "source": [
    "s=\"\"\"Hello !! \"welcome\" to 'python'\"\"\"\n",
    "print(s) "
   ]
  },
  {
   "cell_type": "code",
   "execution_count": 8,
   "id": "484ab20c",
   "metadata": {},
   "outputs": [
    {
     "ename": "NameError",
     "evalue": "name 'f' is not defined",
     "output_type": "error",
     "traceback": [
      "\u001b[1;31m---------------------------------------------------------------------------\u001b[0m",
      "\u001b[1;31mNameError\u001b[0m                                 Traceback (most recent call last)",
      "Input \u001b[1;32mIn [8]\u001b[0m, in \u001b[0;36m<cell line: 2>\u001b[1;34m()\u001b[0m\n\u001b[0;32m      1\u001b[0m s\u001b[38;5;241m=\u001b[39m\u001b[38;5;124m'\u001b[39m\u001b[38;5;124mhello\u001b[39m\u001b[38;5;124m'\u001b[39m\n\u001b[1;32m----> 2\u001b[0m s[\u001b[38;5;241m1\u001b[39m]\u001b[38;5;241m=\u001b[39m\u001b[43mf\u001b[49m\n",
      "\u001b[1;31mNameError\u001b[0m: name 'f' is not defined"
     ]
    }
   ],
   "source": [
    "s='hello'\n",
    "s[1]=f"
   ]
  },
  {
   "cell_type": "markdown",
   "id": "c0284846",
   "metadata": {},
   "source": [
    "# String Slicing"
   ]
  },
  {
   "cell_type": "code",
   "execution_count": 9,
   "id": "cd9c423b",
   "metadata": {},
   "outputs": [
    {
     "data": {
      "text/plain": [
       "'ello'"
      ]
     },
     "execution_count": 9,
     "metadata": {},
     "output_type": "execute_result"
    }
   ],
   "source": [
    "s='Hello ITER'\n",
    "s[1:5]"
   ]
  },
  {
   "cell_type": "code",
   "execution_count": 10,
   "id": "68305952",
   "metadata": {},
   "outputs": [
    {
     "data": {
      "text/plain": [
       "'pple'"
      ]
     },
     "execution_count": 10,
     "metadata": {},
     "output_type": "execute_result"
    }
   ],
   "source": [
    "s='apple fruit'\n",
    "s[1:5]"
   ]
  },
  {
   "cell_type": "code",
   "execution_count": 12,
   "id": "2edca0e5",
   "metadata": {},
   "outputs": [
    {
     "data": {
      "text/plain": [
       "'ITER'"
      ]
     },
     "execution_count": 12,
     "metadata": {},
     "output_type": "execute_result"
    }
   ],
   "source": [
    "s='Hello ITER'                                                                                                                                                                                                                                                                                                                                                                                                \n",
    "s[6:10]"
   ]
  },
  {
   "cell_type": "code",
   "execution_count": 21,
   "id": "25ecd7c9",
   "metadata": {},
   "outputs": [
    {
     "data": {
      "text/plain": [
       "'reti olleH'"
      ]
     },
     "execution_count": 21,
     "metadata": {},
     "output_type": "execute_result"
    }
   ],
   "source": [
    "s='Hello iter'\n",
    "s[-1:-11:-1]"
   ]
  },
  {
   "cell_type": "code",
   "execution_count": 18,
   "id": "aaa8c217",
   "metadata": {},
   "outputs": [
    {
     "name": "stdout",
     "output_type": "stream",
     "text": [
      "str[2:5]= LLO\n",
      "str[:5]= HELLO\n",
      "str[2:]= LLO PYTHON\n",
      "str[:]= HELLO PYTHON\n"
     ]
    }
   ],
   "source": [
    "str=\"HELLO PYTHON\"\n",
    "print('str[2:5]=',str[2:5])\n",
    "print('str[:5]=',str[:5])\n",
    "print('str[2:]=',str[2:])\n",
    "print('str[:]=',str[:])\n"
   ]
  },
  {
   "cell_type": "code",
   "execution_count": 19,
   "id": "196a5476",
   "metadata": {},
   "outputs": [
    {
     "name": "stdout",
     "output_type": "stream",
     "text": [
      "str(-5:-2]= YTH\n",
      "str[:-2]= HELLO PYTH\n",
      "str[-5:]= YTHON\n",
      "str[:]= HELLO PYTHON\n"
     ]
    }
   ],
   "source": [
    "str=\"HELLO PYTHON\"\n",
    "print('str(-5:-2]=',str[-5:-2])\n",
    "print('str[:-2]=',str[:-2])\n",
    "print('str[-5:]=',str[-5:])\n",
    "print('str[:]=',str[:])\n"
   ]
  },
  {
   "cell_type": "code",
   "execution_count": null,
   "id": "22deaa9d",
   "metadata": {},
   "outputs": [],
   "source": [
    "s=\"hello python\"\n",
    "s[3:7]"
   ]
  },
  {
   "cell_type": "markdown",
   "id": "6b5b9443",
   "metadata": {},
   "source": [
    "#  string concatenation"
   ]
  },
  {
   "cell_type": "code",
   "execution_count": 24,
   "id": "2b193681",
   "metadata": {},
   "outputs": [
    {
     "name": "stdout",
     "output_type": "stream",
     "text": [
      "hello python\n"
     ]
    }
   ],
   "source": [
    "s1='hello'\n",
    "s2='python'\n",
    "print(s1+' '+s2)"
   ]
  },
  {
   "cell_type": "markdown",
   "id": "2674d0bc",
   "metadata": {},
   "source": [
    "# String Repetition"
   ]
  },
  {
   "cell_type": "code",
   "execution_count": 26,
   "id": "09c3d76b",
   "metadata": {},
   "outputs": [
    {
     "data": {
      "text/plain": [
       "'how are youhow are youhow are youhow are youhow are youhow are youhow are youhow are youhow are youhow are you'"
      ]
     },
     "execution_count": 26,
     "metadata": {},
     "output_type": "execute_result"
    }
   ],
   "source": [
    "\"how are you\"* 10"
   ]
  },
  {
   "cell_type": "code",
   "execution_count": 33,
   "id": "27c02f84",
   "metadata": {},
   "outputs": [
    {
     "data": {
      "text/plain": [
       "'how are youhow are youhow are youhow are youhow are youhow are youhow are youhow are youhow are youhow are you\\nhow are youhow are youhow are youhow are youhow are youhow are youhow are youhow are youhow are youhow are you\\nhow are youhow are youhow are youhow are youhow are youhow are youhow are youhow are youhow are youhow are you\\nhow are youhow are youhow are youhow are youhow are youhow are youhow are youhow are youhow are youhow are you\\nhow are youhow are youhow are youhow are youhow are youhow are youhow are youhow are youhow are youhow are you\\nhow are youhow are youhow are youhow are youhow are youhow are youhow are youhow are youhow are youhow are you\\nhow are youhow are youhow are youhow are youhow are youhow are youhow are youhow are youhow are youhow are you\\nhow are youhow are youhow are youhow are youhow are youhow are youhow are youhow are youhow are youhow are you\\nhow are youhow are youhow are youhow are youhow are youhow are youhow are youhow are youhow are youhow are you\\nhow are youhow are youhow are youhow are youhow are youhow are youhow are youhow are youhow are youhow are you\\n'"
      ]
     },
     "execution_count": 33,
     "metadata": {},
     "output_type": "execute_result"
    }
   ],
   "source": [
    "(((\"how are you\"*10)+\"\\n\")*10)"
   ]
  },
  {
   "cell_type": "markdown",
   "id": "2d83cc54",
   "metadata": {},
   "source": [
    "# Built in function\n"
   ]
  },
  {
   "cell_type": "markdown",
   "id": "044fae52",
   "metadata": {},
   "source": [
    "# length"
   ]
  },
  {
   "cell_type": "code",
   "execution_count": 34,
   "id": "8b033906",
   "metadata": {},
   "outputs": [
    {
     "data": {
      "text/plain": [
       "12"
      ]
     },
     "execution_count": 34,
     "metadata": {},
     "output_type": "execute_result"
    }
   ],
   "source": [
    "s=\"hello python\"\n",
    "len(s)"
   ]
  },
  {
   "cell_type": "markdown",
   "id": "edb22714",
   "metadata": {},
   "source": [
    "# Uppercase"
   ]
  },
  {
   "cell_type": "code",
   "execution_count": 37,
   "id": "89599b9e",
   "metadata": {},
   "outputs": [
    {
     "name": "stdout",
     "output_type": "stream",
     "text": [
      "HELLO\n"
     ]
    }
   ],
   "source": [
    "s=\"hello\"\n",
    "print(s.upper())"
   ]
  },
  {
   "cell_type": "markdown",
   "id": "36aa3fe1",
   "metadata": {},
   "source": [
    "# lowercase"
   ]
  },
  {
   "cell_type": "code",
   "execution_count": 38,
   "id": "bbbc6076",
   "metadata": {},
   "outputs": [
    {
     "name": "stdout",
     "output_type": "stream",
     "text": [
      "iter\n"
     ]
    }
   ],
   "source": [
    "s=\"ITER\"\n",
    "print(s.lower())\n"
   ]
  },
  {
   "cell_type": "markdown",
   "id": "75178775",
   "metadata": {},
   "source": [
    "# title and capitalize"
   ]
  },
  {
   "cell_type": "code",
   "execution_count": 39,
   "id": "622c3398",
   "metadata": {},
   "outputs": [
    {
     "name": "stdout",
     "output_type": "stream",
     "text": [
      "Hello We Are Doing Python In This Class\n",
      "Hello we are doing python in this class\n"
     ]
    }
   ],
   "source": [
    "s=\"hello we are doing python in this class\"\n",
    "print(s.title())\n",
    "print(s.capitalize())\n"
   ]
  },
  {
   "cell_type": "markdown",
   "id": "385a73e6",
   "metadata": {},
   "source": [
    "# swapcase and partition"
   ]
  },
  {
   "cell_type": "code",
   "execution_count": 40,
   "id": "6d55004a",
   "metadata": {},
   "outputs": [
    {
     "name": "stdout",
     "output_type": "stream",
     "text": [
      "HEllo We arE doING pyTHON\n"
     ]
    }
   ],
   "source": [
    "s=\"heLLO wE ARe DOing PYthon\"\n",
    "print(s.swapcase())"
   ]
  },
  {
   "cell_type": "code",
   "execution_count": 43,
   "id": "ad605155",
   "metadata": {},
   "outputs": [
    {
     "name": "stdout",
     "output_type": "stream",
     "text": [
      "('hello! we ', 'are', ' doing python')\n"
     ]
    }
   ],
   "source": [
    "s=\"hello! we are doing python\"\n",
    "print(s.partition(\"are\"))"
   ]
  },
  {
   "cell_type": "markdown",
   "id": "91fca6d7",
   "metadata": {},
   "source": [
    "# replace function"
   ]
  },
  {
   "cell_type": "code",
   "execution_count": 48,
   "id": "55edc927",
   "metadata": {},
   "outputs": [
    {
     "name": "stdout",
     "output_type": "stream",
     "text": [
      "Make myself a better version of myself \n"
     ]
    }
   ],
   "source": [
    "s=\"Make yourself a better version of yourself \"\n",
    "print(s.replace('yourself','myself',2))\n"
   ]
  },
  {
   "cell_type": "markdown",
   "id": "90383fdf",
   "metadata": {},
   "source": [
    "# find function"
   ]
  },
  {
   "cell_type": "code",
   "execution_count": 49,
   "id": "9983ea8d",
   "metadata": {},
   "outputs": [
    {
     "name": "stdout",
     "output_type": "stream",
     "text": [
      "6\n",
      "35\n"
     ]
    }
   ],
   "source": [
    "print(s.find('o'))\n",
    "print(s.rfind('o'))"
   ]
  },
  {
   "cell_type": "code",
   "execution_count": 50,
   "id": "24e78ae6",
   "metadata": {},
   "outputs": [
    {
     "name": "stdout",
     "output_type": "stream",
     "text": [
      "21\n",
      "35\n"
     ]
    }
   ],
   "source": [
    "print(s.find('r',9,30))\n",
    "print(s.rfind('o'))"
   ]
  },
  {
   "cell_type": "code",
   "execution_count": 51,
   "id": "50cf63f1",
   "metadata": {},
   "outputs": [
    {
     "name": "stdout",
     "output_type": "stream",
     "text": [
      "-1\n"
     ]
    }
   ],
   "source": [
    "print(s.find('f',0,5))"
   ]
  },
  {
   "cell_type": "markdown",
   "id": "ed0a9268",
   "metadata": {},
   "source": [
    "# strip()"
   ]
  },
  {
   "cell_type": "code",
   "execution_count": 53,
   "id": "21172282",
   "metadata": {},
   "outputs": [
    {
     "data": {
      "text/plain": [
       "'Make yourself a better version of yourself'"
      ]
     },
     "execution_count": 53,
     "metadata": {},
     "output_type": "execute_result"
    }
   ],
   "source": [
    " \"s=\"   Make yourself a better version of yourself \n",
    "s.strip()"
   ]
  },
  {
   "cell_type": "code",
   "execution_count": 54,
   "id": "be72db77",
   "metadata": {},
   "outputs": [
    {
     "data": {
      "text/plain": [
       "'Make yourself a better version of yourself  '"
      ]
     },
     "execution_count": 54,
     "metadata": {},
     "output_type": "execute_result"
    }
   ],
   "source": [
    "s.lstrip()"
   ]
  },
  {
   "cell_type": "code",
   "execution_count": 55,
   "id": "244c0a87",
   "metadata": {},
   "outputs": [
    {
     "data": {
      "text/plain": [
       "'   Make yourself a better version of yourself'"
      ]
     },
     "execution_count": 55,
     "metadata": {},
     "output_type": "execute_result"
    }
   ],
   "source": [
    "s.rstrip()"
   ]
  },
  {
   "cell_type": "code",
   "execution_count": 56,
   "id": "9a5d44f4",
   "metadata": {},
   "outputs": [
    {
     "data": {
      "text/plain": [
       "47"
      ]
     },
     "execution_count": 56,
     "metadata": {},
     "output_type": "execute_result"
    }
   ],
   "source": []
  },
  {
   "cell_type": "markdown",
   "id": "ebd79f91",
   "metadata": {},
   "source": [
    "# split()"
   ]
  },
  {
   "cell_type": "code",
   "execution_count": 57,
   "id": "6226bcc4",
   "metadata": {},
   "outputs": [
    {
     "name": "stdout",
     "output_type": "stream",
     "text": [
      "['Make', ' yourself', ' a', ' better', ' version', ' of', ' yourself', ' ']\n"
     ]
    }
   ],
   "source": [
    "s=\"Make, yourself, a, better, version, of, yourself, \"\n",
    "print(s.split(','))"
   ]
  },
  {
   "cell_type": "code",
   "execution_count": null,
   "id": "d438a583",
   "metadata": {},
   "outputs": [],
   "source": []
  },
  {
   "cell_type": "code",
   "execution_count": 64,
   "id": "951c4566",
   "metadata": {},
   "outputs": [
    {
     "name": "stdout",
     "output_type": "stream",
     "text": [
      "True\n",
      "True\n"
     ]
    }
   ],
   "source": [
    "s=\"Make yourself a better version of yourself\"\n",
    "print(s.startswith('Make'))\n",
    "print(s.endswith('yourself'))\n"
   ]
  },
  {
   "cell_type": "markdown",
   "id": "5a4db35a",
   "metadata": {},
   "source": [
    "# isalnum()"
   ]
  },
  {
   "cell_type": "code",
   "execution_count": 66,
   "id": "5a157cd0",
   "metadata": {},
   "outputs": [
    {
     "name": "stdout",
     "output_type": "stream",
     "text": [
      "True\n"
     ]
    }
   ],
   "source": [
    "s='123jhfg'\n",
    "print(s.isalnum())"
   ]
  },
  {
   "cell_type": "code",
   "execution_count": 69,
   "id": "858a0f30",
   "metadata": {},
   "outputs": [
    {
     "data": {
      "text/plain": [
       "16"
      ]
     },
     "execution_count": 69,
     "metadata": {},
     "output_type": "execute_result"
    }
   ],
   "source": [
    "s=\"Make yourself a better version of yourself \"\n",
    "s.index('better')"
   ]
  },
  {
   "cell_type": "code",
   "execution_count": 75,
   "id": "b0833a4f",
   "metadata": {},
   "outputs": [
    {
     "name": "stdout",
     "output_type": "stream",
     "text": [
      "True\n",
      "False\n",
      "False\n"
     ]
    }
   ],
   "source": [
    "s=\"ITERSOA\"\n",
    "print(s.isupper())\n",
    "print(s.islower())\n",
    "print(s.istitle())\n"
   ]
  },
  {
   "cell_type": "markdown",
   "id": "3cf3a029",
   "metadata": {},
   "source": [
    "# count()"
   ]
  },
  {
   "cell_type": "code",
   "execution_count": 1,
   "id": "90eb59f9",
   "metadata": {},
   "outputs": [
    {
     "data": {
      "text/plain": [
       "2"
      ]
     },
     "execution_count": 1,
     "metadata": {},
     "output_type": "execute_result"
    }
   ],
   "source": [
    "s=\"Make yourself a better version of yourself \"\n",
    "s.count('a')"
   ]
  },
  {
   "cell_type": "markdown",
   "id": "19ebd54b",
   "metadata": {},
   "source": [
    "# Function"
   ]
  },
  {
   "cell_type": "code",
   "execution_count": 4,
   "id": "e9ba7d5a",
   "metadata": {},
   "outputs": [
    {
     "name": "stdout",
     "output_type": "stream",
     "text": [
      "7 value 7 of a: 7\n"
     ]
    }
   ],
   "source": [
    "a=7\n",
    "print(a, 'value',a,'of a:',a)"
   ]
  },
  {
   "cell_type": "code",
   "execution_count": 5,
   "id": "17fc0317",
   "metadata": {},
   "outputs": [
    {
     "name": "stdout",
     "output_type": "stream",
     "text": [
      "enter  value of a[1,2,3,4]\n"
     ]
    },
    {
     "data": {
      "text/plain": [
       "str"
      ]
     },
     "execution_count": 5,
     "metadata": {},
     "output_type": "execute_result"
    }
   ],
   "source": [
    "a=input(\"enter  value of a\") #takes input as string\n",
    "type(a)"
   ]
  },
  {
   "cell_type": "code",
   "execution_count": 6,
   "id": "faf2d120",
   "metadata": {},
   "outputs": [
    {
     "name": "stdout",
     "output_type": "stream",
     "text": [
      "enter  value of a 6.6\n"
     ]
    },
    {
     "data": {
      "text/plain": [
       "str"
      ]
     },
     "execution_count": 6,
     "metadata": {},
     "output_type": "execute_result"
    }
   ],
   "source": [
    "a=input(\"enter  value of a\")\n",
    "type(a)"
   ]
  },
  {
   "cell_type": "code",
   "execution_count": 7,
   "id": "379d53f3",
   "metadata": {},
   "outputs": [
    {
     "data": {
      "text/plain": [
       "56"
      ]
     },
     "execution_count": 7,
     "metadata": {},
     "output_type": "execute_result"
    }
   ],
   "source": [
    "a=-56\n",
    "abs(a)"
   ]
  },
  {
   "cell_type": "code",
   "execution_count": 8,
   "id": "d6147a54",
   "metadata": {},
   "outputs": [
    {
     "data": {
      "text/plain": [
       "7"
      ]
     },
     "execution_count": 8,
     "metadata": {},
     "output_type": "execute_result"
    }
   ],
   "source": [
    "a=7\n",
    "abs(a)"
   ]
  },
  {
   "cell_type": "code",
   "execution_count": 9,
   "id": "39e8e4e2",
   "metadata": {},
   "outputs": [
    {
     "data": {
      "text/plain": [
       "4"
      ]
     },
     "execution_count": 9,
     "metadata": {},
     "output_type": "execute_result"
    }
   ],
   "source": [
    "min(6,4,7,5) #Finding minimum number"
   ]
  },
  {
   "cell_type": "code",
   "execution_count": 10,
   "id": "3f20bce3",
   "metadata": {},
   "outputs": [
    {
     "data": {
      "text/plain": [
       "98"
      ]
     },
     "execution_count": 10,
     "metadata": {},
     "output_type": "execute_result"
    }
   ],
   "source": [
    "max(56,98,34,20) #Finding maximum number"
   ]
  },
  {
   "cell_type": "code",
   "execution_count": 11,
   "id": "193c19be",
   "metadata": {},
   "outputs": [
    {
     "name": "stdout",
     "output_type": "stream",
     "text": [
      "enter a value5\n",
      "6\n"
     ]
    }
   ],
   "source": [
    "a=input(\"enter a value\")\n",
    "print(int(a)+1)"
   ]
  },
  {
   "cell_type": "code",
   "execution_count": 13,
   "id": "70f88836",
   "metadata": {},
   "outputs": [
    {
     "name": "stdout",
     "output_type": "stream",
     "text": [
      "enter a value5.8\n",
      "6.8\n"
     ]
    }
   ],
   "source": [
    "a=input(\"enter a value\")\n",
    "print(eval(a)+1)"
   ]
  },
  {
   "cell_type": "markdown",
   "id": "2c1ad19b",
   "metadata": {},
   "source": [
    "# eval Function"
   ]
  },
  {
   "cell_type": "code",
   "execution_count": 14,
   "id": "c6a11af0",
   "metadata": {},
   "outputs": [
    {
     "name": "stdout",
     "output_type": "stream",
     "text": [
      "enter a value4.555555\n"
     ]
    },
    {
     "data": {
      "text/plain": [
       "float"
      ]
     },
     "execution_count": 14,
     "metadata": {},
     "output_type": "execute_result"
    }
   ],
   "source": [
    "a=eval(input(\"enter a value\")) #Eval function-it show the type of your input by user value\n",
    "type(a)"
   ]
  },
  {
   "cell_type": "markdown",
   "id": "c263f635",
   "metadata": {},
   "source": [
    "# id()"
   ]
  },
  {
   "cell_type": "code",
   "execution_count": 15,
   "id": "962001f9",
   "metadata": {},
   "outputs": [
    {
     "data": {
      "text/plain": [
       "1411503581616"
      ]
     },
     "execution_count": 15,
     "metadata": {},
     "output_type": "execute_result"
    }
   ],
   "source": [
    "a=5\n",
    "id(a) "
   ]
  },
  {
   "cell_type": "code",
   "execution_count": 16,
   "id": "e0ebdcdc",
   "metadata": {},
   "outputs": [
    {
     "data": {
      "text/plain": [
       "1411503581616"
      ]
     },
     "execution_count": 16,
     "metadata": {},
     "output_type": "execute_result"
    }
   ],
   "source": [
    "b=a\n",
    "id(b)"
   ]
  },
  {
   "cell_type": "markdown",
   "id": "abdb8cbc",
   "metadata": {},
   "source": [
    "# ord()"
   ]
  },
  {
   "cell_type": "code",
   "execution_count": 17,
   "id": "4034d087",
   "metadata": {},
   "outputs": [
    {
     "data": {
      "text/plain": [
       "97"
      ]
     },
     "execution_count": 17,
     "metadata": {},
     "output_type": "execute_result"
    }
   ],
   "source": [
    "ord('a')#it returns the unicode"
   ]
  },
  {
   "cell_type": "code",
   "execution_count": 20,
   "id": "f28c6218",
   "metadata": {},
   "outputs": [
    {
     "data": {
      "text/plain": [
       "'a'"
      ]
     },
     "execution_count": 20,
     "metadata": {},
     "output_type": "execute_result"
    }
   ],
   "source": [
    "chr(97)#it returns the character"
   ]
  },
  {
   "cell_type": "code",
   "execution_count": 21,
   "id": "37630e56",
   "metadata": {},
   "outputs": [
    {
     "data": {
      "text/plain": [
       "'k'"
      ]
     },
     "execution_count": 21,
     "metadata": {},
     "output_type": "execute_result"
    }
   ],
   "source": [
    "chr(107)"
   ]
  },
  {
   "cell_type": "code",
   "execution_count": 22,
   "id": "0a7af3b6",
   "metadata": {},
   "outputs": [
    {
     "data": {
      "text/plain": [
       "['ArithmeticError',\n",
       " 'AssertionError',\n",
       " 'AttributeError',\n",
       " 'BaseException',\n",
       " 'BlockingIOError',\n",
       " 'BrokenPipeError',\n",
       " 'BufferError',\n",
       " 'BytesWarning',\n",
       " 'ChildProcessError',\n",
       " 'ConnectionAbortedError',\n",
       " 'ConnectionError',\n",
       " 'ConnectionRefusedError',\n",
       " 'ConnectionResetError',\n",
       " 'DeprecationWarning',\n",
       " 'EOFError',\n",
       " 'Ellipsis',\n",
       " 'EnvironmentError',\n",
       " 'Exception',\n",
       " 'False',\n",
       " 'FileExistsError',\n",
       " 'FileNotFoundError',\n",
       " 'FloatingPointError',\n",
       " 'FutureWarning',\n",
       " 'GeneratorExit',\n",
       " 'IOError',\n",
       " 'ImportError',\n",
       " 'ImportWarning',\n",
       " 'IndentationError',\n",
       " 'IndexError',\n",
       " 'InterruptedError',\n",
       " 'IsADirectoryError',\n",
       " 'KeyError',\n",
       " 'KeyboardInterrupt',\n",
       " 'LookupError',\n",
       " 'MemoryError',\n",
       " 'ModuleNotFoundError',\n",
       " 'NameError',\n",
       " 'None',\n",
       " 'NotADirectoryError',\n",
       " 'NotImplemented',\n",
       " 'NotImplementedError',\n",
       " 'OSError',\n",
       " 'OverflowError',\n",
       " 'PendingDeprecationWarning',\n",
       " 'PermissionError',\n",
       " 'ProcessLookupError',\n",
       " 'RecursionError',\n",
       " 'ReferenceError',\n",
       " 'ResourceWarning',\n",
       " 'RuntimeError',\n",
       " 'RuntimeWarning',\n",
       " 'StopAsyncIteration',\n",
       " 'StopIteration',\n",
       " 'SyntaxError',\n",
       " 'SyntaxWarning',\n",
       " 'SystemError',\n",
       " 'SystemExit',\n",
       " 'TabError',\n",
       " 'TimeoutError',\n",
       " 'True',\n",
       " 'TypeError',\n",
       " 'UnboundLocalError',\n",
       " 'UnicodeDecodeError',\n",
       " 'UnicodeEncodeError',\n",
       " 'UnicodeError',\n",
       " 'UnicodeTranslateError',\n",
       " 'UnicodeWarning',\n",
       " 'UserWarning',\n",
       " 'ValueError',\n",
       " 'Warning',\n",
       " 'WindowsError',\n",
       " 'ZeroDivisionError',\n",
       " '__IPYTHON__',\n",
       " '__build_class__',\n",
       " '__debug__',\n",
       " '__doc__',\n",
       " '__import__',\n",
       " '__loader__',\n",
       " '__name__',\n",
       " '__package__',\n",
       " '__spec__',\n",
       " 'abs',\n",
       " 'all',\n",
       " 'any',\n",
       " 'ascii',\n",
       " 'bin',\n",
       " 'bool',\n",
       " 'breakpoint',\n",
       " 'bytearray',\n",
       " 'bytes',\n",
       " 'callable',\n",
       " 'chr',\n",
       " 'classmethod',\n",
       " 'compile',\n",
       " 'complex',\n",
       " 'copyright',\n",
       " 'credits',\n",
       " 'delattr',\n",
       " 'dict',\n",
       " 'dir',\n",
       " 'display',\n",
       " 'divmod',\n",
       " 'enumerate',\n",
       " 'eval',\n",
       " 'exec',\n",
       " 'execfile',\n",
       " 'filter',\n",
       " 'float',\n",
       " 'format',\n",
       " 'frozenset',\n",
       " 'get_ipython',\n",
       " 'getattr',\n",
       " 'globals',\n",
       " 'hasattr',\n",
       " 'hash',\n",
       " 'help',\n",
       " 'hex',\n",
       " 'id',\n",
       " 'input',\n",
       " 'int',\n",
       " 'isinstance',\n",
       " 'issubclass',\n",
       " 'iter',\n",
       " 'len',\n",
       " 'license',\n",
       " 'list',\n",
       " 'locals',\n",
       " 'map',\n",
       " 'max',\n",
       " 'memoryview',\n",
       " 'min',\n",
       " 'next',\n",
       " 'object',\n",
       " 'oct',\n",
       " 'open',\n",
       " 'ord',\n",
       " 'pow',\n",
       " 'print',\n",
       " 'property',\n",
       " 'range',\n",
       " 'repr',\n",
       " 'reversed',\n",
       " 'round',\n",
       " 'runfile',\n",
       " 'set',\n",
       " 'setattr',\n",
       " 'slice',\n",
       " 'sorted',\n",
       " 'staticmethod',\n",
       " 'str',\n",
       " 'sum',\n",
       " 'super',\n",
       " 'tuple',\n",
       " 'type',\n",
       " 'vars',\n",
       " 'zip']"
      ]
     },
     "execution_count": 22,
     "metadata": {},
     "output_type": "execute_result"
    }
   ],
   "source": [
    "dir(__builtins__)"
   ]
  },
  {
   "cell_type": "markdown",
   "id": "26312cc6",
   "metadata": {},
   "source": [
    "# def function"
   ]
  },
  {
   "cell_type": "code",
   "execution_count": 23,
   "id": "51fc76e0",
   "metadata": {},
   "outputs": [
    {
     "name": "stdout",
     "output_type": "stream",
     "text": [
      "4\n"
     ]
    }
   ],
   "source": [
    "def print_value():\n",
    "    a=4\n",
    "    print(a)\n",
    "print_value() #return statement is not compulsory to print value   "
   ]
  },
  {
   "cell_type": "code",
   "execution_count": 29,
   "id": "4c4a71aa",
   "metadata": {},
   "outputs": [
    {
     "data": {
      "text/plain": [
       "13"
      ]
     },
     "execution_count": 29,
     "metadata": {},
     "output_type": "execute_result"
    }
   ],
   "source": [
    "def print_value(a):\n",
    "    #a=4\n",
    "   \n",
    "    return a  #we should use the return to call the function and to print the value\n",
    "print_value(6)+7    "
   ]
  },
  {
   "cell_type": "code",
   "execution_count": 32,
   "id": "b17c5d1b",
   "metadata": {},
   "outputs": [
    {
     "name": "stdout",
     "output_type": "stream",
     "text": [
      "10\n"
     ]
    }
   ],
   "source": [
    "def print_value(a,b,c,d):\n",
    "    #a=4\n",
    "   \n",
    "    return a+b,c+d #you can return multiple return value.\n",
    "\n",
    "a,b=print_value(6,4,5,6)\n",
    "print(a)"
   ]
  },
  {
   "cell_type": "code",
   "execution_count": 34,
   "id": "d4683649",
   "metadata": {},
   "outputs": [
    {
     "name": "stdout",
     "output_type": "stream",
     "text": [
      "11\n"
     ]
    }
   ],
   "source": [
    "def print_value(a,b,c,d=6): #you can write defult value and passing the value to the print value\n",
    "   \n",
    "   \n",
    "    return a+b,c+d\n",
    "\n",
    "a,b=print_value(6,4,5,)\n",
    "print(b)"
   ]
  },
  {
   "cell_type": "code",
   "execution_count": 38,
   "id": "452c9df6",
   "metadata": {},
   "outputs": [
    {
     "name": "stdout",
     "output_type": "stream",
     "text": [
      "10 8\n"
     ]
    }
   ],
   "source": [
    "def print_value(a,b,c=3,d=5):\n",
    "    #a=4\n",
    "   \n",
    "    return a+b,c+d\n",
    "\n",
    "a,b=print_value(6,4) # here it take the default value of c and d\n",
    "print(a,b)"
   ]
  },
  {
   "cell_type": "code",
   "execution_count": 52,
   "id": "82dbb0b1",
   "metadata": {},
   "outputs": [
    {
     "name": "stdout",
     "output_type": "stream",
     "text": [
      "9 10\n"
     ]
    }
   ],
   "source": [
    "def print_value(a,b,c=5,d=3):\n",
    "    #a=4\n",
    "   \n",
    "    return a+b,c+d\n",
    "\n",
    "a,b=print_value(5,4,c=4,d=6)# here 5 and 4 is positional argument and others are keyword argument\n",
    "print(a,b)"
   ]
  },
  {
   "cell_type": "code",
   "execution_count": 43,
   "id": "2911fde2",
   "metadata": {},
   "outputs": [
    {
     "name": "stdout",
     "output_type": "stream",
     "text": [
      "7 8\n"
     ]
    }
   ],
   "source": [
    "def print_value(a=4,b=3,c=7,d=1):\n",
    "    #a=4\n",
    "   \n",
    "    return a+b,c+d\n",
    "\n",
    "a,b=print_value() # here it takes all default value\n",
    "print(a,b)"
   ]
  },
  {
   "cell_type": "code",
   "execution_count": 54,
   "id": "e1c3fbe3",
   "metadata": {},
   "outputs": [
    {
     "name": "stdout",
     "output_type": "stream",
     "text": [
      "enter the value1,2,3,4,5\n"
     ]
    },
    {
     "data": {
      "text/plain": [
       "'5'"
      ]
     },
     "execution_count": 54,
     "metadata": {},
     "output_type": "execute_result"
    }
   ],
   "source": [
    "def max_value():\n",
    "    num=(input(\"enter the value\"))\n",
    "    b=max(num)\n",
    "    return b\n",
    "max_value() # finding the maximum no by user input"
   ]
  },
  {
   "cell_type": "code",
   "execution_count": null,
   "id": "102e460b",
   "metadata": {},
   "outputs": [],
   "source": []
  },
  {
   "cell_type": "code",
   "execution_count": 53,
   "id": "0942d3a2",
   "metadata": {},
   "outputs": [
    {
     "name": "stdout",
     "output_type": "stream",
     "text": [
      "(1, 2, 3, 4, 5, 6)\n",
      "{'x': 5, 'y': 9}\n"
     ]
    },
    {
     "data": {
      "text/plain": [
       "6"
      ]
     },
     "execution_count": 53,
     "metadata": {},
     "output_type": "execute_result"
    }
   ],
   "source": [
    "def max_value(*a, **b):\n",
    "    print(a) # return positional argument\n",
    "    print(b)\n",
    "    return max(a)\n",
    "max_value(1,2,3,4,5,6, x=5,y=9) "
   ]
  },
  {
   "cell_type": "code",
   "execution_count": 56,
   "id": "e7b1e8d0",
   "metadata": {},
   "outputs": [
    {
     "name": "stdout",
     "output_type": "stream",
     "text": [
      "(1, 2, 3, 4, 5, 6)\n"
     ]
    },
    {
     "data": {
      "text/plain": [
       "6"
      ]
     },
     "execution_count": 56,
     "metadata": {},
     "output_type": "execute_result"
    }
   ],
   "source": [
    "def max_value(*a, **b):\n",
    "    print(a) # return positional argument\n",
    "    \n",
    "    return max(a)\n",
    "max_value(1,2,3,4,5,6) "
   ]
  },
  {
   "cell_type": "markdown",
   "id": "2f385a78",
   "metadata": {},
   "source": [
    "# lambda function"
   ]
  },
  {
   "cell_type": "code",
   "execution_count": 57,
   "id": "34af3535",
   "metadata": {},
   "outputs": [
    {
     "data": {
      "text/plain": [
       "2"
      ]
     },
     "execution_count": 57,
     "metadata": {},
     "output_type": "execute_result"
    }
   ],
   "source": [
    "m=lambda x,y,z:x**2+y**2-z #it can take any number of arguments,but can only have one expression.#its a short way to creat a function without declaring it with def keyword\n",
    "m(1,2,3)                   #its a short way to creat a function without declaring it with def keyword\n"
   ]
  },
  {
   "cell_type": "code",
   "execution_count": 59,
   "id": "48943a5e",
   "metadata": {},
   "outputs": [
    {
     "data": {
      "text/plain": [
       "[1, 4, 9]"
      ]
     },
     "execution_count": 59,
     "metadata": {},
     "output_type": "execute_result"
    }
   ],
   "source": [
    "l=[1,2,3]\n",
    "l_new=[]\n",
    "l_new=list(map(lambda x: x**2,l))\n",
    "l_new"
   ]
  },
  {
   "cell_type": "code",
   "execution_count": 60,
   "id": "74f2d98c",
   "metadata": {},
   "outputs": [
    {
     "name": "stdout",
     "output_type": "stream",
     "text": [
      "1\n",
      "4\n",
      "9\n"
     ]
    }
   ],
   "source": [
    "l=[1,2,3]\n",
    "l_new=[lambda arg=x: arg**2 for x in l]\n",
    "for i in l_new:\n",
    "    print(i())"
   ]
  },
  {
   "cell_type": "markdown",
   "id": "63c8ed34",
   "metadata": {},
   "source": [
    "# Date time module"
   ]
  },
  {
   "cell_type": "code",
   "execution_count": 61,
   "id": "ed008bd3",
   "metadata": {},
   "outputs": [
    {
     "name": "stdout",
     "output_type": "stream",
     "text": [
      "2024-09-19 18:38:47.026517\n"
     ]
    }
   ],
   "source": [
    "from datetime import datetime\n",
    "now=datetime.now()\n",
    "print(now)"
   ]
  },
  {
   "cell_type": "code",
   "execution_count": 63,
   "id": "167b26e9",
   "metadata": {},
   "outputs": [
    {
     "name": "stdout",
     "output_type": "stream",
     "text": [
      "2024-09-19 18:41:35.914282\n",
      "2024\n",
      "9\n",
      "19\n",
      "18\n",
      "41\n",
      "35\n",
      "914282\n"
     ]
    }
   ],
   "source": [
    "from datetime import datetime\n",
    "now=datetime.now()\n",
    "print(now)\n",
    "print(now.year)\n",
    "print(now.month)\n",
    "print(now.day)\n",
    "print(now.hour)\n",
    "print(now.minute)\n",
    "print(now.second)\n",
    "print(now.microsecond)"
   ]
  },
  {
   "cell_type": "code",
   "execution_count": 1,
   "id": "753978de",
   "metadata": {},
   "outputs": [
    {
     "name": "stdout",
     "output_type": "stream",
     "text": [
      "how55.566000\n"
     ]
    }
   ],
   "source": [
    "print('%s%i%f'%('how',5,5.566))"
   ]
  },
  {
   "cell_type": "code",
   "execution_count": 2,
   "id": "3832d6ef",
   "metadata": {},
   "outputs": [
    {
     "name": "stdout",
     "output_type": "stream",
     "text": [
      "my name is :200 and age is:sitikanta\n",
      "my name is :sitikanta and age is:200\n",
      "my name is :sitikanta0 and age is:200\n"
     ]
    }
   ],
   "source": [
    "print('my name is :{} and age is:{}'.format(200,'sitikanta')) #Default argument\n",
    "print('my name is :{1} and age is:{0}'.format(200,'sitikanta'))#positional argument\n",
    "print('my name is :{name} and age is:{age}'.format(name='sitikanta0',age=200))#keyword argument"
   ]
  },
  {
   "cell_type": "code",
   "execution_count": 7,
   "id": "ff217732",
   "metadata": {},
   "outputs": [
    {
     "name": "stdout",
     "output_type": "stream",
     "text": [
      "21/9/2024\n",
      "date:21/9/2024\n"
     ]
    }
   ],
   "source": [
    "from datetime import datetime\n",
    "now=datetime.now()\n",
    "print('%i/%i/%i'%(now.day,now.month,now.year))\n",
    "print('date:{}/{}/{}'.format(now.day,now.month,now.year))"
   ]
  },
  {
   "cell_type": "code",
   "execution_count": 17,
   "id": "c6f11b34",
   "metadata": {},
   "outputs": [
    {
     "name": "stdout",
     "output_type": "stream",
     "text": [
      "2024/09/21 14:50:39\n",
      "2024/09/21 02:50:39\n",
      "2024/09/21 14:50:39 Sat\n",
      "09/21/24 14:50:39\n",
      "14:50:39\n",
      "265\n"
     ]
    }
   ],
   "source": [
    "from datetime import datetime\n",
    "now=datetime.now()\n",
    "print(now.strftime('%Y/%m/%d %H:%M:%S'))\n",
    "print(now.strftime('%Y/%m/%d %I:%M:%S'))\n",
    "print(now.strftime('%Y/%m/%d %H:%M:%S %a'))\n",
    "print(now.strftime('%D %H:%M:%S'))\n",
    "print(now.strftime('%T'))\n",
    "print(now.strftime('%j'))\n",
    "\n",
    "\n"
   ]
  },
  {
   "cell_type": "markdown",
   "id": "bc90b545",
   "metadata": {},
   "source": [
    "# random module"
   ]
  },
  {
   "cell_type": "code",
   "execution_count": 22,
   "id": "4b7a6a57",
   "metadata": {},
   "outputs": [
    {
     "name": "stdout",
     "output_type": "stream",
     "text": [
      "4\n",
      "0.7941719807516919\n"
     ]
    }
   ],
   "source": [
    "import random\n",
    "print(random.randint(1,5))#it generate random number between 1 to 5\n",
    "print(random.random())#it gives a random no. between 0 to 1"
   ]
  },
  {
   "cell_type": "code",
   "execution_count": 29,
   "id": "04edb839",
   "metadata": {},
   "outputs": [
    {
     "name": "stdout",
     "output_type": "stream",
     "text": [
      "1\n"
     ]
    }
   ],
   "source": [
    "import random\n",
    "print(random.randrange(1,5,2))#"
   ]
  },
  {
   "cell_type": "code",
   "execution_count": 30,
   "id": "fd688581",
   "metadata": {},
   "outputs": [
    {
     "name": "stdout",
     "output_type": "stream",
     "text": [
      "[6, 4, 7, 5]\n"
     ]
    }
   ],
   "source": [
    "l=[5,4,6,7]\n",
    "random.shuffle(l)\n",
    "print(l)         #it shuffle the list element randomly"
   ]
  },
  {
   "cell_type": "code",
   "execution_count": 32,
   "id": "2e9c8625",
   "metadata": {},
   "outputs": [
    {
     "name": "stdout",
     "output_type": "stream",
     "text": [
      "4 6\n"
     ]
    }
   ],
   "source": [
    "a=random.choice(l)\n",
    "b=random.choice(l)# it give random number from the list\n",
    "print(a,b)        # with repetation\n"
   ]
  },
  {
   "cell_type": "code",
   "execution_count": 37,
   "id": "b5b7494c",
   "metadata": {},
   "outputs": [
    {
     "name": "stdout",
     "output_type": "stream",
     "text": [
      "[6, 4]\n"
     ]
    }
   ],
   "source": [
    "a=random.sample(l,2)#it return a k length list of unique elements chosen from the sequence\n",
    "print(a)            #without repetation"
   ]
  },
  {
   "cell_type": "code",
   "execution_count": 38,
   "id": "9461c562",
   "metadata": {},
   "outputs": [
    {
     "name": "stdout",
     "output_type": "stream",
     "text": [
      "6\n",
      "[3, 4]\n"
     ]
    }
   ],
   "source": [
    "l=[1,2,3,4,5,6]\n",
    "a=random.choice(l)\n",
    "b=random.sample(l,2)\n",
    "print(a)\n",
    "print(b)\n",
    "\n"
   ]
  },
  {
   "cell_type": "code",
   "execution_count": 66,
   "id": "5017e1c5",
   "metadata": {},
   "outputs": [
    {
     "name": "stdout",
     "output_type": "stream",
     "text": [
      "0.23604808973743452\n",
      "0.1031660342307158\n"
     ]
    }
   ],
   "source": [
    "random.seed(4)#the value inside this seed is necessaey but not significant.it only save the random number at that adress.with a seed you fix the state of the random number generator.\n",
    "print(random.random())\n",
    "print(random.random())"
   ]
  },
  {
   "cell_type": "markdown",
   "id": "4e3d98e5",
   "metadata": {},
   "source": [
    "# File handling"
   ]
  },
  {
   "cell_type": "code",
   "execution_count": 78,
   "id": "5994aaac",
   "metadata": {},
   "outputs": [],
   "source": [
    "f=open(\"sample.txt\",\"w\")# here w refers to write mode\n",
    "f.write('python is a interactive programming language')\n",
    "f.close()"
   ]
  },
  {
   "cell_type": "code",
   "execution_count": 79,
   "id": "f2e4d5fa",
   "metadata": {},
   "outputs": [
    {
     "data": {
      "text/plain": [
       "'python is a interactive programming language'"
      ]
     },
     "execution_count": 79,
     "metadata": {},
     "output_type": "execute_result"
    }
   ],
   "source": [
    "f=open('sample.txt','r')# here r refers to read mode\n",
    "f.read()"
   ]
  },
  {
   "cell_type": "code",
   "execution_count": 84,
   "id": "83e22c55",
   "metadata": {},
   "outputs": [],
   "source": [
    "f=open(\"sample.txt\",\"w\")# here w refers to write mode\n",
    "f.write('python is a interactive programming language \\n you are learning DSW')\n",
    "f.close()"
   ]
  },
  {
   "cell_type": "code",
   "execution_count": 92,
   "id": "688f08e6",
   "metadata": {},
   "outputs": [
    {
     "name": "stdout",
     "output_type": "stream",
     "text": [
      "python is a interactive programming language \n",
      " you are learning DSW\n",
      "\n",
      "68\n",
      "5\n",
      "5\n",
      "n is a interactive programming language \n",
      " you are learning DSW\n"
     ]
    }
   ],
   "source": [
    "f=open('sample.txt','r')\n",
    "print(f.read())\n",
    "print(f.readline())#it read the next line which is written in write mode\n",
    "print(f.tell())#it give the cruser position\n",
    "print(f.seek(5))#whichever positions you want to place the cursor in position\n",
    "print(f.tell())\n",
    "print(f.read())"
   ]
  },
  {
   "cell_type": "code",
   "execution_count": 93,
   "id": "abd8bc17",
   "metadata": {},
   "outputs": [],
   "source": [
    "f.close()"
   ]
  },
  {
   "cell_type": "code",
   "execution_count": 94,
   "id": "bf32b937",
   "metadata": {},
   "outputs": [
    {
     "data": {
      "text/plain": [
       "47"
      ]
     },
     "execution_count": 94,
     "metadata": {},
     "output_type": "execute_result"
    }
   ],
   "source": [
    "f=open('sample.txt','a')# here a refers to append.it will add the next line.\n",
    "f.write('the class is about learning intresting concepts')"
   ]
  },
  {
   "cell_type": "code",
   "execution_count": 95,
   "id": "16bbb079",
   "metadata": {},
   "outputs": [],
   "source": [
    "f.close()"
   ]
  },
  {
   "cell_type": "code",
   "execution_count": 98,
   "id": "2c03cb0f",
   "metadata": {},
   "outputs": [
    {
     "data": {
      "text/plain": [
       "'python is a interactive programming language \\n you are learning DSWthe class is about learning intresting concepts'"
      ]
     },
     "execution_count": 98,
     "metadata": {},
     "output_type": "execute_result"
    }
   ],
   "source": [
    "f=open('sample.txt','r')\n",
    "f.read()"
   ]
  },
  {
   "cell_type": "markdown",
   "id": "6f23f522",
   "metadata": {},
   "source": []
  },
  {
   "cell_type": "code",
   "execution_count": 99,
   "id": "b8a9b627",
   "metadata": {},
   "outputs": [],
   "source": [
    "f=open('python1','w')\n",
    "des=['python:\\n','python is an interative programming language']\n",
    "f.writelines(des)\n",
    "f.close()"
   ]
  },
  {
   "cell_type": "code",
   "execution_count": null,
   "id": "0a6ba4ea",
   "metadata": {},
   "outputs": [],
   "source": [
    "f=open('python1','r')\n",
    "f.read()"
   ]
  },
  {
   "cell_type": "markdown",
   "id": "bb6e7f9a",
   "metadata": {},
   "source": [
    "# Type of errors"
   ]
  },
  {
   "cell_type": "code",
   "execution_count": 105,
   "id": "22a81266",
   "metadata": {},
   "outputs": [
    {
     "ename": "NameError",
     "evalue": "name 'x' is not defined",
     "output_type": "error",
     "traceback": [
      "\u001b[1;31m---------------------------------------------------------------------------\u001b[0m",
      "\u001b[1;31mNameError\u001b[0m                                 Traceback (most recent call last)",
      "Input \u001b[1;32mIn [105]\u001b[0m, in \u001b[0;36m<cell line: 1>\u001b[1;34m()\u001b[0m\n\u001b[1;32m----> 1\u001b[0m \u001b[38;5;28mprint\u001b[39m(\u001b[43mx\u001b[49m)\n",
      "\u001b[1;31mNameError\u001b[0m: name 'x' is not defined"
     ]
    }
   ],
   "source": [
    "print(x)"
   ]
  },
  {
   "cell_type": "code",
   "execution_count": 102,
   "id": "4d17bd21",
   "metadata": {},
   "outputs": [
    {
     "ename": "TypeError",
     "evalue": "unsupported operand type(s) for ** or pow(): 'int' and 'str'",
     "output_type": "error",
     "traceback": [
      "\u001b[1;31m---------------------------------------------------------------------------\u001b[0m",
      "\u001b[1;31mTypeError\u001b[0m                                 Traceback (most recent call last)",
      "Input \u001b[1;32mIn [102]\u001b[0m, in \u001b[0;36m<cell line: 1>\u001b[1;34m()\u001b[0m\n\u001b[1;32m----> 1\u001b[0m \u001b[38;5;28mprint\u001b[39m(\u001b[38;5;28;43mpow\u001b[39;49m\u001b[43m(\u001b[49m\u001b[38;5;241;43m4\u001b[39;49m\u001b[43m,\u001b[49m\u001b[38;5;124;43m'\u001b[39;49m\u001b[38;5;124;43mhello\u001b[39;49m\u001b[38;5;124;43m'\u001b[39;49m\u001b[43m)\u001b[49m)\n",
      "\u001b[1;31mTypeError\u001b[0m: unsupported operand type(s) for ** or pow(): 'int' and 'str'"
     ]
    }
   ],
   "source": [
    "print(pow(4,'hello'))"
   ]
  },
  {
   "cell_type": "code",
   "execution_count": 104,
   "id": "19b28715",
   "metadata": {},
   "outputs": [
    {
     "ename": "ValueError",
     "evalue": "could not convert string to float: 'hrllo'",
     "output_type": "error",
     "traceback": [
      "\u001b[1;31m---------------------------------------------------------------------------\u001b[0m",
      "\u001b[1;31mValueError\u001b[0m                                Traceback (most recent call last)",
      "Input \u001b[1;32mIn [104]\u001b[0m, in \u001b[0;36m<cell line: 1>\u001b[1;34m()\u001b[0m\n\u001b[1;32m----> 1\u001b[0m \u001b[38;5;28;43mfloat\u001b[39;49m\u001b[43m(\u001b[49m\u001b[38;5;124;43m'\u001b[39;49m\u001b[38;5;124;43mhrllo\u001b[39;49m\u001b[38;5;124;43m'\u001b[39;49m\u001b[43m)\u001b[49m\n",
      "\u001b[1;31mValueError\u001b[0m: could not convert string to float: 'hrllo'"
     ]
    }
   ],
   "source": [
    "float('hrllo')"
   ]
  },
  {
   "cell_type": "code",
   "execution_count": 106,
   "id": "88cc34bb",
   "metadata": {},
   "outputs": [
    {
     "ename": "ZeroDivisionError",
     "evalue": "division by zero",
     "output_type": "error",
     "traceback": [
      "\u001b[1;31m---------------------------------------------------------------------------\u001b[0m",
      "\u001b[1;31mZeroDivisionError\u001b[0m                         Traceback (most recent call last)",
      "Input \u001b[1;32mIn [106]\u001b[0m, in \u001b[0;36m<cell line: 1>\u001b[1;34m()\u001b[0m\n\u001b[1;32m----> 1\u001b[0m \u001b[38;5;28mprint\u001b[39m(\u001b[38;5;241;43m567\u001b[39;49m\u001b[38;5;241;43m/\u001b[39;49m\u001b[43m(\u001b[49m\u001b[38;5;241;43m5\u001b[39;49m\u001b[38;5;241;43m+\u001b[39;49m\u001b[43m(\u001b[49m\u001b[38;5;241;43m-\u001b[39;49m\u001b[38;5;241;43m5\u001b[39;49m\u001b[43m)\u001b[49m\u001b[43m)\u001b[49m)\n",
      "\u001b[1;31mZeroDivisionError\u001b[0m: division by zero"
     ]
    }
   ],
   "source": [
    "print(567/(5+(-5)))"
   ]
  },
  {
   "cell_type": "code",
   "execution_count": 1,
   "id": "f74ec29d",
   "metadata": {},
   "outputs": [
    {
     "ename": "IndexError",
     "evalue": "list index out of range",
     "output_type": "error",
     "traceback": [
      "\u001b[1;31m---------------------------------------------------------------------------\u001b[0m",
      "\u001b[1;31mIndexError\u001b[0m                                Traceback (most recent call last)",
      "Input \u001b[1;32mIn [1]\u001b[0m, in \u001b[0;36m<cell line: 2>\u001b[1;34m()\u001b[0m\n\u001b[0;32m      1\u001b[0m nos\u001b[38;5;241m=\u001b[39m[\u001b[38;5;241m1\u001b[39m,\u001b[38;5;241m2\u001b[39m,\u001b[38;5;241m3\u001b[39m,\u001b[38;5;241m4\u001b[39m]\n\u001b[1;32m----> 2\u001b[0m \u001b[43mnos\u001b[49m\u001b[43m[\u001b[49m\u001b[38;5;241;43m5\u001b[39;49m\u001b[43m]\u001b[49m\n",
      "\u001b[1;31mIndexError\u001b[0m: list index out of range"
     ]
    }
   ],
   "source": [
    "nos=[1,2,3,4]\n",
    "nos[5]\n",
    "\n"
   ]
  },
  {
   "cell_type": "markdown",
   "id": "6168a836",
   "metadata": {},
   "source": [
    "\n",
    "# Try except"
   ]
  },
  {
   "cell_type": "code",
   "execution_count": 3,
   "id": "bd22050d",
   "metadata": {},
   "outputs": [
    {
     "name": "stdout",
     "output_type": "stream",
     "text": [
      "can't Divide by Zero\n",
      "This is always executed\n"
     ]
    }
   ],
   "source": [
    "try:\n",
    "    k=5//0\n",
    "    print(k)\n",
    "except ZeroDivisionError:\n",
    "    print(\"can't Divide by Zero\")\n",
    "\n",
    "finally:\n",
    "    print('This is always executed')"
   ]
  },
  {
   "cell_type": "code",
   "execution_count": 2,
   "id": "cfd3d359",
   "metadata": {},
   "outputs": [
    {
     "name": "stdout",
     "output_type": "stream",
     "text": [
      "2\n",
      "No exception Exception raised in try block\n",
      "This is always executed\n"
     ]
    }
   ],
   "source": [
    "try:\n",
    "    k=5//2\n",
    "    print(k)\n",
    "except ZeroDivisionError:\n",
    "    print(\"can't Divide by Zero\")\n",
    "else:\n",
    "    print('No exception Exception raised in try block')\n",
    "finally:\n",
    "    print('This is always executed')"
   ]
  },
  {
   "cell_type": "code",
   "execution_count": 10,
   "id": "1ca2a32d",
   "metadata": {},
   "outputs": [
    {
     "name": "stdout",
     "output_type": "stream",
     "text": [
      "value of b: 4.0\n",
      "wrong variable is enterd\n"
     ]
    }
   ],
   "source": [
    "def fun(a):\n",
    "    b=((a+3)/(a-3))\n",
    "    print('value of b:',b)\n",
    "try:\n",
    "    fun(5)\n",
    "    fun(b)\n",
    "except ZeroDivisionError:\n",
    "    print('cant be divided bt zero')\n",
    "except NameError:\n",
    "    print('wrong variable is enterd')"
   ]
  },
  {
   "cell_type": "code",
   "execution_count": 9,
   "id": "5270e8f3",
   "metadata": {},
   "outputs": [
    {
     "name": "stdout",
     "output_type": "stream",
     "text": [
      "cant be divided bt zero\n",
      "wrong variable is enterd\n"
     ]
    }
   ],
   "source": [
    "def fun(a):\n",
    "    b=((a+3)/(a-3))\n",
    "    print('value of b:',b)\n",
    "try:\n",
    "    fun(3)\n",
    "except ZeroDivisionError:# here exception name is not mandatory.\n",
    "    print('cant be divided bt zero') #for multiple exception we have to write try and except in every exception we get.    \n",
    "        \n",
    "try:    \n",
    "    fun(b)\n",
    "\n",
    "except NameError:\n",
    "    print('wrong variable is enterd')\n"
   ]
  },
  {
   "cell_type": "markdown",
   "id": "fb71678f",
   "metadata": {},
   "source": [
    "# RE function"
   ]
  },
  {
   "cell_type": "code",
   "execution_count": 14,
   "id": "dabbd687",
   "metadata": {},
   "outputs": [
    {
     "name": "stdout",
     "output_type": "stream",
     "text": [
      "<re.Match object; span=(10, 15), match='India'>\n",
      "India\n",
      "(10, 15)\n",
      "10\n",
      "15\n",
      "re.compile('India')\n",
      "i love my India\n"
     ]
    }
   ],
   "source": [
    "import re\n",
    "string='i love my India'\n",
    "match=re.search('India',string)\n",
    "print(match)\n",
    "print(match.group())\n",
    "print(match.span())\n",
    "print(match.start())\n",
    "print(match.end())\n",
    "print(match.re)\n",
    "print(match.string)"
   ]
  },
  {
   "cell_type": "code",
   "execution_count": null,
   "id": "ed15cb24",
   "metadata": {},
   "outputs": [],
   "source": []
  },
  {
   "cell_type": "code",
   "execution_count": 15,
   "id": "4046f413",
   "metadata": {},
   "outputs": [
    {
     "name": "stdout",
     "output_type": "stream",
     "text": [
      "['12', '89', '34']\n"
     ]
    }
   ],
   "source": [
    "import re #programm to extract numbers from a string\n",
    "string='hello 12 hi 89.howdy 34'\n",
    "pattern='\\d+'\n",
    "result=re.findall(pattern,string)# it returns a list of strings containing all matches\n",
    "print(result)"
   ]
  },
  {
   "cell_type": "code",
   "execution_count": 16,
   "id": "ce30076f",
   "metadata": {},
   "outputs": [
    {
     "name": "stdout",
     "output_type": "stream",
     "text": [
      "['Twelve:', ',Eighty nine:', '.']\n"
     ]
    }
   ],
   "source": [
    "import re\n",
    "string='Twelve:12,Eighty nine:89.'\n",
    "pattern='\\d+'\n",
    "result=re.split(pattern,string)# returns a list of string where the splits have occured\n",
    "print(result)"
   ]
  },
  {
   "cell_type": "code",
   "execution_count": 17,
   "id": "56837599",
   "metadata": {},
   "outputs": [
    {
     "name": "stdout",
     "output_type": "stream",
     "text": [
      "abc12de23f456\n"
     ]
    }
   ],
   "source": [
    "import re\n",
    "string='abc 12  de 23  f45 6'\n",
    "pattern='\\s+'\n",
    "replace=''\n",
    "new_string=re.sub(pattern,replace,string)# it returns a string where matched occurences are replaced with the content of replace variable\n",
    "print(new_string)"
   ]
  },
  {
   "cell_type": "code",
   "execution_count": 18,
   "id": "9d261b3c",
   "metadata": {},
   "outputs": [
    {
     "name": "stdout",
     "output_type": "stream",
     "text": [
      "<re.Match object; span=(0, 3), match='123'>\n",
      "None\n",
      "<re.Match object; span=(3, 6), match='123'>\n"
     ]
    }
   ],
   "source": [
    "import re\n",
    "result=re.match('\\d+','123abc')\n",
    "print(result)\n",
    "result=re.match('\\d+','abc123')# it only searches at the beginning of the string\n",
    "print(result)\n",
    "result=re.search('\\d+','abc123')# here sequence pattern doesn't matter.\n",
    "print(result)"
   ]
  },
  {
   "cell_type": "code",
   "execution_count": null,
   "id": "53798f96",
   "metadata": {},
   "outputs": [],
   "source": []
  }
 ],
 "metadata": {
  "kernelspec": {
   "display_name": "Python 3 (ipykernel)",
   "language": "python",
   "name": "python3"
  },
  "language_info": {
   "codemirror_mode": {
    "name": "ipython",
    "version": 3
   },
   "file_extension": ".py",
   "mimetype": "text/x-python",
   "name": "python",
   "nbconvert_exporter": "python",
   "pygments_lexer": "ipython3",
   "version": "3.9.12"
  }
 },
 "nbformat": 4,
 "nbformat_minor": 5
}
